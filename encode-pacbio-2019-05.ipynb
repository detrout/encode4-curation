{
 "cells": [
  {
   "cell_type": "markdown",
   "metadata": {},
   "source": [
    "Preparing to submit PacBio long read data for late 2018 early 2019\n",
    "\n",
    "Link to sheet\n",
    "\n",
    "https://docs.google.com/spreadsheets/d/1GBMmL3Mmzwe_chp-jOxEfKo7jK70B90rpA3nOz-qPyU/edit?ts=5ea1fd7b#gid=1718836302"
   ]
  },
  {
   "cell_type": "code",
   "execution_count": null,
   "metadata": {},
   "outputs": [],
   "source": [
    "import os\n",
    "import sys\n",
    "from pathlib import Path\n",
    "import requests\n",
    "import pandas\n",
    "import paramiko\n",
    "import json\n",
    "from IPython import display"
   ]
  },
  {
   "cell_type": "code",
   "execution_count": null,
   "metadata": {},
   "outputs": [],
   "source": [
    "EC = str(Path(\"~/proj/encoded_client\").expanduser())\n",
    "if EC not in sys.path:\n",
    "    sys.path.append(EC)\n",
    "from encoded_client.encoded import ENCODED, DCCValidator, Document\n",
    "from encoded_client.aws_submission import run_aws_cp"
   ]
  },
  {
   "cell_type": "code",
   "execution_count": null,
   "metadata": {},
   "outputs": [],
   "source": [
    "GCATDIR = os.path.expanduser('~/src/gcat')\n",
    "if GCATDIR not in sys.path:\n",
    "    sys.path.append(GCATDIR)\n",
    "    import gcat"
   ]
  },
  {
   "cell_type": "code",
   "execution_count": null,
   "metadata": {},
   "outputs": [],
   "source": [
    "# live server & control file\n",
    "server = ENCODED('www.encodeproject.org')\n",
    "spreadsheet_name = \"ENCODE4 May2019 PacBio\"\n",
    "\n",
    "# test server & datafile\n",
    "#server = ENCODED('test.encodedcc.org')\n",
    "#spreadsheet_name = os.path.expanduser('~diane/woldlab/ENCODE/C1-encode3-limb-2017-testserver.ods')\n",
    "\n",
    "server.load_netrc()\n",
    "validator = DCCValidator(server)"
   ]
  },
  {
   "cell_type": "code",
   "execution_count": null,
   "metadata": {},
   "outputs": [],
   "source": [
    "award = 'UM1HG009443'"
   ]
  },
  {
   "cell_type": "markdown",
   "metadata": {},
   "source": [
    "# Submit Documents"
   ]
  },
  {
   "cell_type": "markdown",
   "metadata": {},
   "source": [
    "Example Document submission"
   ]
  },
  {
   "cell_type": "markdown",
   "metadata": {},
   "source": [
    "This is the wrong protocol"
   ]
  },
  {
   "cell_type": "code",
   "execution_count": null,
   "metadata": {},
   "outputs": [],
   "source": [
    "smrtbell_uuid = '/documents/2297237f-dfb0-424d-a386-c350ffe8dbe3/'\n",
    "smrtbell = Document(\n",
    "    os.path.expanduser('~/proj/encode4-curation/ENCODE_protocol_brain_pacbio.pdf'),\n",
    "    'general protocol',\n",
    "    'SMRTbell cDNA library construction protocol for PacBio sequencing',\n",
    ")\n",
    "body = smrtbell.create_if_needed(server, smrtbell_uuid, validator)\n",
    "if '@graph' in body:\n",
    "    print(body['@graph'][0]['@id'])\n",
    "else:\n",
    "    print(body['@id'])"
   ]
  },
  {
   "cell_type": "markdown",
   "metadata": {},
   "source": [
    "# Submit Annotations"
   ]
  },
  {
   "cell_type": "code",
   "execution_count": null,
   "metadata": {},
   "outputs": [],
   "source": [
    "#sheet = gcat.get_file(spreadsheet_name, fmt='pandas_excel')\n",
    "#annotations = sheet.parse('Annotations', header=0)\n",
    "#created = server.post_sheet('/annotations/', annotations, verbose=True, dry_run=True)\n",
    "#print(len(created))"
   ]
  },
  {
   "cell_type": "code",
   "execution_count": null,
   "metadata": {},
   "outputs": [],
   "source": [
    "#if created:\n",
    "#    annotations.to_excel('/tmp/annotations.xlsx', index=False)"
   ]
  },
  {
   "cell_type": "markdown",
   "metadata": {},
   "source": [
    "# Register Biosamples"
   ]
  },
  {
   "cell_type": "code",
   "execution_count": null,
   "metadata": {},
   "outputs": [],
   "source": [
    "#book = gcat.get_file(spreadsheet_name, fmt='pandas_excel')\n",
    "#biosample = book.parse('Biosamples', header=0)\n",
    "#\n",
    "#for i, row in biosample.iterrows():\n",
    "#    if pandas.isnull(row['source']) and not pandas.isnull(row['accession']):\n",
    "#        obj = server.get_json(row['accession'])\n",
    "#        #print(row['accession'], obj['source']['@id'])\n",
    "#        biosample.loc[i, 'source'] = obj['source']['@id']\n",
    "#        print(i, biosample.loc[i, 'source'])"
   ]
  },
  {
   "cell_type": "code",
   "execution_count": null,
   "metadata": {
    "scrolled": false
   },
   "outputs": [],
   "source": [
    "book = gcat.get_file(spreadsheet_name, fmt='pandas_excel')\n",
    "biosample = book.parse('Biosamples', header=0)\n",
    "created = server.post_sheet('/biosamples/', biosample, \n",
    "                            verbose=True, \n",
    "                            dry_run=True, \n",
    "                            validator=validator)\n",
    "print(len(created))"
   ]
  },
  {
   "cell_type": "code",
   "execution_count": null,
   "metadata": {},
   "outputs": [],
   "source": [
    "if created:\n",
    "    biosample.to_excel('/dev/shm/biosamples.xlsx', index=False)"
   ]
  },
  {
   "cell_type": "markdown",
   "metadata": {},
   "source": [
    "# Register Libraries"
   ]
  },
  {
   "cell_type": "code",
   "execution_count": null,
   "metadata": {},
   "outputs": [],
   "source": [
    "validator._aliases['/documents/1734f117-1ac9-4596-9977-ffd4cf0dc6b3/'] = {}"
   ]
  },
  {
   "cell_type": "code",
   "execution_count": null,
   "metadata": {},
   "outputs": [],
   "source": [
    "# In case we need to look up previously submitted libraries by alias.\n",
    "if 0:\n",
    "    book = gcat.get_file(spreadsheet_name, fmt='pandas_excel')\n",
    "    libraries = book.parse('Libraries', header=0)    \n",
    "    for i, row in libraries.iterrows():\n",
    "        if pandas.isnull(row['accession']) and not pandas.isnull(row['aliases:array']):\n",
    "            alias = row['aliases:array'].split(',')[0]\n",
    "            obj = server.get_json(alias)\n",
    "            libraries.loc[i, 'accession'] = obj['accession']\n",
    "\n",
    "    libraries.to_excel('/dev/shm/libraries.xlsx', index=False)\n",
    "    libraries"
   ]
  },
  {
   "cell_type": "code",
   "execution_count": null,
   "metadata": {
    "scrolled": false
   },
   "outputs": [],
   "source": [
    "print(spreadsheet_name)\n",
    "book = gcat.get_file(spreadsheet_name, fmt='pandas_excel')\n",
    "libraries = book.parse('Libraries', header=0)\n",
    "created = server.post_sheet('/libraries/', \n",
    "                            libraries, \n",
    "                            verbose=True, \n",
    "                            dry_run=True, \n",
    "                            validator=validator)\n",
    "print(len(created))"
   ]
  },
  {
   "cell_type": "code",
   "execution_count": null,
   "metadata": {},
   "outputs": [],
   "source": [
    "if created:\n",
    "    libraries.to_excel('/dev/shm/libraries.xlsx', index=False)"
   ]
  },
  {
   "cell_type": "markdown",
   "metadata": {},
   "source": [
    "# Register Experiments"
   ]
  },
  {
   "cell_type": "code",
   "execution_count": null,
   "metadata": {},
   "outputs": [],
   "source": [
    "# In case we need to look up previously submitted libraries by alias.\n",
    "if 0:\n",
    "    book = gcat.get_file(spreadsheet_name, fmt='pandas_excel')\n",
    "    experiments = book.parse('Experiments', header=0)    \n",
    "    for i, row in experiments.iterrows():\n",
    "        if pandas.isnull(row['accession']) and not pandas.isnull(row['aliases:array']):\n",
    "            alias = row['aliases:array'].split(',')[0]\n",
    "            try:\n",
    "                obj = server.get_json(alias)\n",
    "                experiments.loc[i, 'accession'] = obj['accession']\n",
    "                experiments.loc[i, 'uuid'] = obj['uuid']\n",
    "            except requests.HTTPError as e:\n",
    "                if e.response.status_code == 404:\n",
    "                    print(\"{} not found\".format(alias))\n",
    "\n",
    "    experiments.to_excel('/dev/shm/experiments.xlsx', index=False)\n",
    "    experiments"
   ]
  },
  {
   "cell_type": "code",
   "execution_count": null,
   "metadata": {
    "scrolled": false
   },
   "outputs": [],
   "source": [
    "print(server.server)\n",
    "book = gcat.get_file(spreadsheet_name, fmt='pandas_excel')\n",
    "experiments = book.parse('Experiments', header=0)\n",
    "experiments = experiments[experiments['accession'] != 'barbara approval needed']\n",
    "created = server.post_sheet('/experiments/', \n",
    "                            experiments, \n",
    "                            verbose=True, \n",
    "                            dry_run=True, \n",
    "                            validator=validator)\n",
    "print(len(created))"
   ]
  },
  {
   "cell_type": "code",
   "execution_count": null,
   "metadata": {},
   "outputs": [],
   "source": [
    "if created:\n",
    "    experiments.to_excel('/dev/shm/experiments.xlsx', index=False)"
   ]
  },
  {
   "cell_type": "markdown",
   "metadata": {},
   "source": [
    "# Register Replicates"
   ]
  },
  {
   "cell_type": "code",
   "execution_count": null,
   "metadata": {
    "scrolled": false
   },
   "outputs": [],
   "source": [
    "# In case we need to look up previously submitted libraries by alias.\n",
    "if 0:\n",
    "    rep_uuids = {}\n",
    "    book = gcat.get_file(spreadsheet_name, fmt='pandas_excel')\n",
    "    experiments = book.parse('Experiments', header=0)\n",
    "    for i, row in experiments.iterrows():\n",
    "        if not pandas.isnull(row['accession']) and not row['accession'].startswith('skip'):\n",
    "            if pandas.isnull(row['aliases:array']):\n",
    "                aliases = []\n",
    "            else:\n",
    "                aliases = row['aliases:array'].split(',')\n",
    "\n",
    "            aliases.append(row['accession'])\n",
    "            try:\n",
    "                obj = server.get_json(row['accession'])\n",
    "                for alias in aliases:\n",
    "                    for replicate in obj['replicates']:\n",
    "                        key = (alias, replicate['biological_replicate_number'], replicate['technical_replicate_number'])\n",
    "                        assert key not in rep_uuids, \"{} already found\".format(key)\n",
    "                        rep_uuids[key] = replicate['uuid']\n",
    "                    \n",
    "            except requests.HTTPError as e:\n",
    "                if e.response.status_code == 404:\n",
    "                    print(\"{} not found\".format(alias))\n",
    "\n",
    "    replicates = book.parse('Replicates', header=0)\n",
    "    for i, row in replicates.iterrows():\n",
    "        key = (row['experiment'], row['biological_replicate_number:integer'], row['technical_replicate_number:integer'])\n",
    "        uuid = rep_uuids.get(key)\n",
    "        if pandas.isnull(row['uuid']):\n",
    "            replicates.loc[i, 'uuid'] = uuid\n",
    "        else:\n",
    "            if row['uuid'] != uuid:\n",
    "                print('row {} uuid mismatch {} != {}'.format(i, row['uuid'], uuid))\n",
    "                replicates.loc[i, 'uuid'] = uuid\n",
    "    \n",
    "    replicates.to_excel('/dev/shm/replicates.xlsx', index=False)\n",
    "    replicates"
   ]
  },
  {
   "cell_type": "code",
   "execution_count": null,
   "metadata": {
    "scrolled": false
   },
   "outputs": [],
   "source": [
    "print(server.server)\n",
    "print(spreadsheet_name)\n",
    "book = gcat.get_file(spreadsheet_name, fmt='pandas_excel')\n",
    "replicates = book.parse('Replicates', header=0)\n",
    "replicates = replicates[replicates['uuid'] != 'skip barbara approval needed']\n",
    "created = server.post_sheet('/replicates/',\n",
    "                            replicates, \n",
    "                            verbose=True, \n",
    "                            dry_run=True, \n",
    "                            validator=validator)\n",
    "print(len(created))"
   ]
  },
  {
   "cell_type": "code",
   "execution_count": null,
   "metadata": {},
   "outputs": [],
   "source": [
    "if created:\n",
    "    replicates.to_excel('/dev/shm/replicates.xlsx', index=False)"
   ]
  },
  {
   "cell_type": "code",
   "execution_count": null,
   "metadata": {},
   "outputs": [],
   "source": [
    "with pandas.ExcelWriter(f'/dev/shm/submission.xlsx') as book:\n",
    "    biosample.to_excel(book, sheet_name='Biosample', index=False)\n",
    "    experiments.to_excel(book, sheet_name='Experiment', index=False)\n",
    "    libraries.to_excel(book, sheet_name='Library', index=False)\n",
    "    replicates.to_excel(book, sheet_name='Replicate', index=False)\n",
    "    #file_sheet.to_excel(book, sheet_name='File', index=False)\n",
    " "
   ]
  },
  {
   "cell_type": "code",
   "execution_count": null,
   "metadata": {},
   "outputs": [],
   "source": []
  }
 ],
 "metadata": {
  "kernelspec": {
   "display_name": "Python 3",
   "language": "python",
   "name": "python3"
  },
  "language_info": {
   "codemirror_mode": {
    "name": "ipython",
    "version": 3
   },
   "file_extension": ".py",
   "mimetype": "text/x-python",
   "name": "python",
   "nbconvert_exporter": "python",
   "pygments_lexer": "ipython3",
   "version": "3.9.2"
  }
 },
 "nbformat": 4,
 "nbformat_minor": 1
}
