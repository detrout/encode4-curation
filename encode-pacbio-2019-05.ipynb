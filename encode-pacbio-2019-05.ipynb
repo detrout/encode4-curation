{
 "cells": [
  {
   "cell_type": "markdown",
   "metadata": {},
   "source": [
    "Preparing to submit PacBio long read data for late 2018 early 2019\n"
   ]
  },
  {
   "cell_type": "code",
   "execution_count": 1,
   "metadata": {},
   "outputs": [],
   "source": [
    "import os\n",
    "import sys\n",
    "import requests\n",
    "import pandas\n",
    "import paramiko\n",
    "import json\n",
    "from IPython import display"
   ]
  },
  {
   "cell_type": "code",
   "execution_count": 2,
   "metadata": {},
   "outputs": [],
   "source": [
    "from curation_common import *\n",
    "from htsworkflow.submission.encoded import DCCValidator"
   ]
  },
  {
   "cell_type": "code",
   "execution_count": 3,
   "metadata": {},
   "outputs": [],
   "source": [
    "PANDAS_ODF = os.path.expanduser('~/src/pandasodf')\n",
    "if PANDAS_ODF not in sys.path:\n",
    "    sys.path.append(PANDAS_ODF)\n",
    "    from pandasodf import ODFReader"
   ]
  },
  {
   "cell_type": "code",
   "execution_count": 4,
   "metadata": {},
   "outputs": [],
   "source": [
    "GCATDIR = os.path.expanduser('~/src/gcat')\n",
    "if GCATDIR not in sys.path:\n",
    "    sys.path.append(GCATDIR)\n",
    "    import gcat"
   ]
  },
  {
   "cell_type": "code",
   "execution_count": 5,
   "metadata": {},
   "outputs": [],
   "source": [
    "from htsworkflow.submission.encoded import Document\n",
    "from htsworkflow.submission.aws_submission import run_aws_cp"
   ]
  },
  {
   "cell_type": "code",
   "execution_count": 6,
   "metadata": {},
   "outputs": [],
   "source": [
    "# live server & control file\n",
    "server = ENCODED('www.encodeproject.org')\n",
    "spreadsheet_name = \"ENCODE4 May2019 PacBio\"\n",
    "\n",
    "# test server & datafile\n",
    "#server = ENCODED('test.encodedcc.org')\n",
    "#spreadsheet_name = os.path.expanduser('~diane/woldlab/ENCODE/C1-encode3-limb-2017-testserver.ods')\n",
    "\n",
    "server.load_netrc()\n",
    "validator = DCCValidator(server)"
   ]
  },
  {
   "cell_type": "code",
   "execution_count": 7,
   "metadata": {},
   "outputs": [],
   "source": [
    "award = 'UM1HG009443'"
   ]
  },
  {
   "cell_type": "markdown",
   "metadata": {},
   "source": [
    "# Submit Documents"
   ]
  },
  {
   "cell_type": "markdown",
   "metadata": {},
   "source": [
    "Example Document submission"
   ]
  },
  {
   "cell_type": "markdown",
   "metadata": {},
   "source": [
    "This is the wrong protocol"
   ]
  },
  {
   "cell_type": "code",
   "execution_count": 8,
   "metadata": {},
   "outputs": [
    {
     "name": "stdout",
     "output_type": "stream",
     "text": [
      "{'attachment': {'type': 'application/pdf', 'download': 'ENCODE_protocol_brain_illumina.pdf', 'href': '@@download/attachment/ENCODE_protocol_brain_illumina.pdf', 'md5sum': 'fa764ec1e72b089f19a3a2d35a108aa5'}, '@id': '/documents/2297237f-dfb0-424d-a386-c350ffe8dbe3/', 'status': 'in progress', 'schema_version': '8', 'actions': [{'title': 'Edit JSON', 'profile': '/profiles/Document.json', 'name': 'edit-json', 'href': '/documents/2297237f-dfb0-424d-a386-c350ffe8dbe3/#!edit-json'}, {'title': 'Edit', 'profile': '/profiles/Document.json', 'name': 'edit', 'href': '/documents/2297237f-dfb0-424d-a386-c350ffe8dbe3/#!edit'}], 'date_created': '2019-08-26T23:17:06.844139+00:00', 'award': {'title': 'TOWARD A COMPREHENSIVE FUNCTIONAL ANNOTATION OF THE HUMAN GENOME', 'viewing_group': 'ENCODE3', 'end_date': '2016-07-31', '@id': '/awards/U54HG006998/', 'status': 'disabled', 'schema_version': '7', 'start_date': '2012-09-21', 'rfa': 'ENCODE3', 'pi': '/users/a62cfec5-57a0-45ab-b943-8ca0e0057bb6/', 'url': 'http://projectreporter.nih.gov/project_info_details.cfm?aid=8402461', '@type': ['Award', 'Item'], 'project': 'ENCODE', 'description': 'The goal of the ENCODE Project is to provide the biomedical community with a complete and biologically interpretable annotation of the human genome. This means discovering and mapping all parts of all genes, including exons, introns, promoters and cis-regulatory sequences, in previous phases of the ENCODE Project, the applicants of this proposal developed and applied robust, high-throughput, genome-wide methods for determining transcription factor occupancy, assessing DNA methylation, identifying RNA transcripts, and experimentally testing candidate regulatory elements and mutations. The combination of experiences from the previous phases with the resulting technology and analysis platforms and the existing, highly productive infrastructure of the applicants form the basis of this response to NHGRI\\'s RFA-HG-11-024 (\"Expanding the Encyclopedia of DNA Elements (ENCODE) in the Human and Model Organisms\"). This application presents an ambitious proposal to expand the biological dimensions of ENCODE to include essentially all transcription factors for measurements of occupancy and to produce transcriptomes from hundreds of very specific cell types, and even single cells. The specific plan is to: 1) determine genome wide occupancy for all transcription factors and major cofactors with high resolution in two or more cell types; 2) map and quantify all messenger RNA transcripts, microRNAs and other non-ribosomal RNAs in more than 300 well-defined, uncultured cell types; 3) map DNA methylation state genome-wide at nucleotide resolution in more than 300 cell types; and 4) apply a high-throughput transient transfection assay system to test the impact of -2,000 candidate regulatory elements on gene regulation. All experimental work in this project will be evaluated by appropriate quality metrics, and after quality control, all data will be rapidly deposited in publi, freely accessible genome databases. In addition, computational analyses, including evaluation of comparative and population genomics data, will be integrated with the experimental production to help ensure quality and to capture information in forms useful to biologists, genomicists, and medical researchers. Completion of these Specific Aims will enable biomedical researchers to better and more rapidly understand the consequences of mutations in genomic disorders, including cancer, cardiovascular disease, and almost ail common diseases and, therefore, to more fully realize the potential of genomics to impact human health.', 'name': 'U54HG006998', 'uuid': '6272092d-f953-4b86-b04b-cad31d64352f'}, '@context': '/terms/', 'aliases': [], 'audit': {}, 'lab': {'title': 'Barbara Wold, Caltech', 'fax': '', 'awards': ['/awards/U54HG006998/', '/awards/UM1HG009443/'], '@id': '/labs/barbara-wold/', 'state': 'CA', 'schema_version': '5', 'city': 'Pasadena', 'institute_label': 'Caltech', 'address1': 'Department of Biochemistry and Molecular Biophysics', 'postal_code': '91125', 'country': 'USA', 'pi': '/users/0598c868-0b4a-4c5b-9112-8f85c5de5374/', 'address2': '1200 California Blvd; MC156-29', '@type': ['Lab', 'Item'], 'phone1': '626-395-4916', 'phone2': '626-395-4923', 'name': 'barbara-wold', 'uuid': '72d5666a-a361-4f7b-ab66-a88e11280937', 'institute_name': 'California Institute of Technology', 'status': 'current'}, 'description': 'SMRTbell cDNA library construction protocol for PacBio sequencing', 'references': [], '@type': ['Document', 'Item'], 'submitted_by': {'title': 'Diane Trout', 'lab': '/labs/barbara-wold/', '@id': '/users/bc5b62f7-ce28-4a1e-b6b3-81c9c5a86d7a/', 'uuid': 'bc5b62f7-ce28-4a1e-b6b3-81c9c5a86d7a', '@type': ['User', 'Item']}, 'document_type': 'general protocol', 'uuid': '2297237f-dfb0-424d-a386-c350ffe8dbe3', 'urls': []}\n"
     ]
    }
   ],
   "source": [
    "smrtbell_uuid = '/documents/2297237f-dfb0-424d-a386-c350ffe8dbe3/'\n",
    "smrtbell = Document(\n",
    "    os.path.expanduser('~/proj/encode4-curation/ENCODE_protocol_brain_pacbio.pdf'),\n",
    "    'general protocol',\n",
    "    'SMRTbell cDNA library construction protocol for PacBio sequencing',\n",
    ")\n",
    "body = smrtbell.create_if_needed(server, smrtbell_uuid, validator)\n",
    "if '@graph' in body:\n",
    "    print(body['@graph'][0]['@id'])\n",
    "else:\n",
    "    print(body)"
   ]
  },
  {
   "cell_type": "markdown",
   "metadata": {},
   "source": [
    "# Submit Annotations"
   ]
  },
  {
   "cell_type": "code",
   "execution_count": 9,
   "metadata": {},
   "outputs": [],
   "source": [
    "#sheet = gcat.get_file(spreadsheet_name, fmt='pandas_excel')\n",
    "#annotations = sheet.parse('Annotations', header=0)\n",
    "#created = server.post_sheet('/annotations/', annotations, verbose=True, dry_run=True)\n",
    "#print(len(created))"
   ]
  },
  {
   "cell_type": "code",
   "execution_count": 10,
   "metadata": {},
   "outputs": [],
   "source": [
    "#if created:\n",
    "#    annotations.to_excel('/tmp/annotations.xlsx', index=False)"
   ]
  },
  {
   "cell_type": "markdown",
   "metadata": {},
   "source": [
    "# Register Biosamples"
   ]
  },
  {
   "cell_type": "code",
   "execution_count": 28,
   "metadata": {
    "scrolled": false
   },
   "outputs": [
    {
     "name": "stdout",
     "output_type": "stream",
     "text": [
      "0\n"
     ]
    }
   ],
   "source": [
    "book = gcat.get_file(spreadsheet_name, fmt='pandas_excel')\n",
    "biosample = book.parse('Biosamples', header=0)\n",
    "created = server.post_sheet('/biosamples/', biosample, \n",
    "                            verbose=True, \n",
    "                            dry_run=True, \n",
    "                            validator=validator)\n",
    "print(len(created))"
   ]
  },
  {
   "cell_type": "code",
   "execution_count": 27,
   "metadata": {},
   "outputs": [],
   "source": [
    "if created:\n",
    "    biosample.to_excel('/dev/shm/biosamples.xlsx', index=False)"
   ]
  },
  {
   "cell_type": "markdown",
   "metadata": {},
   "source": [
    "# Register Libraries"
   ]
  },
  {
   "cell_type": "code",
   "execution_count": 31,
   "metadata": {
    "scrolled": false
   },
   "outputs": [
    {
     "name": "stdout",
     "output_type": "stream",
     "text": [
      "ENCODE4 May2019 PacBio\n",
      "0\n"
     ]
    }
   ],
   "source": [
    "print(spreadsheet_name)\n",
    "book = gcat.get_file(spreadsheet_name, fmt='pandas_excel')\n",
    "libraries = book.parse('Libraries', header=0)\n",
    "created = server.post_sheet('/libraries/', \n",
    "                            libraries, \n",
    "                            verbose=True, \n",
    "                            dry_run=True, \n",
    "                            validator=validator)\n",
    "print(len(created))"
   ]
  },
  {
   "cell_type": "code",
   "execution_count": 30,
   "metadata": {},
   "outputs": [],
   "source": [
    "if created:\n",
    "    libraries.to_excel('/dev/shm/libraries.xlsx', index=False)"
   ]
  },
  {
   "cell_type": "markdown",
   "metadata": {},
   "source": [
    "# Register Experiments"
   ]
  },
  {
   "cell_type": "code",
   "execution_count": 36,
   "metadata": {
    "scrolled": false
   },
   "outputs": [
    {
     "name": "stdout",
     "output_type": "stream",
     "text": [
      "www.encodeproject.org\n",
      "0\n"
     ]
    }
   ],
   "source": [
    "print(server.server)\n",
    "book = gcat.get_file(spreadsheet_name, fmt='pandas_excel')\n",
    "experiments = book.parse('Experiments', header=0)\n",
    "created = server.post_sheet('/experiments/', \n",
    "                            experiments, \n",
    "                            verbose=True, \n",
    "                            dry_run=True, \n",
    "                            validator=validator)\n",
    "print(len(created))"
   ]
  },
  {
   "cell_type": "code",
   "execution_count": 35,
   "metadata": {},
   "outputs": [],
   "source": [
    "if created:\n",
    "    experiments.to_excel('/dev/shm/experiments.xlsx', index=False)"
   ]
  },
  {
   "cell_type": "markdown",
   "metadata": {},
   "source": [
    "# Register Replicates"
   ]
  },
  {
   "cell_type": "code",
   "execution_count": 42,
   "metadata": {
    "scrolled": true
   },
   "outputs": [
    {
     "name": "stdout",
     "output_type": "stream",
     "text": [
      "www.encodeproject.org\n",
      "ENCODE4 May2019 PacBio\n",
      "0\n"
     ]
    }
   ],
   "source": [
    "print(server.server)\n",
    "print(spreadsheet_name)\n",
    "book = gcat.get_file(spreadsheet_name, fmt='pandas_excel')\n",
    "replicates = book.parse('Replicates', header=0)\n",
    "created = server.post_sheet('/replicates/',\n",
    "                            replicates, \n",
    "                            verbose=True, \n",
    "                            dry_run=True, \n",
    "                            validator=validator)\n",
    "print(len(created))"
   ]
  },
  {
   "cell_type": "code",
   "execution_count": 37,
   "metadata": {},
   "outputs": [],
   "source": [
    "if created:\n",
    "    replicates.to_excel('/dev/shm/replicates.xlsx', index=False)"
   ]
  },
  {
   "cell_type": "markdown",
   "metadata": {},
   "source": [
    "# What are the biosamples?"
   ]
  },
  {
   "cell_type": "markdown",
   "metadata": {},
   "source": [
    "Are the libraries linked reasonably?"
   ]
  },
  {
   "cell_type": "code",
   "execution_count": null,
   "metadata": {},
   "outputs": [],
   "source": [
    "pb82 = server.get_json('ali-mortazavi:PB82')\n",
    "print(pb82['@id'], pb82['aliases'])\n",
    "print(pb82['biosample']['@id'], pb82['biosample']['summary'])\n",
    "pb82_rep = server.get_json(pb82['replicates'][0])\n",
    "print(pb82_rep['biological_replicate_number'], pb82_rep['technical_replicate_number'])"
   ]
  },
  {
   "cell_type": "code",
   "execution_count": null,
   "metadata": {},
   "outputs": [],
   "source": [
    "pb83 = server.get_json('ali-mortazavi:PB83')\n",
    "print(pb83['@id'], pb83['aliases'])\n",
    "print(pb83['biosample']['@id'], pb83['biosample']['summary'])\n",
    "pb83_rep = server.get_json(pb83['replicates'][0])\n",
    "print(pb83_rep['biological_replicate_number'], pb83_rep['technical_replicate_number'])"
   ]
  },
  {
   "cell_type": "code",
   "execution_count": null,
   "metadata": {},
   "outputs": [],
   "source": [
    "pb84 = server.get_json('ali-mortazavi:PB84')\n",
    "print(pb84['@id'], pb84['aliases'])\n",
    "print(pb84['biosample']['@id'], pb84['biosample']['summary'])\n",
    "pb84_rep = server.get_json(pb84['replicates'][0])\n",
    "print(pb84_rep['biological_replicate_number'], pb84_rep['technical_replicate_number'])"
   ]
  },
  {
   "cell_type": "code",
   "execution_count": null,
   "metadata": {},
   "outputs": [],
   "source": [
    "pb85 = server.get_json('ali-mortazavi:PB85')\n",
    "print(pb85['@id'], pb85['aliases'])\n",
    "print(pb85['biosample']['@id'], pb85['biosample']['summary'])\n",
    "pb85_rep = server.get_json(pb85['replicates'][0])\n",
    "print(pb85_rep['biological_replicate_number'], pb85_rep['technical_replicate_number'])"
   ]
  },
  {
   "cell_type": "code",
   "execution_count": null,
   "metadata": {},
   "outputs": [],
   "source": []
  }
 ],
 "metadata": {
  "kernelspec": {
   "display_name": "Python 3",
   "language": "python",
   "name": "python3"
  },
  "language_info": {
   "codemirror_mode": {
    "name": "ipython",
    "version": 3
   },
   "file_extension": ".py",
   "mimetype": "text/x-python",
   "name": "python",
   "nbconvert_exporter": "python",
   "pygments_lexer": "ipython3",
   "version": "3.7.4+"
  }
 },
 "nbformat": 4,
 "nbformat_minor": 1
}
