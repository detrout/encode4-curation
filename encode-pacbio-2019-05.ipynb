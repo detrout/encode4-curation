{
 "cells": [
  {
   "cell_type": "markdown",
   "metadata": {},
   "source": [
    "Preparing to submit PacBio long read data for late 2018 early 2019\n",
    "\n",
    "Link to sheet\n",
    "\n",
    "https://docs.google.com/spreadsheets/d/1GBMmL3Mmzwe_chp-jOxEfKo7jK70B90rpA3nOz-qPyU/edit?ts=5ea1fd7b#gid=1718836302"
   ]
  },
  {
   "cell_type": "code",
   "execution_count": 1,
   "metadata": {},
   "outputs": [],
   "source": [
    "import os\n",
    "import sys\n",
    "from pathlib import Path\n",
    "import requests\n",
    "import pandas\n",
    "import paramiko\n",
    "import json\n",
    "from IPython import display"
   ]
  },
  {
   "cell_type": "code",
   "execution_count": 2,
   "metadata": {},
   "outputs": [],
   "source": [
    "EC = str(Path(\"~/proj/encoded_client\").expanduser())\n",
    "if EC not in sys.path:\n",
    "    sys.path.append(EC)\n",
    "from encoded_client.encoded import ENCODED, DCCValidator, Document\n",
    "from encoded_client.aws_submission import run_aws_cp"
   ]
  },
  {
   "cell_type": "code",
   "execution_count": 3,
   "metadata": {},
   "outputs": [],
   "source": [
    "GCATDIR = os.path.expanduser('~/src/gcat')\n",
    "if GCATDIR not in sys.path:\n",
    "    sys.path.append(GCATDIR)\n",
    "    import gcat"
   ]
  },
  {
   "cell_type": "code",
   "execution_count": 4,
   "metadata": {},
   "outputs": [],
   "source": [
    "# live server & control file\n",
    "server = ENCODED('www.encodeproject.org')\n",
    "spreadsheet_name = \"ENCODE4 May2019 PacBio\"\n",
    "\n",
    "# test server & datafile\n",
    "#server = ENCODED('test.encodedcc.org')\n",
    "#spreadsheet_name = os.path.expanduser('~diane/woldlab/ENCODE/C1-encode3-limb-2017-testserver.ods')\n",
    "\n",
    "server.load_netrc()\n",
    "validator = DCCValidator(server)"
   ]
  },
  {
   "cell_type": "code",
   "execution_count": 5,
   "metadata": {},
   "outputs": [],
   "source": [
    "award = 'UM1HG009443'"
   ]
  },
  {
   "cell_type": "markdown",
   "metadata": {},
   "source": [
    "# Submit Documents"
   ]
  },
  {
   "cell_type": "markdown",
   "metadata": {},
   "source": [
    "Example Document submission"
   ]
  },
  {
   "cell_type": "markdown",
   "metadata": {},
   "source": [
    "This is the wrong protocol"
   ]
  },
  {
   "cell_type": "code",
   "execution_count": 6,
   "metadata": {},
   "outputs": [
    {
     "name": "stdout",
     "output_type": "stream",
     "text": [
      "/documents/2297237f-dfb0-424d-a386-c350ffe8dbe3/\n"
     ]
    }
   ],
   "source": [
    "smrtbell_uuid = '/documents/2297237f-dfb0-424d-a386-c350ffe8dbe3/'\n",
    "smrtbell = Document(\n",
    "    os.path.expanduser('~/proj/encode4-curation/ENCODE_protocol_brain_pacbio.pdf'),\n",
    "    'general protocol',\n",
    "    'SMRTbell cDNA library construction protocol for PacBio sequencing',\n",
    ")\n",
    "body = smrtbell.create_if_needed(server, smrtbell_uuid, validator)\n",
    "if '@graph' in body:\n",
    "    print(body['@graph'][0]['@id'])\n",
    "else:\n",
    "    print(body['@id'])"
   ]
  },
  {
   "cell_type": "markdown",
   "metadata": {},
   "source": [
    "# Submit Annotations"
   ]
  },
  {
   "cell_type": "code",
   "execution_count": 7,
   "metadata": {},
   "outputs": [],
   "source": [
    "#sheet = gcat.get_file(spreadsheet_name, fmt='pandas_excel')\n",
    "#annotations = sheet.parse('Annotations', header=0)\n",
    "#created = server.post_sheet('/annotations/', annotations, verbose=True, dry_run=True)\n",
    "#print(len(created))"
   ]
  },
  {
   "cell_type": "code",
   "execution_count": 8,
   "metadata": {},
   "outputs": [],
   "source": [
    "#if created:\n",
    "#    annotations.to_excel('/tmp/annotations.xlsx', index=False)"
   ]
  },
  {
   "cell_type": "markdown",
   "metadata": {},
   "source": [
    "# Register Biosamples"
   ]
  },
  {
   "cell_type": "code",
   "execution_count": 9,
   "metadata": {},
   "outputs": [],
   "source": [
    "#book = gcat.get_file(spreadsheet_name, fmt='pandas_excel')\n",
    "#biosample = book.parse('Biosamples', header=0)\n",
    "#\n",
    "#for i, row in biosample.iterrows():\n",
    "#    if pandas.isnull(row['source']) and not pandas.isnull(row['accession']):\n",
    "#        obj = server.get_json(row['accession'])\n",
    "#        #print(row['accession'], obj['source']['@id'])\n",
    "#        biosample.loc[i, 'source'] = obj['source']['@id']\n",
    "#        print(i, biosample.loc[i, 'source'])"
   ]
  },
  {
   "cell_type": "code",
   "execution_count": 10,
   "metadata": {
    "scrolled": false
   },
   "outputs": [
    {
     "name": "stderr",
     "output_type": "stream",
     "text": [
      "/home/diane/src/gcat/gcat/__init__.py:55: YAMLLoadWarning: calling yaml.load() without Loader=... is deprecated, as the default Loader is unsafe. Please read https://msg.pyyaml.org/load for full details.\n",
      "  config = yaml.load(f)\n"
     ]
    },
    {
     "name": "stdout",
     "output_type": "stream",
     "text": [
      "0\n"
     ]
    }
   ],
   "source": [
    "book = gcat.get_file(spreadsheet_name, fmt='pandas_excel')\n",
    "biosample = book.parse('Biosamples', header=0)\n",
    "created = server.post_sheet('/biosamples/', biosample, \n",
    "                            verbose=True, \n",
    "                            dry_run=True, \n",
    "                            validator=validator)\n",
    "print(len(created))"
   ]
  },
  {
   "cell_type": "code",
   "execution_count": 11,
   "metadata": {},
   "outputs": [],
   "source": [
    "if created:\n",
    "    biosample.to_excel('/dev/shm/biosamples.xlsx', index=False)"
   ]
  },
  {
   "cell_type": "markdown",
   "metadata": {},
   "source": [
    "# Register Libraries"
   ]
  },
  {
   "cell_type": "code",
   "execution_count": 12,
   "metadata": {},
   "outputs": [],
   "source": [
    "validator._aliases['/documents/1734f117-1ac9-4596-9977-ffd4cf0dc6b3/'] = {}"
   ]
  },
  {
   "cell_type": "code",
   "execution_count": 13,
   "metadata": {},
   "outputs": [],
   "source": [
    "# In case we need to look up previously submitted libraries by alias.\n",
    "if 0:\n",
    "    book = gcat.get_file(spreadsheet_name, fmt='pandas_excel')\n",
    "    libraries = book.parse('Libraries', header=0)    \n",
    "    for i, row in libraries.iterrows():\n",
    "        if pandas.isnull(row['accession']) and not pandas.isnull(row['aliases:array']):\n",
    "            alias = row['aliases:array'].split(',')[0]\n",
    "            obj = server.get_json(alias)\n",
    "            libraries.loc[i, 'accession'] = obj['accession']\n",
    "\n",
    "    libraries.to_excel('/dev/shm/libraries.xlsx', index=False)\n",
    "    libraries"
   ]
  },
  {
   "cell_type": "code",
   "execution_count": 23,
   "metadata": {
    "scrolled": false
   },
   "outputs": [
    {
     "name": "stdout",
     "output_type": "stream",
     "text": [
      "ENCODE4 May2019 PacBio\n",
      "Reponse {'status': 'success', '@type': ['result'], '@graph': [{'documents': ['/documents/3baa46d2-cb88-4608-8877-70596d200489/', '/documents/bf543ffc-23d0-4f6f-b6a8-d131859259e4/'], 'date_created': '2021-08-13T23:13:22.442880+00:00', 'submitted_by': '/users/bc5b62f7-ce28-4a1e-b6b3-81c9c5a86d7a/', 'status': 'in progress', 'lab': '/labs/ali-mortazavi/', 'award': '/awards/UM1HG009443/', 'aliases': ['ali-mortazavi:PB400_m_p18-20mo_heart'], 'accession': 'ENCLB607FYB', 'schema_version': '18', 'alternate_accessions': [], 'spikeins_used': ['/references/ENCSR759PLA/', '/references/ENCSR156CIL/'], 'barcode_details': [], 'biosample': '/biosamples/ENCBS540JOT/', 'nucleic_acid_term_name': 'polyadenylated mRNA', 'dbxrefs': [], 'nucleic_acid_starting_quantity': 2, 'nucleic_acid_starting_quantity_units': 'µg', 'rna_integrity_number': 8, 'strand_specificity': 'forward', 'treatments': [], '@id': '/libraries/ENCLB607FYB/', '@type': ['Library', 'Item'], 'uuid': '19f34244-1c13-4032-a5b7-4ee65078915e', 'nucleic_acid_term_id': 'SO:0000871'}]}\n",
      "row 266 created: ENCLB607FYB\n",
      "Reponse {'status': 'success', '@type': ['result'], '@graph': [{'documents': ['/documents/3baa46d2-cb88-4608-8877-70596d200489/', '/documents/bf543ffc-23d0-4f6f-b6a8-d131859259e4/'], 'date_created': '2021-08-13T23:13:22.752448+00:00', 'submitted_by': '/users/bc5b62f7-ce28-4a1e-b6b3-81c9c5a86d7a/', 'status': 'in progress', 'lab': '/labs/ali-mortazavi/', 'award': '/awards/UM1HG009443/', 'aliases': ['ali-mortazavi:PB401_m_p18-20mo_heart'], 'accession': 'ENCLB579AAE', 'schema_version': '18', 'alternate_accessions': [], 'spikeins_used': ['/references/ENCSR759PLA/', '/references/ENCSR156CIL/'], 'barcode_details': [], 'biosample': '/biosamples/ENCBS897MIA/', 'nucleic_acid_term_name': 'polyadenylated mRNA', 'dbxrefs': [], 'nucleic_acid_starting_quantity': 2, 'nucleic_acid_starting_quantity_units': 'µg', 'rna_integrity_number': 8, 'strand_specificity': 'forward', 'treatments': [], '@id': '/libraries/ENCLB579AAE/', '@type': ['Library', 'Item'], 'uuid': '60ba9582-7e1e-4e4b-9b4f-b8c5a5d8fb54', 'nucleic_acid_term_id': 'SO:0000871'}]}\n",
      "row 267 created: ENCLB579AAE\n",
      "Reponse {'status': 'success', '@type': ['result'], '@graph': [{'documents': ['/documents/3baa46d2-cb88-4608-8877-70596d200489/', '/documents/bf543ffc-23d0-4f6f-b6a8-d131859259e4/'], 'date_created': '2021-08-13T23:13:23.053568+00:00', 'submitted_by': '/users/bc5b62f7-ce28-4a1e-b6b3-81c9c5a86d7a/', 'status': 'in progress', 'lab': '/labs/ali-mortazavi/', 'award': '/awards/UM1HG009443/', 'aliases': ['ali-mortazavi:PB402_f_p18-20mo_heart'], 'accession': 'ENCLB369BLY', 'schema_version': '18', 'alternate_accessions': [], 'spikeins_used': ['/references/ENCSR759PLA/', '/references/ENCSR156CIL/'], 'barcode_details': [], 'biosample': '/biosamples/ENCBS281CBG/', 'nucleic_acid_term_name': 'polyadenylated mRNA', 'dbxrefs': [], 'nucleic_acid_starting_quantity': 2, 'nucleic_acid_starting_quantity_units': 'µg', 'rna_integrity_number': 8, 'strand_specificity': 'forward', 'treatments': [], '@id': '/libraries/ENCLB369BLY/', '@type': ['Library', 'Item'], 'uuid': '752e87d0-3edd-4a0d-a349-b0a5b7d70b46', 'nucleic_acid_term_id': 'SO:0000871'}]}\n",
      "row 268 created: ENCLB369BLY\n",
      "Reponse {'status': 'success', '@type': ['result'], '@graph': [{'documents': ['/documents/3baa46d2-cb88-4608-8877-70596d200489/', '/documents/bf543ffc-23d0-4f6f-b6a8-d131859259e4/'], 'date_created': '2021-08-13T23:13:23.360970+00:00', 'submitted_by': '/users/bc5b62f7-ce28-4a1e-b6b3-81c9c5a86d7a/', 'status': 'in progress', 'lab': '/labs/ali-mortazavi/', 'award': '/awards/UM1HG009443/', 'aliases': ['ali-mortazavi:PB403_f_p18-20mo_heart'], 'accession': 'ENCLB795KSJ', 'schema_version': '18', 'alternate_accessions': [], 'spikeins_used': ['/references/ENCSR759PLA/', '/references/ENCSR156CIL/'], 'barcode_details': [], 'biosample': '/biosamples/ENCBS007ZPS/', 'nucleic_acid_term_name': 'polyadenylated mRNA', 'dbxrefs': [], 'nucleic_acid_starting_quantity': 2, 'nucleic_acid_starting_quantity_units': 'µg', 'rna_integrity_number': 8, 'strand_specificity': 'forward', 'treatments': [], '@id': '/libraries/ENCLB795KSJ/', '@type': ['Library', 'Item'], 'uuid': '5a965513-ea30-4dd4-9ec3-497fe0fe081d', 'nucleic_acid_term_id': 'SO:0000871'}]}\n",
      "row 269 created: ENCLB795KSJ\n",
      "4\n"
     ]
    }
   ],
   "source": [
    "print(spreadsheet_name)\n",
    "book = gcat.get_file(spreadsheet_name, fmt='pandas_excel')\n",
    "libraries = book.parse('Libraries', header=0)\n",
    "created = server.post_sheet('/libraries/', \n",
    "                            libraries, \n",
    "                            verbose=True, \n",
    "                            dry_run=True, \n",
    "                            validator=validator)\n",
    "print(len(created))"
   ]
  },
  {
   "cell_type": "code",
   "execution_count": 24,
   "metadata": {},
   "outputs": [],
   "source": [
    "if created:\n",
    "    libraries.to_excel('/dev/shm/libraries.xlsx', index=False)"
   ]
  },
  {
   "cell_type": "markdown",
   "metadata": {},
   "source": [
    "# Register Experiments"
   ]
  },
  {
   "cell_type": "code",
   "execution_count": 16,
   "metadata": {},
   "outputs": [],
   "source": [
    "# In case we need to look up previously submitted libraries by alias.\n",
    "if 0:\n",
    "    book = gcat.get_file(spreadsheet_name, fmt='pandas_excel')\n",
    "    experiments = book.parse('Experiments', header=0)    \n",
    "    for i, row in experiments.iterrows():\n",
    "        if pandas.isnull(row['accession']) and not pandas.isnull(row['aliases:array']):\n",
    "            alias = row['aliases:array'].split(',')[0]\n",
    "            try:\n",
    "                obj = server.get_json(alias)\n",
    "                experiments.loc[i, 'accession'] = obj['accession']\n",
    "                experiments.loc[i, 'uuid'] = obj['uuid']\n",
    "            except requests.HTTPError as e:\n",
    "                if e.response.status_code == 404:\n",
    "                    print(\"{} not found\".format(alias))\n",
    "\n",
    "    experiments.to_excel('/dev/shm/experiments.xlsx', index=False)\n",
    "    experiments"
   ]
  },
  {
   "cell_type": "code",
   "execution_count": 17,
   "metadata": {
    "scrolled": false
   },
   "outputs": [
    {
     "name": "stdout",
     "output_type": "stream",
     "text": [
      "www.encodeproject.org\n",
      "0\n"
     ]
    }
   ],
   "source": [
    "print(server.server)\n",
    "book = gcat.get_file(spreadsheet_name, fmt='pandas_excel')\n",
    "experiments = book.parse('Experiments', header=0)\n",
    "#experiments = experiments[experiments['accession'] != 'skip barbara approval needed']\n",
    "created = server.post_sheet('/experiments/', \n",
    "                            experiments, \n",
    "                            verbose=True, \n",
    "                            dry_run=True, \n",
    "                            validator=validator)\n",
    "print(len(created))"
   ]
  },
  {
   "cell_type": "code",
   "execution_count": 18,
   "metadata": {},
   "outputs": [],
   "source": [
    "if created:\n",
    "    experiments.to_excel('/dev/shm/experiments.xlsx', index=False)"
   ]
  },
  {
   "cell_type": "markdown",
   "metadata": {},
   "source": [
    "# Register Replicates"
   ]
  },
  {
   "cell_type": "code",
   "execution_count": 19,
   "metadata": {
    "scrolled": false
   },
   "outputs": [],
   "source": [
    "# In case we need to look up previously submitted libraries by alias.\n",
    "if 0:\n",
    "    rep_uuids = {}\n",
    "    book = gcat.get_file(spreadsheet_name, fmt='pandas_excel')\n",
    "    experiments = book.parse('Experiments', header=0)\n",
    "    for i, row in experiments.iterrows():\n",
    "        if not pandas.isnull(row['accession']) and not row['accession'].startswith('skip'):\n",
    "            if pandas.isnull(row['aliases:array']):\n",
    "                aliases = []\n",
    "            else:\n",
    "                aliases = row['aliases:array'].split(',')\n",
    "\n",
    "            aliases.append(row['accession'])\n",
    "            try:\n",
    "                obj = server.get_json(row['accession'])\n",
    "                for alias in aliases:\n",
    "                    for replicate in obj['replicates']:\n",
    "                        key = (alias, replicate['biological_replicate_number'], replicate['technical_replicate_number'])\n",
    "                        assert key not in rep_uuids, \"{} already found\".format(key)\n",
    "                        rep_uuids[key] = replicate['uuid']\n",
    "                    \n",
    "            except requests.HTTPError as e:\n",
    "                if e.response.status_code == 404:\n",
    "                    print(\"{} not found\".format(alias))\n",
    "\n",
    "    replicates = book.parse('Replicates', header=0)\n",
    "    for i, row in replicates.iterrows():\n",
    "        key = (row['experiment'], row['biological_replicate_number:integer'], row['technical_replicate_number:integer'])\n",
    "        uuid = rep_uuids.get(key)\n",
    "        if pandas.isnull(row['uuid']):\n",
    "            replicates.loc[i, 'uuid'] = uuid\n",
    "        else:\n",
    "            if row['uuid'] != uuid:\n",
    "                print('row {} uuid mismatch {} != {}'.format(i, row['uuid'], uuid))\n",
    "                replicates.loc[i, 'uuid'] = uuid\n",
    "    \n",
    "    replicates.to_excel('/dev/shm/replicates.xlsx', index=False)\n",
    "    replicates"
   ]
  },
  {
   "cell_type": "code",
   "execution_count": 25,
   "metadata": {
    "scrolled": false
   },
   "outputs": [
    {
     "name": "stdout",
     "output_type": "stream",
     "text": [
      "www.encodeproject.org\n",
      "ENCODE4 May2019 PacBio\n",
      "Reponse {'status': 'success', '@type': ['result'], '@graph': [{'date_created': '2021-08-13T23:14:21.780474+00:00', 'submitted_by': '/users/bc5b62f7-ce28-4a1e-b6b3-81c9c5a86d7a/', 'aliases': ['ali-mortazavi:rep1_m_p18-20mo_heart'], 'schema_version': '9', 'biological_replicate_number': 1, 'technical_replicate_number': 1, 'experiment': '/experiments/ENCSR410XGE/', 'library': '/libraries/ENCLB607FYB/', 'status': 'in progress', '@id': '/replicates/93b913dd-3734-4ab4-8f3b-0386cc83c402/', '@type': ['Replicate', 'Item'], 'uuid': '93b913dd-3734-4ab4-8f3b-0386cc83c402'}]}\n",
      "row 266 created: 93b913dd-3734-4ab4-8f3b-0386cc83c402\n",
      "Reponse {'status': 'success', '@type': ['result'], '@graph': [{'date_created': '2021-08-13T23:14:22.059511+00:00', 'submitted_by': '/users/bc5b62f7-ce28-4a1e-b6b3-81c9c5a86d7a/', 'aliases': ['ali-mortazavi:rep2_m_p18-20mo_heart'], 'schema_version': '9', 'biological_replicate_number': 2, 'technical_replicate_number': 1, 'experiment': '/experiments/ENCSR410XGE/', 'library': '/libraries/ENCLB579AAE/', 'status': 'in progress', '@id': '/replicates/929236b8-aa5d-4e68-a128-d1687384e71b/', '@type': ['Replicate', 'Item'], 'uuid': '929236b8-aa5d-4e68-a128-d1687384e71b'}]}\n",
      "row 267 created: 929236b8-aa5d-4e68-a128-d1687384e71b\n",
      "Reponse {'status': 'success', '@type': ['result'], '@graph': [{'date_created': '2021-08-13T23:14:22.311560+00:00', 'submitted_by': '/users/bc5b62f7-ce28-4a1e-b6b3-81c9c5a86d7a/', 'aliases': ['ali-mortazavi:rep1_f_p18-20mo_heart'], 'schema_version': '9', 'biological_replicate_number': 1, 'technical_replicate_number': 1, 'experiment': '/experiments/ENCSR267XBT/', 'library': '/libraries/ENCLB369BLY/', 'status': 'in progress', '@id': '/replicates/b74339e5-37ef-4069-b754-aca191912744/', '@type': ['Replicate', 'Item'], 'uuid': 'b74339e5-37ef-4069-b754-aca191912744'}]}\n",
      "row 268 created: b74339e5-37ef-4069-b754-aca191912744\n",
      "Reponse {'status': 'success', '@type': ['result'], '@graph': [{'date_created': '2021-08-13T23:14:22.560663+00:00', 'submitted_by': '/users/bc5b62f7-ce28-4a1e-b6b3-81c9c5a86d7a/', 'aliases': ['ali-mortazavi:rep2_f_p18-20mo_heart'], 'schema_version': '9', 'biological_replicate_number': 2, 'technical_replicate_number': 1, 'experiment': '/experiments/ENCSR267XBT/', 'library': '/libraries/ENCLB795KSJ/', 'status': 'in progress', '@id': '/replicates/4ffab878-8839-4e20-9f4c-ff9cd80564e6/', '@type': ['Replicate', 'Item'], 'uuid': '4ffab878-8839-4e20-9f4c-ff9cd80564e6'}]}\n",
      "row 269 created: 4ffab878-8839-4e20-9f4c-ff9cd80564e6\n",
      "4\n"
     ]
    }
   ],
   "source": [
    "print(server.server)\n",
    "print(spreadsheet_name)\n",
    "book = gcat.get_file(spreadsheet_name, fmt='pandas_excel')\n",
    "replicates = book.parse('Replicates', header=0)\n",
    "replicates = replicates[replicates['uuid'] != 'skip barbara approval needed']\n",
    "created = server.post_sheet('/replicates/',\n",
    "                            replicates, \n",
    "                            verbose=True, \n",
    "                            dry_run=True, \n",
    "                            validator=validator)\n",
    "print(len(created))"
   ]
  },
  {
   "cell_type": "code",
   "execution_count": 26,
   "metadata": {},
   "outputs": [],
   "source": [
    "if created:\n",
    "    replicates.to_excel('/dev/shm/replicates.xlsx', index=False)"
   ]
  },
  {
   "cell_type": "code",
   "execution_count": 22,
   "metadata": {},
   "outputs": [],
   "source": [
    "with pandas.ExcelWriter(f'/dev/shm/submission.xlsx') as book:\n",
    "    biosample.to_excel(book, sheet_name='Biosample', index=False)\n",
    "    experiments.to_excel(book, sheet_name='Experiment', index=False)\n",
    "    libraries.to_excel(book, sheet_name='Library', index=False)\n",
    "    replicates.to_excel(book, sheet_name='Replicate', index=False)\n",
    "    #file_sheet.to_excel(book, sheet_name='File', index=False)\n",
    " "
   ]
  },
  {
   "cell_type": "code",
   "execution_count": null,
   "metadata": {},
   "outputs": [],
   "source": []
  }
 ],
 "metadata": {
  "kernelspec": {
   "display_name": "Python 3",
   "language": "python",
   "name": "python3"
  },
  "language_info": {
   "codemirror_mode": {
    "name": "ipython",
    "version": 3
   },
   "file_extension": ".py",
   "mimetype": "text/x-python",
   "name": "python",
   "nbconvert_exporter": "python",
   "pygments_lexer": "ipython3",
   "version": "3.9.2"
  }
 },
 "nbformat": 4,
 "nbformat_minor": 1
}
