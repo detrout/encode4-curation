{
 "cells": [
  {
   "cell_type": "markdown",
   "id": "absent-genome",
   "metadata": {},
   "source": [
    "# Introduction"
   ]
  },
  {
   "cell_type": "markdown",
   "id": "impossible-messenger",
   "metadata": {},
   "source": [
    "Ben asked about resource use for pipeline files.\n",
    "\n",
    "I've got condor log files laying around, can I read them?"
   ]
  },
  {
   "cell_type": "code",
   "execution_count": 1,
   "id": "dutch-slovak",
   "metadata": {},
   "outputs": [],
   "source": [
    "import pandas\n",
    "import re\n",
    "import datetime\n",
    "from pathlib import Path\n",
    "from glob import glob\n",
    "import os\n",
    "import sys\n",
    "import itertools\n",
    "from pprint import pprint"
   ]
  },
  {
   "cell_type": "code",
   "execution_count": 2,
   "id": "fatal-experience",
   "metadata": {},
   "outputs": [],
   "source": [
    "WRS = str(Path(\"~/proj/woldlab-rna-seq\").expanduser())\n",
    "if WRS not in sys.path:\n",
    "    sys.path.append(WRS)"
   ]
  },
  {
   "cell_type": "code",
   "execution_count": 15,
   "id": "owned-climate",
   "metadata": {},
   "outputs": [],
   "source": [
    "from woldrnaseq.models import load_library_tables\n",
    "from woldrnaseq.common import find_fastqs_by_glob"
   ]
  },
  {
   "cell_type": "code",
   "execution_count": 4,
   "id": "sticky-invitation",
   "metadata": {},
   "outputs": [],
   "source": [
    "analysis_dir = Path(\"~/proj/analysis\").expanduser()"
   ]
  },
  {
   "cell_type": "code",
   "execution_count": 5,
   "id": "authorized-belle",
   "metadata": {},
   "outputs": [],
   "source": [
    "star_log = analysis_dir / \"AAAWCGHM5/24309/align-star-0.log\"\n",
    "rsem_log = analysis_dir / \"AAAWCGHM5/24309/rsem-0.log\""
   ]
  },
  {
   "cell_type": "code",
   "execution_count": 6,
   "id": "otherwise-swaziland",
   "metadata": {},
   "outputs": [
    {
     "name": "stdout",
     "output_type": "stream",
     "text": [
      "{'Run Local Usage': 0,\n",
      " 'Run Remote Usage': 2002,\n",
      " 'Total Local Usage': 0,\n",
      " 'Total Remote Usage': 2002,\n",
      " 'cpu': 8,\n",
      " 'disk': 2304000,\n",
      " 'memory': 13387169792,\n",
      " 'return_value': 0}\n",
      "{'Run Local Usage': 0,\n",
      " 'Run Remote Usage': 25136,\n",
      " 'Total Local Usage': 0,\n",
      " 'Total Remote Usage': 25136,\n",
      " 'cpu': 8,\n",
      " 'disk': 48979726336,\n",
      " 'memory': 31989956608,\n",
      " 'return_value': 0}\n"
     ]
    }
   ],
   "source": [
    "def read_rest(instream):\n",
    "    for line in instream:\n",
    "        if line.startswith(\"...\"):\n",
    "            return\n",
    "\n",
    "def parse_duration(timestamp):\n",
    "    hours, minutes, seconds = timestamp.split(\":\")\n",
    "    duration = datetime.timedelta(hours=int(hours), minutes=int(minutes), seconds=int(seconds))\n",
    "    return duration.seconds\n",
    "\n",
    "def read_termination(instream):\n",
    "    parsed = {}\n",
    "    line = instream.readline().rstrip()\n",
    "    match = re.search(r\"return value (?P<return>[\\d]+)\", line)\n",
    "    if match is None:\n",
    "        print(\"Unrecognized line:\", line)\n",
    "        return\n",
    "    parsed[\"return_value\"] = int(match[\"return\"])\n",
    "\n",
    "    usage_re = re.compile(r\"Usr [\\d] (?P<usr>[\\d]{2}:[\\d]{2}:[\\d]{2}), Sys [\\d]+ (?P<sys>[\\d]{2}:[\\d]{2}:[\\d]{2})  -  (?P<usage>(Run|Total) (Remote|Local) Usage)\")\n",
    "    for i in range(4):\n",
    "        line = instream.readline().rstrip()\n",
    "        match = usage_re.search(line)\n",
    "        if match is None:\n",
    "            print(\"Unable to recognize usage:\", line)\n",
    "            return\n",
    "        user = parse_duration(match[\"usr\"])\n",
    "        system = parse_duration(match[\"sys\"])\n",
    "        parsed[match[\"usage\"]] = user + system\n",
    "    for i in range(4):\n",
    "        line = instream.readline()\n",
    "    # Partitionaable resources\n",
    "    instream.readline()\n",
    "    fields = instream.readline().rstrip().split()\n",
    "    #parsed[\"cpu\"] = {\"request\": int(fields[2]), \"allocated\": int(fields[3])}\n",
    "    parsed[\"cpu\"] = int(fields[3])\n",
    "    KB = 2 ** 10\n",
    "    MB = 2 ** 20\n",
    "    fields = instream.readline().rstrip().split()\n",
    "    #parsed[\"disk\"] = {\"usage\": int(fields[3]) * KB, \"request\": int(fields[4]) * KB, \"allocated\": int(fields[5]) * KB}\n",
    "    parsed[\"disk\"] = int(fields[3]) * KB\n",
    "    fields = instream.readline().rstrip().split()\n",
    "    #parsed[\"memory\"] = {\"usage\": int(fields[3]) * MB, \"request\": int(fields[4]) * MB, \"allocated\": int(fields[5]) * MB}\n",
    "    parsed[\"memory\"] = int(fields[3]) * MB\n",
    "    end = instream.readline().rstrip()\n",
    "    assert end == \"...\"\n",
    "    return parsed\n",
    "\n",
    "def parse_condor_log(instream):\n",
    "    header = re.compile(r\"[\\d]+ \\([\\d.]+\\) (?P<date>[\\d]{2}/[\\d]{2}) (?P<time>[\\d]{2}:[\\d]{2}:[\\d]{2}) (?P<status>[^:]+)(: (?P<args>.*)|(.))\")\n",
    "    usage = None\n",
    "    for line in instream:\n",
    "        line = line.rstrip()\n",
    "        match = header.search(line)\n",
    "        if match is None:\n",
    "            print(\"Unrecognized line:\", line)\n",
    "            continue\n",
    "\n",
    "        status = match.group(\"status\")\n",
    "        #print(status)\n",
    "        if status == \"Job terminated\":\n",
    "            usage = read_termination(instream)\n",
    "        else:\n",
    "            read_rest(instream)\n",
    "    return usage\n",
    "\n",
    "with open(star_log, \"rt\") as instream:\n",
    "    pprint(parse_condor_log(instream))\n",
    "\n",
    "with open(rsem_log, \"rt\") as instream:\n",
    "    pprint(parse_condor_log(instream))\n",
    "    \n",
    "    "
   ]
  },
  {
   "cell_type": "code",
   "execution_count": 28,
   "id": "competitive-german",
   "metadata": {},
   "outputs": [],
   "source": [
    "\n",
    "def compute_star_usage(libraries):\n",
    "    star_usage = {}\n",
    "    for library_id, row in libraries.iterrows():\n",
    "        curdir = os.getcwd()\n",
    "        fastq_size = 0        \n",
    "        analysis_dir = Path(row.analysis_dir)\n",
    "        analysis_root = analysis_dir.parent\n",
    "        os.chdir(analysis_root)\n",
    "        for fastq in find_fastqs_by_glob(row.read_1):\n",
    "            fastq_size += Path(fastq).stat().st_size\n",
    "        if \"read_2\" in libraries.columns:\n",
    "            for fastq in find_fastqs_by_glob(row.read_2):\n",
    "                fastq_size += Path(fastq).stat().st_size\n",
    "        os.chdir(curdir)\n",
    "        if fastq_size < 2 ** 20:\n",
    "            print(\"Skipping {}, fastqs archived\".format(library_id))\n",
    "            continue\n",
    "\n",
    "        with open(analysis_dir / \"align-star-0.log\", \"rt\") as instream:\n",
    "            star_usage.setdefault(library_id, {}).update(parse_condor_log(instream))\n",
    "            star_usage[library_id][\"fastq_size\"] = fastq_size\n",
    "    return star_usage\n",
    "\n",
    "#libraries = load_library_tables([analysis_dir / \"AAAWCGHM5/libraries.tsv\"])\n",
    "#compute_star_usage(libraries)"
   ]
  },
  {
   "cell_type": "code",
   "execution_count": 31,
   "id": "bibliographic-shelter",
   "metadata": {},
   "outputs": [
    {
     "name": "stderr",
     "output_type": "stream",
     "text": [
      "Can't find fastq /woldlab/loxcyc/home/diane/proj/flowcells/AAAWCFNM5/24523/24523_S1_R1_001.fastq.gz. skipping\n",
      "Can't find fastq /woldlab/loxcyc/home/diane/proj/flowcells/AAAWCFNM5/24524/24524_S2_R1_001.fastq.gz. skipping\n",
      "Can't find fastq /woldlab/loxcyc/home/diane/proj/flowcells/AAAWCFNM5/24525/24525_S3_R1_001.fastq.gz. skipping\n",
      "Can't find fastq /woldlab/loxcyc/home/diane/proj/flowcells/AAAWCFNM5/24526/24526_S4_R1_001.fastq.gz. skipping\n",
      "Can't find fastq /woldlab/loxcyc/home/diane/proj/flowcells/AAAWCFNM5/24527/24527_S5_R1_001.fastq.gz. skipping\n",
      "Can't find fastq /woldlab/loxcyc/home/diane/proj/flowcells/AAAWCFNM5/24528/24528_S6_R1_001.fastq.gz. skipping\n",
      "Can't find fastq /woldlab/loxcyc/home/diane/proj/flowcells/AAAWCFNM5/24529/24529_S7_R1_001.fastq.gz. skipping\n",
      "Can't find fastq /woldlab/loxcyc/home/diane/proj/flowcells/AAAWCFNM5/24530/24530_S8_R1_001.fastq.gz. skipping\n",
      "Can't find fastq /woldlab/loxcyc/home/diane/proj/flowcells/AAAWCFNM5/24531/24531_S9_R1_001.fastq.gz. skipping\n",
      "Can't find fastq /woldlab/loxcyc/home/diane/proj/flowcells/AAAWCFNM5/24532/24532_S10_R1_001.fastq.gz. skipping\n",
      "Can't find fastq /woldlab/loxcyc/home/diane/proj/flowcells/AAAWCFNM5/24533/24533_S11_R1_001.fastq.gz. skipping\n",
      "Can't find fastq /woldlab/loxcyc/home/diane/proj/flowcells/AAAWCFNM5/24534/24534_S12_R1_001.fastq.gz. skipping\n",
      "Can't find fastq ../../flowcells/AAAWCGKM5/24511/24511_S1_R1_001.fastq.gz. skipping\n",
      "Can't find fastq ../../flowcells/AAAWCGKM5/24512/24512_S2_R1_001.fastq.gz. skipping\n",
      "Can't find fastq ../../flowcells/AAAWCGKM5/24513/24513_S3_R1_001.fastq.gz. skipping\n",
      "Can't find fastq ../../flowcells/AAAWCGKM5/24514/24514_S4_R1_001.fastq.gz. skipping\n",
      "Can't find fastq ../../flowcells/AAAWCGKM5/24515/24515_S5_R1_001.fastq.gz. skipping\n",
      "Can't find fastq ../../flowcells/AAAWCGKM5/24516/24516_S6_R1_001.fastq.gz. skipping\n",
      "Can't find fastq ../../flowcells/AAAWCGKM5/24517/24517_S7_R1_001.fastq.gz. skipping\n",
      "Can't find fastq ../../flowcells/AAAWCGKM5/24518/24518_S8_R1_001.fastq.gz. skipping\n",
      "Can't find fastq ../../flowcells/AAAWCGKM5/24519/24519_S9_R1_001.fastq.gz. skipping\n",
      "Can't find fastq ../../flowcells/AAAWCGKM5/24520/24520_S10_R1_001.fastq.gz. skipping\n",
      "Can't find fastq ../../flowcells/AAAWCGKM5/24521/24521_S11_R1_001.fastq.gz. skipping\n",
      "Can't find fastq ../../flowcells/AAAWCGKM5/24522/24522_S12_R1_001.fastq.gz. skipping\n",
      "Can't find fastq /woldlab/loxcyc/home/diane/proj/flowcells/AAAWCH3M5/24388/24388_S1_R1_001.fastq.gz. skipping\n",
      "Can't find fastq /woldlab/loxcyc/home/diane/proj/flowcells/AAAWCH3M5/24389/24389_S2_R1_001.fastq.gz. skipping\n",
      "Can't find fastq /woldlab/loxcyc/home/diane/proj/flowcells/AAAWCH3M5/24390/24390_S3_R1_001.fastq.gz. skipping\n",
      "Can't find fastq /woldlab/loxcyc/home/diane/proj/flowcells/AAAWCH3M5/24391/24391_S4_R1_001.fastq.gz. skipping\n",
      "Can't find fastq /woldlab/loxcyc/home/diane/proj/flowcells/AAAWCH3M5/24392/24392_S5_R1_001.fastq.gz. skipping\n",
      "Can't find fastq /woldlab/loxcyc/home/diane/proj/flowcells/AAAWCH3M5/24393/24393_S6_R1_001.fastq.gz. skipping\n",
      "Can't find fastq /woldlab/loxcyc/home/diane/proj/flowcells/AAAWCH3M5/24394/24394_S7_R1_001.fastq.gz. skipping\n",
      "Can't find fastq /woldlab/loxcyc/home/diane/proj/flowcells/AAAWCH3M5/24395/24395_S8_R1_001.fastq.gz. skipping\n",
      "Can't find fastq /woldlab/loxcyc/home/diane/proj/flowcells/AAAWCH3M5/24396/24396_S9_R1_001.fastq.gz. skipping\n",
      "Can't find fastq /woldlab/loxcyc/home/diane/proj/flowcells/AAAWCH3M5/24397/24397_S10_R1_001.fastq.gz. skipping\n",
      "Can't find fastq /woldlab/loxcyc/home/diane/proj/flowcells/AAAWCH3M5/24398/24398_S11_R1_001.fastq.gz. skipping\n",
      "Can't find fastq /woldlab/loxcyc/home/diane/proj/flowcells/AAAWCH3M5/24399/24399_S12_R1_001.fastq.gz. skipping\n"
     ]
    },
    {
     "name": "stdout",
     "output_type": "stream",
     "text": [
      "Skipping 24523, fastqs archived\n",
      "Skipping 24524, fastqs archived\n",
      "Skipping 24525, fastqs archived\n",
      "Skipping 24526, fastqs archived\n",
      "Skipping 24527, fastqs archived\n",
      "Skipping 24528, fastqs archived\n",
      "Skipping 24529, fastqs archived\n",
      "Skipping 24530, fastqs archived\n",
      "Skipping 24531, fastqs archived\n",
      "Skipping 24532, fastqs archived\n",
      "Skipping 24533, fastqs archived\n",
      "Skipping 24534, fastqs archived\n",
      "Skipping 24511, fastqs archived\n",
      "Skipping 24512, fastqs archived\n",
      "Skipping 24513, fastqs archived\n",
      "Skipping 24514, fastqs archived\n",
      "Skipping 24515, fastqs archived\n",
      "Skipping 24516, fastqs archived\n",
      "Skipping 24517, fastqs archived\n",
      "Skipping 24518, fastqs archived\n",
      "Skipping 24519, fastqs archived\n",
      "Skipping 24520, fastqs archived\n",
      "Skipping 24521, fastqs archived\n",
      "Skipping 24522, fastqs archived\n",
      "Skipping 24388_E1208017_BS171_ENC4_cDNA725, fastqs archived\n",
      "Skipping 24389_E1311604_BS172_ENC4_cDNA726, fastqs archived\n",
      "Skipping 24390_E1329219_BS173_ENC4_cDNA727, fastqs archived\n",
      "Skipping 24391_E1652886_BS174_ENC4_cDNA728, fastqs archived\n",
      "Skipping 24392_E1805112_BS175_ENC4_cDNA729, fastqs archived\n",
      "Skipping 24393_E2229963_BS176_ENC4_cDNA730, fastqs archived\n",
      "Skipping 24394_E2395615_BS177_ENC4_cDNA731, fastqs archived\n",
      "Skipping 24395_E2504543_BS178_ENC4_cDNA732, fastqs archived\n",
      "Skipping 24396_E2541828_BS179_ENC4_cDNA733, fastqs archived\n",
      "Skipping 24397_E2804864_BS180_ENC4_cDNA734, fastqs archived\n",
      "Skipping 24398_E3486019_BS181_ENC4_cDNA735, fastqs archived\n",
      "Skipping 24399_E5108249_BS182_ENC4_cDNA736, fastqs archived\n"
     ]
    },
    {
     "name": "stderr",
     "output_type": "stream",
     "text": [
      "Can't find fastq /woldlab/loxcyc/home/diane/proj/flowcells/AAAWCY3M5/24400/24400_S1_R1_001.fastq.gz. skipping\n",
      "Can't find fastq /woldlab/loxcyc/home/diane/proj/flowcells/AAAWCY3M5/24401/24401_S2_R1_001.fastq.gz. skipping\n",
      "Can't find fastq /woldlab/loxcyc/home/diane/proj/flowcells/AAAWCY3M5/24402/24402_S3_R1_001.fastq.gz. skipping\n",
      "Can't find fastq /woldlab/loxcyc/home/diane/proj/flowcells/AAAWCY3M5/24403/24403_S4_R1_001.fastq.gz. skipping\n",
      "Can't find fastq /woldlab/loxcyc/home/diane/proj/flowcells/AAAWCY3M5/24404/24404_S5_R1_001.fastq.gz. skipping\n",
      "Can't find fastq /woldlab/loxcyc/home/diane/proj/flowcells/AAAWCY3M5/24405/24405_S6_R1_001.fastq.gz. skipping\n",
      "Can't find fastq /woldlab/loxcyc/home/diane/proj/flowcells/AAAWCY3M5/24406/24406_S7_R1_001.fastq.gz. skipping\n",
      "Can't find fastq /woldlab/loxcyc/home/diane/proj/flowcells/AAAWCY3M5/24407/24407_S8_R1_001.fastq.gz. skipping\n",
      "Can't find fastq /woldlab/loxcyc/home/diane/proj/flowcells/AAAWCY3M5/24408/24408_S9_R1_001.fastq.gz. skipping\n",
      "Can't find fastq /woldlab/loxcyc/home/diane/proj/flowcells/AAAWCY3M5/24409/24409_S10_R1_001.fastq.gz. skipping\n",
      "Can't find fastq /woldlab/loxcyc/home/diane/proj/flowcells/AAAWCY3M5/24410/24410_S11_R1_001.fastq.gz. skipping\n",
      "Can't find fastq /woldlab/loxcyc/home/diane/proj/flowcells/AAAWCY3M5/24411/24411_S12_R1_001.fastq.gz. skipping\n",
      "Can't find fastq /woldlab/loxcyc/home/diane/proj/flowcells/AAAWCY3M5/24412/24412_S13_R1_001.fastq.gz. skipping\n",
      "Can't find fastq ../../flowcells/AAAWHLVM5/24208/24208_S1_R1_001.fastq.gz. skipping\n",
      "Can't find fastq ../../flowcells/AAAWHLVM5/24209/24209_S2_R1_001.fastq.gz. skipping\n",
      "Can't find fastq ../../flowcells/AAAWHLVM5/24210/24210_S3_R1_001.fastq.gz. skipping\n",
      "Can't find fastq ../../flowcells/AAAWHLVM5/24211/24211_S4_R1_001.fastq.gz. skipping\n",
      "Can't find fastq ../../flowcells/AAAWHLVM5/24212/24212_S5_R1_001.fastq.gz. skipping\n",
      "Can't find fastq ../../flowcells/AAAWHLVM5/24213/24213_S6_R1_001.fastq.gz. skipping\n",
      "Can't find fastq ../../flowcells/AAAWHLVM5/24214/24214_S7_R1_001.fastq.gz. skipping\n",
      "Can't find fastq ../../flowcells/AAAWHLVM5/24215/24215_S8_R1_001.fastq.gz. skipping\n",
      "Can't find fastq ../../flowcells/AAAWHLVM5/24216/24216_S9_R1_001.fastq.gz. skipping\n",
      "Can't find fastq ../../flowcells/AAAWHLVM5/24217/24217_S10_R1_001.fastq.gz. skipping\n",
      "Can't find fastq ../../flowcells/AAAWHLVM5/24218/24218_S11_R1_001.fastq.gz. skipping\n",
      "Can't find fastq ../../flowcells/AAAWHLVM5/24219/24219_S12_R1_001.fastq.gz. skipping\n",
      "Can't find fastq ../../flowcells/AAAWHMGM5/24196/24196_S1_R1_001.fastq.gz. skipping\n",
      "Can't find fastq ../../flowcells/AAAWHMGM5/24197/24197_S2_R1_001.fastq.gz. skipping\n",
      "Can't find fastq ../../flowcells/AAAWHMGM5/24198/24198_S3_R1_001.fastq.gz. skipping\n",
      "Can't find fastq ../../flowcells/AAAWHMGM5/24199/24199_S4_R1_001.fastq.gz. skipping\n",
      "Can't find fastq ../../flowcells/AAAWHMGM5/24200/24200_S5_R1_001.fastq.gz. skipping\n",
      "Can't find fastq ../../flowcells/AAAWHMGM5/24201/24201_S6_R1_001.fastq.gz. skipping\n",
      "Can't find fastq ../../flowcells/AAAWHMGM5/24202/24202_S7_R1_001.fastq.gz. skipping\n",
      "Can't find fastq ../../flowcells/AAAWHMGM5/24203/24203_S8_R1_001.fastq.gz. skipping\n",
      "Can't find fastq ../../flowcells/AAAWHMGM5/24204/24204_S9_R1_001.fastq.gz. skipping\n",
      "Can't find fastq ../../flowcells/AAAWHMGM5/24205/24205_S10_R1_001.fastq.gz. skipping\n",
      "Can't find fastq ../../flowcells/AAAWHMGM5/24206/24206_S11_R1_001.fastq.gz. skipping\n",
      "Can't find fastq ../../flowcells/AAAWHMGM5/24207/24207_S12_R1_001.fastq.gz. skipping\n"
     ]
    },
    {
     "name": "stdout",
     "output_type": "stream",
     "text": [
      "Skipping 24400_E7431498_BS183_ENC4_cDNA737, fastqs archived\n",
      "Skipping 24401_E8583444_BS184_ENC4_cDNA738, fastqs archived\n",
      "Skipping 24402_E8895621_BS185_ENC4_cDNA739, fastqs archived\n",
      "Skipping 24403_E8947111_BS186_ENC4_cDNA740, fastqs archived\n",
      "Skipping 24404_E8949399_BS187_ENC4_cDNA741, fastqs archived\n",
      "Skipping 24405_E8969200_BS188_ENC4_cDNA742, fastqs archived\n",
      "Skipping 24406_E8973904_BS189_ENC4_cDNA743, fastqs archived\n",
      "Skipping 24407_E9620322_BS190_ENC4_cDNA744, fastqs archived\n",
      "Skipping 24408_E9696602_BS191_ENC4_cDNA745, fastqs archived\n",
      "Skipping 24409_E9835349_BS192_ENC4_cDNA746, fastqs archived\n",
      "Skipping 24410_E9876975_BS193_ENC4_cDNA747, fastqs archived\n",
      "Skipping 24411_E9972216_BS194_ENC4_cDNA748, fastqs archived\n",
      "Skipping 24412_E2728434_BS149_ENC4_cDNA749, fastqs archived\n",
      "Skipping 24208_E3348003_BS123_ENC4_cDNA685, fastqs archived\n",
      "Skipping 24209_E5605087_BS124_ENC4_cDNA686, fastqs archived\n",
      "Skipping 24210_E7461192_BS125_ENC4_cDNA687, fastqs archived\n",
      "Skipping 24211_E7469794_BS126_ENC4_cDNA688, fastqs archived\n",
      "Skipping 24212_E8259623_BS127_ENC4_cDNA689, fastqs archived\n",
      "Skipping 24213_E8277356_BS128_ENC4_cDNA690, fastqs archived\n",
      "Skipping 24214_E1703237_BS141_ENC4_cDNA691, fastqs archived\n",
      "Skipping 24215_E2129371_BS142_ENC4_cDNA692, fastqs archived\n",
      "Skipping 24216_E2351217_BS143_ENC4_cDNA693, fastqs archived\n",
      "Skipping 24217_E2501226_BS144_ENC4_cDNA694, fastqs archived\n",
      "Skipping 24218_E2962456_BS145_ENC4_cDNA695, fastqs archived\n",
      "Skipping 24219_E2987977_BS146_ENC4_cDNA696, fastqs archived\n",
      "Skipping 24196_E3253149_BS96_ENC4_cDNA673, fastqs archived\n",
      "Skipping 24197_E3332236_BS97_ENC4_cDNA674, fastqs archived\n",
      "Skipping 24198_E4638217_BS98_ENC4_cDNA675, fastqs archived\n",
      "Skipping 24199_E4646042_BS99_ENC4_cDNA676, fastqs archived\n",
      "Skipping 24200_E5448057_BS100_ENC4_cDNA677, fastqs archived\n",
      "Skipping 24201_E6090948_BS101_ENC4_cDNA678, fastqs archived\n",
      "Skipping 24202_E1005516_BS117_ENC4_cDNA679, fastqs archived\n",
      "Skipping 24203_E1097236_BS118_ENC4_cDNA680, fastqs archived\n",
      "Skipping 24204_E1121653_BS119_ENC4_cDNA681, fastqs archived\n",
      "Skipping 24205_E1182310_BS120_ENC4_cDNA682, fastqs archived\n",
      "Skipping 24206_E1488495_BS121_ENC4_cDNA683, fastqs archived\n",
      "Skipping 24207_E2987202_BS122_ENC4_cDNA684, fastqs archived\n"
     ]
    }
   ],
   "source": [
    "library_files = [\n",
    "    analysis_dir / \"AAAWCFLM5/libraries.tsv\",\n",
    "    analysis_dir / \"AAAWCFNM5/libraries.tsv\",\n",
    "    analysis_dir / \"AAAWCGFM5/libraries.tsv\",\n",
    "    analysis_dir / \"AAAWCGHM5/libraries.tsv\",\n",
    "    analysis_dir / \"AAAWCGKM5/libraries.tsv\",\n",
    "    analysis_dir / \"AAAWCH3M5/libraries.tsv\",\n",
    "    analysis_dir / \"AAAWCHCM5/libraries.tsv\",\n",
    "    analysis_dir / \"AAAWCHHM5/libraries.tsv\",\n",
    "    analysis_dir / \"AAAWCHLM5/libraries.tsv\",\n",
    "    analysis_dir / \"AAAWCJLM5/libraries.tsv\",\n",
    "    analysis_dir / \"AAAWCY3M5/libraries.tsv\",\n",
    "    analysis_dir / \"AAAWHLVM5/libraries.tsv\",\n",
    "    analysis_dir / \"AAAWHMGM5/libraries.tsv\",\n",
    "    #analysis_dir / \"AAC3YMLM5/libraries.tsv\", #this one got mostly reran on AAC53NJM5\n",
    "    analysis_dir / \"AAC53NJM5/libraries.tsv\",\n",
    "    #\"/woldlab/loxcyc/home/diane/proj/encode3-rna-evaluation/library.tsv\",\n",
    "]\n",
    "\n",
    "libraries = load_library_tables(library_files)\n",
    "\n",
    "star_usage = compute_star_usage(libraries)"
   ]
  },
  {
   "cell_type": "code",
   "execution_count": 34,
   "id": "inclusive-lecture",
   "metadata": {},
   "outputs": [
    {
     "data": {
      "text/plain": [
       "(90, 9)"
      ]
     },
     "execution_count": 34,
     "metadata": {},
     "output_type": "execute_result"
    }
   ],
   "source": [
    "star = pandas.DataFrame(star_usage).T\n",
    "star.shape"
   ]
  },
  {
   "cell_type": "code",
   "execution_count": 33,
   "id": "fuzzy-analyst",
   "metadata": {},
   "outputs": [
    {
     "data": {
      "text/plain": [
       "<AxesSubplot:xlabel='fastq_size', ylabel='memory'>"
      ]
     },
     "execution_count": 33,
     "metadata": {},
     "output_type": "execute_result"
    },
    {
     "data": {
      "image/png": "[encoded data removed]",
      "text/plain": [
       "<Figure size 432x288 with 1 Axes>"
      ]
     },
     "metadata": {
      "needs_background": "light"
     },
     "output_type": "display_data"
    }
   ],
   "source": [
    "star.plot.scatter(x=\"fastq_size\", y=\"memory\")"
   ]
  },
  {
   "cell_type": "code",
   "execution_count": 35,
   "id": "agreed-going",
   "metadata": {},
   "outputs": [
    {
     "data": {
      "text/plain": [
       "<AxesSubplot:xlabel='fastq_size', ylabel='disk'>"
      ]
     },
     "execution_count": 35,
     "metadata": {},
     "output_type": "execute_result"
    },
    {
     "data": {
      "image/png": "[encoded data removed]",
      "text/plain": [
       "<Figure size 432x288 with 1 Axes>"
      ]
     },
     "metadata": {
      "needs_background": "light"
     },
     "output_type": "display_data"
    }
   ],
   "source": [
    "star.plot.scatter(x=\"fastq_size\", y=\"disk\")"
   ]
  },
  {
   "cell_type": "code",
   "execution_count": null,
   "id": "numerous-brief",
   "metadata": {},
   "outputs": [],
   "source": []
  }
 ],
 "metadata": {
  "kernelspec": {
   "display_name": "Python 3",
   "language": "python",
   "name": "python3"
  },
  "language_info": {
   "codemirror_mode": {
    "name": "ipython",
    "version": 3
   },
   "file_extension": ".py",
   "mimetype": "text/x-python",
   "name": "python",
   "nbconvert_exporter": "python",
   "pygments_lexer": "ipython3",
   "version": "3.9.2"
  }
 },
 "nbformat": 4,
 "nbformat_minor": 5
}
