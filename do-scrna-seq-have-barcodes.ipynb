{
 "cells": [
  {
   "cell_type": "markdown",
   "id": "00c71fd8",
   "metadata": {},
   "source": [
    "There's two things I need to know to process a 10x experiment\n",
    "\n",
    "Where are the barcodes, and what permit list to use, so do any of experiments registered have the barcode settings on the files?"
   ]
  },
  {
   "cell_type": "code",
   "execution_count": 1,
   "id": "a2402160",
   "metadata": {},
   "outputs": [],
   "source": [
    "import pandas\n",
    "from pathlib import Path\n",
    "import os\n",
    "import sys"
   ]
  },
  {
   "cell_type": "code",
   "execution_count": 3,
   "id": "4af87cc5",
   "metadata": {},
   "outputs": [],
   "source": [
    "EC = str(Path(\"~/proj/encoded_client\").expanduser())\n",
    "if EC not in sys.path:\n",
    "    sys.path.append(EC)\n",
    "from encoded_client.encoded import ENCODED"
   ]
  },
  {
   "cell_type": "code",
   "execution_count": 4,
   "id": "00928e6e",
   "metadata": {},
   "outputs": [],
   "source": [
    "server = ENCODED(\"www.encodeproject.org\")\n",
    "server.load_netrc()"
   ]
  },
  {
   "cell_type": "code",
   "execution_count": null,
   "id": "e4c5415e",
   "metadata": {},
   "outputs": [],
   "source": []
  }
 ],
 "metadata": {
  "kernelspec": {
   "display_name": "Python 3",
   "language": "python",
   "name": "python3"
  },
  "language_info": {
   "codemirror_mode": {
    "name": "ipython",
    "version": 3
   },
   "file_extension": ".py",
   "mimetype": "text/x-python",
   "name": "python",
   "nbconvert_exporter": "python",
   "pygments_lexer": "ipython3",
   "version": "3.9.2"
  }
 },
 "nbformat": 4,
 "nbformat_minor": 5
}
