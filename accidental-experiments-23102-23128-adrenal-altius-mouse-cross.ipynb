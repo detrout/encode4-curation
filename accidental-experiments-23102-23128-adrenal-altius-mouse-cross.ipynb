{
 "cells": [
  {
   "cell_type": "code",
   "execution_count": 18,
   "id": "separated-oriental",
   "metadata": {},
   "outputs": [],
   "source": [
    "import pandas\n",
    "import sys\n",
    "from pathlib import Path"
   ]
  },
  {
   "cell_type": "code",
   "execution_count": 19,
   "id": "fresh-newark",
   "metadata": {},
   "outputs": [],
   "source": [
    "EC = str(Path('~/proj/encoded_client').expanduser())\n",
    "if EC not in sys.path:\n",
    "    sys.path.append(EC)\n",
    "    \n",
    "from encoded_client import encoded"
   ]
  },
  {
   "cell_type": "code",
   "execution_count": 20,
   "id": "collective-edward",
   "metadata": {},
   "outputs": [],
   "source": [
    "server = encoded.ENCODED(\"www.encodeproject.org\")\n",
    "server.load_netrc()"
   ]
  },
  {
   "cell_type": "code",
   "execution_count": 7,
   "id": "industrial-height",
   "metadata": {},
   "outputs": [],
   "source": [
    "filename = Path('~/woldlab/ENCODE/stranded-23102-23128-adrenal-altius-mouse-cross.xlsx').expanduser()\n",
    "experiments = pandas.read_excel(filename, sheet_name='Experiment')\n",
    "libraries = pandas.read_excel(filename, sheet_name='Library')\n",
    "replicates = pandas.read_excel(filename, sheet_name='Replicate')"
   ]
  },
  {
   "cell_type": "code",
   "execution_count": 9,
   "id": "endangered-latest",
   "metadata": {},
   "outputs": [
    {
     "data": {
      "text/plain": [
       "0     ENCSR920ABO\n",
       "1     ENCSR186SPI\n",
       "2     ENCSR158WTT\n",
       "3     ENCSR040VPL\n",
       "4     ENCSR652VMD\n",
       "5     ENCSR288ZIM\n",
       "6     ENCSR195UUB\n",
       "7     ENCSR194HEG\n",
       "8     ENCSR571OZD\n",
       "9     ENCSR611JVA\n",
       "10    ENCSR414YUZ\n",
       "11    ENCSR265RWM\n",
       "12    ENCSR300EHA\n",
       "13    ENCSR808JTS\n",
       "14    ENCSR495QVE\n",
       "15    ENCSR532VUV\n",
       "16    ENCSR301QXH\n",
       "17    ENCSR972IME\n",
       "18    ENCSR270SAI\n",
       "19    ENCSR733OYV\n",
       "20    ENCSR007NGM\n",
       "21    ENCSR194YEF\n",
       "22    ENCSR288BJQ\n",
       "23    ENCSR100JBU\n",
       "24    ENCSR748DUR\n",
       "25    ENCSR442XRH\n",
       "26    ENCSR712BLT\n",
       "Name: accession, dtype: object"
      ]
     },
     "execution_count": 9,
     "metadata": {},
     "output_type": "execute_result"
    }
   ],
   "source": [
    "experiments['accession']"
   ]
  },
  {
   "cell_type": "code",
   "execution_count": 21,
   "id": "pleased-precipitation",
   "metadata": {},
   "outputs": [
    {
     "name": "stdout",
     "output_type": "stream",
     "text": [
      "ENCSR265RWM 0\n",
      "ENCSR186SPI 0\n",
      "ENCSR194HEG 0\n",
      "ENCSR532VUV 0\n",
      "ENCSR100JBU 0\n",
      "ENCSR040VPL 0\n",
      "ENCSR611JVA 0\n",
      "ENCSR733OYV 0\n",
      "ENCSR972IME 0\n",
      "ENCSR288ZIM 0\n",
      "ENCSR712BLT 0\n",
      "ENCSR194YEF 0\n",
      "ENCSR808JTS 0\n"
     ]
    }
   ],
   "source": [
    "for experiment in set(experiments['accession']).difference(replicates['experiment']):\n",
    "    obj = server.get_json(experiment)\n",
    "    print(obj['accession'], len(obj['files']))"
   ]
  },
  {
   "cell_type": "code",
   "execution_count": 23,
   "id": "incomplete-rugby",
   "metadata": {},
   "outputs": [
    {
     "data": {
      "text/plain": [
       "{'ENCSR040VPL',\n",
       " 'ENCSR100JBU',\n",
       " 'ENCSR186SPI',\n",
       " 'ENCSR194HEG',\n",
       " 'ENCSR194YEF',\n",
       " 'ENCSR265RWM',\n",
       " 'ENCSR288ZIM',\n",
       " 'ENCSR532VUV',\n",
       " 'ENCSR611JVA',\n",
       " 'ENCSR712BLT',\n",
       " 'ENCSR733OYV',\n",
       " 'ENCSR808JTS',\n",
       " 'ENCSR972IME'}"
      ]
     },
     "execution_count": 23,
     "metadata": {},
     "output_type": "execute_result"
    }
   ],
   "source": [
    "set(experiments['accession']).difference(replicates['experiment'])"
   ]
  },
  {
   "cell_type": "code",
   "execution_count": 22,
   "id": "interior-robinson",
   "metadata": {},
   "outputs": [
    {
     "name": "stdout",
     "output_type": "stream",
     "text": [
      "ENCSR442XRH 4\n",
      "ENCSR270SAI 4\n",
      "ENCSR495QVE 4\n",
      "ENCSR414YUZ 4\n",
      "ENCSR195UUB 4\n",
      "ENCSR288BJQ 4\n",
      "ENCSR748DUR 2\n",
      "ENCSR301QXH 4\n",
      "ENCSR920ABO 4\n",
      "ENCSR571OZD 4\n",
      "ENCSR158WTT 4\n",
      "ENCSR652VMD 4\n",
      "ENCSR007NGM 4\n",
      "ENCSR300EHA 4\n"
     ]
    }
   ],
   "source": [
    "for experiment in set(experiments['accession']).intersection(replicates['experiment']):\n",
    "    obj = server.get_json(experiment)\n",
    "    print(obj['accession'], len(obj['files']))    "
   ]
  },
  {
   "cell_type": "code",
   "execution_count": null,
   "id": "casual-presence",
   "metadata": {},
   "outputs": [],
   "source": []
  }
 ],
 "metadata": {
  "kernelspec": {
   "display_name": "Python 3",
   "language": "python",
   "name": "python3"
  },
  "language_info": {
   "codemirror_mode": {
    "name": "ipython",
    "version": 3
   },
   "file_extension": ".py",
   "mimetype": "text/x-python",
   "name": "python",
   "nbconvert_exporter": "python",
   "pygments_lexer": "ipython3",
   "version": "3.9.2"
  }
 },
 "nbformat": 4,
 "nbformat_minor": 5
}
