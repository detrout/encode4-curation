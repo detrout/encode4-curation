{
 "cells": [
  {
   "cell_type": "markdown",
   "metadata": {},
   "source": [
    "Submitting various things for end of grant."
   ]
  },
  {
   "cell_type": "code",
   "execution_count": 1,
   "metadata": {},
   "outputs": [],
   "source": [
    "import os\n",
    "import sys\n",
    "import requests\n",
    "import pandas\n",
    "import paramiko\n",
    "import json\n",
    "from IPython import display"
   ]
  },
  {
   "cell_type": "code",
   "execution_count": 2,
   "metadata": {},
   "outputs": [],
   "source": [
    "from curation_common import *\n",
    "from htsworkflow.submission.encoded import DCCValidator"
   ]
  },
  {
   "cell_type": "code",
   "execution_count": 3,
   "metadata": {},
   "outputs": [],
   "source": [
    "PANDAS_ODF = os.path.expanduser('~/src/pandasodf')\n",
    "if PANDAS_ODF not in sys.path:\n",
    "    sys.path.append(PANDAS_ODF)\n",
    "    from pandasodf import ODFReader"
   ]
  },
  {
   "cell_type": "code",
   "execution_count": 4,
   "metadata": {},
   "outputs": [],
   "source": [
    "GCATDIR = os.path.expanduser('~/src/gcat')\n",
    "if GCATDIR not in sys.path:\n",
    "    sys.path.append(GCATDIR)\n",
    "    import gcat"
   ]
  },
  {
   "cell_type": "code",
   "execution_count": 5,
   "metadata": {},
   "outputs": [],
   "source": [
    "from htsworkflow.submission.encoded import Document\n",
    "from htsworkflow.submission.aws_submission import run_aws_cp"
   ]
  },
  {
   "cell_type": "code",
   "execution_count": 6,
   "metadata": {},
   "outputs": [],
   "source": [
    "# live server & control file\n",
    "server = ENCODED('www.encodeproject.org')\n",
    "spreadsheet_name = \"ENCODE_miRNA_experiments_06122019\"\n",
    "# test server & datafile\n",
    "#server = ENCODED('test.encodedcc.org')\n",
    "#spreadsheet_name = os.path.expanduser('~diane/woldlab/ENCODE/C1-encode3-limb-2017-testserver.ods')\n",
    "\n",
    "server.load_netrc()\n",
    "validator = DCCValidator(server)"
   ]
  },
  {
   "cell_type": "code",
   "execution_count": 7,
   "metadata": {},
   "outputs": [],
   "source": [
    "award = 'UM1HG009443'"
   ]
  },
  {
   "cell_type": "markdown",
   "metadata": {},
   "source": [
    "# Register Biosamples"
   ]
  },
  {
   "cell_type": "code",
   "execution_count": 8,
   "metadata": {},
   "outputs": [],
   "source": [
    "book = gcat.get_file(spreadsheet_name, fmt='pandas_excel')\n",
    "biosample = book.parse('Biosamples', header=0)\n",
    "for i, row in biosample.iterrows():\n",
    "    if not pandas.isnull(row.accession) and pandas.isnull(row.biosample_ontology):\n",
    "        obj = server.get_json(row.accession)\n",
    "        print(obj['biosample_ontology']['@id'])"
   ]
  },
  {
   "cell_type": "code",
   "execution_count": 9,
   "metadata": {},
   "outputs": [],
   "source": [
    "book = gcat.get_file(spreadsheet_name, fmt='pandas_excel')\n",
    "biosample = book.parse('Biosamples', header=0)\n",
    "for i, row in biosample.iterrows():\n",
    "    if not pandas.isnull(row.accession) and pandas.isnull(row.source):\n",
    "        obj = server.get_json(row.accession)\n",
    "        print(obj['source']['@id'])"
   ]
  },
  {
   "cell_type": "code",
   "execution_count": 15,
   "metadata": {
    "scrolled": false
   },
   "outputs": [
    {
     "name": "stdout",
     "output_type": "stream",
     "text": [
      "0\n"
     ]
    }
   ],
   "source": [
    "book = gcat.get_file(spreadsheet_name, fmt='pandas_excel')\n",
    "biosample = book.parse('Biosamples', header=0)\n",
    "created = server.post_sheet('/biosamples/', \n",
    "                            biosample,\n",
    "                            verbose=True,\n",
    "                            dry_run=True,\n",
    "                            validator=validator)\n",
    "print(len(created))"
   ]
  },
  {
   "cell_type": "code",
   "execution_count": 13,
   "metadata": {},
   "outputs": [],
   "source": [
    "if created:\n",
    "    biosample.to_excel('/dev/shm/biosamples.xlsx', index=False)"
   ]
  },
  {
   "cell_type": "markdown",
   "metadata": {},
   "source": [
    "# Register Libraries"
   ]
  },
  {
   "cell_type": "code",
   "execution_count": 22,
   "metadata": {
    "scrolled": false
   },
   "outputs": [
    {
     "name": "stdout",
     "output_type": "stream",
     "text": [
      "ENCODE_miRNA_experiments_06122019\n",
      "Reponse {'status': 'success', '@type': ['result'], '@graph': [{'documents': [], 'date_created': '2021-10-21T16:42:46.694411+00:00', 'submitted_by': '/users/bc5b62f7-ce28-4a1e-b6b3-81c9c5a86d7a/', 'status': 'in progress', 'lab': '/labs/ali-mortazavi/', 'award': '/awards/UM1HG009443/', 'aliases': ['ali-mortazavi:C2C12-diff-Lib1-20211021'], 'accession': 'ENCLB891UHM', 'schema_version': '19', 'alternate_accessions': [], 'spikeins_used': [], 'barcode_details': [], 'biosample': '/biosamples/ENCBS258SSQ/', 'nucleic_acid_term_name': 'miRNA', 'dbxrefs': [], 'size_range': '<30', 'strand_specificity': 'unstranded', 'treatments': [], '@id': '/libraries/ENCLB891UHM/', '@type': ['Library', 'Item'], 'uuid': 'bdafb1e9-ed1d-459e-8600-a95009774667', 'nucleic_acid_term_id': 'SO:0000276'}]}\n",
      "row 273 created: ENCLB891UHM\n",
      "Reponse {'status': 'success', '@type': ['result'], '@graph': [{'documents': [], 'date_created': '2021-10-21T16:42:46.864261+00:00', 'submitted_by': '/users/bc5b62f7-ce28-4a1e-b6b3-81c9c5a86d7a/', 'status': 'in progress', 'lab': '/labs/ali-mortazavi/', 'award': '/awards/UM1HG009443/', 'aliases': ['ali-mortazavi:C2C12-diff-Lib2-20211021'], 'accession': 'ENCLB122WRU', 'schema_version': '19', 'alternate_accessions': [], 'spikeins_used': [], 'barcode_details': [], 'biosample': '/biosamples/ENCBS574BLY/', 'nucleic_acid_term_name': 'miRNA', 'dbxrefs': [], 'size_range': '<30', 'strand_specificity': 'unstranded', 'treatments': [], '@id': '/libraries/ENCLB122WRU/', '@type': ['Library', 'Item'], 'uuid': 'd2f75ca7-6332-4eb9-a1a8-51ebafe57d58', 'nucleic_acid_term_id': 'SO:0000276'}]}\n",
      "row 274 created: ENCLB122WRU\n",
      "2\n"
     ]
    }
   ],
   "source": [
    "print(spreadsheet_name)\n",
    "book = gcat.get_file(spreadsheet_name, fmt='pandas_excel')\n",
    "libraries = book.parse('Libraries', header=0)\n",
    "created = server.post_sheet('/libraries/',\n",
    "                            libraries,\n",
    "                            verbose=True,\n",
    "                            dry_run=True,\n",
    "                            validator=validator)\n",
    "print(len(created))"
   ]
  },
  {
   "cell_type": "code",
   "execution_count": 23,
   "metadata": {},
   "outputs": [],
   "source": [
    "if created:\n",
    "    libraries.to_excel('/dev/shm/libraries.xlsx', index=False)"
   ]
  },
  {
   "cell_type": "markdown",
   "metadata": {},
   "source": [
    "# Register Experiments"
   ]
  },
  {
   "cell_type": "code",
   "execution_count": 14,
   "metadata": {},
   "outputs": [],
   "source": [
    "book = gcat.get_file(spreadsheet_name, fmt='pandas_excel')\n",
    "experiments = book.parse('Experiments', header=0)\n",
    "for i, row in experiments.iterrows():\n",
    "    if not pandas.isnull(row.accession) and pandas.isnull(row.biosample_ontology):\n",
    "        obj = server.get_json(row.accession)\n",
    "        print(obj['biosample_ontology']['@id'])"
   ]
  },
  {
   "cell_type": "code",
   "execution_count": 24,
   "metadata": {},
   "outputs": [
    {
     "name": "stdout",
     "output_type": "stream",
     "text": [
      "www.encodeproject.org\n",
      "Reponse {'status': 'success', '@type': ['result'], '@graph': [{'assay_term_name': 'microRNA-seq', 'biosample_ontology': '/biosample-types/in_vitro_differentiated_cells_CL_0000187/', 'documents': [], 'references': [], 'schema_version': '36', 'accession': 'ENCSR312YTR', 'alternate_accessions': [], 'description': 'RNA Evaluation C2C12 differentiated for 72 hours microRNA-seq from Mortazavi', 'dbxrefs': [], 'internal_tags': [], 'status': 'in progress', 'date_created': '2021-10-21T16:42:57.710097+00:00', 'submitted_by': '/users/bc5b62f7-ce28-4a1e-b6b3-81c9c5a86d7a/', 'lab': '/labs/ali-mortazavi/', 'award': '/awards/UM1HG009443/', 'aliases': ['ali-mortazavi:C2C12-diff_72hrs-miRNAseq-SR-20211021'], 'possible_controls': [], 'supersedes': [], 'related_files': [], 'internal_status': 'unreviewed', 'bio_replicate_count': 0, 'tech_replicate_count': 0, 'replication_type': 'unreplicated', 'objective_slims': [], 'type_slims': ['transcription profiling assay'], 'category_slims': ['transcription profiling'], 'assay_title': 'microRNA-seq', 'assay_slims': ['Transcription'], 'replicates': [], 'simple_biosample_summary': '', 'assay_term_id': 'OBI:0001922', '@id': '/experiments/ENCSR312YTR/', '@type': ['Experiment', 'Dataset', 'Item'], 'uuid': '5a91e939-9514-4154-9ed0-ea064c16e28e', 'original_files': [], 'contributing_files': [], 'files': [], 'revoked_files': [], 'assembly': [], 'related_series': [], 'superseded_by': [], 'related_annotations': [], 'perturbed': False}]}\n",
      "row 167 created: ENCSR312YTR\n",
      "1\n"
     ]
    }
   ],
   "source": [
    "print(server.server)\n",
    "book = gcat.get_file(spreadsheet_name, fmt='pandas_excel')\n",
    "experiments = book.parse('Experiments', header=0)\n",
    "created = server.post_sheet('/experiments/',\n",
    "                            experiments,\n",
    "                            verbose=True,\n",
    "                            dry_run=True,\n",
    "                            validator=validator)\n",
    "print(len(created))"
   ]
  },
  {
   "cell_type": "code",
   "execution_count": 25,
   "metadata": {},
   "outputs": [],
   "source": [
    "if created:\n",
    "    experiments.to_excel('/dev/shm/experiments.xlsx', index=False)"
   ]
  },
  {
   "cell_type": "markdown",
   "metadata": {},
   "source": [
    "# Register Replicates"
   ]
  },
  {
   "cell_type": "code",
   "execution_count": 27,
   "metadata": {
    "scrolled": true
   },
   "outputs": [
    {
     "name": "stdout",
     "output_type": "stream",
     "text": [
      "www.encodeproject.org\n",
      "ENCODE_miRNA_experiments_06122019\n",
      "Reponse {'status': 'success', '@type': ['result'], '@graph': [{'date_created': '2021-10-21T16:44:01.705071+00:00', 'submitted_by': '/users/bc5b62f7-ce28-4a1e-b6b3-81c9c5a86d7a/', 'aliases': ['ali-mortazavi:C2C12-diff-rep1-SR-20211021'], 'schema_version': '9', 'biological_replicate_number': 1, 'technical_replicate_number': 1, 'experiment': '/experiments/ENCSR312YTR/', 'library': '/libraries/ENCLB891UHM/', 'status': 'in progress', '@id': '/replicates/920c48ad-7d4b-4f05-afc1-da9af6b70c00/', '@type': ['Replicate', 'Item'], 'uuid': '920c48ad-7d4b-4f05-afc1-da9af6b70c00'}]}\n",
      "row 273 created: 920c48ad-7d4b-4f05-afc1-da9af6b70c00\n",
      "Reponse {'status': 'success', '@type': ['result'], '@graph': [{'date_created': '2021-10-21T16:44:01.903638+00:00', 'submitted_by': '/users/bc5b62f7-ce28-4a1e-b6b3-81c9c5a86d7a/', 'aliases': ['ali-mortazavi:C2C12-diff-rep2-SR-20211021'], 'schema_version': '9', 'biological_replicate_number': 2, 'technical_replicate_number': 1, 'experiment': '/experiments/ENCSR312YTR/', 'library': '/libraries/ENCLB122WRU/', 'status': 'in progress', '@id': '/replicates/1e4f967d-d45c-412b-8277-18b173e1d110/', '@type': ['Replicate', 'Item'], 'uuid': '1e4f967d-d45c-412b-8277-18b173e1d110'}]}\n",
      "row 274 created: 1e4f967d-d45c-412b-8277-18b173e1d110\n",
      "2\n"
     ]
    }
   ],
   "source": [
    "print(server.server)\n",
    "print(spreadsheet_name)\n",
    "book = gcat.get_file(spreadsheet_name, fmt='pandas_excel')\n",
    "replicates = book.parse('Replicates', header=0)\n",
    "created = server.post_sheet('/replicates/', \n",
    "                            replicates,\n",
    "                            verbose=True,\n",
    "                            dry_run=True,\n",
    "                            validator=validator)\n",
    "print(len(created))"
   ]
  },
  {
   "cell_type": "code",
   "execution_count": 28,
   "metadata": {},
   "outputs": [],
   "source": [
    "if created:\n",
    "    replicates.to_excel('/dev/shm/replicates.xlsx', index=False)"
   ]
  },
  {
   "cell_type": "code",
   "execution_count": 29,
   "metadata": {},
   "outputs": [],
   "source": [
    "with pandas.ExcelWriter('/dev/shm/submission.xlsx') as book:\n",
    "    biosample.to_excel(book, 'Biosample', index=False)\n",
    "    experiments.to_excel(book, 'Experiment', index=False)\n",
    "    libraries.to_excel(book, 'Library', index=False)\n",
    "    replicates.to_excel(book, 'Replicate', index=False)\n"
   ]
  },
  {
   "cell_type": "markdown",
   "metadata": {},
   "source": [
    "# Test Files"
   ]
  },
  {
   "cell_type": "code",
   "execution_count": 31,
   "metadata": {},
   "outputs": [
    {
     "name": "stdout",
     "output_type": "stream",
     "text": [
      "www.encodeproject.org\n",
      "ENCODE_miRNA_experiments_06122019\n",
      "2\n"
     ]
    }
   ],
   "source": [
    "print(server.server)\n",
    "print(spreadsheet_name)\n",
    "book = gcat.get_file(spreadsheet_name, fmt='pandas_excel')\n",
    "replicates = book.parse('Files', header=0)\n",
    "created = server.post_sheet('/files/', \n",
    "                            replicates,\n",
    "                            verbose=True,\n",
    "                            dry_run=True,\n",
    "                            validator=validator)\n",
    "print(len(created))"
   ]
  },
  {
   "cell_type": "code",
   "execution_count": null,
   "metadata": {},
   "outputs": [],
   "source": []
  }
 ],
 "metadata": {
  "kernelspec": {
   "display_name": "Python 3",
   "language": "python",
   "name": "python3"
  },
  "language_info": {
   "codemirror_mode": {
    "name": "ipython",
    "version": 3
   },
   "file_extension": ".py",
   "mimetype": "text/x-python",
   "name": "python",
   "nbconvert_exporter": "python",
   "pygments_lexer": "ipython3",
   "version": "3.7.4"
  }
 },
 "nbformat": 4,
 "nbformat_minor": 1
}
