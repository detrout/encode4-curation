{
 "cells": [
  {
   "cell_type": "markdown",
   "metadata": {},
   "source": [
    "Submitting various things for end of grant."
   ]
  },
  {
   "cell_type": "code",
   "execution_count": 1,
   "metadata": {},
   "outputs": [],
   "source": [
    "import os\n",
    "import sys\n",
    "import requests\n",
    "import pandas\n",
    "import paramiko\n",
    "import json\n",
    "from IPython import display"
   ]
  },
  {
   "cell_type": "code",
   "execution_count": 2,
   "metadata": {},
   "outputs": [],
   "source": [
    "from curation_common import *\n",
    "from htsworkflow.submission.encoded import DCCValidator"
   ]
  },
  {
   "cell_type": "code",
   "execution_count": 3,
   "metadata": {},
   "outputs": [],
   "source": [
    "PANDAS_ODF = os.path.expanduser('~/src/pandasodf')\n",
    "if PANDAS_ODF not in sys.path:\n",
    "    sys.path.append(PANDAS_ODF)\n",
    "    from pandasodf import ODFReader"
   ]
  },
  {
   "cell_type": "code",
   "execution_count": 4,
   "metadata": {},
   "outputs": [],
   "source": [
    "from htsworkflow.submission.encoded import Document, typed_column_parser\n",
    "from htsworkflow.submission.aws_submission import run_aws_cp"
   ]
  },
  {
   "cell_type": "code",
   "execution_count": 5,
   "metadata": {},
   "outputs": [],
   "source": [
    "# live server & control file\n",
    "server = ENCODED('www.encodeproject.org')\n",
    "spreadsheet_name = os.path.expanduser('~diane/woldlab/ENCODE/C1-encode3-limb-tranche1-resubmit.ods')\n",
    "\n",
    "# test server & datafile\n",
    "#server = ENCODED('test.encodedcc.org')\n",
    "#spreadsheet_name = os.path.expanduser('~diane/woldlab/ENCODE/C1-encode3-limb-tranche1-resubmit-testserver.ods')\n",
    "\n",
    "server.load_netrc()\n",
    "validator = DCCValidator(server)"
   ]
  },
  {
   "cell_type": "code",
   "execution_count": 6,
   "metadata": {},
   "outputs": [],
   "source": [
    "award = 'UM1HG009443'"
   ]
  },
  {
   "cell_type": "markdown",
   "metadata": {},
   "source": [
    "# Submit Documents"
   ]
  },
  {
   "cell_type": "markdown",
   "metadata": {},
   "source": [
    "Example Document submission"
   ]
  },
  {
   "cell_type": "code",
   "execution_count": 7,
   "metadata": {},
   "outputs": [],
   "source": [
    "#atac_uuid = '0fc44318-b802-474e-8199-f3b6d708eb6f'\n",
    "#atac = Document(os.path.expanduser('~/proj/encode3-curation/Wold_Lab_ATAC_Seq_protocol_December_2016.pdf'),\n",
    "#                'general protocol',\n",
    "#                'ATAC-Seq experiment protocol for Wold lab',\n",
    "#                )\n",
    "#body = atac.create_if_needed(server, atac_uuid)\n",
    "#print(body['@id'])"
   ]
  },
  {
   "cell_type": "markdown",
   "metadata": {},
   "source": [
    "# Submit Annotations"
   ]
  },
  {
   "cell_type": "code",
   "execution_count": 8,
   "metadata": {},
   "outputs": [],
   "source": [
    "#sheet = gcat.get_file(spreadsheet_name, fmt='pandas_excel')\n",
    "#annotations = sheet.parse('Annotations', header=0)\n",
    "#created = server.post_sheet('/annotations/', annotations, verbose=True, dry_run=True)\n",
    "#print(len(created))"
   ]
  },
  {
   "cell_type": "code",
   "execution_count": 9,
   "metadata": {},
   "outputs": [],
   "source": [
    "#if created:\n",
    "#    annotations.to_excel('/tmp/annotations.xlsx', index=False)"
   ]
  },
  {
   "cell_type": "markdown",
   "metadata": {},
   "source": [
    "# Register Biosamples"
   ]
  },
  {
   "cell_type": "code",
   "execution_count": 26,
   "metadata": {
    "scrolled": true
   },
   "outputs": [
    {
     "name": "stdout",
     "output_type": "stream",
     "text": [
      "0\n"
     ]
    }
   ],
   "source": [
    "book = ODFReader(spreadsheet_name)\n",
    "biosample = book.parse('Biosample', header=0)\n",
    "created = server.post_sheet('/biosamples/', biosample, \n",
    "                            verbose=True, \n",
    "                            dry_run=True, \n",
    "                            validator=validator)\n",
    "print(len(created))"
   ]
  },
  {
   "cell_type": "code",
   "execution_count": 25,
   "metadata": {},
   "outputs": [],
   "source": [
    "if created:\n",
    "    biosample.to_excel('/dev/shm/biosamples.xlsx', index=False)"
   ]
  },
  {
   "cell_type": "markdown",
   "metadata": {},
   "source": [
    "# Register Libraries"
   ]
  },
  {
   "cell_type": "code",
   "execution_count": 29,
   "metadata": {
    "scrolled": true
   },
   "outputs": [
    {
     "name": "stdout",
     "output_type": "stream",
     "text": [
      "/home/diane/woldlab/ENCODE/C1-encode3-limb-tranche1-resubmit.ods\n",
      "0\n"
     ]
    }
   ],
   "source": [
    "print(spreadsheet_name)\n",
    "book = ODFReader(spreadsheet_name)\n",
    "libraries = book.parse('Library', header=0)\n",
    "created = server.post_sheet('/libraries/', \n",
    "                            libraries, \n",
    "                            verbose=True, \n",
    "                            dry_run=True, \n",
    "                            validator=validator)\n",
    "print(len(created))"
   ]
  },
  {
   "cell_type": "code",
   "execution_count": 28,
   "metadata": {},
   "outputs": [],
   "source": [
    "if created:\n",
    "    libraries.to_excel('/dev/shm/libraries.xlsx', index=False)"
   ]
  },
  {
   "cell_type": "code",
   "execution_count": 14,
   "metadata": {},
   "outputs": [
    {
     "data": {
      "text/plain": [
       "8"
      ]
     },
     "execution_count": 14,
     "metadata": {},
     "output_type": "execute_result"
    }
   ],
   "source": [
    "len(created)"
   ]
  },
  {
   "cell_type": "markdown",
   "metadata": {},
   "source": [
    "# Register Experiments"
   ]
  },
  {
   "cell_type": "code",
   "execution_count": 32,
   "metadata": {},
   "outputs": [
    {
     "name": "stdout",
     "output_type": "stream",
     "text": [
      "0\n"
     ]
    }
   ],
   "source": [
    "book = ODFReader(spreadsheet_name)\n",
    "experiments = book.parse('Experiment', header=0)\n",
    "created = server.post_sheet('/experiments/', \n",
    "                            experiments, \n",
    "                            verbose=True, \n",
    "                            dry_run=True, \n",
    "                            validator=validator)\n",
    "print(len(created))"
   ]
  },
  {
   "cell_type": "code",
   "execution_count": 31,
   "metadata": {},
   "outputs": [],
   "source": [
    "if created:\n",
    "    experiments.to_excel('/dev/shm/experiments.xlsx', index=False)"
   ]
  },
  {
   "cell_type": "markdown",
   "metadata": {},
   "source": [
    "# Register Replicates"
   ]
  },
  {
   "cell_type": "code",
   "execution_count": 35,
   "metadata": {
    "scrolled": true
   },
   "outputs": [
    {
     "name": "stdout",
     "output_type": "stream",
     "text": [
      "0\n"
     ]
    }
   ],
   "source": [
    "book = ODFReader(spreadsheet_name)\n",
    "replicates = book.parse('Replicate', header=0)\n",
    "created = server.post_sheet('/replicates/', \n",
    "                            replicates, \n",
    "                            verbose=True, \n",
    "                            dry_run=True, \n",
    "                            validator=validator)\n",
    "print(len(created))"
   ]
  },
  {
   "cell_type": "code",
   "execution_count": 34,
   "metadata": {},
   "outputs": [],
   "source": [
    "if created:\n",
    "    replicates.to_excel('/dev/shm/replicates.xlsx', index=False)"
   ]
  },
  {
   "cell_type": "markdown",
   "metadata": {},
   "source": [
    "# Find size_range"
   ]
  },
  {
   "cell_type": "code",
   "execution_count": 19,
   "metadata": {},
   "outputs": [],
   "source": [
    "from rdflib import Graph\n",
    "from rdflib.term import URIRef\n",
    "from rdflib.serializer import Serializer\n",
    "import json\n",
    "import numpy"
   ]
  },
  {
   "cell_type": "code",
   "execution_count": 20,
   "metadata": {
    "scrolled": true
   },
   "outputs": [
    {
     "name": "stdout",
     "output_type": "stream",
     "text": [
      "/home/diane/woldlab/ENCODE/C1-encode3-limb-tranche1-resubmit.ods\n"
     ]
    }
   ],
   "source": [
    "print(spreadsheet_name)\n",
    "book = ODFReader(spreadsheet_name)\n",
    "libraries = book.parse('Library', header=0)"
   ]
  },
  {
   "cell_type": "code",
   "execution_count": 21,
   "metadata": {},
   "outputs": [
    {
     "data": {
      "text/html": [
       "<div>\n",
       "<style scoped>\n",
       "    .dataframe tbody tr th:only-of-type {\n",
       "        vertical-align: middle;\n",
       "    }\n",
       "\n",
       "    .dataframe tbody tr th {\n",
       "        vertical-align: top;\n",
       "    }\n",
       "\n",
       "    .dataframe thead th {\n",
       "        text-align: right;\n",
       "    }\n",
       "</style>\n",
       "<table border=\"1\" class=\"dataframe\">\n",
       "  <thead>\n",
       "    <tr style=\"text-align: right;\">\n",
       "      <th></th>\n",
       "      <th>uuid</th>\n",
       "      <th>library_accession</th>\n",
       "      <th>aliases:array</th>\n",
       "      <th>biosample</th>\n",
       "      <th>nucleic_acid_term_name</th>\n",
       "      <th>depleted_in_term_name</th>\n",
       "      <th>nucleic_acid_starting_quantity</th>\n",
       "      <th>nucleic_acid_starting_quantity_units</th>\n",
       "      <th>size_range</th>\n",
       "      <th>lysis_method</th>\n",
       "      <th>...</th>\n",
       "      <th>extraction_method</th>\n",
       "      <th>library_size_selection_method</th>\n",
       "      <th>treatments</th>\n",
       "      <th>strand_specificity:boolean</th>\n",
       "      <th>spikeins_used:array</th>\n",
       "      <th>spike in pool:skip</th>\n",
       "      <th>documents:array</th>\n",
       "      <th>lab</th>\n",
       "      <th>award</th>\n",
       "      <th>barcode_details:json</th>\n",
       "    </tr>\n",
       "  </thead>\n",
       "  <tbody>\n",
       "    <tr>\n",
       "      <th>0</th>\n",
       "      <td>NaN</td>\n",
       "      <td>NaN</td>\n",
       "      <td>barbara-wold:18042_A1,barbara-wold:18042_A11,b...</td>\n",
       "      <td>barbara-wold:c1_e10.5_mouse_limb_run2_template</td>\n",
       "      <td>polyadenylated mRNA</td>\n",
       "      <td>NaN</td>\n",
       "      <td>NaN</td>\n",
       "      <td>NaN</td>\n",
       "      <td>493-662</td>\n",
       "      <td>NaN</td>\n",
       "      <td>...</td>\n",
       "      <td>NaN</td>\n",
       "      <td>NaN</td>\n",
       "      <td>NaN</td>\n",
       "      <td>NaN</td>\n",
       "      <td>barbara-wold:profile_C1_2</td>\n",
       "      <td>NaN</td>\n",
       "      <td>barbara-wold:smarter-ulta-low-pdf</td>\n",
       "      <td>barbara-wold</td>\n",
       "      <td>UM1HG009443</td>\n",
       "      <td>[{\"barcode\": \"CGAGGCTGGCGTAAGA\", \"plate_id\": \"...</td>\n",
       "    </tr>\n",
       "    <tr>\n",
       "      <th>1</th>\n",
       "      <td>NaN</td>\n",
       "      <td>NaN</td>\n",
       "      <td>barbara-wold:17327_A10,barbara-wold:17327_A11,...</td>\n",
       "      <td>barbara-wold:c1_e10.5_mouse_limb_run1_template</td>\n",
       "      <td>polyadenylated mRNA</td>\n",
       "      <td>NaN</td>\n",
       "      <td>NaN</td>\n",
       "      <td>NaN</td>\n",
       "      <td>309-365</td>\n",
       "      <td>NaN</td>\n",
       "      <td>...</td>\n",
       "      <td>NaN</td>\n",
       "      <td>NaN</td>\n",
       "      <td>NaN</td>\n",
       "      <td>NaN</td>\n",
       "      <td>barbara-wold:profile_C1_1</td>\n",
       "      <td>NaN</td>\n",
       "      <td>barbara-wold:smarter-ulta-low-pdf</td>\n",
       "      <td>barbara-wold</td>\n",
       "      <td>UM1HG009443</td>\n",
       "      <td>[{\"barcode\": \"TAAGGCGAGCGTAAGA\", \"plate_id\": \"...</td>\n",
       "    </tr>\n",
       "    <tr>\n",
       "      <th>2</th>\n",
       "      <td>NaN</td>\n",
       "      <td>NaN</td>\n",
       "      <td>barbara-wold:18087_F1,barbara-wold:18087_F10,b...</td>\n",
       "      <td>barbara-wold:c1_e10.5_mouse_limb_run3_template</td>\n",
       "      <td>polyadenylated mRNA</td>\n",
       "      <td>NaN</td>\n",
       "      <td>NaN</td>\n",
       "      <td>NaN</td>\n",
       "      <td>472-554</td>\n",
       "      <td>NaN</td>\n",
       "      <td>...</td>\n",
       "      <td>NaN</td>\n",
       "      <td>NaN</td>\n",
       "      <td>NaN</td>\n",
       "      <td>NaN</td>\n",
       "      <td>barbara-wold:profile_C1_3</td>\n",
       "      <td>NaN</td>\n",
       "      <td>barbara-wold:smarter-ulta-low-pdf</td>\n",
       "      <td>barbara-wold</td>\n",
       "      <td>UM1HG009443</td>\n",
       "      <td>[{\"barcode\": \"TAAGGCGAACTGCATA\", \"plate_id\": \"...</td>\n",
       "    </tr>\n",
       "    <tr>\n",
       "      <th>3</th>\n",
       "      <td>NaN</td>\n",
       "      <td>NaN</td>\n",
       "      <td>barbara-wold:18258_A1,barbara-wold:18258_A10,b...</td>\n",
       "      <td>barbara-wold:c1_e11.0_mouse_limb_run5_template</td>\n",
       "      <td>polyadenylated mRNA</td>\n",
       "      <td>NaN</td>\n",
       "      <td>NaN</td>\n",
       "      <td>NaN</td>\n",
       "      <td>287-347</td>\n",
       "      <td>NaN</td>\n",
       "      <td>...</td>\n",
       "      <td>NaN</td>\n",
       "      <td>NaN</td>\n",
       "      <td>NaN</td>\n",
       "      <td>NaN</td>\n",
       "      <td>barbara-wold:profile_C1_3</td>\n",
       "      <td>NaN</td>\n",
       "      <td>barbara-wold:smarter-ulta-low-pdf</td>\n",
       "      <td>barbara-wold</td>\n",
       "      <td>UM1HG009443</td>\n",
       "      <td>[{\"barcode\": \"TAAGGCGAGCGTAAGA\", \"plate_id\": \"...</td>\n",
       "    </tr>\n",
       "    <tr>\n",
       "      <th>4</th>\n",
       "      <td>NaN</td>\n",
       "      <td>NaN</td>\n",
       "      <td>barbara-wold:18263_A10,barbara-wold:18263_A11,...</td>\n",
       "      <td>barbara-wold:c1_e11.5_mouse_limb_run6_template</td>\n",
       "      <td>polyadenylated mRNA</td>\n",
       "      <td>NaN</td>\n",
       "      <td>NaN</td>\n",
       "      <td>NaN</td>\n",
       "      <td>244-301</td>\n",
       "      <td>NaN</td>\n",
       "      <td>...</td>\n",
       "      <td>NaN</td>\n",
       "      <td>NaN</td>\n",
       "      <td>NaN</td>\n",
       "      <td>NaN</td>\n",
       "      <td>barbara-wold:profile_C1_3</td>\n",
       "      <td>NaN</td>\n",
       "      <td>barbara-wold:smarter-ulta-low-pdf</td>\n",
       "      <td>barbara-wold</td>\n",
       "      <td>UM1HG009443</td>\n",
       "      <td>[{\"barcode\": \"CGATCAGTTCGACTAG\", \"plate_id\": \"...</td>\n",
       "    </tr>\n",
       "    <tr>\n",
       "      <th>5</th>\n",
       "      <td>NaN</td>\n",
       "      <td>NaN</td>\n",
       "      <td>barbara-wold:18270_A1,barbara-wold:18270_A10,b...</td>\n",
       "      <td>barbara-wold:c1_e12.5_mouse_limb_run7_template</td>\n",
       "      <td>polyadenylated mRNA</td>\n",
       "      <td>NaN</td>\n",
       "      <td>NaN</td>\n",
       "      <td>NaN</td>\n",
       "      <td>425-519</td>\n",
       "      <td>NaN</td>\n",
       "      <td>...</td>\n",
       "      <td>NaN</td>\n",
       "      <td>NaN</td>\n",
       "      <td>NaN</td>\n",
       "      <td>NaN</td>\n",
       "      <td>barbara-wold:profile_C1_3</td>\n",
       "      <td>NaN</td>\n",
       "      <td>barbara-wold:smarter-ulta-low-pdf</td>\n",
       "      <td>barbara-wold</td>\n",
       "      <td>UM1HG009443</td>\n",
       "      <td>[{\"barcode\": \"ACTCGCTATCGACTAG\", \"plate_id\": \"...</td>\n",
       "    </tr>\n",
       "    <tr>\n",
       "      <th>6</th>\n",
       "      <td>NaN</td>\n",
       "      <td>NaN</td>\n",
       "      <td>barbara-wold:18251_A1,barbara-wold:18251_A10,b...</td>\n",
       "      <td>barbara-wold:c1_e13.5_mouse_limb_run4_template</td>\n",
       "      <td>polyadenylated mRNA</td>\n",
       "      <td>NaN</td>\n",
       "      <td>NaN</td>\n",
       "      <td>NaN</td>\n",
       "      <td>452-516</td>\n",
       "      <td>NaN</td>\n",
       "      <td>...</td>\n",
       "      <td>NaN</td>\n",
       "      <td>NaN</td>\n",
       "      <td>NaN</td>\n",
       "      <td>NaN</td>\n",
       "      <td>barbara-wold:profile_C1_3</td>\n",
       "      <td>NaN</td>\n",
       "      <td>barbara-wold:smarter-ulta-low-pdf</td>\n",
       "      <td>barbara-wold</td>\n",
       "      <td>UM1HG009443</td>\n",
       "      <td>[{\"barcode\": \"TAAGGCGAGCGTAAGA\", \"plate_id\": \"...</td>\n",
       "    </tr>\n",
       "    <tr>\n",
       "      <th>7</th>\n",
       "      <td>NaN</td>\n",
       "      <td>NaN</td>\n",
       "      <td>barbara-wold:18311_A1,barbara-wold:18311_A12,b...</td>\n",
       "      <td>barbara-wold:c1_e13.5_mouse_limb_run8_template</td>\n",
       "      <td>polyadenylated mRNA</td>\n",
       "      <td>NaN</td>\n",
       "      <td>NaN</td>\n",
       "      <td>NaN</td>\n",
       "      <td>387-466</td>\n",
       "      <td>NaN</td>\n",
       "      <td>...</td>\n",
       "      <td>NaN</td>\n",
       "      <td>NaN</td>\n",
       "      <td>NaN</td>\n",
       "      <td>NaN</td>\n",
       "      <td>barbara-wold:profile_C1_3</td>\n",
       "      <td>NaN</td>\n",
       "      <td>barbara-wold:smarter-ulta-low-pdf</td>\n",
       "      <td>barbara-wold</td>\n",
       "      <td>UM1HG009443</td>\n",
       "      <td>[{\"barcode\": \"ACTCGCTACTCTCTAT\", \"plate_id\": \"...</td>\n",
       "    </tr>\n",
       "  </tbody>\n",
       "</table>\n",
       "<p>8 rows × 21 columns</p>\n",
       "</div>"
      ],
      "text/plain": [
       "   uuid  library_accession                                      aliases:array  \\\n",
       "0   NaN                NaN  barbara-wold:18042_A1,barbara-wold:18042_A11,b...   \n",
       "1   NaN                NaN  barbara-wold:17327_A10,barbara-wold:17327_A11,...   \n",
       "2   NaN                NaN  barbara-wold:18087_F1,barbara-wold:18087_F10,b...   \n",
       "3   NaN                NaN  barbara-wold:18258_A1,barbara-wold:18258_A10,b...   \n",
       "4   NaN                NaN  barbara-wold:18263_A10,barbara-wold:18263_A11,...   \n",
       "5   NaN                NaN  barbara-wold:18270_A1,barbara-wold:18270_A10,b...   \n",
       "6   NaN                NaN  barbara-wold:18251_A1,barbara-wold:18251_A10,b...   \n",
       "7   NaN                NaN  barbara-wold:18311_A1,barbara-wold:18311_A12,b...   \n",
       "\n",
       "                                        biosample nucleic_acid_term_name  \\\n",
       "0  barbara-wold:c1_e10.5_mouse_limb_run2_template    polyadenylated mRNA   \n",
       "1  barbara-wold:c1_e10.5_mouse_limb_run1_template    polyadenylated mRNA   \n",
       "2  barbara-wold:c1_e10.5_mouse_limb_run3_template    polyadenylated mRNA   \n",
       "3  barbara-wold:c1_e11.0_mouse_limb_run5_template    polyadenylated mRNA   \n",
       "4  barbara-wold:c1_e11.5_mouse_limb_run6_template    polyadenylated mRNA   \n",
       "5  barbara-wold:c1_e12.5_mouse_limb_run7_template    polyadenylated mRNA   \n",
       "6  barbara-wold:c1_e13.5_mouse_limb_run4_template    polyadenylated mRNA   \n",
       "7  barbara-wold:c1_e13.5_mouse_limb_run8_template    polyadenylated mRNA   \n",
       "\n",
       "   depleted_in_term_name  nucleic_acid_starting_quantity  \\\n",
       "0                    NaN                             NaN   \n",
       "1                    NaN                             NaN   \n",
       "2                    NaN                             NaN   \n",
       "3                    NaN                             NaN   \n",
       "4                    NaN                             NaN   \n",
       "5                    NaN                             NaN   \n",
       "6                    NaN                             NaN   \n",
       "7                    NaN                             NaN   \n",
       "\n",
       "   nucleic_acid_starting_quantity_units size_range  lysis_method  \\\n",
       "0                                   NaN    493-662           NaN   \n",
       "1                                   NaN    309-365           NaN   \n",
       "2                                   NaN    472-554           NaN   \n",
       "3                                   NaN    287-347           NaN   \n",
       "4                                   NaN    244-301           NaN   \n",
       "5                                   NaN    425-519           NaN   \n",
       "6                                   NaN    452-516           NaN   \n",
       "7                                   NaN    387-466           NaN   \n",
       "\n",
       "                         ...                          extraction_method  \\\n",
       "0                        ...                                        NaN   \n",
       "1                        ...                                        NaN   \n",
       "2                        ...                                        NaN   \n",
       "3                        ...                                        NaN   \n",
       "4                        ...                                        NaN   \n",
       "5                        ...                                        NaN   \n",
       "6                        ...                                        NaN   \n",
       "7                        ...                                        NaN   \n",
       "\n",
       "   library_size_selection_method  treatments  strand_specificity:boolean  \\\n",
       "0                            NaN         NaN                         NaN   \n",
       "1                            NaN         NaN                         NaN   \n",
       "2                            NaN         NaN                         NaN   \n",
       "3                            NaN         NaN                         NaN   \n",
       "4                            NaN         NaN                         NaN   \n",
       "5                            NaN         NaN                         NaN   \n",
       "6                            NaN         NaN                         NaN   \n",
       "7                            NaN         NaN                         NaN   \n",
       "\n",
       "         spikeins_used:array spike in pool:skip  \\\n",
       "0  barbara-wold:profile_C1_2                NaN   \n",
       "1  barbara-wold:profile_C1_1                NaN   \n",
       "2  barbara-wold:profile_C1_3                NaN   \n",
       "3  barbara-wold:profile_C1_3                NaN   \n",
       "4  barbara-wold:profile_C1_3                NaN   \n",
       "5  barbara-wold:profile_C1_3                NaN   \n",
       "6  barbara-wold:profile_C1_3                NaN   \n",
       "7  barbara-wold:profile_C1_3                NaN   \n",
       "\n",
       "                     documents:array           lab        award  \\\n",
       "0  barbara-wold:smarter-ulta-low-pdf  barbara-wold  UM1HG009443   \n",
       "1  barbara-wold:smarter-ulta-low-pdf  barbara-wold  UM1HG009443   \n",
       "2  barbara-wold:smarter-ulta-low-pdf  barbara-wold  UM1HG009443   \n",
       "3  barbara-wold:smarter-ulta-low-pdf  barbara-wold  UM1HG009443   \n",
       "4  barbara-wold:smarter-ulta-low-pdf  barbara-wold  UM1HG009443   \n",
       "5  barbara-wold:smarter-ulta-low-pdf  barbara-wold  UM1HG009443   \n",
       "6  barbara-wold:smarter-ulta-low-pdf  barbara-wold  UM1HG009443   \n",
       "7  barbara-wold:smarter-ulta-low-pdf  barbara-wold  UM1HG009443   \n",
       "\n",
       "                                barcode_details:json  \n",
       "0  [{\"barcode\": \"CGAGGCTGGCGTAAGA\", \"plate_id\": \"...  \n",
       "1  [{\"barcode\": \"TAAGGCGAGCGTAAGA\", \"plate_id\": \"...  \n",
       "2  [{\"barcode\": \"TAAGGCGAACTGCATA\", \"plate_id\": \"...  \n",
       "3  [{\"barcode\": \"TAAGGCGAGCGTAAGA\", \"plate_id\": \"...  \n",
       "4  [{\"barcode\": \"CGATCAGTTCGACTAG\", \"plate_id\": \"...  \n",
       "5  [{\"barcode\": \"ACTCGCTATCGACTAG\", \"plate_id\": \"...  \n",
       "6  [{\"barcode\": \"TAAGGCGAGCGTAAGA\", \"plate_id\": \"...  \n",
       "7  [{\"barcode\": \"ACTCGCTACTCTCTAT\", \"plate_id\": \"...  \n",
       "\n",
       "[8 rows x 21 columns]"
      ]
     },
     "execution_count": 21,
     "metadata": {},
     "output_type": "execute_result"
    }
   ],
   "source": [
    "libraries"
   ]
  },
  {
   "cell_type": "code",
   "execution_count": 22,
   "metadata": {},
   "outputs": [],
   "source": [
    "def get_size_range(library_ids):\n",
    "    sizes = []\n",
    "    for library_id in library_ids:\n",
    "        g = Graph()\n",
    "        g.parse('https://jumpgate.caltech.edu/library/{}/'.format(library_id), format='rdfa')\n",
    "        for row in g.subject_objects(URIRef('http://jumpgate.caltech.edu/wiki/LibraryOntology#insert_size')):\n",
    "            subject, value = row\n",
    "            #print(subject, value)\n",
    "            sizes.append(value.toPython())\n",
    "    return (min(sizes), max(sizes))\n",
    "    "
   ]
  },
  {
   "cell_type": "code",
   "execution_count": 23,
   "metadata": {},
   "outputs": [
    {
     "name": "stdout",
     "output_type": "stream",
     "text": [
      "nan 493-662\n",
      "nan 309-365\n",
      "nan 472-554\n",
      "nan 287-347\n",
      "nan 244-301\n",
      "nan 425-519\n",
      "nan 452-516\n",
      "nan 387-466\n"
     ]
    }
   ],
   "source": [
    "for i, row in libraries[['library_accession', 'barcode_details:json']].iterrows():\n",
    "    library_ids = set()\n",
    "    for cell in json.loads(row['barcode_details:json']):\n",
    "        library_ids.add(cell['plate_id'])\n",
    "    #print(library_ids)\n",
    "    low, high = get_size_range(library_ids)\n",
    "    print(row.library_accession, '{}-{}'.format(low, high))"
   ]
  },
  {
   "cell_type": "code",
   "execution_count": null,
   "metadata": {},
   "outputs": [],
   "source": []
  }
 ],
 "metadata": {
  "kernelspec": {
   "display_name": "Python 3",
   "language": "python",
   "name": "python3"
  },
  "language_info": {
   "codemirror_mode": {
    "name": "ipython",
    "version": 3
   },
   "file_extension": ".py",
   "mimetype": "text/x-python",
   "name": "python",
   "nbconvert_exporter": "python",
   "pygments_lexer": "ipython3",
   "version": "3.9.2"
  }
 },
 "nbformat": 4,
 "nbformat_minor": 1
}
