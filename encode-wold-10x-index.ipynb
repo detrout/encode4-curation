{
 "cells": [
  {
   "cell_type": "markdown",
   "metadata": {},
   "source": [
    "Preparing to submit wold stranded samples....\n",
    "\n",
    "This got a little messy because a couple libraries needed a top up."
   ]
  },
  {
   "cell_type": "code",
   "execution_count": 1,
   "metadata": {},
   "outputs": [],
   "source": [
    "import os\n",
    "import sys\n",
    "import requests\n",
    "import pandas\n",
    "import paramiko\n",
    "import json\n",
    "from IPython import display\n",
    "from pathlib import Path"
   ]
  },
  {
   "cell_type": "code",
   "execution_count": 2,
   "metadata": {},
   "outputs": [],
   "source": [
    "from curation_common import *\n",
    "from htsworkflow.submission.encoded import DCCValidator"
   ]
  },
  {
   "cell_type": "code",
   "execution_count": 3,
   "metadata": {},
   "outputs": [],
   "source": [
    "from htsworkflow.submission.encoded import Document\n",
    "from htsworkflow.submission.aws_submission import run_aws_cp"
   ]
  },
  {
   "cell_type": "code",
   "execution_count": 4,
   "metadata": {},
   "outputs": [],
   "source": [
    "GCATDIR = os.path.expanduser('~/src/gcat')\n",
    "if GCATDIR not in sys.path:\n",
    "    sys.path.append(GCATDIR)\n",
    "    import gcat"
   ]
  },
  {
   "cell_type": "code",
   "execution_count": 5,
   "metadata": {},
   "outputs": [],
   "source": [
    "# live server & control file\n",
    "server = ENCODED('www.encodeproject.org')\n",
    "spreadsheet_name = '10X Wold Submission objects'\n",
    "engine=None\n",
    "#engine='odf'\n",
    "\n",
    "# test server & datafile\n",
    "#server = ENCODED('test.encodedcc.org')\n",
    "#spreadsheet_name = os.path.expanduser('~diane/woldlab/ENCODE/C1-encode3-limb-2017-testserver.ods')\n",
    "\n",
    "server.load_netrc()\n",
    "validator = DCCValidator(server)"
   ]
  },
  {
   "cell_type": "code",
   "execution_count": 6,
   "metadata": {},
   "outputs": [],
   "source": [
    "award = 'UM1HG009443'"
   ]
  },
  {
   "cell_type": "markdown",
   "metadata": {},
   "source": [
    "# Submit Documents"
   ]
  },
  {
   "cell_type": "code",
   "execution_count": 7,
   "metadata": {},
   "outputs": [
    {
     "name": "stdout",
     "output_type": "stream",
     "text": [
      "/documents/aca954d8-6133-428c-8b4a-2172dfa4066b/\n"
     ]
    }
   ],
   "source": [
    "cellranger_uuid = '/documents/aca954d8-6133-428c-8b4a-2172dfa4066b/'\n",
    "cellranger = Document(\n",
    "    os.path.expanduser('~/woldlab/ENCODE/cellranger_mkref.pdf'),\n",
    "    'pipeline protocol',\n",
    "    'Cell Ranger index building',\n",
    ")\n",
    "body = cellranger.create_if_needed(server, cellranger_uuid, validator)\n",
    "if '@graph' in body:\n",
    "    print(body['@graph'][0]['@id']) \n",
    "else:\n",
    "    print(body['@id'])"
   ]
  },
  {
   "cell_type": "markdown",
   "metadata": {},
   "source": [
    "# Register Reference"
   ]
  },
  {
   "cell_type": "code",
   "execution_count": 25,
   "metadata": {},
   "outputs": [
    {
     "name": "stdout",
     "output_type": "stream",
     "text": [
      "Reponse {'status': 'success', '@type': ['result'], '@graph': [{'schema_version': '19', 'related_files': [], 'documents': ['/documents/2297237f-dfb0-424d-a386-c350ffe8dbe3/'], 'accession': 'ENCSR125TRU', 'alternate_accessions': [], 'description': 'cellranger indexed reference files with the ERCC spikeins', 'dbxrefs': [], 'internal_tags': [], 'status': 'in progress', 'references': [], 'date_created': '2020-11-04T19:06:41.484665+00:00', 'submitted_by': '/users/bc5b62f7-ce28-4a1e-b6b3-81c9c5a86d7a/', 'lab': '/labs/barbara-wold/', 'award': '/awards/UM1HG009443/', 'aliases': [], 'reference_type': 'index', 'organism': '/organisms/mouse/', 'software_used': ['/software-versions/69416c05-7689-4846-9ad4-b1bacc15e8a5/'], '@id': '/references/ENCSR125TRU/', '@type': ['Reference', 'FileSet', 'Dataset', 'Item'], 'uuid': 'dbf6997f-ff4d-4f46-81a7-79253205eb88', 'original_files': [], 'contributing_files': [], 'files': [], 'revoked_files': [], 'assembly': []}]}\n",
      "row 0 created: ENCSR125TRU\n",
      "1\n"
     ]
    }
   ],
   "source": [
    "book = gcat.get_file(spreadsheet_name, fmt='pandas_excel')\n",
    "references = book.parse('Reference', header=0)\n",
    "created = server.post_sheet('/references/', \n",
    "                            references, \n",
    "                            verbose=True, \n",
    "                            dry_run=False,  \n",
    "                            validator=validator)\n",
    "print(len(created))"
   ]
  },
  {
   "cell_type": "code",
   "execution_count": 28,
   "metadata": {},
   "outputs": [
    {
     "data": {
      "text/plain": [
       "('/references/ENCSR125TRU/', 'dbf6997f-ff4d-4f46-81a7-79253205eb88')"
      ]
     },
     "execution_count": 28,
     "metadata": {},
     "output_type": "execute_result"
    }
   ],
   "source": [
    "created[0]['@id'], created[0]['uuid']"
   ]
  },
  {
   "cell_type": "markdown",
   "metadata": {},
   "source": [
    "# Register Libraries"
   ]
  },
  {
   "cell_type": "code",
   "execution_count": null,
   "metadata": {
    "scrolled": false
   },
   "outputs": [],
   "source": [
    "print(spreadsheet_name)\n",
    "libraries = pandas.read_excel(spreadsheet_name, sheet_name='Library', header=0, engine=engine)\n",
    "created = server.post_sheet('/libraries/', \n",
    "                            libraries, \n",
    "                            verbose=True, \n",
    "                            dry_run=True, \n",
    "                            validator=validator)\n",
    "print(len(created))"
   ]
  },
  {
   "cell_type": "code",
   "execution_count": null,
   "metadata": {},
   "outputs": [],
   "source": [
    "if created:\n",
    "    libraries.to_excel('/dev/shm/libraries.xlsx', index=False)"
   ]
  },
  {
   "cell_type": "markdown",
   "metadata": {},
   "source": [
    "# Register Experiments"
   ]
  },
  {
   "cell_type": "code",
   "execution_count": null,
   "metadata": {
    "scrolled": false
   },
   "outputs": [],
   "source": [
    "print(server.server)\n",
    "experiments = pandas.read_excel(spreadsheet_name, sheet_name='Experiment', header=0, engine=engine)\n",
    "experiments = experiments[experiments['accession'] != 'barbara approval needed']\n",
    "created = server.post_sheet('/experiments/', \n",
    "                            experiments, \n",
    "                            verbose=True, \n",
    "                            dry_run=True, \n",
    "                            validator=validator)\n",
    "print(len(created))"
   ]
  },
  {
   "cell_type": "code",
   "execution_count": null,
   "metadata": {},
   "outputs": [],
   "source": [
    "if created:\n",
    "    experiments.to_excel('/dev/shm/experiments.xlsx', index=False)"
   ]
  },
  {
   "cell_type": "markdown",
   "metadata": {},
   "source": [
    "# Register Replicates"
   ]
  },
  {
   "cell_type": "markdown",
   "metadata": {},
   "source": [
    "# Check Reference Files"
   ]
  },
  {
   "cell_type": "code",
   "execution_count": 36,
   "metadata": {},
   "outputs": [
    {
     "name": "stdout",
     "output_type": "stream",
     "text": [
      "1\n"
     ]
    }
   ],
   "source": [
    "book = gcat.get_file(spreadsheet_name, fmt='pandas_excel')\n",
    "files = book.parse('ReferenceFile', header=0)\n",
    "created = server.post_sheet('/files/', files, \n",
    "                            verbose=True, \n",
    "                            dry_run=True, \n",
    "                            validator=validator)\n",
    "print(len(created))"
   ]
  },
  {
   "cell_type": "code",
   "execution_count": null,
   "metadata": {},
   "outputs": [],
   "source": []
  }
 ],
 "metadata": {
  "kernelspec": {
   "display_name": "Python 3",
   "language": "python",
   "name": "python3"
  },
  "language_info": {
   "codemirror_mode": {
    "name": "ipython",
    "version": 3
   },
   "file_extension": ".py",
   "mimetype": "text/x-python",
   "name": "python",
   "nbconvert_exporter": "python",
   "pygments_lexer": "ipython3",
   "version": "3.8.6"
  }
 },
 "nbformat": 4,
 "nbformat_minor": 1
}
