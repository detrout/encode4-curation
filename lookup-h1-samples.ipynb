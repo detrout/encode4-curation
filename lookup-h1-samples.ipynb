{
 "cells": [
  {
   "cell_type": "markdown",
   "metadata": {},
   "source": [
    "Look up samples that are missing institutional certifications"
   ]
  },
  {
   "cell_type": "code",
   "execution_count": 1,
   "metadata": {},
   "outputs": [],
   "source": [
    "import pandas\n",
    "import os\n",
    "import sys"
   ]
  },
  {
   "cell_type": "code",
   "execution_count": 2,
   "metadata": {},
   "outputs": [],
   "source": [
    "HTSW=os.path.expanduser('~/proj/htsworkflow')\n",
    "if HTSW not in sys.path:\n",
    "    sys.path.append(HTSW)\n",
    "from htsworkflow.submission import encoded"
   ]
  },
  {
   "cell_type": "code",
   "execution_count": 3,
   "metadata": {},
   "outputs": [],
   "source": [
    "server = encoded.ENCODED('www.encodeproject.org')\n",
    "server.load_netrc()"
   ]
  },
  {
   "cell_type": "code",
   "execution_count": null,
   "metadata": {},
   "outputs": [],
   "source": []
  },
  {
   "cell_type": "code",
   "execution_count": 4,
   "metadata": {},
   "outputs": [],
   "source": [
    "biosamples = [\n",
    "    'ENCBS584QDY',\n",
    "    'ENCBS287SWH',\n",
    "    'ENCBS719XQC',\n",
    "    'ENCBS017VBO',\n",
    "    'ENCBS360LED',\n",
    "    'ENCBS251IOF'\n",
    "]"
   ]
  },
  {
   "cell_type": "code",
   "execution_count": 9,
   "metadata": {},
   "outputs": [
    {
     "name": "stdout",
     "output_type": "stream",
     "text": [
      "ENCBS584QDY ['job-dekker:H1_hESC_tube4']\n",
      "ENCBS287SWH ['job-dekker:H1_hESC_tube5']\n",
      "ENCBS719XQC ['job-dekker:H1_hESC_tube6']\n",
      "ENCBS017VBO ['job-dekker:H1_Endoderm_tube4']\n",
      "ENCBS360LED ['job-dekker:H1_Endoderm_tube5']\n",
      "ENCBS251IOF ['job-dekker:H1_Endoderm_tube6']\n"
     ]
    }
   ],
   "source": [
    "for accession in biosamples:\n",
    "    #search = server.search_jsonld(searchTerm=accession)\n",
    "    biosample = server.get_json(accession)\n",
    "    print(accession, biosample['aliases'])\n",
    "    #obj = server.get_json(row['accession'])\n",
    "    #print(obj['accession'], obj['description'])\n",
    "    #for f in obj['files']:\n",
    "    #    print(row['accession'], f['submitted_file_name'])\n"
   ]
  },
  {
   "cell_type": "code",
   "execution_count": 5,
   "metadata": {},
   "outputs": [
    {
     "name": "stdout",
     "output_type": "stream",
     "text": [
      "ENCBS584QDY ENCSR895ZTB barbara-wold:h1_hesc_3 barbara-wold:22040 barbara-wold:22039\n",
      "ENCBS584QDY ENCSR588ZRK ali-mortazavi:H1-hESC-miRNAseq-ER ali-mortazavi:H1-hESC-miRNAseq-ENC4-106 ali-mortazavi:H1-hESC-miRNAseq-ENC4-105 ali-mortazavi:H1-hESC-miRNAseq-ENC4-104\n",
      "ENCBS287SWH ENCSR895ZTB barbara-wold:h1_hesc_3 barbara-wold:22040 barbara-wold:22039\n",
      "ENCBS287SWH ENCSR588ZRK ali-mortazavi:H1-hESC-miRNAseq-ER ali-mortazavi:H1-hESC-miRNAseq-ENC4-106 ali-mortazavi:H1-hESC-miRNAseq-ENC4-105 ali-mortazavi:H1-hESC-miRNAseq-ENC4-104\n",
      "ENCBS719XQC ENCSR712GOC barbara-wold:h1_hesc_12 barbara-wold:22041\n",
      "ENCBS719XQC ENCSR588ZRK ali-mortazavi:H1-hESC-miRNAseq-ER ali-mortazavi:H1-hESC-miRNAseq-ENC4-106 ali-mortazavi:H1-hESC-miRNAseq-ENC4-105 ali-mortazavi:H1-hESC-miRNAseq-ENC4-104\n",
      "ENCBS017VBO ENCSR820BMF ali-mortazavi:H1-endodermal-miRNAseq-ER ali-mortazavi:H1-endodermal-miRNAseq-ENC4-109 ali-mortazavi:H1-endodermal-miRNAseq-ENC4-108 ali-mortazavi:H1-endodermal-miRNAseq-ENC4-107\n",
      "ENCBS017VBO ENCSR559HWG barbara-wold:h1_endoderm_13 barbara-wold:22042 barbara-wold:22044 barbara-wold:22043\n",
      "ENCBS360LED ENCSR820BMF ali-mortazavi:H1-endodermal-miRNAseq-ER ali-mortazavi:H1-endodermal-miRNAseq-ENC4-109 ali-mortazavi:H1-endodermal-miRNAseq-ENC4-108 ali-mortazavi:H1-endodermal-miRNAseq-ENC4-107\n",
      "ENCBS360LED ENCSR559HWG barbara-wold:h1_endoderm_13 barbara-wold:22042 barbara-wold:22044 barbara-wold:22043\n",
      "ENCBS251IOF ENCSR820BMF ali-mortazavi:H1-endodermal-miRNAseq-ER ali-mortazavi:H1-endodermal-miRNAseq-ENC4-109 ali-mortazavi:H1-endodermal-miRNAseq-ENC4-108 ali-mortazavi:H1-endodermal-miRNAseq-ENC4-107\n",
      "ENCBS251IOF ENCSR559HWG barbara-wold:h1_endoderm_13 barbara-wold:22042 barbara-wold:22044 barbara-wold:22043\n"
     ]
    }
   ],
   "source": [
    "for accession in biosamples:\n",
    "    search = server.search_jsonld(searchTerm=accession)\n",
    "    biosample = server.get_json(accession)\n",
    "    for row in search['@graph']:\n",
    "        if 'Experiment' in row['@type']:\n",
    "            experiment = server.get_json(row['accession'])\n",
    "            aliases = []\n",
    "            aliases.extend(experiment['aliases'])\n",
    "            for replicates in experiment['replicates']:\n",
    "                library = replicates['library']\n",
    "                aliases.extend(library['aliases'])\n",
    "            print(accession, experiment['accession'], biosample['aliases'], ' '.join(aliases))\n",
    "    #obj = server.get_json(row['accession'])\n",
    "    #print(obj['accession'], obj['description'])\n",
    "    #for f in obj['files']:\n",
    "    #    print(row['accession'], f['submitted_file_name'])\n"
   ]
  },
  {
   "cell_type": "code",
   "execution_count": null,
   "metadata": {},
   "outputs": [],
   "source": []
  }
 ],
 "metadata": {
  "kernelspec": {
   "display_name": "Python 3",
   "language": "python",
   "name": "python3"
  },
  "language_info": {
   "codemirror_mode": {
    "name": "ipython",
    "version": 3
   },
   "file_extension": ".py",
   "mimetype": "text/x-python",
   "name": "python",
   "nbconvert_exporter": "python",
   "pygments_lexer": "ipython3",
   "version": "3.9.1+"
  }
 },
 "nbformat": 4,
 "nbformat_minor": 4
}
