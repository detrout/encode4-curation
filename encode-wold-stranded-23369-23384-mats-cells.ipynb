{
 "cells": [
  {
   "cell_type": "markdown",
   "metadata": {},
   "source": [
    "Preparing to submit wold stranded samples....\n",
    "\n",
    "This got a little messy because a couple libraries needed a top up."
   ]
  },
  {
   "cell_type": "code",
   "execution_count": 1,
   "metadata": {},
   "outputs": [],
   "source": [
    "import os\n",
    "import sys\n",
    "import requests\n",
    "import pandas\n",
    "import paramiko\n",
    "import json\n",
    "from IPython import display\n",
    "from pathlib import Path\n",
    "import configparser"
   ]
  },
  {
   "cell_type": "code",
   "execution_count": 2,
   "metadata": {},
   "outputs": [],
   "source": [
    "EC = str(Path('~/proj/encoded_client').expanduser())\n",
    "if EC not in sys.path:\n",
    "    sys.path.append(EC)\n",
    "\n",
    "from encoded_client.encoded import ENCODED, Document, typed_column_parser, DCCValidator"
   ]
  },
  {
   "cell_type": "code",
   "execution_count": 3,
   "metadata": {},
   "outputs": [],
   "source": [
    "HTSW = str(Path('~/proj/htsworkflow').expanduser())\n",
    "if HTSW not in sys.path:\n",
    "    sys.path.append(HTSW)"
   ]
  },
  {
   "cell_type": "code",
   "execution_count": 4,
   "metadata": {},
   "outputs": [],
   "source": [
    "\n",
    "from htsworkflow.submission.aws_submission import run_aws_cp\n",
    "from htsworkflow.util.api import (\n",
    "    add_auth_options,\n",
    "    make_auth_from_opts,\n",
    "    HtswApi,\n",
    ")"
   ]
  },
  {
   "cell_type": "code",
   "execution_count": null,
   "metadata": {},
   "outputs": [],
   "source": []
  },
  {
   "cell_type": "code",
   "execution_count": 5,
   "metadata": {},
   "outputs": [],
   "source": [
    "config = configparser.ConfigParser()\n",
    "config.read([os.path.expanduser('~/.htsworkflow.ini'),\n",
    "             '/etc/htsworkflow.ini'\n",
    "             ])\n",
    "\n",
    "SECTION = 'sequence_archive'\n",
    "if config.has_section(SECTION):\n",
    "    apiid = config.get(SECTION, 'apiid')\n",
    "    apikey = config.get(SECTION, 'apikey')\n",
    "    apihost = config.get(SECTION, 'host')\n",
    "\n",
    "apihost='http://jumpgate.caltech.edu'    \n",
    "auth = {'apiid': apiid, 'apikey': apikey }\n",
    "htsw = HtswApi(apihost, auth)"
   ]
  },
  {
   "cell_type": "code",
   "execution_count": 6,
   "metadata": {},
   "outputs": [],
   "source": [
    "# live server & control file\n",
    "server = ENCODED('www.encodeproject.org')\n",
    "spreadsheet_name = Path('~/woldlab/ENCODE/stranded-23369-23384-mats-cells.xlsx').expanduser()\n",
    "engine=None\n",
    "#engine='odf'\n",
    "\n",
    "# test server & datafile\n",
    "#server = ENCODED('test.encodedcc.org')\n",
    "#spreadsheet_name = os.path.expanduser('~diane/woldlab/ENCODE/C1-encode3-limb-2017-testserver.ods')\n",
    "\n",
    "server.load_netrc()\n",
    "validator = DCCValidator(server)"
   ]
  },
  {
   "cell_type": "code",
   "execution_count": 7,
   "metadata": {},
   "outputs": [],
   "source": [
    "award = 'UM1HG009443'"
   ]
  },
  {
   "cell_type": "markdown",
   "metadata": {},
   "source": [
    "# Retrieve insert size"
   ]
  },
  {
   "cell_type": "code",
   "execution_count": 8,
   "metadata": {},
   "outputs": [
    {
     "name": "stdout",
     "output_type": "stream",
     "text": [
      "/home/diane/woldlab/ENCODE/stranded-23369-23384-mats-cells.xlsx\n",
      "23369 254 254\n",
      "23370 228 228\n",
      "23371 257 257\n",
      "23372 252 252\n",
      "23373 260 260\n",
      "23374 258 258\n",
      "23375 259 259\n",
      "23376 255 255\n",
      "23380 252 252\n",
      "23381 257 257\n",
      "23382 251 251\n",
      "23383 255 255\n",
      "23384 245 245\n",
      "23377 247 247\n",
      "23378 254 254\n",
      "23379 249 249\n"
     ]
    }
   ],
   "source": [
    "print(spreadsheet_name)\n",
    "libraries = pandas.read_excel(spreadsheet_name, sheet_name='Library', header=0, engine=engine)\n",
    "for i, row in libraries.iterrows():\n",
    "    accession = row['accession']\n",
    "    alias = row['aliases:array']\n",
    "    fragment = row['average_fragment_size:integer']\n",
    "    library_id = alias[len('barbara-wold:'):]\n",
    "    jumpgate_info = htsw.get_library(library_id)\n",
    "    print(library_id, fragment, jumpgate_info['insert_size'])\n",
    "        #if jumpgate_info['insert_size'] != dcc_info.get('average_fragment_size'):\n",
    "        #    server.patch_json(dcc_info['@id'], {'average_fragment_size': int(jumpgate_info['insert_size'])})"
   ]
  },
  {
   "cell_type": "markdown",
   "metadata": {},
   "source": [
    "# Lookup biosample ontologies"
   ]
  },
  {
   "cell_type": "markdown",
   "metadata": {},
   "source": [
    "Lookup any biosample ontologies that are already present"
   ]
  },
  {
   "cell_type": "code",
   "execution_count": 15,
   "metadata": {
    "scrolled": false
   },
   "outputs": [
    {
     "data": {
      "text/html": [
       "<div>\n",
       "<style scoped>\n",
       "    .dataframe tbody tr th:only-of-type {\n",
       "        vertical-align: middle;\n",
       "    }\n",
       "\n",
       "    .dataframe tbody tr th {\n",
       "        vertical-align: top;\n",
       "    }\n",
       "\n",
       "    .dataframe thead th {\n",
       "        text-align: right;\n",
       "    }\n",
       "</style>\n",
       "<table border=\"1\" class=\"dataframe\">\n",
       "  <thead>\n",
       "    <tr style=\"text-align: right;\">\n",
       "      <th></th>\n",
       "      <th>uuid</th>\n",
       "      <th>accession</th>\n",
       "      <th>aliases:array</th>\n",
       "      <th>biosample_ontology</th>\n",
       "      <th>biosample_term_name:skip</th>\n",
       "      <th>description</th>\n",
       "      <th>library_id:skip</th>\n",
       "      <th>cDNA_sample:skip</th>\n",
       "      <th>organism</th>\n",
       "      <th>source</th>\n",
       "      <th>lab</th>\n",
       "      <th>award</th>\n",
       "      <th>donor</th>\n",
       "      <th>nih_institute_certification</th>\n",
       "    </tr>\n",
       "  </thead>\n",
       "  <tbody>\n",
       "    <tr>\n",
       "      <th>0</th>\n",
       "      <td>NaN</td>\n",
       "      <td>ENCBS511ZVG</td>\n",
       "      <td>barbara-wold:ENC4_cDNA613</td>\n",
       "      <td>/biosample-types/cell_line_EFO_0002847/</td>\n",
       "      <td>PC-9</td>\n",
       "      <td>PC-9 rep1_ENC4_cDNA613</td>\n",
       "      <td>23369</td>\n",
       "      <td>ENC4_cDNA613</td>\n",
       "      <td>/organisms/human/</td>\n",
       "      <td>/sources/sigma/</td>\n",
       "      <td>barbara-wold</td>\n",
       "      <td>UM1HG009443</td>\n",
       "      <td>/human-donors/ENCDO647UHQ/</td>\n",
       "      <td>NIC00015</td>\n",
       "    </tr>\n",
       "    <tr>\n",
       "      <th>1</th>\n",
       "      <td>NaN</td>\n",
       "      <td>ENCBS021NLC</td>\n",
       "      <td>barbara-wold:ENC4_cDNA614</td>\n",
       "      <td>/biosample-types/cell_line_EFO_0002847/</td>\n",
       "      <td>PC-9</td>\n",
       "      <td>PC-9 rep2_ENC4_cDNA614</td>\n",
       "      <td>23370</td>\n",
       "      <td>ENC4_cDNA614</td>\n",
       "      <td>/organisms/human/</td>\n",
       "      <td>/sources/sigma/</td>\n",
       "      <td>barbara-wold</td>\n",
       "      <td>UM1HG009443</td>\n",
       "      <td>/human-donors/ENCDO647UHQ/</td>\n",
       "      <td>NIC00015</td>\n",
       "    </tr>\n",
       "    <tr>\n",
       "      <th>2</th>\n",
       "      <td>NaN</td>\n",
       "      <td>ENCBS869GJQ</td>\n",
       "      <td>barbara-wold:ENC4_cDNA615</td>\n",
       "      <td>/biosample-types/cell_line_EFO_0006711/</td>\n",
       "      <td>OCI-LY7</td>\n",
       "      <td>OCI-LY7 rep1_ENC4_cDNA615</td>\n",
       "      <td>23371</td>\n",
       "      <td>ENC4_cDNA615</td>\n",
       "      <td>/organisms/human/</td>\n",
       "      <td>/sources/dsmz/</td>\n",
       "      <td>barbara-wold</td>\n",
       "      <td>UM1HG009443</td>\n",
       "      <td>/human-donors/ENCDO351AAA/</td>\n",
       "      <td>NaN</td>\n",
       "    </tr>\n",
       "    <tr>\n",
       "      <th>3</th>\n",
       "      <td>NaN</td>\n",
       "      <td>ENCBS112SEO</td>\n",
       "      <td>barbara-wold:ENC4_cDNA616</td>\n",
       "      <td>/biosample-types/cell_line_EFO_0006711/</td>\n",
       "      <td>OCI-LY7</td>\n",
       "      <td>OCI-LY7 rep2_ENC4_cDNA616</td>\n",
       "      <td>23372</td>\n",
       "      <td>ENC4_cDNA616</td>\n",
       "      <td>/organisms/human/</td>\n",
       "      <td>/sources/dsmz/</td>\n",
       "      <td>barbara-wold</td>\n",
       "      <td>UM1HG009443</td>\n",
       "      <td>/human-donors/ENCDO351AAA/</td>\n",
       "      <td>NaN</td>\n",
       "    </tr>\n",
       "    <tr>\n",
       "      <th>4</th>\n",
       "      <td>NaN</td>\n",
       "      <td>ENCBS820SXP</td>\n",
       "      <td>barbara-wold:ENC4_cDNA617</td>\n",
       "      <td>/biosample-types/primary_cell_CL_0002618/</td>\n",
       "      <td>endothelial cell of umbilical vein</td>\n",
       "      <td>HUVEC rep1_ENC4_cDNA617</td>\n",
       "      <td>23373</td>\n",
       "      <td>ENC4_cDNA617</td>\n",
       "      <td>/organisms/human/</td>\n",
       "      <td>/sources/lonza/</td>\n",
       "      <td>barbara-wold</td>\n",
       "      <td>UM1HG009443</td>\n",
       "      <td>/human-donors/ENCDO000AAS/</td>\n",
       "      <td>NIC00044</td>\n",
       "    </tr>\n",
       "    <tr>\n",
       "      <th>5</th>\n",
       "      <td>NaN</td>\n",
       "      <td>ENCBS023JCN</td>\n",
       "      <td>barbara-wold:ENC4_cDNA618</td>\n",
       "      <td>/biosample-types/primary_cell_CL_0002618/</td>\n",
       "      <td>endothelial cell of umbilical vein</td>\n",
       "      <td>HUVEC rep2_ENC4_cDNA618</td>\n",
       "      <td>23374</td>\n",
       "      <td>ENC4_cDNA618</td>\n",
       "      <td>/organisms/human/</td>\n",
       "      <td>/sources/lonza/</td>\n",
       "      <td>barbara-wold</td>\n",
       "      <td>UM1HG009443</td>\n",
       "      <td>/human-donors/ENCDO000AAS/</td>\n",
       "      <td>NIC00044</td>\n",
       "    </tr>\n",
       "    <tr>\n",
       "      <th>6</th>\n",
       "      <td>NaN</td>\n",
       "      <td>ENCBS996RLF</td>\n",
       "      <td>barbara-wold:ENC4_cDNA619</td>\n",
       "      <td>/biosample-types/primary_cell_CL_0002327/</td>\n",
       "      <td>mammary epithelial cell</td>\n",
       "      <td>HMEC rep1_ENC4_cDNA619</td>\n",
       "      <td>23375</td>\n",
       "      <td>ENC4_cDNA619</td>\n",
       "      <td>/organisms/human/</td>\n",
       "      <td>/sources/lonza/</td>\n",
       "      <td>barbara-wold</td>\n",
       "      <td>UM1HG009443</td>\n",
       "      <td>/human-donors/ENCDO343AAA/</td>\n",
       "      <td>NIC00044</td>\n",
       "    </tr>\n",
       "    <tr>\n",
       "      <th>7</th>\n",
       "      <td>NaN</td>\n",
       "      <td>ENCBS710VQU</td>\n",
       "      <td>barbara-wold:ENC4_cDNA620</td>\n",
       "      <td>/biosample-types/primary_cell_CL_0002327/</td>\n",
       "      <td>mammary epithelial cell</td>\n",
       "      <td>HMEC rep2_ENC4_cDNA620</td>\n",
       "      <td>23376</td>\n",
       "      <td>ENC4_cDNA620</td>\n",
       "      <td>/organisms/human/</td>\n",
       "      <td>/sources/lonza/</td>\n",
       "      <td>barbara-wold</td>\n",
       "      <td>UM1HG009443</td>\n",
       "      <td>/human-donors/ENCDO343AAA/</td>\n",
       "      <td>NIC00044</td>\n",
       "    </tr>\n",
       "    <tr>\n",
       "      <th>8</th>\n",
       "      <td>NaN</td>\n",
       "      <td>ENCBS020DQC</td>\n",
       "      <td>barbara-wold:ENC4_cDNA624</td>\n",
       "      <td>/biosample-types/cell_line_EFO_0001099/</td>\n",
       "      <td>Caco-2</td>\n",
       "      <td>Caco-2 rep2_ENC4_cDNA624</td>\n",
       "      <td>23380</td>\n",
       "      <td>ENC4_cDNA624</td>\n",
       "      <td>/organisms/human/</td>\n",
       "      <td>/sources/atcc/</td>\n",
       "      <td>barbara-wold</td>\n",
       "      <td>UM1HG009443</td>\n",
       "      <td>/human-donors/ENCDO000ACR/</td>\n",
       "      <td>NaN</td>\n",
       "    </tr>\n",
       "    <tr>\n",
       "      <th>9</th>\n",
       "      <td>NaN</td>\n",
       "      <td>ENCBS961BBX</td>\n",
       "      <td>barbara-wold:ENC4_cDNA625</td>\n",
       "      <td>/biosample-types/cell_line_EFO_0002819/</td>\n",
       "      <td>Calu3</td>\n",
       "      <td>Calu3 rep1_ENC4_cDNA625</td>\n",
       "      <td>23381</td>\n",
       "      <td>ENC4_cDNA625</td>\n",
       "      <td>/organisms/human/</td>\n",
       "      <td>/sources/atcc/</td>\n",
       "      <td>barbara-wold</td>\n",
       "      <td>UM1HG009443</td>\n",
       "      <td>/human-donors/ENCDO109DGE/</td>\n",
       "      <td>NaN</td>\n",
       "    </tr>\n",
       "    <tr>\n",
       "      <th>10</th>\n",
       "      <td>NaN</td>\n",
       "      <td>ENCBS806IYJ</td>\n",
       "      <td>barbara-wold:ENC4_cDNA626</td>\n",
       "      <td>/biosample-types/cell_line_EFO_0002819/</td>\n",
       "      <td>Calu3</td>\n",
       "      <td>Calu3 rep2_ENC4_cDNA626</td>\n",
       "      <td>23382</td>\n",
       "      <td>ENC4_cDNA626</td>\n",
       "      <td>/organisms/human/</td>\n",
       "      <td>/sources/atcc/</td>\n",
       "      <td>barbara-wold</td>\n",
       "      <td>UM1HG009443</td>\n",
       "      <td>/human-donors/ENCDO109DGE/</td>\n",
       "      <td>NaN</td>\n",
       "    </tr>\n",
       "    <tr>\n",
       "      <th>11</th>\n",
       "      <td>NaN</td>\n",
       "      <td>ENCBS534SPQ</td>\n",
       "      <td>barbara-wold:ENC4_cDNA627</td>\n",
       "      <td>/biosample-types/cell_line_EFO_0001200/</td>\n",
       "      <td>MCF 10A</td>\n",
       "      <td>MCF 10A rep1_ENC4_cDNA627</td>\n",
       "      <td>23383</td>\n",
       "      <td>ENC4_cDNA627</td>\n",
       "      <td>/organisms/human/</td>\n",
       "      <td>/sources/atcc/</td>\n",
       "      <td>barbara-wold</td>\n",
       "      <td>UM1HG009443</td>\n",
       "      <td>/human-donors/ENCDO000AAP/</td>\n",
       "      <td>NaN</td>\n",
       "    </tr>\n",
       "    <tr>\n",
       "      <th>12</th>\n",
       "      <td>NaN</td>\n",
       "      <td>ENCBS863SFU</td>\n",
       "      <td>barbara-wold:ENC4_cDNA628</td>\n",
       "      <td>/biosample-types/cell_line_EFO_0001200/</td>\n",
       "      <td>MCF 10A</td>\n",
       "      <td>MCF 10A rep2_ENC4_cDNA628</td>\n",
       "      <td>23384</td>\n",
       "      <td>ENC4_cDNA628</td>\n",
       "      <td>/organisms/human/</td>\n",
       "      <td>/sources/atcc/</td>\n",
       "      <td>barbara-wold</td>\n",
       "      <td>UM1HG009443</td>\n",
       "      <td>/human-donors/ENCDO000AAP/</td>\n",
       "      <td>NaN</td>\n",
       "    </tr>\n",
       "    <tr>\n",
       "      <th>13</th>\n",
       "      <td>NaN</td>\n",
       "      <td>ENCBS119CST</td>\n",
       "      <td>barbara-wold:ENC4_cDNA621</td>\n",
       "      <td>/biosample-types/cell_line_EFO_0002106/</td>\n",
       "      <td>A673</td>\n",
       "      <td>A673 rep1_ENC4_cDNA621</td>\n",
       "      <td>23377</td>\n",
       "      <td>ENC4_cDNA621</td>\n",
       "      <td>/organisms/human/</td>\n",
       "      <td>/sources/atcc/</td>\n",
       "      <td>barbara-wold</td>\n",
       "      <td>UM1HG009443</td>\n",
       "      <td>/human-donors/ENCDO027VXA/</td>\n",
       "      <td>NIC00044</td>\n",
       "    </tr>\n",
       "    <tr>\n",
       "      <th>14</th>\n",
       "      <td>NaN</td>\n",
       "      <td>ENCBS060KJN</td>\n",
       "      <td>barbara-wold:ENC4_cDNA622</td>\n",
       "      <td>/biosample-types/cell_line_EFO_0002106/</td>\n",
       "      <td>A673</td>\n",
       "      <td>A673 rep2_ENC4_cDNA622</td>\n",
       "      <td>23378</td>\n",
       "      <td>ENC4_cDNA622</td>\n",
       "      <td>/organisms/human/</td>\n",
       "      <td>/sources/atcc/</td>\n",
       "      <td>barbara-wold</td>\n",
       "      <td>UM1HG009443</td>\n",
       "      <td>/human-donors/ENCDO027VXA/</td>\n",
       "      <td>NIC00044</td>\n",
       "    </tr>\n",
       "    <tr>\n",
       "      <th>15</th>\n",
       "      <td>NaN</td>\n",
       "      <td>ENCBS075YII</td>\n",
       "      <td>barbara-wold:ENC4_cDNA623</td>\n",
       "      <td>/biosample-types/cell_line_EFO_0001099/</td>\n",
       "      <td>Caco-2</td>\n",
       "      <td>Caco-2 rep1_ENC4_cDNA623</td>\n",
       "      <td>23379</td>\n",
       "      <td>ENC4_cDNA623</td>\n",
       "      <td>/organisms/human/</td>\n",
       "      <td>/sources/atcc/</td>\n",
       "      <td>barbara-wold</td>\n",
       "      <td>UM1HG009443</td>\n",
       "      <td>/human-donors/ENCDO000ACR/</td>\n",
       "      <td>NaN</td>\n",
       "    </tr>\n",
       "  </tbody>\n",
       "</table>\n",
       "</div>"
      ],
      "text/plain": [
       "    uuid    accession              aliases:array  \\\n",
       "0    NaN  ENCBS511ZVG  barbara-wold:ENC4_cDNA613   \n",
       "1    NaN  ENCBS021NLC  barbara-wold:ENC4_cDNA614   \n",
       "2    NaN  ENCBS869GJQ  barbara-wold:ENC4_cDNA615   \n",
       "3    NaN  ENCBS112SEO  barbara-wold:ENC4_cDNA616   \n",
       "4    NaN  ENCBS820SXP  barbara-wold:ENC4_cDNA617   \n",
       "5    NaN  ENCBS023JCN  barbara-wold:ENC4_cDNA618   \n",
       "6    NaN  ENCBS996RLF  barbara-wold:ENC4_cDNA619   \n",
       "7    NaN  ENCBS710VQU  barbara-wold:ENC4_cDNA620   \n",
       "8    NaN  ENCBS020DQC  barbara-wold:ENC4_cDNA624   \n",
       "9    NaN  ENCBS961BBX  barbara-wold:ENC4_cDNA625   \n",
       "10   NaN  ENCBS806IYJ  barbara-wold:ENC4_cDNA626   \n",
       "11   NaN  ENCBS534SPQ  barbara-wold:ENC4_cDNA627   \n",
       "12   NaN  ENCBS863SFU  barbara-wold:ENC4_cDNA628   \n",
       "13   NaN  ENCBS119CST  barbara-wold:ENC4_cDNA621   \n",
       "14   NaN  ENCBS060KJN  barbara-wold:ENC4_cDNA622   \n",
       "15   NaN  ENCBS075YII  barbara-wold:ENC4_cDNA623   \n",
       "\n",
       "                           biosample_ontology  \\\n",
       "0     /biosample-types/cell_line_EFO_0002847/   \n",
       "1     /biosample-types/cell_line_EFO_0002847/   \n",
       "2     /biosample-types/cell_line_EFO_0006711/   \n",
       "3     /biosample-types/cell_line_EFO_0006711/   \n",
       "4   /biosample-types/primary_cell_CL_0002618/   \n",
       "5   /biosample-types/primary_cell_CL_0002618/   \n",
       "6   /biosample-types/primary_cell_CL_0002327/   \n",
       "7   /biosample-types/primary_cell_CL_0002327/   \n",
       "8     /biosample-types/cell_line_EFO_0001099/   \n",
       "9     /biosample-types/cell_line_EFO_0002819/   \n",
       "10    /biosample-types/cell_line_EFO_0002819/   \n",
       "11    /biosample-types/cell_line_EFO_0001200/   \n",
       "12    /biosample-types/cell_line_EFO_0001200/   \n",
       "13    /biosample-types/cell_line_EFO_0002106/   \n",
       "14    /biosample-types/cell_line_EFO_0002106/   \n",
       "15    /biosample-types/cell_line_EFO_0001099/   \n",
       "\n",
       "              biosample_term_name:skip                description  \\\n",
       "0                                 PC-9     PC-9 rep1_ENC4_cDNA613   \n",
       "1                                 PC-9     PC-9 rep2_ENC4_cDNA614   \n",
       "2                              OCI-LY7  OCI-LY7 rep1_ENC4_cDNA615   \n",
       "3                              OCI-LY7  OCI-LY7 rep2_ENC4_cDNA616   \n",
       "4   endothelial cell of umbilical vein    HUVEC rep1_ENC4_cDNA617   \n",
       "5   endothelial cell of umbilical vein    HUVEC rep2_ENC4_cDNA618   \n",
       "6              mammary epithelial cell     HMEC rep1_ENC4_cDNA619   \n",
       "7              mammary epithelial cell     HMEC rep2_ENC4_cDNA620   \n",
       "8                               Caco-2   Caco-2 rep2_ENC4_cDNA624   \n",
       "9                                Calu3    Calu3 rep1_ENC4_cDNA625   \n",
       "10                               Calu3    Calu3 rep2_ENC4_cDNA626   \n",
       "11                             MCF 10A  MCF 10A rep1_ENC4_cDNA627   \n",
       "12                             MCF 10A  MCF 10A rep2_ENC4_cDNA628   \n",
       "13                                A673     A673 rep1_ENC4_cDNA621   \n",
       "14                                A673     A673 rep2_ENC4_cDNA622   \n",
       "15                              Caco-2   Caco-2 rep1_ENC4_cDNA623   \n",
       "\n",
       "    library_id:skip cDNA_sample:skip           organism           source  \\\n",
       "0             23369     ENC4_cDNA613  /organisms/human/  /sources/sigma/   \n",
       "1             23370     ENC4_cDNA614  /organisms/human/  /sources/sigma/   \n",
       "2             23371     ENC4_cDNA615  /organisms/human/   /sources/dsmz/   \n",
       "3             23372     ENC4_cDNA616  /organisms/human/   /sources/dsmz/   \n",
       "4             23373     ENC4_cDNA617  /organisms/human/  /sources/lonza/   \n",
       "5             23374     ENC4_cDNA618  /organisms/human/  /sources/lonza/   \n",
       "6             23375     ENC4_cDNA619  /organisms/human/  /sources/lonza/   \n",
       "7             23376     ENC4_cDNA620  /organisms/human/  /sources/lonza/   \n",
       "8             23380     ENC4_cDNA624  /organisms/human/   /sources/atcc/   \n",
       "9             23381     ENC4_cDNA625  /organisms/human/   /sources/atcc/   \n",
       "10            23382     ENC4_cDNA626  /organisms/human/   /sources/atcc/   \n",
       "11            23383     ENC4_cDNA627  /organisms/human/   /sources/atcc/   \n",
       "12            23384     ENC4_cDNA628  /organisms/human/   /sources/atcc/   \n",
       "13            23377     ENC4_cDNA621  /organisms/human/   /sources/atcc/   \n",
       "14            23378     ENC4_cDNA622  /organisms/human/   /sources/atcc/   \n",
       "15            23379     ENC4_cDNA623  /organisms/human/   /sources/atcc/   \n",
       "\n",
       "             lab        award                       donor  \\\n",
       "0   barbara-wold  UM1HG009443  /human-donors/ENCDO647UHQ/   \n",
       "1   barbara-wold  UM1HG009443  /human-donors/ENCDO647UHQ/   \n",
       "2   barbara-wold  UM1HG009443  /human-donors/ENCDO351AAA/   \n",
       "3   barbara-wold  UM1HG009443  /human-donors/ENCDO351AAA/   \n",
       "4   barbara-wold  UM1HG009443  /human-donors/ENCDO000AAS/   \n",
       "5   barbara-wold  UM1HG009443  /human-donors/ENCDO000AAS/   \n",
       "6   barbara-wold  UM1HG009443  /human-donors/ENCDO343AAA/   \n",
       "7   barbara-wold  UM1HG009443  /human-donors/ENCDO343AAA/   \n",
       "8   barbara-wold  UM1HG009443  /human-donors/ENCDO000ACR/   \n",
       "9   barbara-wold  UM1HG009443  /human-donors/ENCDO109DGE/   \n",
       "10  barbara-wold  UM1HG009443  /human-donors/ENCDO109DGE/   \n",
       "11  barbara-wold  UM1HG009443  /human-donors/ENCDO000AAP/   \n",
       "12  barbara-wold  UM1HG009443  /human-donors/ENCDO000AAP/   \n",
       "13  barbara-wold  UM1HG009443  /human-donors/ENCDO027VXA/   \n",
       "14  barbara-wold  UM1HG009443  /human-donors/ENCDO027VXA/   \n",
       "15  barbara-wold  UM1HG009443  /human-donors/ENCDO000ACR/   \n",
       "\n",
       "   nih_institute_certification  \n",
       "0                     NIC00015  \n",
       "1                     NIC00015  \n",
       "2                          NaN  \n",
       "3                          NaN  \n",
       "4                     NIC00044  \n",
       "5                     NIC00044  \n",
       "6                     NIC00044  \n",
       "7                     NIC00044  \n",
       "8                          NaN  \n",
       "9                          NaN  \n",
       "10                         NaN  \n",
       "11                         NaN  \n",
       "12                         NaN  \n",
       "13                    NIC00044  \n",
       "14                    NIC00044  \n",
       "15                         NaN  "
      ]
     },
     "execution_count": 15,
     "metadata": {},
     "output_type": "execute_result"
    }
   ],
   "source": [
    "biosample = pandas.read_excel(spreadsheet_name, sheet_name='Biosample', header=0, engine=engine)\n",
    "\n",
    "for i, row in biosample.iterrows():\n",
    "    if not pandas.isnull(row.accession) and row.accession.startswith('E'):\n",
    "        obj = server.get_json(row.accession)\n",
    "        biosample_ontology = obj['biosample_ontology']\n",
    "        if isinstance(biosample_ontology, dict):\n",
    "            biosample.loc[i, 'biosample_ontology'] = biosample_ontology['@id']\n",
    "            biosample.loc[i, 'biosample_term_name:skip'] = biosample_ontology['term_name']\n",
    "        biosample.loc[i, 'source'] = obj['source']['@id']\n",
    "        donor = obj['donor']\n",
    "        if isinstance(donor, dict):\n",
    "            biosample.loc[i, 'donor'] = donor['@id']\n",
    "            \n",
    "biosample"
   ]
  },
  {
   "cell_type": "code",
   "execution_count": 10,
   "metadata": {},
   "outputs": [],
   "source": [
    "#biosample.to_excel('/dev/shm/biosamples.xlsx', index=False)"
   ]
  },
  {
   "cell_type": "markdown",
   "metadata": {},
   "source": [
    "# Register Biosamples"
   ]
  },
  {
   "cell_type": "code",
   "execution_count": 17,
   "metadata": {
    "scrolled": true
   },
   "outputs": [
    {
     "name": "stdout",
     "output_type": "stream",
     "text": [
      "0\n"
     ]
    }
   ],
   "source": [
    "biosamples = pandas.read_excel(spreadsheet_name, sheet_name='Biosample', header=0, engine=engine)\n",
    "created = server.post_sheet('/biosamples/', biosamples, \n",
    "                            verbose=True, \n",
    "                            dry_run=True, \n",
    "                            validator=validator)\n",
    "print(len(created))"
   ]
  },
  {
   "cell_type": "code",
   "execution_count": null,
   "metadata": {},
   "outputs": [],
   "source": [
    "if created:\n",
    "    biosample.to_excel('/dev/shm/biosamples.xlsx', index=False)"
   ]
  },
  {
   "cell_type": "markdown",
   "metadata": {},
   "source": [
    "# Update biosample aliases"
   ]
  },
  {
   "cell_type": "code",
   "execution_count": null,
   "metadata": {},
   "outputs": [],
   "source": [
    "biosamples = pandas.read_excel(spreadsheet_name, sheet_name='Biosample', header=0, engine=engine)\n",
    "for i, row in biosamples.iterrows():\n",
    "    obj = server.get_json('/biosamples/{}/'.format(row.accession))\n",
    "    new_aliases = obj['aliases'].copy()\n",
    "    sheet_aliases = typed_column_parser('aliases:array', row['aliases:array'])[1]\n",
    "    for alias in sheet_aliases:\n",
    "        if alias not in obj['aliases']:\n",
    "            new_aliases.append(alias)\n",
    "    if len(new_aliases) > len(sheet_aliases):\n",
    "        print(\"Would update: {} {} -> {}\".format(row.accession, row['aliases:array'], new_aliases))"
   ]
  },
  {
   "cell_type": "code",
   "execution_count": null,
   "metadata": {},
   "outputs": [],
   "source": [
    "new_aliases, sheet_aliases"
   ]
  },
  {
   "cell_type": "markdown",
   "metadata": {},
   "source": [
    "# Register Libraries"
   ]
  },
  {
   "cell_type": "code",
   "execution_count": 18,
   "metadata": {
    "scrolled": false
   },
   "outputs": [
    {
     "name": "stdout",
     "output_type": "stream",
     "text": [
      "/home/diane/woldlab/ENCODE/stranded-23369-23384-mats-cells.xlsx\n",
      "16\n"
     ]
    }
   ],
   "source": [
    "print(spreadsheet_name)\n",
    "libraries = pandas.read_excel(spreadsheet_name, sheet_name='Library', header=0, engine=engine)\n",
    "created = server.post_sheet('/libraries/',\n",
    "                            libraries,\n",
    "                            verbose=True, \n",
    "                            dry_run=True, \n",
    "                            validator=validator)\n",
    "print(len(created))"
   ]
  },
  {
   "cell_type": "code",
   "execution_count": null,
   "metadata": {},
   "outputs": [],
   "source": [
    "if created:\n",
    "    libraries.to_excel('/dev/shm/libraries.xlsx', index=False)"
   ]
  },
  {
   "cell_type": "markdown",
   "metadata": {},
   "source": [
    "# Register Experiments"
   ]
  },
  {
   "cell_type": "code",
   "execution_count": 19,
   "metadata": {
    "scrolled": false
   },
   "outputs": [
    {
     "name": "stdout",
     "output_type": "stream",
     "text": [
      "www.encodeproject.org\n",
      "8\n"
     ]
    }
   ],
   "source": [
    "print(server.server)\n",
    "experiments = pandas.read_excel(spreadsheet_name, sheet_name='Experiment', header=0, engine=engine)\n",
    "experiments = experiments[experiments['accession'] != 'barbara approval needed']\n",
    "created = server.post_sheet('/experiments/', \n",
    "                            experiments, \n",
    "                            verbose=True, \n",
    "                            dry_run=True, \n",
    "                            validator=validator)\n",
    "print(len(created))"
   ]
  },
  {
   "cell_type": "code",
   "execution_count": null,
   "metadata": {},
   "outputs": [],
   "source": [
    "if created:\n",
    "    experiments.to_excel('/dev/shm/experiments.xlsx', index=False)"
   ]
  },
  {
   "cell_type": "markdown",
   "metadata": {},
   "source": [
    "# Register Replicates"
   ]
  },
  {
   "cell_type": "code",
   "execution_count": 21,
   "metadata": {
    "scrolled": false
   },
   "outputs": [
    {
     "name": "stdout",
     "output_type": "stream",
     "text": [
      "www.encodeproject.org\n",
      "/home/diane/woldlab/ENCODE/stranded-23369-23384-mats-cells.xlsx\n",
      "16\n"
     ]
    }
   ],
   "source": [
    "print(server.server)\n",
    "print(spreadsheet_name)\n",
    "replicates = pandas.read_excel(spreadsheet_name, sheet_name='Replicate', header=0, engine=engine)\n",
    "replicates = replicates[replicates['uuid'] != 'barbara approval needed']\n",
    "created = server.post_sheet('/replicates/',\n",
    "                            replicates, \n",
    "                            verbose=True, \n",
    "                            dry_run=True, \n",
    "                            validator=validator)\n",
    "print(len(created))"
   ]
  },
  {
   "cell_type": "code",
   "execution_count": null,
   "metadata": {},
   "outputs": [],
   "source": [
    "if created:\n",
    "    replicates.to_excel('/dev/shm/replicates.xlsx', index=False)"
   ]
  },
  {
   "cell_type": "markdown",
   "metadata": {},
   "source": [
    "# Check Files"
   ]
  },
  {
   "cell_type": "code",
   "execution_count": null,
   "metadata": {},
   "outputs": [],
   "source": [
    "files = pandas.read_excel(spreadsheet_name, sheet_name='File', header=0, engine=engine)\n",
    "created = server.post_sheet('/files/', files, verbose=True, dry_run=True, validator=validator)\n",
    "print(len(created))"
   ]
  },
  {
   "cell_type": "code",
   "execution_count": null,
   "metadata": {},
   "outputs": [],
   "source": []
  }
 ],
 "metadata": {
  "kernelspec": {
   "display_name": "Python 3",
   "language": "python",
   "name": "python3"
  },
  "language_info": {
   "codemirror_mode": {
    "name": "ipython",
    "version": 3
   },
   "file_extension": ".py",
   "mimetype": "text/x-python",
   "name": "python",
   "nbconvert_exporter": "python",
   "pygments_lexer": "ipython3",
   "version": "3.9.2"
  }
 },
 "nbformat": 4,
 "nbformat_minor": 1
}
