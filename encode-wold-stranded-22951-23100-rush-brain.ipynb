{
 "cells": [
  {
   "cell_type": "markdown",
   "metadata": {},
   "source": [
    "Preparing to submit wold stranded samples....\n",
    "\n",
    "This got a little messy because a couple libraries needed a top up."
   ]
  },
  {
   "cell_type": "code",
   "execution_count": 1,
   "metadata": {},
   "outputs": [],
   "source": [
    "import os\n",
    "import sys\n",
    "import requests\n",
    "import pandas\n",
    "import paramiko\n",
    "import json\n",
    "from IPython import display\n",
    "from pathlib import Path\n",
    "import configparser"
   ]
  },
  {
   "cell_type": "code",
   "execution_count": 2,
   "metadata": {},
   "outputs": [],
   "source": [
    "from curation_common import *\n",
    "from htsworkflow.submission.encoded import DCCValidator"
   ]
  },
  {
   "cell_type": "code",
   "execution_count": 3,
   "metadata": {},
   "outputs": [],
   "source": [
    "from htsworkflow.submission.encoded import Document\n",
    "from htsworkflow.submission.aws_submission import run_aws_cp\n",
    "from htsworkflow.util.api import (\n",
    "    add_auth_options,\n",
    "    make_auth_from_opts,\n",
    "    HtswApi,\n",
    ")"
   ]
  },
  {
   "cell_type": "code",
   "execution_count": 4,
   "metadata": {},
   "outputs": [],
   "source": [
    "config = configparser.ConfigParser()\n",
    "config.read([os.path.expanduser('~/.htsworkflow.ini'),\n",
    "             '/etc/htsworkflow.ini'\n",
    "             ])\n",
    "\n",
    "SECTION = 'sequence_archive'\n",
    "if config.has_section(SECTION):\n",
    "    apiid = config.get(SECTION, 'apiid')\n",
    "    apikey = config.get(SECTION, 'apikey')\n",
    "    apihost = config.get(SECTION, 'host')\n",
    "\n",
    "auth = {'apiid': apiid, 'apikey': apikey }\n",
    "htsw = HtswApi(apihost, auth)"
   ]
  },
  {
   "cell_type": "code",
   "execution_count": 5,
   "metadata": {},
   "outputs": [],
   "source": [
    "# live server & control file\n",
    "server = ENCODED('www.encodeproject.org')\n",
    "spreadsheet_name = Path('~/woldlab/ENCODE/stranded-22951-23100-rush-brain.xlsx').expanduser()\n",
    "engine=None\n",
    "#engine='odf'\n",
    "\n",
    "# test server & datafile\n",
    "#server = ENCODED('test.encodedcc.org')\n",
    "#spreadsheet_name = os.path.expanduser('~diane/woldlab/ENCODE/C1-encode3-limb-2017-testserver.ods')\n",
    "\n",
    "server.load_netrc()\n",
    "validator = DCCValidator(server)"
   ]
  },
  {
   "cell_type": "code",
   "execution_count": 6,
   "metadata": {},
   "outputs": [],
   "source": [
    "award = 'UM1HG009443'"
   ]
  },
  {
   "cell_type": "markdown",
   "metadata": {},
   "source": [
    "# Lookup biosample ontologies"
   ]
  },
  {
   "cell_type": "markdown",
   "metadata": {},
   "source": [
    "Lookup any biosample ontologies that are already present"
   ]
  },
  {
   "cell_type": "code",
   "execution_count": 7,
   "metadata": {},
   "outputs": [
    {
     "data": {
      "text/html": [
       "<div>\n",
       "<style scoped>\n",
       "    .dataframe tbody tr th:only-of-type {\n",
       "        vertical-align: middle;\n",
       "    }\n",
       "\n",
       "    .dataframe tbody tr th {\n",
       "        vertical-align: top;\n",
       "    }\n",
       "\n",
       "    .dataframe thead th {\n",
       "        text-align: right;\n",
       "    }\n",
       "</style>\n",
       "<table border=\"1\" class=\"dataframe\">\n",
       "  <thead>\n",
       "    <tr style=\"text-align: right;\">\n",
       "      <th></th>\n",
       "      <th>uuid</th>\n",
       "      <th>accession</th>\n",
       "      <th>aliases:array</th>\n",
       "      <th>biosample_ontology</th>\n",
       "      <th>biosample_term_name:skip</th>\n",
       "      <th>description</th>\n",
       "      <th>library_id:skip</th>\n",
       "      <th>cDNA_sample:skip</th>\n",
       "      <th>donor</th>\n",
       "      <th>organism</th>\n",
       "      <th>source</th>\n",
       "      <th>lab</th>\n",
       "      <th>award</th>\n",
       "    </tr>\n",
       "  </thead>\n",
       "  <tbody>\n",
       "    <tr>\n",
       "      <th>0</th>\n",
       "      <td>NaN</td>\n",
       "      <td>NaN</td>\n",
       "      <td>barbara-wold:ENC4_cDNA319</td>\n",
       "      <td>/biosample-types/tissue_UBERON_0006483/</td>\n",
       "      <td>mid frontal cortex; dorsolateral prefrontal co...</td>\n",
       "      <td>RUSH_AD_MFC_E5115600_ENC4_cDNA319</td>\n",
       "      <td>22951</td>\n",
       "      <td>ENC4_cDNA319</td>\n",
       "      <td>john-stamatoyannopoulos:E5115600</td>\n",
       "      <td>/organisms/human/</td>\n",
       "      <td>/sources/rush-university/</td>\n",
       "      <td>barbara-wold</td>\n",
       "      <td>UM1HG009443</td>\n",
       "    </tr>\n",
       "    <tr>\n",
       "      <th>1</th>\n",
       "      <td>NaN</td>\n",
       "      <td>NaN</td>\n",
       "      <td>barbara-wold:ENC4_cDNA320</td>\n",
       "      <td>/biosample-types/tissue_UBERON_0006483/</td>\n",
       "      <td>NaN</td>\n",
       "      <td>RUSH_AD_MFC_E6260868_ENC4_cDNA320</td>\n",
       "      <td>22952</td>\n",
       "      <td>ENC4_cDNA320</td>\n",
       "      <td>john-stamatoyannopoulos:E6260868</td>\n",
       "      <td>/organisms/human/</td>\n",
       "      <td>/sources/rush-university/</td>\n",
       "      <td>barbara-wold</td>\n",
       "      <td>UM1HG009443</td>\n",
       "    </tr>\n",
       "    <tr>\n",
       "      <th>2</th>\n",
       "      <td>NaN</td>\n",
       "      <td>NaN</td>\n",
       "      <td>barbara-wold:ENC4_cDNA321</td>\n",
       "      <td>/biosample-types/tissue_UBERON_0006483/</td>\n",
       "      <td>NaN</td>\n",
       "      <td>RUSH_AD_MFC_E2585111_ENC4_cDNA321</td>\n",
       "      <td>22953</td>\n",
       "      <td>ENC4_cDNA321</td>\n",
       "      <td>john-stamatoyannopoulos:E2585111</td>\n",
       "      <td>/organisms/human/</td>\n",
       "      <td>/sources/rush-university/</td>\n",
       "      <td>barbara-wold</td>\n",
       "      <td>UM1HG009443</td>\n",
       "    </tr>\n",
       "    <tr>\n",
       "      <th>3</th>\n",
       "      <td>NaN</td>\n",
       "      <td>NaN</td>\n",
       "      <td>barbara-wold:ENC4_cDNA322</td>\n",
       "      <td>/biosample-types/tissue_UBERON_0006483/</td>\n",
       "      <td>NaN</td>\n",
       "      <td>RUSH_AD_MFC_E7431498_ENC4_cDNA322</td>\n",
       "      <td>22954</td>\n",
       "      <td>ENC4_cDNA322</td>\n",
       "      <td>john-stamatoyannopoulos:E7431498</td>\n",
       "      <td>/organisms/human/</td>\n",
       "      <td>/sources/rush-university/</td>\n",
       "      <td>barbara-wold</td>\n",
       "      <td>UM1HG009443</td>\n",
       "    </tr>\n",
       "    <tr>\n",
       "      <th>4</th>\n",
       "      <td>NaN</td>\n",
       "      <td>NaN</td>\n",
       "      <td>barbara-wold:ENC4_cDNA323</td>\n",
       "      <td>/biosample-types/tissue_UBERON_0006483/</td>\n",
       "      <td>NaN</td>\n",
       "      <td>RUSH_AD_MFC_E7286104_ENC4_cDNA323</td>\n",
       "      <td>22955</td>\n",
       "      <td>ENC4_cDNA323</td>\n",
       "      <td>john-stamatoyannopoulos:E7286104</td>\n",
       "      <td>/organisms/human/</td>\n",
       "      <td>/sources/rush-university/</td>\n",
       "      <td>barbara-wold</td>\n",
       "      <td>UM1HG009443</td>\n",
       "    </tr>\n",
       "    <tr>\n",
       "      <th>...</th>\n",
       "      <td>...</td>\n",
       "      <td>...</td>\n",
       "      <td>...</td>\n",
       "      <td>...</td>\n",
       "      <td>...</td>\n",
       "      <td>...</td>\n",
       "      <td>...</td>\n",
       "      <td>...</td>\n",
       "      <td>...</td>\n",
       "      <td>...</td>\n",
       "      <td>...</td>\n",
       "      <td>...</td>\n",
       "      <td>...</td>\n",
       "    </tr>\n",
       "    <tr>\n",
       "      <th>114</th>\n",
       "      <td>NaN</td>\n",
       "      <td>NaN</td>\n",
       "      <td>barbara-wold:ENC4_cDNA433</td>\n",
       "      <td>/biosample-types/tissue_UBERON_0006483/</td>\n",
       "      <td>NaN</td>\n",
       "      <td>RUSH_AD_MFC_E8505753_ENC4_cDNA433</td>\n",
       "      <td>23096</td>\n",
       "      <td>ENC4_cDNA433</td>\n",
       "      <td>john-stamatoyannopoulos:E8505753</td>\n",
       "      <td>/organisms/human/</td>\n",
       "      <td>/sources/rush-university/</td>\n",
       "      <td>barbara-wold</td>\n",
       "      <td>UM1HG009443</td>\n",
       "    </tr>\n",
       "    <tr>\n",
       "      <th>115</th>\n",
       "      <td>NaN</td>\n",
       "      <td>NaN</td>\n",
       "      <td>barbara-wold:ENC4_cDNA434</td>\n",
       "      <td>/biosample-types/tissue_UBERON_0006483/</td>\n",
       "      <td>NaN</td>\n",
       "      <td>RUSH_AD_MFC_E8392249_ENC4_cDNA434</td>\n",
       "      <td>23097</td>\n",
       "      <td>ENC4_cDNA434</td>\n",
       "      <td>john-stamatoyannopoulos:E8392249</td>\n",
       "      <td>/organisms/human/</td>\n",
       "      <td>/sources/rush-university/</td>\n",
       "      <td>barbara-wold</td>\n",
       "      <td>UM1HG009443</td>\n",
       "    </tr>\n",
       "    <tr>\n",
       "      <th>116</th>\n",
       "      <td>NaN</td>\n",
       "      <td>NaN</td>\n",
       "      <td>barbara-wold:ENC4_cDNA435</td>\n",
       "      <td>/biosample-types/tissue_UBERON_0006483/</td>\n",
       "      <td>NaN</td>\n",
       "      <td>RUSH_AD_MFC_E8895621_ENC4_cDNA435</td>\n",
       "      <td>23098</td>\n",
       "      <td>ENC4_cDNA435</td>\n",
       "      <td>john-stamatoyannopoulos:E8895621</td>\n",
       "      <td>/organisms/human/</td>\n",
       "      <td>/sources/rush-university/</td>\n",
       "      <td>barbara-wold</td>\n",
       "      <td>UM1HG009443</td>\n",
       "    </tr>\n",
       "    <tr>\n",
       "      <th>117</th>\n",
       "      <td>NaN</td>\n",
       "      <td>NaN</td>\n",
       "      <td>barbara-wold:ENC4_cDNA436</td>\n",
       "      <td>/biosample-types/tissue_UBERON_0006483/</td>\n",
       "      <td>NaN</td>\n",
       "      <td>RUSH_AD_MFC_E1652886_ENC4_cDNA436</td>\n",
       "      <td>23099</td>\n",
       "      <td>ENC4_cDNA436</td>\n",
       "      <td>john-stamatoyannopoulos:E1652886</td>\n",
       "      <td>/organisms/human/</td>\n",
       "      <td>/sources/rush-university/</td>\n",
       "      <td>barbara-wold</td>\n",
       "      <td>UM1HG009443</td>\n",
       "    </tr>\n",
       "    <tr>\n",
       "      <th>118</th>\n",
       "      <td>NaN</td>\n",
       "      <td>NaN</td>\n",
       "      <td>barbara-wold:ENC4_cDNA437</td>\n",
       "      <td>/biosample-types/tissue_UBERON_0006483/</td>\n",
       "      <td>NaN</td>\n",
       "      <td>RUSH_AD_MFC_E2541828_ENC4_cDNA437</td>\n",
       "      <td>23100</td>\n",
       "      <td>ENC4_cDNA437</td>\n",
       "      <td>john-stamatoyannopoulos:E2541828</td>\n",
       "      <td>/organisms/human/</td>\n",
       "      <td>/sources/rush-university/</td>\n",
       "      <td>barbara-wold</td>\n",
       "      <td>UM1HG009443</td>\n",
       "    </tr>\n",
       "  </tbody>\n",
       "</table>\n",
       "<p>119 rows × 13 columns</p>\n",
       "</div>"
      ],
      "text/plain": [
       "     uuid  accession              aliases:array  \\\n",
       "0     NaN        NaN  barbara-wold:ENC4_cDNA319   \n",
       "1     NaN        NaN  barbara-wold:ENC4_cDNA320   \n",
       "2     NaN        NaN  barbara-wold:ENC4_cDNA321   \n",
       "3     NaN        NaN  barbara-wold:ENC4_cDNA322   \n",
       "4     NaN        NaN  barbara-wold:ENC4_cDNA323   \n",
       "..    ...        ...                        ...   \n",
       "114   NaN        NaN  barbara-wold:ENC4_cDNA433   \n",
       "115   NaN        NaN  barbara-wold:ENC4_cDNA434   \n",
       "116   NaN        NaN  barbara-wold:ENC4_cDNA435   \n",
       "117   NaN        NaN  barbara-wold:ENC4_cDNA436   \n",
       "118   NaN        NaN  barbara-wold:ENC4_cDNA437   \n",
       "\n",
       "                          biosample_ontology  \\\n",
       "0    /biosample-types/tissue_UBERON_0006483/   \n",
       "1    /biosample-types/tissue_UBERON_0006483/   \n",
       "2    /biosample-types/tissue_UBERON_0006483/   \n",
       "3    /biosample-types/tissue_UBERON_0006483/   \n",
       "4    /biosample-types/tissue_UBERON_0006483/   \n",
       "..                                       ...   \n",
       "114  /biosample-types/tissue_UBERON_0006483/   \n",
       "115  /biosample-types/tissue_UBERON_0006483/   \n",
       "116  /biosample-types/tissue_UBERON_0006483/   \n",
       "117  /biosample-types/tissue_UBERON_0006483/   \n",
       "118  /biosample-types/tissue_UBERON_0006483/   \n",
       "\n",
       "                              biosample_term_name:skip  \\\n",
       "0    mid frontal cortex; dorsolateral prefrontal co...   \n",
       "1                                                  NaN   \n",
       "2                                                  NaN   \n",
       "3                                                  NaN   \n",
       "4                                                  NaN   \n",
       "..                                                 ...   \n",
       "114                                                NaN   \n",
       "115                                                NaN   \n",
       "116                                                NaN   \n",
       "117                                                NaN   \n",
       "118                                                NaN   \n",
       "\n",
       "                           description  library_id:skip cDNA_sample:skip  \\\n",
       "0    RUSH_AD_MFC_E5115600_ENC4_cDNA319            22951     ENC4_cDNA319   \n",
       "1    RUSH_AD_MFC_E6260868_ENC4_cDNA320            22952     ENC4_cDNA320   \n",
       "2    RUSH_AD_MFC_E2585111_ENC4_cDNA321            22953     ENC4_cDNA321   \n",
       "3    RUSH_AD_MFC_E7431498_ENC4_cDNA322            22954     ENC4_cDNA322   \n",
       "4    RUSH_AD_MFC_E7286104_ENC4_cDNA323            22955     ENC4_cDNA323   \n",
       "..                                 ...              ...              ...   \n",
       "114  RUSH_AD_MFC_E8505753_ENC4_cDNA433            23096     ENC4_cDNA433   \n",
       "115  RUSH_AD_MFC_E8392249_ENC4_cDNA434            23097     ENC4_cDNA434   \n",
       "116  RUSH_AD_MFC_E8895621_ENC4_cDNA435            23098     ENC4_cDNA435   \n",
       "117  RUSH_AD_MFC_E1652886_ENC4_cDNA436            23099     ENC4_cDNA436   \n",
       "118  RUSH_AD_MFC_E2541828_ENC4_cDNA437            23100     ENC4_cDNA437   \n",
       "\n",
       "                                donor           organism  \\\n",
       "0    john-stamatoyannopoulos:E5115600  /organisms/human/   \n",
       "1    john-stamatoyannopoulos:E6260868  /organisms/human/   \n",
       "2    john-stamatoyannopoulos:E2585111  /organisms/human/   \n",
       "3    john-stamatoyannopoulos:E7431498  /organisms/human/   \n",
       "4    john-stamatoyannopoulos:E7286104  /organisms/human/   \n",
       "..                                ...                ...   \n",
       "114  john-stamatoyannopoulos:E8505753  /organisms/human/   \n",
       "115  john-stamatoyannopoulos:E8392249  /organisms/human/   \n",
       "116  john-stamatoyannopoulos:E8895621  /organisms/human/   \n",
       "117  john-stamatoyannopoulos:E1652886  /organisms/human/   \n",
       "118  john-stamatoyannopoulos:E2541828  /organisms/human/   \n",
       "\n",
       "                        source           lab        award  \n",
       "0    /sources/rush-university/  barbara-wold  UM1HG009443  \n",
       "1    /sources/rush-university/  barbara-wold  UM1HG009443  \n",
       "2    /sources/rush-university/  barbara-wold  UM1HG009443  \n",
       "3    /sources/rush-university/  barbara-wold  UM1HG009443  \n",
       "4    /sources/rush-university/  barbara-wold  UM1HG009443  \n",
       "..                         ...           ...          ...  \n",
       "114  /sources/rush-university/  barbara-wold  UM1HG009443  \n",
       "115  /sources/rush-university/  barbara-wold  UM1HG009443  \n",
       "116  /sources/rush-university/  barbara-wold  UM1HG009443  \n",
       "117  /sources/rush-university/  barbara-wold  UM1HG009443  \n",
       "118  /sources/rush-university/  barbara-wold  UM1HG009443  \n",
       "\n",
       "[119 rows x 13 columns]"
      ]
     },
     "execution_count": 7,
     "metadata": {},
     "output_type": "execute_result"
    }
   ],
   "source": [
    "biosample = pandas.read_excel(spreadsheet_name, sheet_name='Biosample', header=0, engine=engine)\n",
    "\n",
    "for i, row in biosample.iterrows():\n",
    "    if not pandas.isnull(row.accession) and row.accession.startswith('E'):\n",
    "        obj = server.get_json(row.accession)\n",
    "        biosample_ontology = obj['biosample_ontology']\n",
    "        if isinstance(biosample_ontology, dict):\n",
    "            biosample.loc[i, 'biosample_ontology'] = biosample_ontology['@id']\n",
    "            biosample.loc[i, 'biosample_term_name:skip'] = biosample_ontology['term_name']\n",
    "        biosample.loc[i, 'source'] = obj['source']['@id']\n",
    "            \n",
    "biosample"
   ]
  },
  {
   "cell_type": "code",
   "execution_count": 8,
   "metadata": {},
   "outputs": [],
   "source": [
    "#biosample.to_excel('/dev/shm/biosamples.xlsx', index=False)"
   ]
  },
  {
   "cell_type": "markdown",
   "metadata": {},
   "source": [
    "# Register Biosamples"
   ]
  },
  {
   "cell_type": "code",
   "execution_count": 22,
   "metadata": {
    "scrolled": true
   },
   "outputs": [
    {
     "name": "stdout",
     "output_type": "stream",
     "text": [
      "0\n"
     ]
    }
   ],
   "source": [
    "biosample = pandas.read_excel(spreadsheet_name, sheet_name='Biosample', header=0, engine=engine)\n",
    "created = server.post_sheet('/biosamples/', biosample, \n",
    "                            verbose=True, \n",
    "                            dry_run=True, \n",
    "                            validator=validator)\n",
    "print(len(created))"
   ]
  },
  {
   "cell_type": "code",
   "execution_count": 21,
   "metadata": {},
   "outputs": [],
   "source": [
    "if created:\n",
    "    biosample.to_excel('/dev/shm/biosamples.xlsx', index=False)"
   ]
  },
  {
   "cell_type": "markdown",
   "metadata": {},
   "source": [
    "# Register Libraries"
   ]
  },
  {
   "cell_type": "code",
   "execution_count": 26,
   "metadata": {
    "scrolled": true
   },
   "outputs": [
    {
     "name": "stdout",
     "output_type": "stream",
     "text": [
      "/home/diane/woldlab/ENCODE/stranded-22951-23100-rush-brain.xlsx\n",
      "0\n"
     ]
    }
   ],
   "source": [
    "print(spreadsheet_name)\n",
    "libraries = pandas.read_excel(spreadsheet_name, sheet_name='Library', header=0, engine=engine)\n",
    "created = server.post_sheet('/libraries/', \n",
    "                            libraries,\n",
    "                            verbose=True, \n",
    "                            dry_run=True, \n",
    "                            validator=validator)\n",
    "print(len(created))"
   ]
  },
  {
   "cell_type": "code",
   "execution_count": 25,
   "metadata": {},
   "outputs": [],
   "source": [
    "if created:\n",
    "    libraries.to_excel('/dev/shm/libraries.xlsx', index=False)"
   ]
  },
  {
   "cell_type": "markdown",
   "metadata": {},
   "source": [
    "# Register Experiments"
   ]
  },
  {
   "cell_type": "code",
   "execution_count": 29,
   "metadata": {
    "scrolled": true
   },
   "outputs": [
    {
     "name": "stdout",
     "output_type": "stream",
     "text": [
      "www.encodeproject.org\n",
      "0\n"
     ]
    }
   ],
   "source": [
    "print(server.server)\n",
    "experiments = pandas.read_excel(spreadsheet_name, sheet_name='Experiment', header=0, engine=engine)\n",
    "experiments = experiments[experiments['accession'] != 'barbara approval needed']\n",
    "created = server.post_sheet('/experiments/', \n",
    "                            experiments, \n",
    "                            verbose=True, \n",
    "                            dry_run=True, \n",
    "                            validator=validator)\n",
    "print(len(created))"
   ]
  },
  {
   "cell_type": "code",
   "execution_count": 28,
   "metadata": {},
   "outputs": [],
   "source": [
    "if created:\n",
    "    experiments.to_excel('/dev/shm/experiments.xlsx', index=False)"
   ]
  },
  {
   "cell_type": "markdown",
   "metadata": {},
   "source": [
    "# Register Replicates"
   ]
  },
  {
   "cell_type": "code",
   "execution_count": 30,
   "metadata": {
    "scrolled": true
   },
   "outputs": [
    {
     "name": "stdout",
     "output_type": "stream",
     "text": [
      "www.encodeproject.org\n",
      "/home/diane/woldlab/ENCODE/stranded-22951-23100-rush-brain.xlsx\n",
      "Reponse {'status': 'success', '@type': ['result'], '@graph': [{'date_created': '2021-04-10T00:03:51.796249+00:00', 'submitted_by': '/users/bc5b62f7-ce28-4a1e-b6b3-81c9c5a86d7a/', 'aliases': ['barbara-wold:22951_b1_t1'], 'schema_version': '9', 'biological_replicate_number': 1, 'technical_replicate_number': 1, 'experiment': '/experiments/ENCSR098AHH/', 'library': '/libraries/ENCLB245ZCF/', 'status': 'in progress', '@id': '/replicates/e8d63970-156e-42d2-a1b6-d8141093aaad/', '@type': ['Replicate', 'Item'], 'uuid': 'e8d63970-156e-42d2-a1b6-d8141093aaad'}]}\n",
      "row 0 created: e8d63970-156e-42d2-a1b6-d8141093aaad\n",
      "Reponse {'status': 'success', '@type': ['result'], '@graph': [{'date_created': '2021-04-10T00:03:52.075586+00:00', 'submitted_by': '/users/bc5b62f7-ce28-4a1e-b6b3-81c9c5a86d7a/', 'aliases': ['barbara-wold:22952_b1_t1'], 'schema_version': '9', 'biological_replicate_number': 1, 'technical_replicate_number': 1, 'experiment': '/experiments/ENCSR971VVX/', 'library': '/libraries/ENCLB568IQW/', 'status': 'in progress', '@id': '/replicates/011674af-b0b0-4399-8456-f948ea0d06fc/', '@type': ['Replicate', 'Item'], 'uuid': '011674af-b0b0-4399-8456-f948ea0d06fc'}]}\n",
      "row 1 created: 011674af-b0b0-4399-8456-f948ea0d06fc\n",
      "Reponse {'status': 'success', '@type': ['result'], '@graph': [{'date_created': '2021-04-10T00:03:52.326226+00:00', 'submitted_by': '/users/bc5b62f7-ce28-4a1e-b6b3-81c9c5a86d7a/', 'aliases': ['barbara-wold:22953_b1_t1'], 'schema_version': '9', 'biological_replicate_number': 1, 'technical_replicate_number': 1, 'experiment': '/experiments/ENCSR999LNM/', 'library': '/libraries/ENCLB029XBX/', 'status': 'in progress', '@id': '/replicates/5fb240ba-7b30-480d-8751-a6a340e59d3e/', '@type': ['Replicate', 'Item'], 'uuid': '5fb240ba-7b30-480d-8751-a6a340e59d3e'}]}\n",
      "row 2 created: 5fb240ba-7b30-480d-8751-a6a340e59d3e\n",
      "Reponse {'status': 'success', '@type': ['result'], '@graph': [{'date_created': '2021-04-10T00:03:52.569786+00:00', 'submitted_by': '/users/bc5b62f7-ce28-4a1e-b6b3-81c9c5a86d7a/', 'aliases': ['barbara-wold:22954_b1_t1'], 'schema_version': '9', 'biological_replicate_number': 1, 'technical_replicate_number': 1, 'experiment': '/experiments/ENCSR180BEF/', 'library': '/libraries/ENCLB677SJO/', 'status': 'in progress', '@id': '/replicates/788c7fee-b7ae-4c93-9be6-4ec4069b75db/', '@type': ['Replicate', 'Item'], 'uuid': '788c7fee-b7ae-4c93-9be6-4ec4069b75db'}]}\n",
      "row 3 created: 788c7fee-b7ae-4c93-9be6-4ec4069b75db\n",
      "Reponse {'status': 'success', '@type': ['result'], '@graph': [{'date_created': '2021-04-10T00:03:52.860551+00:00', 'submitted_by': '/users/bc5b62f7-ce28-4a1e-b6b3-81c9c5a86d7a/', 'aliases': ['barbara-wold:22955_b1_t1'], 'schema_version': '9', 'biological_replicate_number': 1, 'technical_replicate_number': 1, 'experiment': '/experiments/ENCSR315IMH/', 'library': '/libraries/ENCLB844IFX/', 'status': 'in progress', '@id': '/replicates/4d5c453d-97d2-451c-a311-13f2f634ab1d/', '@type': ['Replicate', 'Item'], 'uuid': '4d5c453d-97d2-451c-a311-13f2f634ab1d'}]}\n",
      "row 4 created: 4d5c453d-97d2-451c-a311-13f2f634ab1d\n",
      "Reponse {'status': 'success', '@type': ['result'], '@graph': [{'date_created': '2021-04-10T00:03:53.161061+00:00', 'submitted_by': '/users/bc5b62f7-ce28-4a1e-b6b3-81c9c5a86d7a/', 'aliases': ['barbara-wold:22956_b1_t1'], 'schema_version': '9', 'biological_replicate_number': 1, 'technical_replicate_number': 1, 'experiment': '/experiments/ENCSR891TUX/', 'library': '/libraries/ENCLB621YRH/', 'status': 'in progress', '@id': '/replicates/90d85f3c-3310-4fed-aa83-a68e7f1db413/', '@type': ['Replicate', 'Item'], 'uuid': '90d85f3c-3310-4fed-aa83-a68e7f1db413'}]}\n",
      "row 5 created: 90d85f3c-3310-4fed-aa83-a68e7f1db413\n",
      "Reponse {'status': 'success', '@type': ['result'], '@graph': [{'date_created': '2021-04-10T00:03:53.427199+00:00', 'submitted_by': '/users/bc5b62f7-ce28-4a1e-b6b3-81c9c5a86d7a/', 'aliases': ['barbara-wold:22957_b1_t1'], 'schema_version': '9', 'biological_replicate_number': 1, 'technical_replicate_number': 1, 'experiment': '/experiments/ENCSR396RZS/', 'library': '/libraries/ENCLB085AZT/', 'status': 'in progress', '@id': '/replicates/5a154a45-c70e-455c-8afd-b933dc07c7b4/', '@type': ['Replicate', 'Item'], 'uuid': '5a154a45-c70e-455c-8afd-b933dc07c7b4'}]}\n",
      "row 6 created: 5a154a45-c70e-455c-8afd-b933dc07c7b4\n",
      "Reponse {'status': 'success', '@type': ['result'], '@graph': [{'date_created': '2021-04-10T00:03:53.678723+00:00', 'submitted_by': '/users/bc5b62f7-ce28-4a1e-b6b3-81c9c5a86d7a/', 'aliases': ['barbara-wold:22958_b1_t1'], 'schema_version': '9', 'biological_replicate_number': 1, 'technical_replicate_number': 1, 'experiment': '/experiments/ENCSR261CGJ/', 'library': '/libraries/ENCLB523TYG/', 'status': 'in progress', '@id': '/replicates/37d47f56-b5fb-4f6e-a2a3-76adddd7c7fa/', '@type': ['Replicate', 'Item'], 'uuid': '37d47f56-b5fb-4f6e-a2a3-76adddd7c7fa'}]}\n",
      "row 7 created: 37d47f56-b5fb-4f6e-a2a3-76adddd7c7fa\n",
      "Reponse {'status': 'success', '@type': ['result'], '@graph': [{'date_created': '2021-04-10T00:03:53.927294+00:00', 'submitted_by': '/users/bc5b62f7-ce28-4a1e-b6b3-81c9c5a86d7a/', 'aliases': ['barbara-wold:22959_b1_t1'], 'schema_version': '9', 'biological_replicate_number': 1, 'technical_replicate_number': 1, 'experiment': '/experiments/ENCSR790REF/', 'library': '/libraries/ENCLB256LJB/', 'status': 'in progress', '@id': '/replicates/80edf744-efee-49f6-a1c5-318efa1b4db5/', '@type': ['Replicate', 'Item'], 'uuid': '80edf744-efee-49f6-a1c5-318efa1b4db5'}]}\n",
      "row 8 created: 80edf744-efee-49f6-a1c5-318efa1b4db5\n",
      "Reponse {'status': 'success', '@type': ['result'], '@graph': [{'date_created': '2021-04-10T00:03:54.176720+00:00', 'submitted_by': '/users/bc5b62f7-ce28-4a1e-b6b3-81c9c5a86d7a/', 'aliases': ['barbara-wold:22960_b1_t1'], 'schema_version': '9', 'biological_replicate_number': 1, 'technical_replicate_number': 1, 'experiment': '/experiments/ENCSR458WYO/', 'library': '/libraries/ENCLB976KAQ/', 'status': 'in progress', '@id': '/replicates/f64d6ec0-770f-4b73-8255-4669b9a6be37/', '@type': ['Replicate', 'Item'], 'uuid': 'f64d6ec0-770f-4b73-8255-4669b9a6be37'}]}\n",
      "row 9 created: f64d6ec0-770f-4b73-8255-4669b9a6be37\n",
      "Reponse {'status': 'success', '@type': ['result'], '@graph': [{'date_created': '2021-04-10T00:03:54.420635+00:00', 'submitted_by': '/users/bc5b62f7-ce28-4a1e-b6b3-81c9c5a86d7a/', 'aliases': ['barbara-wold:22961_b1_t1'], 'schema_version': '9', 'biological_replicate_number': 1, 'technical_replicate_number': 1, 'experiment': '/experiments/ENCSR385VVX/', 'library': '/libraries/ENCLB809BGT/', 'status': 'in progress', '@id': '/replicates/b82be2f5-29ca-4569-adf2-9d3cf3f7e83d/', '@type': ['Replicate', 'Item'], 'uuid': 'b82be2f5-29ca-4569-adf2-9d3cf3f7e83d'}]}\n",
      "row 10 created: b82be2f5-29ca-4569-adf2-9d3cf3f7e83d\n",
      "Reponse {'status': 'success', '@type': ['result'], '@graph': [{'date_created': '2021-04-10T00:03:54.687327+00:00', 'submitted_by': '/users/bc5b62f7-ce28-4a1e-b6b3-81c9c5a86d7a/', 'aliases': ['barbara-wold:22962_b1_t1'], 'schema_version': '9', 'biological_replicate_number': 1, 'technical_replicate_number': 1, 'experiment': '/experiments/ENCSR741HLC/', 'library': '/libraries/ENCLB149WMK/', 'status': 'in progress', '@id': '/replicates/7d0e8e0e-911f-4863-80fe-eb8008b9e029/', '@type': ['Replicate', 'Item'], 'uuid': '7d0e8e0e-911f-4863-80fe-eb8008b9e029'}]}\n",
      "row 11 created: 7d0e8e0e-911f-4863-80fe-eb8008b9e029\n",
      "Reponse {'status': 'success', '@type': ['result'], '@graph': [{'date_created': '2021-04-10T00:03:54.954322+00:00', 'submitted_by': '/users/bc5b62f7-ce28-4a1e-b6b3-81c9c5a86d7a/', 'aliases': ['barbara-wold:22963_b1_t1'], 'schema_version': '9', 'biological_replicate_number': 1, 'technical_replicate_number': 1, 'experiment': '/experiments/ENCSR406VBM/', 'library': '/libraries/ENCLB349YUP/', 'status': 'in progress', '@id': '/replicates/5bc98334-c028-4cf1-950d-3ecae70f79ca/', '@type': ['Replicate', 'Item'], 'uuid': '5bc98334-c028-4cf1-950d-3ecae70f79ca'}]}\n",
      "row 12 created: 5bc98334-c028-4cf1-950d-3ecae70f79ca\n",
      "Reponse {'status': 'success', '@type': ['result'], '@graph': [{'date_created': '2021-04-10T00:03:55.224970+00:00', 'submitted_by': '/users/bc5b62f7-ce28-4a1e-b6b3-81c9c5a86d7a/', 'aliases': ['barbara-wold:22964_b1_t1'], 'schema_version': '9', 'biological_replicate_number': 1, 'technical_replicate_number': 1, 'experiment': '/experiments/ENCSR965BKM/', 'library': '/libraries/ENCLB237NWN/', 'status': 'in progress', '@id': '/replicates/2c810722-d060-4837-a9d5-e90b04ceafb6/', '@type': ['Replicate', 'Item'], 'uuid': '2c810722-d060-4837-a9d5-e90b04ceafb6'}]}\n",
      "row 13 created: 2c810722-d060-4837-a9d5-e90b04ceafb6\n"
     ]
    },
    {
     "name": "stdout",
     "output_type": "stream",
     "text": [
      "Reponse {'status': 'success', '@type': ['result'], '@graph': [{'date_created': '2021-04-10T00:03:55.492577+00:00', 'submitted_by': '/users/bc5b62f7-ce28-4a1e-b6b3-81c9c5a86d7a/', 'aliases': ['barbara-wold:22965_b1_t1'], 'schema_version': '9', 'biological_replicate_number': 1, 'technical_replicate_number': 1, 'experiment': '/experiments/ENCSR033DKJ/', 'library': '/libraries/ENCLB807IWP/', 'status': 'in progress', '@id': '/replicates/341586a1-ba75-4011-9a40-32904cfa3e8c/', '@type': ['Replicate', 'Item'], 'uuid': '341586a1-ba75-4011-9a40-32904cfa3e8c'}]}\n",
      "row 14 created: 341586a1-ba75-4011-9a40-32904cfa3e8c\n",
      "Reponse {'status': 'success', '@type': ['result'], '@graph': [{'date_created': '2021-04-10T00:03:55.783413+00:00', 'submitted_by': '/users/bc5b62f7-ce28-4a1e-b6b3-81c9c5a86d7a/', 'aliases': ['barbara-wold:22966_b1_t1'], 'schema_version': '9', 'biological_replicate_number': 1, 'technical_replicate_number': 1, 'experiment': '/experiments/ENCSR274IOR/', 'library': '/libraries/ENCLB389ULX/', 'status': 'in progress', '@id': '/replicates/e1343e5c-1621-4609-8e34-33ba160e3771/', '@type': ['Replicate', 'Item'], 'uuid': 'e1343e5c-1621-4609-8e34-33ba160e3771'}]}\n",
      "row 15 created: e1343e5c-1621-4609-8e34-33ba160e3771\n",
      "Reponse {'status': 'success', '@type': ['result'], '@graph': [{'date_created': '2021-04-10T00:03:56.032352+00:00', 'submitted_by': '/users/bc5b62f7-ce28-4a1e-b6b3-81c9c5a86d7a/', 'aliases': ['barbara-wold:22967_b1_t1'], 'schema_version': '9', 'biological_replicate_number': 1, 'technical_replicate_number': 1, 'experiment': '/experiments/ENCSR503EES/', 'library': '/libraries/ENCLB092GOW/', 'status': 'in progress', '@id': '/replicates/f63d6fbc-2960-42be-b19d-fcae6e0dd18f/', '@type': ['Replicate', 'Item'], 'uuid': 'f63d6fbc-2960-42be-b19d-fcae6e0dd18f'}]}\n",
      "row 16 created: f63d6fbc-2960-42be-b19d-fcae6e0dd18f\n",
      "Reponse {'status': 'success', '@type': ['result'], '@graph': [{'date_created': '2021-04-10T00:03:56.282547+00:00', 'submitted_by': '/users/bc5b62f7-ce28-4a1e-b6b3-81c9c5a86d7a/', 'aliases': ['barbara-wold:22968_b1_t1'], 'schema_version': '9', 'biological_replicate_number': 1, 'technical_replicate_number': 1, 'experiment': '/experiments/ENCSR012UAU/', 'library': '/libraries/ENCLB237DPL/', 'status': 'in progress', '@id': '/replicates/4e1ef747-ba78-449d-a11a-3ca81e702e38/', '@type': ['Replicate', 'Item'], 'uuid': '4e1ef747-ba78-449d-a11a-3ca81e702e38'}]}\n",
      "row 17 created: 4e1ef747-ba78-449d-a11a-3ca81e702e38\n",
      "Reponse {'status': 'success', '@type': ['result'], '@graph': [{'date_created': '2021-04-10T00:03:56.550829+00:00', 'submitted_by': '/users/bc5b62f7-ce28-4a1e-b6b3-81c9c5a86d7a/', 'aliases': ['barbara-wold:22969_b1_t1'], 'schema_version': '9', 'biological_replicate_number': 1, 'technical_replicate_number': 1, 'experiment': '/experiments/ENCSR042LLE/', 'library': '/libraries/ENCLB699DWI/', 'status': 'in progress', '@id': '/replicates/86087d27-6e84-4aa4-826f-6ca9bf672a35/', '@type': ['Replicate', 'Item'], 'uuid': '86087d27-6e84-4aa4-826f-6ca9bf672a35'}]}\n",
      "row 18 created: 86087d27-6e84-4aa4-826f-6ca9bf672a35\n",
      "Reponse {'status': 'success', '@type': ['result'], '@graph': [{'date_created': '2021-04-10T00:03:56.790925+00:00', 'submitted_by': '/users/bc5b62f7-ce28-4a1e-b6b3-81c9c5a86d7a/', 'aliases': ['barbara-wold:22970_b1_t1'], 'schema_version': '9', 'biological_replicate_number': 1, 'technical_replicate_number': 1, 'experiment': '/experiments/ENCSR557TQB/', 'library': '/libraries/ENCLB880BFG/', 'status': 'in progress', '@id': '/replicates/027a7625-38ca-4e86-a239-6c54063576aa/', '@type': ['Replicate', 'Item'], 'uuid': '027a7625-38ca-4e86-a239-6c54063576aa'}]}\n",
      "row 19 created: 027a7625-38ca-4e86-a239-6c54063576aa\n",
      "Reponse {'status': 'success', '@type': ['result'], '@graph': [{'date_created': '2021-04-10T00:03:57.042448+00:00', 'submitted_by': '/users/bc5b62f7-ce28-4a1e-b6b3-81c9c5a86d7a/', 'aliases': ['barbara-wold:22971_b1_t1'], 'schema_version': '9', 'biological_replicate_number': 1, 'technical_replicate_number': 1, 'experiment': '/experiments/ENCSR696VWS/', 'library': '/libraries/ENCLB453EHV/', 'status': 'in progress', '@id': '/replicates/c47312a5-1879-4e93-af5c-e3b1611f16c2/', '@type': ['Replicate', 'Item'], 'uuid': 'c47312a5-1879-4e93-af5c-e3b1611f16c2'}]}\n",
      "row 20 created: c47312a5-1879-4e93-af5c-e3b1611f16c2\n",
      "Reponse {'status': 'success', '@type': ['result'], '@graph': [{'date_created': '2021-04-10T00:03:57.573903+00:00', 'submitted_by': '/users/bc5b62f7-ce28-4a1e-b6b3-81c9c5a86d7a/', 'aliases': ['barbara-wold:22972_b1_t1'], 'schema_version': '9', 'biological_replicate_number': 1, 'technical_replicate_number': 1, 'experiment': '/experiments/ENCSR051HKT/', 'library': '/libraries/ENCLB056EXV/', 'status': 'in progress', '@id': '/replicates/f943b27d-09fd-48a5-b1b4-b785b4d2e4cd/', '@type': ['Replicate', 'Item'], 'uuid': 'f943b27d-09fd-48a5-b1b4-b785b4d2e4cd'}]}\n",
      "row 21 created: f943b27d-09fd-48a5-b1b4-b785b4d2e4cd\n",
      "Reponse {'status': 'success', '@type': ['result'], '@graph': [{'date_created': '2021-04-10T00:03:57.837678+00:00', 'submitted_by': '/users/bc5b62f7-ce28-4a1e-b6b3-81c9c5a86d7a/', 'aliases': ['barbara-wold:22973_b1_t1'], 'schema_version': '9', 'biological_replicate_number': 1, 'technical_replicate_number': 1, 'experiment': '/experiments/ENCSR946CHL/', 'library': '/libraries/ENCLB219EYQ/', 'status': 'in progress', '@id': '/replicates/e8c2df52-bfcc-412f-92ac-f23f598d567c/', '@type': ['Replicate', 'Item'], 'uuid': 'e8c2df52-bfcc-412f-92ac-f23f598d567c'}]}\n",
      "row 22 created: e8c2df52-bfcc-412f-92ac-f23f598d567c\n",
      "Reponse {'status': 'success', '@type': ['result'], '@graph': [{'date_created': '2021-04-10T00:03:58.089708+00:00', 'submitted_by': '/users/bc5b62f7-ce28-4a1e-b6b3-81c9c5a86d7a/', 'aliases': ['barbara-wold:22974_b1_t1'], 'schema_version': '9', 'biological_replicate_number': 1, 'technical_replicate_number': 1, 'experiment': '/experiments/ENCSR731YIN/', 'library': '/libraries/ENCLB299UJH/', 'status': 'in progress', '@id': '/replicates/38fef6fe-ff0f-4944-ba10-35b7485b3c76/', '@type': ['Replicate', 'Item'], 'uuid': '38fef6fe-ff0f-4944-ba10-35b7485b3c76'}]}\n",
      "row 23 created: 38fef6fe-ff0f-4944-ba10-35b7485b3c76\n",
      "Reponse {'status': 'success', '@type': ['result'], '@graph': [{'date_created': '2021-04-10T00:03:58.333415+00:00', 'submitted_by': '/users/bc5b62f7-ce28-4a1e-b6b3-81c9c5a86d7a/', 'aliases': ['barbara-wold:22975_b1_t1'], 'schema_version': '9', 'biological_replicate_number': 1, 'technical_replicate_number': 1, 'experiment': '/experiments/ENCSR791XHA/', 'library': '/libraries/ENCLB820XXC/', 'status': 'in progress', '@id': '/replicates/1176e139-2664-4c41-9a0e-f4656b00f243/', '@type': ['Replicate', 'Item'], 'uuid': '1176e139-2664-4c41-9a0e-f4656b00f243'}]}\n",
      "row 24 created: 1176e139-2664-4c41-9a0e-f4656b00f243\n",
      "Reponse {'status': 'success', '@type': ['result'], '@graph': [{'date_created': '2021-04-10T00:03:58.571238+00:00', 'submitted_by': '/users/bc5b62f7-ce28-4a1e-b6b3-81c9c5a86d7a/', 'aliases': ['barbara-wold:22976_b1_t1'], 'schema_version': '9', 'biological_replicate_number': 1, 'technical_replicate_number': 1, 'experiment': '/experiments/ENCSR716LPB/', 'library': '/libraries/ENCLB297VGX/', 'status': 'in progress', '@id': '/replicates/422af2aa-d4ba-42f6-b2ca-53f6bf828335/', '@type': ['Replicate', 'Item'], 'uuid': '422af2aa-d4ba-42f6-b2ca-53f6bf828335'}]}\n",
      "row 25 created: 422af2aa-d4ba-42f6-b2ca-53f6bf828335\n",
      "Reponse {'status': 'success', '@type': ['result'], '@graph': [{'date_created': '2021-04-10T00:03:58.822013+00:00', 'submitted_by': '/users/bc5b62f7-ce28-4a1e-b6b3-81c9c5a86d7a/', 'aliases': ['barbara-wold:22977_b1_t1'], 'schema_version': '9', 'biological_replicate_number': 1, 'technical_replicate_number': 1, 'experiment': '/experiments/ENCSR011NKG/', 'library': '/libraries/ENCLB666CRI/', 'status': 'in progress', '@id': '/replicates/1eeb25cf-ea99-41a4-ab53-d7ae3b74c64e/', '@type': ['Replicate', 'Item'], 'uuid': '1eeb25cf-ea99-41a4-ab53-d7ae3b74c64e'}]}\n",
      "row 26 created: 1eeb25cf-ea99-41a4-ab53-d7ae3b74c64e\n",
      "Reponse {'status': 'success', '@type': ['result'], '@graph': [{'date_created': '2021-04-10T00:03:59.074830+00:00', 'submitted_by': '/users/bc5b62f7-ce28-4a1e-b6b3-81c9c5a86d7a/', 'aliases': ['barbara-wold:22978_b1_t1'], 'schema_version': '9', 'biological_replicate_number': 1, 'technical_replicate_number': 1, 'experiment': '/experiments/ENCSR409NYW/', 'library': '/libraries/ENCLB813AHZ/', 'status': 'in progress', '@id': '/replicates/db3fa59e-978b-41b2-b452-32b48f72743c/', '@type': ['Replicate', 'Item'], 'uuid': 'db3fa59e-978b-41b2-b452-32b48f72743c'}]}\n",
      "row 27 created: db3fa59e-978b-41b2-b452-32b48f72743c\n"
     ]
    },
    {
     "name": "stdout",
     "output_type": "stream",
     "text": [
      "Reponse {'status': 'success', '@type': ['result'], '@graph': [{'date_created': '2021-04-10T00:03:59.324009+00:00', 'submitted_by': '/users/bc5b62f7-ce28-4a1e-b6b3-81c9c5a86d7a/', 'aliases': ['barbara-wold:22979_b1_t1'], 'schema_version': '9', 'biological_replicate_number': 1, 'technical_replicate_number': 1, 'experiment': '/experiments/ENCSR057PZA/', 'library': '/libraries/ENCLB273FTJ/', 'status': 'in progress', '@id': '/replicates/ab0a8f45-18c2-4338-847d-d0a36b22cdfc/', '@type': ['Replicate', 'Item'], 'uuid': 'ab0a8f45-18c2-4338-847d-d0a36b22cdfc'}]}\n",
      "row 28 created: ab0a8f45-18c2-4338-847d-d0a36b22cdfc\n",
      "Reponse {'status': 'success', '@type': ['result'], '@graph': [{'date_created': '2021-04-10T00:03:59.595417+00:00', 'submitted_by': '/users/bc5b62f7-ce28-4a1e-b6b3-81c9c5a86d7a/', 'aliases': ['barbara-wold:22980_b1_t1'], 'schema_version': '9', 'biological_replicate_number': 1, 'technical_replicate_number': 1, 'experiment': '/experiments/ENCSR910XQY/', 'library': '/libraries/ENCLB334ZTD/', 'status': 'in progress', '@id': '/replicates/69e6cd35-1adc-4cf8-be67-27fc16161d9f/', '@type': ['Replicate', 'Item'], 'uuid': '69e6cd35-1adc-4cf8-be67-27fc16161d9f'}]}\n",
      "row 29 created: 69e6cd35-1adc-4cf8-be67-27fc16161d9f\n",
      "Reponse {'status': 'success', '@type': ['result'], '@graph': [{'date_created': '2021-04-10T00:03:59.861665+00:00', 'submitted_by': '/users/bc5b62f7-ce28-4a1e-b6b3-81c9c5a86d7a/', 'aliases': ['barbara-wold:22981_b1_t1'], 'schema_version': '9', 'biological_replicate_number': 1, 'technical_replicate_number': 1, 'experiment': '/experiments/ENCSR667IFH/', 'library': '/libraries/ENCLB071FLW/', 'status': 'in progress', '@id': '/replicates/e80df378-055e-4bfc-b4e3-25bc6f99fa30/', '@type': ['Replicate', 'Item'], 'uuid': 'e80df378-055e-4bfc-b4e3-25bc6f99fa30'}]}\n",
      "row 30 created: e80df378-055e-4bfc-b4e3-25bc6f99fa30\n",
      "Reponse {'status': 'success', '@type': ['result'], '@graph': [{'date_created': '2021-04-10T00:04:00.129158+00:00', 'submitted_by': '/users/bc5b62f7-ce28-4a1e-b6b3-81c9c5a86d7a/', 'aliases': ['barbara-wold:22982_b1_t1'], 'schema_version': '9', 'biological_replicate_number': 1, 'technical_replicate_number': 1, 'experiment': '/experiments/ENCSR891MZP/', 'library': '/libraries/ENCLB913TIB/', 'status': 'in progress', '@id': '/replicates/c1ac6945-6163-44e5-b5ba-b31dfc04cffa/', '@type': ['Replicate', 'Item'], 'uuid': 'c1ac6945-6163-44e5-b5ba-b31dfc04cffa'}]}\n",
      "row 31 created: c1ac6945-6163-44e5-b5ba-b31dfc04cffa\n",
      "Reponse {'status': 'success', '@type': ['result'], '@graph': [{'date_created': '2021-04-10T00:04:00.384552+00:00', 'submitted_by': '/users/bc5b62f7-ce28-4a1e-b6b3-81c9c5a86d7a/', 'aliases': ['barbara-wold:22983_b1_t1'], 'schema_version': '9', 'biological_replicate_number': 1, 'technical_replicate_number': 1, 'experiment': '/experiments/ENCSR578KNO/', 'library': '/libraries/ENCLB741BMB/', 'status': 'in progress', '@id': '/replicates/88998aff-4c93-4f12-b962-1ea9b41a93d8/', '@type': ['Replicate', 'Item'], 'uuid': '88998aff-4c93-4f12-b962-1ea9b41a93d8'}]}\n",
      "row 32 created: 88998aff-4c93-4f12-b962-1ea9b41a93d8\n",
      "Reponse {'status': 'success', '@type': ['result'], '@graph': [{'date_created': '2021-04-10T00:04:00.657436+00:00', 'submitted_by': '/users/bc5b62f7-ce28-4a1e-b6b3-81c9c5a86d7a/', 'aliases': ['barbara-wold:22984_b1_t1'], 'schema_version': '9', 'biological_replicate_number': 1, 'technical_replicate_number': 1, 'experiment': '/experiments/ENCSR286HKQ/', 'library': '/libraries/ENCLB949INO/', 'status': 'in progress', '@id': '/replicates/8bdbccba-1f47-4a92-a41b-7f392b495beb/', '@type': ['Replicate', 'Item'], 'uuid': '8bdbccba-1f47-4a92-a41b-7f392b495beb'}]}\n",
      "row 33 created: 8bdbccba-1f47-4a92-a41b-7f392b495beb\n",
      "Reponse {'status': 'success', '@type': ['result'], '@graph': [{'date_created': '2021-04-10T00:04:00.943651+00:00', 'submitted_by': '/users/bc5b62f7-ce28-4a1e-b6b3-81c9c5a86d7a/', 'aliases': ['barbara-wold:22985_b1_t1'], 'schema_version': '9', 'biological_replicate_number': 1, 'technical_replicate_number': 1, 'experiment': '/experiments/ENCSR247MBB/', 'library': '/libraries/ENCLB938IHE/', 'status': 'in progress', '@id': '/replicates/c2084258-6491-4d3f-9e23-8aeec3eb6cf0/', '@type': ['Replicate', 'Item'], 'uuid': 'c2084258-6491-4d3f-9e23-8aeec3eb6cf0'}]}\n",
      "row 34 created: c2084258-6491-4d3f-9e23-8aeec3eb6cf0\n",
      "Reponse {'status': 'success', '@type': ['result'], '@graph': [{'date_created': '2021-04-10T00:04:01.212490+00:00', 'submitted_by': '/users/bc5b62f7-ce28-4a1e-b6b3-81c9c5a86d7a/', 'aliases': ['barbara-wold:22986_b1_t1'], 'schema_version': '9', 'biological_replicate_number': 1, 'technical_replicate_number': 1, 'experiment': '/experiments/ENCSR623UPC/', 'library': '/libraries/ENCLB248HEX/', 'status': 'in progress', '@id': '/replicates/a8c6bc5f-f50f-498a-82fe-957721701c36/', '@type': ['Replicate', 'Item'], 'uuid': 'a8c6bc5f-f50f-498a-82fe-957721701c36'}]}\n",
      "row 35 created: a8c6bc5f-f50f-498a-82fe-957721701c36\n",
      "Reponse {'status': 'success', '@type': ['result'], '@graph': [{'date_created': '2021-04-10T00:04:01.499546+00:00', 'submitted_by': '/users/bc5b62f7-ce28-4a1e-b6b3-81c9c5a86d7a/', 'aliases': ['barbara-wold:22987_b1_t1'], 'schema_version': '9', 'biological_replicate_number': 1, 'technical_replicate_number': 1, 'experiment': '/experiments/ENCSR240XKH/', 'library': '/libraries/ENCLB834ASL/', 'status': 'in progress', '@id': '/replicates/69cd3bed-e265-4984-90ad-5cb6d04aaa5a/', '@type': ['Replicate', 'Item'], 'uuid': '69cd3bed-e265-4984-90ad-5cb6d04aaa5a'}]}\n",
      "row 36 created: 69cd3bed-e265-4984-90ad-5cb6d04aaa5a\n",
      "Reponse {'status': 'success', '@type': ['result'], '@graph': [{'date_created': '2021-04-10T00:04:01.797306+00:00', 'submitted_by': '/users/bc5b62f7-ce28-4a1e-b6b3-81c9c5a86d7a/', 'aliases': ['barbara-wold:22988_b1_t1'], 'schema_version': '9', 'biological_replicate_number': 1, 'technical_replicate_number': 1, 'experiment': '/experiments/ENCSR256YDM/', 'library': '/libraries/ENCLB412NRN/', 'status': 'in progress', '@id': '/replicates/785d253a-fd06-4458-b37c-7131a8574e02/', '@type': ['Replicate', 'Item'], 'uuid': '785d253a-fd06-4458-b37c-7131a8574e02'}]}\n",
      "row 37 created: 785d253a-fd06-4458-b37c-7131a8574e02\n",
      "Reponse {'status': 'success', '@type': ['result'], '@graph': [{'date_created': '2021-04-10T00:04:02.081374+00:00', 'submitted_by': '/users/bc5b62f7-ce28-4a1e-b6b3-81c9c5a86d7a/', 'aliases': ['barbara-wold:22989_b1_t1'], 'schema_version': '9', 'biological_replicate_number': 1, 'technical_replicate_number': 1, 'experiment': '/experiments/ENCSR555ZBN/', 'library': '/libraries/ENCLB393QMY/', 'status': 'in progress', '@id': '/replicates/6ae29a02-29bc-48c8-860e-69e8ba3a2f8c/', '@type': ['Replicate', 'Item'], 'uuid': '6ae29a02-29bc-48c8-860e-69e8ba3a2f8c'}]}\n",
      "row 38 created: 6ae29a02-29bc-48c8-860e-69e8ba3a2f8c\n",
      "Reponse {'status': 'success', '@type': ['result'], '@graph': [{'date_created': '2021-04-10T00:04:02.358993+00:00', 'submitted_by': '/users/bc5b62f7-ce28-4a1e-b6b3-81c9c5a86d7a/', 'aliases': ['barbara-wold:22990_b1_t1'], 'schema_version': '9', 'biological_replicate_number': 1, 'technical_replicate_number': 1, 'experiment': '/experiments/ENCSR229IZP/', 'library': '/libraries/ENCLB576ALB/', 'status': 'in progress', '@id': '/replicates/394cf1f9-1e93-4da2-842b-b22132c5f37f/', '@type': ['Replicate', 'Item'], 'uuid': '394cf1f9-1e93-4da2-842b-b22132c5f37f'}]}\n",
      "row 39 created: 394cf1f9-1e93-4da2-842b-b22132c5f37f\n",
      "Reponse {'status': 'success', '@type': ['result'], '@graph': [{'date_created': '2021-04-10T00:04:02.641065+00:00', 'submitted_by': '/users/bc5b62f7-ce28-4a1e-b6b3-81c9c5a86d7a/', 'aliases': ['barbara-wold:22991_b1_t1'], 'schema_version': '9', 'biological_replicate_number': 1, 'technical_replicate_number': 1, 'experiment': '/experiments/ENCSR559LZU/', 'library': '/libraries/ENCLB300XWC/', 'status': 'in progress', '@id': '/replicates/799eb1df-2337-4ac3-a514-8c754668c148/', '@type': ['Replicate', 'Item'], 'uuid': '799eb1df-2337-4ac3-a514-8c754668c148'}]}\n",
      "row 40 created: 799eb1df-2337-4ac3-a514-8c754668c148\n",
      "Reponse {'status': 'success', '@type': ['result'], '@graph': [{'date_created': '2021-04-10T00:04:02.914203+00:00', 'submitted_by': '/users/bc5b62f7-ce28-4a1e-b6b3-81c9c5a86d7a/', 'aliases': ['barbara-wold:22992_b1_t1'], 'schema_version': '9', 'biological_replicate_number': 1, 'technical_replicate_number': 1, 'experiment': '/experiments/ENCSR695VQF/', 'library': '/libraries/ENCLB090HZR/', 'status': 'in progress', '@id': '/replicates/cb5e78d2-d6a1-40cb-bb41-25f82054cf98/', '@type': ['Replicate', 'Item'], 'uuid': 'cb5e78d2-d6a1-40cb-bb41-25f82054cf98'}]}\n",
      "row 41 created: cb5e78d2-d6a1-40cb-bb41-25f82054cf98\n"
     ]
    },
    {
     "name": "stdout",
     "output_type": "stream",
     "text": [
      "Reponse {'status': 'success', '@type': ['result'], '@graph': [{'date_created': '2021-04-10T00:04:03.177927+00:00', 'submitted_by': '/users/bc5b62f7-ce28-4a1e-b6b3-81c9c5a86d7a/', 'aliases': ['barbara-wold:22993_b1_t1'], 'schema_version': '9', 'biological_replicate_number': 1, 'technical_replicate_number': 1, 'experiment': '/experiments/ENCSR105NCS/', 'library': '/libraries/ENCLB860BOM/', 'status': 'in progress', '@id': '/replicates/daa6aa29-7d2c-4237-9383-6fc929316d94/', '@type': ['Replicate', 'Item'], 'uuid': 'daa6aa29-7d2c-4237-9383-6fc929316d94'}]}\n",
      "row 42 created: daa6aa29-7d2c-4237-9383-6fc929316d94\n",
      "Reponse {'status': 'success', '@type': ['result'], '@graph': [{'date_created': '2021-04-10T00:04:03.428588+00:00', 'submitted_by': '/users/bc5b62f7-ce28-4a1e-b6b3-81c9c5a86d7a/', 'aliases': ['barbara-wold:22994_b1_t1'], 'schema_version': '9', 'biological_replicate_number': 1, 'technical_replicate_number': 1, 'experiment': '/experiments/ENCSR192DXS/', 'library': '/libraries/ENCLB027MFO/', 'status': 'in progress', '@id': '/replicates/295cd781-1deb-44e3-8257-110d299b3699/', '@type': ['Replicate', 'Item'], 'uuid': '295cd781-1deb-44e3-8257-110d299b3699'}]}\n",
      "row 43 created: 295cd781-1deb-44e3-8257-110d299b3699\n",
      "Reponse {'status': 'success', '@type': ['result'], '@graph': [{'date_created': '2021-04-10T00:04:03.702434+00:00', 'submitted_by': '/users/bc5b62f7-ce28-4a1e-b6b3-81c9c5a86d7a/', 'aliases': ['barbara-wold:22995_b1_t1'], 'schema_version': '9', 'biological_replicate_number': 1, 'technical_replicate_number': 1, 'experiment': '/experiments/ENCSR715ZEX/', 'library': '/libraries/ENCLB733LMR/', 'status': 'in progress', '@id': '/replicates/589cf163-cfbc-44c7-b554-81f8dfb62f63/', '@type': ['Replicate', 'Item'], 'uuid': '589cf163-cfbc-44c7-b554-81f8dfb62f63'}]}\n",
      "row 44 created: 589cf163-cfbc-44c7-b554-81f8dfb62f63\n",
      "Reponse {'status': 'success', '@type': ['result'], '@graph': [{'date_created': '2021-04-10T00:04:03.953896+00:00', 'submitted_by': '/users/bc5b62f7-ce28-4a1e-b6b3-81c9c5a86d7a/', 'aliases': ['barbara-wold:22996_b1_t1'], 'schema_version': '9', 'biological_replicate_number': 1, 'technical_replicate_number': 1, 'experiment': '/experiments/ENCSR507BRI/', 'library': '/libraries/ENCLB969ZFD/', 'status': 'in progress', '@id': '/replicates/f8c6bab8-0334-4d00-bc3c-8ea9c52c2294/', '@type': ['Replicate', 'Item'], 'uuid': 'f8c6bab8-0334-4d00-bc3c-8ea9c52c2294'}]}\n",
      "row 45 created: f8c6bab8-0334-4d00-bc3c-8ea9c52c2294\n",
      "Reponse {'status': 'success', '@type': ['result'], '@graph': [{'date_created': '2021-04-10T00:04:04.206980+00:00', 'submitted_by': '/users/bc5b62f7-ce28-4a1e-b6b3-81c9c5a86d7a/', 'aliases': ['barbara-wold:22997_b1_t1'], 'schema_version': '9', 'biological_replicate_number': 1, 'technical_replicate_number': 1, 'experiment': '/experiments/ENCSR095STQ/', 'library': '/libraries/ENCLB685BOZ/', 'status': 'in progress', '@id': '/replicates/e14054b0-d15b-4e8e-b8f0-f1e828bd80bd/', '@type': ['Replicate', 'Item'], 'uuid': 'e14054b0-d15b-4e8e-b8f0-f1e828bd80bd'}]}\n",
      "row 46 created: e14054b0-d15b-4e8e-b8f0-f1e828bd80bd\n",
      "Reponse {'status': 'success', '@type': ['result'], '@graph': [{'date_created': '2021-04-10T00:04:04.475880+00:00', 'submitted_by': '/users/bc5b62f7-ce28-4a1e-b6b3-81c9c5a86d7a/', 'aliases': ['barbara-wold:22998_b1_t1'], 'schema_version': '9', 'biological_replicate_number': 1, 'technical_replicate_number': 1, 'experiment': '/experiments/ENCSR616HPK/', 'library': '/libraries/ENCLB209JPD/', 'status': 'in progress', '@id': '/replicates/d8daea6a-6bfe-4883-a976-08b71a6bde95/', '@type': ['Replicate', 'Item'], 'uuid': 'd8daea6a-6bfe-4883-a976-08b71a6bde95'}]}\n",
      "row 47 created: d8daea6a-6bfe-4883-a976-08b71a6bde95\n",
      "Reponse {'status': 'success', '@type': ['result'], '@graph': [{'date_created': '2021-04-10T00:04:04.745103+00:00', 'submitted_by': '/users/bc5b62f7-ce28-4a1e-b6b3-81c9c5a86d7a/', 'aliases': ['barbara-wold:23030_b1_t1'], 'schema_version': '9', 'biological_replicate_number': 1, 'technical_replicate_number': 1, 'experiment': '/experiments/ENCSR932KHL/', 'library': '/libraries/ENCLB844JIB/', 'status': 'in progress', '@id': '/replicates/f9ff63ef-ad78-4a98-a21c-fc623e29f5d8/', '@type': ['Replicate', 'Item'], 'uuid': 'f9ff63ef-ad78-4a98-a21c-fc623e29f5d8'}]}\n",
      "row 48 created: f9ff63ef-ad78-4a98-a21c-fc623e29f5d8\n",
      "Reponse {'status': 'success', '@type': ['result'], '@graph': [{'date_created': '2021-04-10T00:04:05.023346+00:00', 'submitted_by': '/users/bc5b62f7-ce28-4a1e-b6b3-81c9c5a86d7a/', 'aliases': ['barbara-wold:23031_b1_t1'], 'schema_version': '9', 'biological_replicate_number': 1, 'technical_replicate_number': 1, 'experiment': '/experiments/ENCSR895JQC/', 'library': '/libraries/ENCLB684XJB/', 'status': 'in progress', '@id': '/replicates/23b98595-dc01-476e-8689-56ce42d84091/', '@type': ['Replicate', 'Item'], 'uuid': '23b98595-dc01-476e-8689-56ce42d84091'}]}\n",
      "row 49 created: 23b98595-dc01-476e-8689-56ce42d84091\n",
      "Reponse {'status': 'success', '@type': ['result'], '@graph': [{'date_created': '2021-04-10T00:04:05.298176+00:00', 'submitted_by': '/users/bc5b62f7-ce28-4a1e-b6b3-81c9c5a86d7a/', 'aliases': ['barbara-wold:23032_b1_t1'], 'schema_version': '9', 'biological_replicate_number': 1, 'technical_replicate_number': 1, 'experiment': '/experiments/ENCSR913DZP/', 'library': '/libraries/ENCLB266KQN/', 'status': 'in progress', '@id': '/replicates/f87c6357-c445-41eb-8da3-0d4729f6b65b/', '@type': ['Replicate', 'Item'], 'uuid': 'f87c6357-c445-41eb-8da3-0d4729f6b65b'}]}\n",
      "row 50 created: f87c6357-c445-41eb-8da3-0d4729f6b65b\n",
      "Reponse {'status': 'success', '@type': ['result'], '@graph': [{'date_created': '2021-04-10T00:04:05.575647+00:00', 'submitted_by': '/users/bc5b62f7-ce28-4a1e-b6b3-81c9c5a86d7a/', 'aliases': ['barbara-wold:23033_b1_t1'], 'schema_version': '9', 'biological_replicate_number': 1, 'technical_replicate_number': 1, 'experiment': '/experiments/ENCSR246QHK/', 'library': '/libraries/ENCLB816RXE/', 'status': 'in progress', '@id': '/replicates/6ba91821-e70a-4262-9cf3-1d938e9031ce/', '@type': ['Replicate', 'Item'], 'uuid': '6ba91821-e70a-4262-9cf3-1d938e9031ce'}]}\n",
      "row 51 created: 6ba91821-e70a-4262-9cf3-1d938e9031ce\n",
      "Reponse {'status': 'success', '@type': ['result'], '@graph': [{'date_created': '2021-04-10T00:04:05.845962+00:00', 'submitted_by': '/users/bc5b62f7-ce28-4a1e-b6b3-81c9c5a86d7a/', 'aliases': ['barbara-wold:23034_b1_t1'], 'schema_version': '9', 'biological_replicate_number': 1, 'technical_replicate_number': 1, 'experiment': '/experiments/ENCSR411CXN/', 'library': '/libraries/ENCLB517NXR/', 'status': 'in progress', '@id': '/replicates/a0fb8b77-89ce-4f0b-a816-ad5d7514385a/', '@type': ['Replicate', 'Item'], 'uuid': 'a0fb8b77-89ce-4f0b-a816-ad5d7514385a'}]}\n",
      "row 52 created: a0fb8b77-89ce-4f0b-a816-ad5d7514385a\n",
      "Reponse {'status': 'success', '@type': ['result'], '@graph': [{'date_created': '2021-04-10T00:04:06.126834+00:00', 'submitted_by': '/users/bc5b62f7-ce28-4a1e-b6b3-81c9c5a86d7a/', 'aliases': ['barbara-wold:23035_b1_t1'], 'schema_version': '9', 'biological_replicate_number': 1, 'technical_replicate_number': 1, 'experiment': '/experiments/ENCSR162TAV/', 'library': '/libraries/ENCLB740BJI/', 'status': 'in progress', '@id': '/replicates/983a156f-c428-455b-a445-b5f3d1fd8591/', '@type': ['Replicate', 'Item'], 'uuid': '983a156f-c428-455b-a445-b5f3d1fd8591'}]}\n",
      "row 53 created: 983a156f-c428-455b-a445-b5f3d1fd8591\n",
      "Reponse {'status': 'success', '@type': ['result'], '@graph': [{'date_created': '2021-04-10T00:04:06.411413+00:00', 'submitted_by': '/users/bc5b62f7-ce28-4a1e-b6b3-81c9c5a86d7a/', 'aliases': ['barbara-wold:23036_b1_t1'], 'schema_version': '9', 'biological_replicate_number': 1, 'technical_replicate_number': 1, 'experiment': '/experiments/ENCSR605GUU/', 'library': '/libraries/ENCLB529BFG/', 'status': 'in progress', '@id': '/replicates/acf46fa0-32c3-4e79-9ca8-ade117145a7d/', '@type': ['Replicate', 'Item'], 'uuid': 'acf46fa0-32c3-4e79-9ca8-ade117145a7d'}]}\n",
      "row 54 created: acf46fa0-32c3-4e79-9ca8-ade117145a7d\n",
      "Reponse {'status': 'success', '@type': ['result'], '@graph': [{'date_created': '2021-04-10T00:04:06.687572+00:00', 'submitted_by': '/users/bc5b62f7-ce28-4a1e-b6b3-81c9c5a86d7a/', 'aliases': ['barbara-wold:23037_b1_t1'], 'schema_version': '9', 'biological_replicate_number': 1, 'technical_replicate_number': 1, 'experiment': '/experiments/ENCSR719WMN/', 'library': '/libraries/ENCLB797ZHY/', 'status': 'in progress', '@id': '/replicates/b700b078-cc0d-40d0-ab42-ae9e9b88d237/', '@type': ['Replicate', 'Item'], 'uuid': 'b700b078-cc0d-40d0-ab42-ae9e9b88d237'}]}\n",
      "row 55 created: b700b078-cc0d-40d0-ab42-ae9e9b88d237\n"
     ]
    },
    {
     "name": "stdout",
     "output_type": "stream",
     "text": [
      "Reponse {'status': 'success', '@type': ['result'], '@graph': [{'date_created': '2021-04-10T00:04:06.933357+00:00', 'submitted_by': '/users/bc5b62f7-ce28-4a1e-b6b3-81c9c5a86d7a/', 'aliases': ['barbara-wold:23038_b1_t1'], 'schema_version': '9', 'biological_replicate_number': 1, 'technical_replicate_number': 1, 'experiment': '/experiments/ENCSR040FYZ/', 'library': '/libraries/ENCLB547TOX/', 'status': 'in progress', '@id': '/replicates/e55745a5-121e-45b9-8c0c-54312a699346/', '@type': ['Replicate', 'Item'], 'uuid': 'e55745a5-121e-45b9-8c0c-54312a699346'}]}\n",
      "row 56 created: e55745a5-121e-45b9-8c0c-54312a699346\n",
      "Reponse {'status': 'success', '@type': ['result'], '@graph': [{'date_created': '2021-04-10T00:04:07.212971+00:00', 'submitted_by': '/users/bc5b62f7-ce28-4a1e-b6b3-81c9c5a86d7a/', 'aliases': ['barbara-wold:23039_b1_t1'], 'schema_version': '9', 'biological_replicate_number': 1, 'technical_replicate_number': 1, 'experiment': '/experiments/ENCSR143RJN/', 'library': '/libraries/ENCLB245CZY/', 'status': 'in progress', '@id': '/replicates/35dde619-92be-43d9-a6ea-d9cae3437759/', '@type': ['Replicate', 'Item'], 'uuid': '35dde619-92be-43d9-a6ea-d9cae3437759'}]}\n",
      "row 57 created: 35dde619-92be-43d9-a6ea-d9cae3437759\n",
      "Reponse {'status': 'success', '@type': ['result'], '@graph': [{'date_created': '2021-04-10T00:04:07.484642+00:00', 'submitted_by': '/users/bc5b62f7-ce28-4a1e-b6b3-81c9c5a86d7a/', 'aliases': ['barbara-wold:23040_b1_t1'], 'schema_version': '9', 'biological_replicate_number': 1, 'technical_replicate_number': 1, 'experiment': '/experiments/ENCSR726JZK/', 'library': '/libraries/ENCLB568KPB/', 'status': 'in progress', '@id': '/replicates/832a8031-5419-46b6-99d7-9a746f338ac8/', '@type': ['Replicate', 'Item'], 'uuid': '832a8031-5419-46b6-99d7-9a746f338ac8'}]}\n",
      "row 58 created: 832a8031-5419-46b6-99d7-9a746f338ac8\n",
      "Reponse {'status': 'success', '@type': ['result'], '@graph': [{'date_created': '2021-04-10T00:04:07.742628+00:00', 'submitted_by': '/users/bc5b62f7-ce28-4a1e-b6b3-81c9c5a86d7a/', 'aliases': ['barbara-wold:23041_b1_t1'], 'schema_version': '9', 'biological_replicate_number': 1, 'technical_replicate_number': 1, 'experiment': '/experiments/ENCSR908QBY/', 'library': '/libraries/ENCLB766NAT/', 'status': 'in progress', '@id': '/replicates/246c8d9d-79e9-4ce2-9224-ad97d51a72c8/', '@type': ['Replicate', 'Item'], 'uuid': '246c8d9d-79e9-4ce2-9224-ad97d51a72c8'}]}\n",
      "row 59 created: 246c8d9d-79e9-4ce2-9224-ad97d51a72c8\n",
      "Reponse {'status': 'success', '@type': ['result'], '@graph': [{'date_created': '2021-04-10T00:04:08.040019+00:00', 'submitted_by': '/users/bc5b62f7-ce28-4a1e-b6b3-81c9c5a86d7a/', 'aliases': ['barbara-wold:23042_b1_t1'], 'schema_version': '9', 'biological_replicate_number': 1, 'technical_replicate_number': 1, 'experiment': '/experiments/ENCSR239ZEK/', 'library': '/libraries/ENCLB577JEU/', 'status': 'in progress', '@id': '/replicates/e4a906d3-9422-42ac-98ef-00fc96f16ba9/', '@type': ['Replicate', 'Item'], 'uuid': 'e4a906d3-9422-42ac-98ef-00fc96f16ba9'}]}\n",
      "row 60 created: e4a906d3-9422-42ac-98ef-00fc96f16ba9\n",
      "Reponse {'status': 'success', '@type': ['result'], '@graph': [{'date_created': '2021-04-10T00:04:08.286979+00:00', 'submitted_by': '/users/bc5b62f7-ce28-4a1e-b6b3-81c9c5a86d7a/', 'aliases': ['barbara-wold:23043_b1_t1'], 'schema_version': '9', 'biological_replicate_number': 1, 'technical_replicate_number': 1, 'experiment': '/experiments/ENCSR281RXI/', 'library': '/libraries/ENCLB153PPD/', 'status': 'in progress', '@id': '/replicates/cd9e15a1-11f2-4f6a-9bfa-b3c9a88d93d0/', '@type': ['Replicate', 'Item'], 'uuid': 'cd9e15a1-11f2-4f6a-9bfa-b3c9a88d93d0'}]}\n",
      "row 61 created: cd9e15a1-11f2-4f6a-9bfa-b3c9a88d93d0\n",
      "Reponse {'status': 'success', '@type': ['result'], '@graph': [{'date_created': '2021-04-10T00:04:08.562330+00:00', 'submitted_by': '/users/bc5b62f7-ce28-4a1e-b6b3-81c9c5a86d7a/', 'aliases': ['barbara-wold:23044_b1_t1'], 'schema_version': '9', 'biological_replicate_number': 1, 'technical_replicate_number': 1, 'experiment': '/experiments/ENCSR795QPS/', 'library': '/libraries/ENCLB168JMD/', 'status': 'in progress', '@id': '/replicates/7b672788-cbee-49a2-b9f8-dfe2dfd28794/', '@type': ['Replicate', 'Item'], 'uuid': '7b672788-cbee-49a2-b9f8-dfe2dfd28794'}]}\n",
      "row 62 created: 7b672788-cbee-49a2-b9f8-dfe2dfd28794\n",
      "Reponse {'status': 'success', '@type': ['result'], '@graph': [{'date_created': '2021-04-10T00:04:08.842685+00:00', 'submitted_by': '/users/bc5b62f7-ce28-4a1e-b6b3-81c9c5a86d7a/', 'aliases': ['barbara-wold:23045_b1_t1'], 'schema_version': '9', 'biological_replicate_number': 1, 'technical_replicate_number': 1, 'experiment': '/experiments/ENCSR404JRH/', 'library': '/libraries/ENCLB580ZRP/', 'status': 'in progress', '@id': '/replicates/a9842778-c458-40d4-81f6-3e941368f701/', '@type': ['Replicate', 'Item'], 'uuid': 'a9842778-c458-40d4-81f6-3e941368f701'}]}\n",
      "row 63 created: a9842778-c458-40d4-81f6-3e941368f701\n",
      "Reponse {'status': 'success', '@type': ['result'], '@graph': [{'date_created': '2021-04-10T00:04:09.117207+00:00', 'submitted_by': '/users/bc5b62f7-ce28-4a1e-b6b3-81c9c5a86d7a/', 'aliases': ['barbara-wold:23046_b1_t1'], 'schema_version': '9', 'biological_replicate_number': 1, 'technical_replicate_number': 1, 'experiment': '/experiments/ENCSR830HVH/', 'library': '/libraries/ENCLB931DZJ/', 'status': 'in progress', '@id': '/replicates/c2c4d148-e67b-4110-848c-4ede0ed88f34/', '@type': ['Replicate', 'Item'], 'uuid': 'c2c4d148-e67b-4110-848c-4ede0ed88f34'}]}\n",
      "row 64 created: c2c4d148-e67b-4110-848c-4ede0ed88f34\n",
      "Reponse {'status': 'success', '@type': ['result'], '@graph': [{'date_created': '2021-04-10T00:04:09.395612+00:00', 'submitted_by': '/users/bc5b62f7-ce28-4a1e-b6b3-81c9c5a86d7a/', 'aliases': ['barbara-wold:23047_b1_t1'], 'schema_version': '9', 'biological_replicate_number': 1, 'technical_replicate_number': 1, 'experiment': '/experiments/ENCSR853KDR/', 'library': '/libraries/ENCLB480ACP/', 'status': 'in progress', '@id': '/replicates/6a626148-18a1-4553-8286-936b810fcd2e/', '@type': ['Replicate', 'Item'], 'uuid': '6a626148-18a1-4553-8286-936b810fcd2e'}]}\n",
      "row 65 created: 6a626148-18a1-4553-8286-936b810fcd2e\n",
      "Reponse {'status': 'success', '@type': ['result'], '@graph': [{'date_created': '2021-04-10T00:04:09.669450+00:00', 'submitted_by': '/users/bc5b62f7-ce28-4a1e-b6b3-81c9c5a86d7a/', 'aliases': ['barbara-wold:23048_b1_t1'], 'schema_version': '9', 'biological_replicate_number': 1, 'technical_replicate_number': 1, 'experiment': '/experiments/ENCSR376WUA/', 'library': '/libraries/ENCLB115IFF/', 'status': 'in progress', '@id': '/replicates/d6baebcb-e87f-4a60-bb9b-e8ae6c534e27/', '@type': ['Replicate', 'Item'], 'uuid': 'd6baebcb-e87f-4a60-bb9b-e8ae6c534e27'}]}\n",
      "row 66 created: d6baebcb-e87f-4a60-bb9b-e8ae6c534e27\n",
      "Reponse {'status': 'success', '@type': ['result'], '@graph': [{'date_created': '2021-04-10T00:04:09.944258+00:00', 'submitted_by': '/users/bc5b62f7-ce28-4a1e-b6b3-81c9c5a86d7a/', 'aliases': ['barbara-wold:23049_b1_t1'], 'schema_version': '9', 'biological_replicate_number': 1, 'technical_replicate_number': 1, 'experiment': '/experiments/ENCSR246HPQ/', 'library': '/libraries/ENCLB090BGW/', 'status': 'in progress', '@id': '/replicates/c0d7872e-355b-4e1f-a352-f192c7b46f90/', '@type': ['Replicate', 'Item'], 'uuid': 'c0d7872e-355b-4e1f-a352-f192c7b46f90'}]}\n",
      "row 67 created: c0d7872e-355b-4e1f-a352-f192c7b46f90\n",
      "Reponse {'status': 'success', '@type': ['result'], '@graph': [{'date_created': '2021-04-10T00:04:10.219288+00:00', 'submitted_by': '/users/bc5b62f7-ce28-4a1e-b6b3-81c9c5a86d7a/', 'aliases': ['barbara-wold:23050_b1_t1'], 'schema_version': '9', 'biological_replicate_number': 1, 'technical_replicate_number': 1, 'experiment': '/experiments/ENCSR092PTD/', 'library': '/libraries/ENCLB477ZZE/', 'status': 'in progress', '@id': '/replicates/e79d26df-7696-48fc-9ae9-f536731339bd/', '@type': ['Replicate', 'Item'], 'uuid': 'e79d26df-7696-48fc-9ae9-f536731339bd'}]}\n",
      "row 68 created: e79d26df-7696-48fc-9ae9-f536731339bd\n",
      "Reponse {'status': 'success', '@type': ['result'], '@graph': [{'date_created': '2021-04-10T00:04:10.505834+00:00', 'submitted_by': '/users/bc5b62f7-ce28-4a1e-b6b3-81c9c5a86d7a/', 'aliases': ['barbara-wold:23051_b1_t1'], 'schema_version': '9', 'biological_replicate_number': 1, 'technical_replicate_number': 1, 'experiment': '/experiments/ENCSR085RNZ/', 'library': '/libraries/ENCLB188CCX/', 'status': 'in progress', '@id': '/replicates/b20eb5a9-3bb7-4ee5-960a-9190ff2b8daf/', '@type': ['Replicate', 'Item'], 'uuid': 'b20eb5a9-3bb7-4ee5-960a-9190ff2b8daf'}]}\n",
      "row 69 created: b20eb5a9-3bb7-4ee5-960a-9190ff2b8daf\n"
     ]
    },
    {
     "name": "stdout",
     "output_type": "stream",
     "text": [
      "Reponse {'status': 'success', '@type': ['result'], '@graph': [{'date_created': '2021-04-10T00:04:10.787240+00:00', 'submitted_by': '/users/bc5b62f7-ce28-4a1e-b6b3-81c9c5a86d7a/', 'aliases': ['barbara-wold:23052_b1_t1'], 'schema_version': '9', 'biological_replicate_number': 1, 'technical_replicate_number': 1, 'experiment': '/experiments/ENCSR691XPO/', 'library': '/libraries/ENCLB539BFQ/', 'status': 'in progress', '@id': '/replicates/27541572-3c3f-4272-b60a-40d908d326ee/', '@type': ['Replicate', 'Item'], 'uuid': '27541572-3c3f-4272-b60a-40d908d326ee'}]}\n",
      "row 70 created: 27541572-3c3f-4272-b60a-40d908d326ee\n",
      "Reponse {'status': 'success', '@type': ['result'], '@graph': [{'date_created': '2021-04-10T00:04:11.060637+00:00', 'submitted_by': '/users/bc5b62f7-ce28-4a1e-b6b3-81c9c5a86d7a/', 'aliases': ['barbara-wold:23053_b1_t1'], 'schema_version': '9', 'biological_replicate_number': 1, 'technical_replicate_number': 1, 'experiment': '/experiments/ENCSR701ZXF/', 'library': '/libraries/ENCLB410GIT/', 'status': 'in progress', '@id': '/replicates/24e45fa1-639a-4aa7-9299-aedcafea3a0c/', '@type': ['Replicate', 'Item'], 'uuid': '24e45fa1-639a-4aa7-9299-aedcafea3a0c'}]}\n",
      "row 71 created: 24e45fa1-639a-4aa7-9299-aedcafea3a0c\n",
      "Reponse {'status': 'success', '@type': ['result'], '@graph': [{'date_created': '2021-04-10T00:04:11.338754+00:00', 'submitted_by': '/users/bc5b62f7-ce28-4a1e-b6b3-81c9c5a86d7a/', 'aliases': ['barbara-wold:23054_b1_t1'], 'schema_version': '9', 'biological_replicate_number': 1, 'technical_replicate_number': 1, 'experiment': '/experiments/ENCSR114LKQ/', 'library': '/libraries/ENCLB010BDO/', 'status': 'in progress', '@id': '/replicates/e692306e-31ca-44d0-a971-6fb33f413c82/', '@type': ['Replicate', 'Item'], 'uuid': 'e692306e-31ca-44d0-a971-6fb33f413c82'}]}\n",
      "row 72 created: e692306e-31ca-44d0-a971-6fb33f413c82\n",
      "Reponse {'status': 'success', '@type': ['result'], '@graph': [{'date_created': '2021-04-10T00:04:11.624592+00:00', 'submitted_by': '/users/bc5b62f7-ce28-4a1e-b6b3-81c9c5a86d7a/', 'aliases': ['barbara-wold:23055_b1_t1'], 'schema_version': '9', 'biological_replicate_number': 1, 'technical_replicate_number': 1, 'experiment': '/experiments/ENCSR455MOH/', 'library': '/libraries/ENCLB258DNG/', 'status': 'in progress', '@id': '/replicates/0ea70cd4-1706-4784-9543-bdf5df112866/', '@type': ['Replicate', 'Item'], 'uuid': '0ea70cd4-1706-4784-9543-bdf5df112866'}]}\n",
      "row 73 created: 0ea70cd4-1706-4784-9543-bdf5df112866\n",
      "Reponse {'status': 'success', '@type': ['result'], '@graph': [{'date_created': '2021-04-10T00:04:11.907169+00:00', 'submitted_by': '/users/bc5b62f7-ce28-4a1e-b6b3-81c9c5a86d7a/', 'aliases': ['barbara-wold:23056_b1_t1'], 'schema_version': '9', 'biological_replicate_number': 1, 'technical_replicate_number': 1, 'experiment': '/experiments/ENCSR700PWC/', 'library': '/libraries/ENCLB553GFE/', 'status': 'in progress', '@id': '/replicates/d703eaf9-cc0f-435f-ba76-d58a5a664f54/', '@type': ['Replicate', 'Item'], 'uuid': 'd703eaf9-cc0f-435f-ba76-d58a5a664f54'}]}\n",
      "row 74 created: d703eaf9-cc0f-435f-ba76-d58a5a664f54\n",
      "Reponse {'status': 'success', '@type': ['result'], '@graph': [{'date_created': '2021-04-10T00:04:12.145601+00:00', 'submitted_by': '/users/bc5b62f7-ce28-4a1e-b6b3-81c9c5a86d7a/', 'aliases': ['barbara-wold:23057_b1_t1'], 'schema_version': '9', 'biological_replicate_number': 1, 'technical_replicate_number': 1, 'experiment': '/experiments/ENCSR856TIQ/', 'library': '/libraries/ENCLB765MFT/', 'status': 'in progress', '@id': '/replicates/38eb2ae2-24f9-4840-8b94-ca50ab7ff844/', '@type': ['Replicate', 'Item'], 'uuid': '38eb2ae2-24f9-4840-8b94-ca50ab7ff844'}]}\n",
      "row 75 created: 38eb2ae2-24f9-4840-8b94-ca50ab7ff844\n",
      "Reponse {'status': 'success', '@type': ['result'], '@graph': [{'date_created': '2021-04-10T00:04:12.423964+00:00', 'submitted_by': '/users/bc5b62f7-ce28-4a1e-b6b3-81c9c5a86d7a/', 'aliases': ['barbara-wold:23058_b1_t1'], 'schema_version': '9', 'biological_replicate_number': 1, 'technical_replicate_number': 1, 'experiment': '/experiments/ENCSR181CVM/', 'library': '/libraries/ENCLB646MDD/', 'status': 'in progress', '@id': '/replicates/f1dba570-a04a-41df-89ea-55c6ecdbabbd/', '@type': ['Replicate', 'Item'], 'uuid': 'f1dba570-a04a-41df-89ea-55c6ecdbabbd'}]}\n",
      "row 76 created: f1dba570-a04a-41df-89ea-55c6ecdbabbd\n",
      "Reponse {'status': 'success', '@type': ['result'], '@graph': [{'date_created': '2021-04-10T00:04:12.707077+00:00', 'submitted_by': '/users/bc5b62f7-ce28-4a1e-b6b3-81c9c5a86d7a/', 'aliases': ['barbara-wold:23059_b1_t1'], 'schema_version': '9', 'biological_replicate_number': 1, 'technical_replicate_number': 1, 'experiment': '/experiments/ENCSR026MBF/', 'library': '/libraries/ENCLB192OCG/', 'status': 'in progress', '@id': '/replicates/5ac1a452-5340-4e21-a875-fbcad1f75b74/', '@type': ['Replicate', 'Item'], 'uuid': '5ac1a452-5340-4e21-a875-fbcad1f75b74'}]}\n",
      "row 77 created: 5ac1a452-5340-4e21-a875-fbcad1f75b74\n",
      "Reponse {'status': 'success', '@type': ['result'], '@graph': [{'date_created': '2021-04-10T00:04:12.988748+00:00', 'submitted_by': '/users/bc5b62f7-ce28-4a1e-b6b3-81c9c5a86d7a/', 'aliases': ['barbara-wold:23060_b1_t1'], 'schema_version': '9', 'biological_replicate_number': 1, 'technical_replicate_number': 1, 'experiment': '/experiments/ENCSR219BFN/', 'library': '/libraries/ENCLB596UTQ/', 'status': 'in progress', '@id': '/replicates/a1fbdfa0-712c-407e-9045-9889fc957a65/', '@type': ['Replicate', 'Item'], 'uuid': 'a1fbdfa0-712c-407e-9045-9889fc957a65'}]}\n",
      "row 78 created: a1fbdfa0-712c-407e-9045-9889fc957a65\n",
      "Reponse {'status': 'success', '@type': ['result'], '@graph': [{'date_created': '2021-04-10T00:04:13.261496+00:00', 'submitted_by': '/users/bc5b62f7-ce28-4a1e-b6b3-81c9c5a86d7a/', 'aliases': ['barbara-wold:23061_b1_t1'], 'schema_version': '9', 'biological_replicate_number': 1, 'technical_replicate_number': 1, 'experiment': '/experiments/ENCSR966PYV/', 'library': '/libraries/ENCLB125JGF/', 'status': 'in progress', '@id': '/replicates/c9a2a8b0-1874-492c-b6dd-2ebbdb0b1a8f/', '@type': ['Replicate', 'Item'], 'uuid': 'c9a2a8b0-1874-492c-b6dd-2ebbdb0b1a8f'}]}\n",
      "row 79 created: c9a2a8b0-1874-492c-b6dd-2ebbdb0b1a8f\n",
      "Reponse {'status': 'success', '@type': ['result'], '@graph': [{'date_created': '2021-04-10T00:04:13.533378+00:00', 'submitted_by': '/users/bc5b62f7-ce28-4a1e-b6b3-81c9c5a86d7a/', 'aliases': ['barbara-wold:23062_b1_t1'], 'schema_version': '9', 'biological_replicate_number': 1, 'technical_replicate_number': 1, 'experiment': '/experiments/ENCSR531DPB/', 'library': '/libraries/ENCLB184DIT/', 'status': 'in progress', '@id': '/replicates/44434174-228b-4d01-a0ec-277d42225d02/', '@type': ['Replicate', 'Item'], 'uuid': '44434174-228b-4d01-a0ec-277d42225d02'}]}\n",
      "row 80 created: 44434174-228b-4d01-a0ec-277d42225d02\n",
      "Reponse {'status': 'success', '@type': ['result'], '@graph': [{'date_created': '2021-04-10T00:04:13.815647+00:00', 'submitted_by': '/users/bc5b62f7-ce28-4a1e-b6b3-81c9c5a86d7a/', 'aliases': ['barbara-wold:23063_b1_t1'], 'schema_version': '9', 'biological_replicate_number': 1, 'technical_replicate_number': 1, 'experiment': '/experiments/ENCSR928PUY/', 'library': '/libraries/ENCLB999KKY/', 'status': 'in progress', '@id': '/replicates/52248603-fb3a-4a41-80e7-5c71ec0eda0f/', '@type': ['Replicate', 'Item'], 'uuid': '52248603-fb3a-4a41-80e7-5c71ec0eda0f'}]}\n",
      "row 81 created: 52248603-fb3a-4a41-80e7-5c71ec0eda0f\n",
      "Reponse {'status': 'success', '@type': ['result'], '@graph': [{'date_created': '2021-04-10T00:04:14.080784+00:00', 'submitted_by': '/users/bc5b62f7-ce28-4a1e-b6b3-81c9c5a86d7a/', 'aliases': ['barbara-wold:23064_b1_t1'], 'schema_version': '9', 'biological_replicate_number': 1, 'technical_replicate_number': 1, 'experiment': '/experiments/ENCSR179IEB/', 'library': '/libraries/ENCLB567CIB/', 'status': 'in progress', '@id': '/replicates/452dd6e8-50cd-4304-a466-4fa185bef83c/', '@type': ['Replicate', 'Item'], 'uuid': '452dd6e8-50cd-4304-a466-4fa185bef83c'}]}\n",
      "row 82 created: 452dd6e8-50cd-4304-a466-4fa185bef83c\n",
      "Reponse {'status': 'success', '@type': ['result'], '@graph': [{'date_created': '2021-04-10T00:04:14.320320+00:00', 'submitted_by': '/users/bc5b62f7-ce28-4a1e-b6b3-81c9c5a86d7a/', 'aliases': ['barbara-wold:23065_b1_t1'], 'schema_version': '9', 'biological_replicate_number': 1, 'technical_replicate_number': 1, 'experiment': '/experiments/ENCSR755IPI/', 'library': '/libraries/ENCLB039WXG/', 'status': 'in progress', '@id': '/replicates/b4cc7de9-c470-40e3-b060-478ee07104ae/', '@type': ['Replicate', 'Item'], 'uuid': 'b4cc7de9-c470-40e3-b060-478ee07104ae'}]}\n",
      "row 83 created: b4cc7de9-c470-40e3-b060-478ee07104ae\n"
     ]
    },
    {
     "name": "stdout",
     "output_type": "stream",
     "text": [
      "Reponse {'status': 'success', '@type': ['result'], '@graph': [{'date_created': '2021-04-10T00:04:14.588532+00:00', 'submitted_by': '/users/bc5b62f7-ce28-4a1e-b6b3-81c9c5a86d7a/', 'aliases': ['barbara-wold:23066_b1_t1'], 'schema_version': '9', 'biological_replicate_number': 1, 'technical_replicate_number': 1, 'experiment': '/experiments/ENCSR393ONB/', 'library': '/libraries/ENCLB594VVB/', 'status': 'in progress', '@id': '/replicates/152519bc-876f-4181-bb4d-573cfdff2559/', '@type': ['Replicate', 'Item'], 'uuid': '152519bc-876f-4181-bb4d-573cfdff2559'}]}\n",
      "row 84 created: 152519bc-876f-4181-bb4d-573cfdff2559\n",
      "Reponse {'status': 'success', '@type': ['result'], '@graph': [{'date_created': '2021-04-10T00:04:14.861997+00:00', 'submitted_by': '/users/bc5b62f7-ce28-4a1e-b6b3-81c9c5a86d7a/', 'aliases': ['barbara-wold:23067_b1_t1'], 'schema_version': '9', 'biological_replicate_number': 1, 'technical_replicate_number': 1, 'experiment': '/experiments/ENCSR890CWQ/', 'library': '/libraries/ENCLB799OWB/', 'status': 'in progress', '@id': '/replicates/94314075-2718-4a64-92ce-178a120023c6/', '@type': ['Replicate', 'Item'], 'uuid': '94314075-2718-4a64-92ce-178a120023c6'}]}\n",
      "row 85 created: 94314075-2718-4a64-92ce-178a120023c6\n",
      "Reponse {'status': 'success', '@type': ['result'], '@graph': [{'date_created': '2021-04-10T00:04:15.118572+00:00', 'submitted_by': '/users/bc5b62f7-ce28-4a1e-b6b3-81c9c5a86d7a/', 'aliases': ['barbara-wold:23068_b1_t1'], 'schema_version': '9', 'biological_replicate_number': 1, 'technical_replicate_number': 1, 'experiment': '/experiments/ENCSR335RDP/', 'library': '/libraries/ENCLB479YKT/', 'status': 'in progress', '@id': '/replicates/9d571995-a566-47f5-9927-06de4a9b7344/', '@type': ['Replicate', 'Item'], 'uuid': '9d571995-a566-47f5-9927-06de4a9b7344'}]}\n",
      "row 86 created: 9d571995-a566-47f5-9927-06de4a9b7344\n",
      "Reponse {'status': 'success', '@type': ['result'], '@graph': [{'date_created': '2021-04-10T00:04:15.387339+00:00', 'submitted_by': '/users/bc5b62f7-ce28-4a1e-b6b3-81c9c5a86d7a/', 'aliases': ['barbara-wold:23069_b1_t1'], 'schema_version': '9', 'biological_replicate_number': 1, 'technical_replicate_number': 1, 'experiment': '/experiments/ENCSR015CNO/', 'library': '/libraries/ENCLB601WRF/', 'status': 'in progress', '@id': '/replicates/23ef5c92-60ee-4873-b069-b0fd3a7da28d/', '@type': ['Replicate', 'Item'], 'uuid': '23ef5c92-60ee-4873-b069-b0fd3a7da28d'}]}\n",
      "row 87 created: 23ef5c92-60ee-4873-b069-b0fd3a7da28d\n",
      "Reponse {'status': 'success', '@type': ['result'], '@graph': [{'date_created': '2021-04-10T00:04:15.661371+00:00', 'submitted_by': '/users/bc5b62f7-ce28-4a1e-b6b3-81c9c5a86d7a/', 'aliases': ['barbara-wold:23070_b1_t1'], 'schema_version': '9', 'biological_replicate_number': 1, 'technical_replicate_number': 1, 'experiment': '/experiments/ENCSR613PRC/', 'library': '/libraries/ENCLB705VMG/', 'status': 'in progress', '@id': '/replicates/8031f77d-ff6b-4ffa-8e78-c9de2d768445/', '@type': ['Replicate', 'Item'], 'uuid': '8031f77d-ff6b-4ffa-8e78-c9de2d768445'}]}\n",
      "row 88 created: 8031f77d-ff6b-4ffa-8e78-c9de2d768445\n",
      "Reponse {'status': 'success', '@type': ['result'], '@graph': [{'date_created': '2021-04-10T00:04:15.934578+00:00', 'submitted_by': '/users/bc5b62f7-ce28-4a1e-b6b3-81c9c5a86d7a/', 'aliases': ['barbara-wold:23071_b1_t1'], 'schema_version': '9', 'biological_replicate_number': 1, 'technical_replicate_number': 1, 'experiment': '/experiments/ENCSR708BRB/', 'library': '/libraries/ENCLB894FJN/', 'status': 'in progress', '@id': '/replicates/99162086-437e-4cb9-8ea5-2e24b44ac2a5/', '@type': ['Replicate', 'Item'], 'uuid': '99162086-437e-4cb9-8ea5-2e24b44ac2a5'}]}\n",
      "row 89 created: 99162086-437e-4cb9-8ea5-2e24b44ac2a5\n",
      "Reponse {'status': 'success', '@type': ['result'], '@graph': [{'date_created': '2021-04-10T00:04:16.210404+00:00', 'submitted_by': '/users/bc5b62f7-ce28-4a1e-b6b3-81c9c5a86d7a/', 'aliases': ['barbara-wold:23072_b1_t1'], 'schema_version': '9', 'biological_replicate_number': 1, 'technical_replicate_number': 1, 'experiment': '/experiments/ENCSR207WIB/', 'library': '/libraries/ENCLB539MJA/', 'status': 'in progress', '@id': '/replicates/4520466e-eb59-4e61-b6fa-8ee2ff462af2/', '@type': ['Replicate', 'Item'], 'uuid': '4520466e-eb59-4e61-b6fa-8ee2ff462af2'}]}\n",
      "row 90 created: 4520466e-eb59-4e61-b6fa-8ee2ff462af2\n",
      "Reponse {'status': 'success', '@type': ['result'], '@graph': [{'date_created': '2021-04-10T00:04:16.482644+00:00', 'submitted_by': '/users/bc5b62f7-ce28-4a1e-b6b3-81c9c5a86d7a/', 'aliases': ['barbara-wold:23073_b1_t1'], 'schema_version': '9', 'biological_replicate_number': 1, 'technical_replicate_number': 1, 'experiment': '/experiments/ENCSR430OXW/', 'library': '/libraries/ENCLB690KPI/', 'status': 'in progress', '@id': '/replicates/0a336d3e-ee8e-4e8b-9b93-6045fc56eaa9/', '@type': ['Replicate', 'Item'], 'uuid': '0a336d3e-ee8e-4e8b-9b93-6045fc56eaa9'}]}\n",
      "row 91 created: 0a336d3e-ee8e-4e8b-9b93-6045fc56eaa9\n",
      "Reponse {'status': 'success', '@type': ['result'], '@graph': [{'date_created': '2021-04-10T00:04:16.740449+00:00', 'submitted_by': '/users/bc5b62f7-ce28-4a1e-b6b3-81c9c5a86d7a/', 'aliases': ['barbara-wold:23074_b1_t1'], 'schema_version': '9', 'biological_replicate_number': 1, 'technical_replicate_number': 1, 'experiment': '/experiments/ENCSR224DDT/', 'library': '/libraries/ENCLB638HUR/', 'status': 'in progress', '@id': '/replicates/0b33acfc-4207-49b6-9c8e-40fdaccfe02f/', '@type': ['Replicate', 'Item'], 'uuid': '0b33acfc-4207-49b6-9c8e-40fdaccfe02f'}]}\n",
      "row 92 created: 0b33acfc-4207-49b6-9c8e-40fdaccfe02f\n",
      "Reponse {'status': 'success', '@type': ['result'], '@graph': [{'date_created': '2021-04-10T00:04:17.026274+00:00', 'submitted_by': '/users/bc5b62f7-ce28-4a1e-b6b3-81c9c5a86d7a/', 'aliases': ['barbara-wold:23075_b1_t1'], 'schema_version': '9', 'biological_replicate_number': 1, 'technical_replicate_number': 1, 'experiment': '/experiments/ENCSR652HYA/', 'library': '/libraries/ENCLB140ZWO/', 'status': 'in progress', '@id': '/replicates/0e3068f6-5abf-4fdc-9249-425b208c6616/', '@type': ['Replicate', 'Item'], 'uuid': '0e3068f6-5abf-4fdc-9249-425b208c6616'}]}\n",
      "row 93 created: 0e3068f6-5abf-4fdc-9249-425b208c6616\n",
      "Reponse {'status': 'success', '@type': ['result'], '@graph': [{'date_created': '2021-04-10T00:04:17.305529+00:00', 'submitted_by': '/users/bc5b62f7-ce28-4a1e-b6b3-81c9c5a86d7a/', 'aliases': ['barbara-wold:23076_b1_t1'], 'schema_version': '9', 'biological_replicate_number': 1, 'technical_replicate_number': 1, 'experiment': '/experiments/ENCSR522XUH/', 'library': '/libraries/ENCLB715SKW/', 'status': 'in progress', '@id': '/replicates/ae9acde6-7b18-44c9-b73b-52aa1a293903/', '@type': ['Replicate', 'Item'], 'uuid': 'ae9acde6-7b18-44c9-b73b-52aa1a293903'}]}\n",
      "row 94 created: ae9acde6-7b18-44c9-b73b-52aa1a293903\n",
      "Reponse {'status': 'success', '@type': ['result'], '@graph': [{'date_created': '2021-04-10T00:04:17.594053+00:00', 'submitted_by': '/users/bc5b62f7-ce28-4a1e-b6b3-81c9c5a86d7a/', 'aliases': ['barbara-wold:23077_b1_t1'], 'schema_version': '9', 'biological_replicate_number': 1, 'technical_replicate_number': 1, 'experiment': '/experiments/ENCSR329YON/', 'library': '/libraries/ENCLB213PJU/', 'status': 'in progress', '@id': '/replicates/5d465680-0034-4f41-9d43-cab9f7a4beb9/', '@type': ['Replicate', 'Item'], 'uuid': '5d465680-0034-4f41-9d43-cab9f7a4beb9'}]}\n",
      "row 95 created: 5d465680-0034-4f41-9d43-cab9f7a4beb9\n",
      "Reponse {'status': 'success', '@type': ['result'], '@graph': [{'date_created': '2021-04-10T00:04:17.874436+00:00', 'submitted_by': '/users/bc5b62f7-ce28-4a1e-b6b3-81c9c5a86d7a/', 'aliases': ['barbara-wold:23078_b1_t1'], 'schema_version': '9', 'biological_replicate_number': 1, 'technical_replicate_number': 1, 'experiment': '/experiments/ENCSR324EEG/', 'library': '/libraries/ENCLB847JSN/', 'status': 'in progress', '@id': '/replicates/a32148d4-8306-402c-8a60-64f02baa61b5/', '@type': ['Replicate', 'Item'], 'uuid': 'a32148d4-8306-402c-8a60-64f02baa61b5'}]}\n",
      "row 96 created: a32148d4-8306-402c-8a60-64f02baa61b5\n",
      "Reponse {'status': 'success', '@type': ['result'], '@graph': [{'date_created': '2021-04-10T00:04:18.136732+00:00', 'submitted_by': '/users/bc5b62f7-ce28-4a1e-b6b3-81c9c5a86d7a/', 'aliases': ['barbara-wold:23079_b1_t1'], 'schema_version': '9', 'biological_replicate_number': 1, 'technical_replicate_number': 1, 'experiment': '/experiments/ENCSR889MPU/', 'library': '/libraries/ENCLB908FPO/', 'status': 'in progress', '@id': '/replicates/ab902c61-17cd-43e5-86f1-9ce112031d3a/', '@type': ['Replicate', 'Item'], 'uuid': 'ab902c61-17cd-43e5-86f1-9ce112031d3a'}]}\n",
      "row 97 created: ab902c61-17cd-43e5-86f1-9ce112031d3a\n"
     ]
    },
    {
     "name": "stdout",
     "output_type": "stream",
     "text": [
      "Reponse {'status': 'success', '@type': ['result'], '@graph': [{'date_created': '2021-04-10T00:04:18.412745+00:00', 'submitted_by': '/users/bc5b62f7-ce28-4a1e-b6b3-81c9c5a86d7a/', 'aliases': ['barbara-wold:23080_b1_t1'], 'schema_version': '9', 'biological_replicate_number': 1, 'technical_replicate_number': 1, 'experiment': '/experiments/ENCSR352TIK/', 'library': '/libraries/ENCLB289ZDX/', 'status': 'in progress', '@id': '/replicates/a42f1f68-2d17-4154-a409-c548c62ba865/', '@type': ['Replicate', 'Item'], 'uuid': 'a42f1f68-2d17-4154-a409-c548c62ba865'}]}\n",
      "row 98 created: a42f1f68-2d17-4154-a409-c548c62ba865\n",
      "Reponse {'status': 'success', '@type': ['result'], '@graph': [{'date_created': '2021-04-10T00:04:18.691673+00:00', 'submitted_by': '/users/bc5b62f7-ce28-4a1e-b6b3-81c9c5a86d7a/', 'aliases': ['barbara-wold:23081_b1_t1'], 'schema_version': '9', 'biological_replicate_number': 1, 'technical_replicate_number': 1, 'experiment': '/experiments/ENCSR111VTZ/', 'library': '/libraries/ENCLB679DUT/', 'status': 'in progress', '@id': '/replicates/98b3fc13-8340-4a69-8161-a748fb9f8670/', '@type': ['Replicate', 'Item'], 'uuid': '98b3fc13-8340-4a69-8161-a748fb9f8670'}]}\n",
      "row 99 created: 98b3fc13-8340-4a69-8161-a748fb9f8670\n",
      "Reponse {'status': 'success', '@type': ['result'], '@graph': [{'date_created': '2021-04-10T00:04:18.968281+00:00', 'submitted_by': '/users/bc5b62f7-ce28-4a1e-b6b3-81c9c5a86d7a/', 'aliases': ['barbara-wold:23082_b1_t1'], 'schema_version': '9', 'biological_replicate_number': 1, 'technical_replicate_number': 1, 'experiment': '/experiments/ENCSR309VHO/', 'library': '/libraries/ENCLB019IEQ/', 'status': 'in progress', '@id': '/replicates/724b5608-d993-4b5e-854e-9b90be05b4c7/', '@type': ['Replicate', 'Item'], 'uuid': '724b5608-d993-4b5e-854e-9b90be05b4c7'}]}\n",
      "row 100 created: 724b5608-d993-4b5e-854e-9b90be05b4c7\n",
      "Reponse {'status': 'success', '@type': ['result'], '@graph': [{'date_created': '2021-04-10T00:04:19.229573+00:00', 'submitted_by': '/users/bc5b62f7-ce28-4a1e-b6b3-81c9c5a86d7a/', 'aliases': ['barbara-wold:23083_b1_t1'], 'schema_version': '9', 'biological_replicate_number': 1, 'technical_replicate_number': 1, 'experiment': '/experiments/ENCSR665FSO/', 'library': '/libraries/ENCLB776TBD/', 'status': 'in progress', '@id': '/replicates/77b318c4-8fb6-4223-9681-e130807994ce/', '@type': ['Replicate', 'Item'], 'uuid': '77b318c4-8fb6-4223-9681-e130807994ce'}]}\n",
      "row 101 created: 77b318c4-8fb6-4223-9681-e130807994ce\n",
      "Reponse {'status': 'success', '@type': ['result'], '@graph': [{'date_created': '2021-04-10T00:04:19.510914+00:00', 'submitted_by': '/users/bc5b62f7-ce28-4a1e-b6b3-81c9c5a86d7a/', 'aliases': ['barbara-wold:23084_b1_t1'], 'schema_version': '9', 'biological_replicate_number': 1, 'technical_replicate_number': 1, 'experiment': '/experiments/ENCSR720ZTB/', 'library': '/libraries/ENCLB851JLU/', 'status': 'in progress', '@id': '/replicates/b97e073d-0ad9-46fb-af8d-c1413fd735ed/', '@type': ['Replicate', 'Item'], 'uuid': 'b97e073d-0ad9-46fb-af8d-c1413fd735ed'}]}\n",
      "row 102 created: b97e073d-0ad9-46fb-af8d-c1413fd735ed\n",
      "Reponse {'status': 'success', '@type': ['result'], '@graph': [{'date_created': '2021-04-10T00:04:19.798132+00:00', 'submitted_by': '/users/bc5b62f7-ce28-4a1e-b6b3-81c9c5a86d7a/', 'aliases': ['barbara-wold:23085_b1_t1'], 'schema_version': '9', 'biological_replicate_number': 1, 'technical_replicate_number': 1, 'experiment': '/experiments/ENCSR959MAY/', 'library': '/libraries/ENCLB217FBD/', 'status': 'in progress', '@id': '/replicates/b73630e7-a338-43fc-ae60-c0cf8a7c7a21/', '@type': ['Replicate', 'Item'], 'uuid': 'b73630e7-a338-43fc-ae60-c0cf8a7c7a21'}]}\n",
      "row 103 created: b73630e7-a338-43fc-ae60-c0cf8a7c7a21\n",
      "Reponse {'status': 'success', '@type': ['result'], '@graph': [{'date_created': '2021-04-10T00:04:20.197556+00:00', 'submitted_by': '/users/bc5b62f7-ce28-4a1e-b6b3-81c9c5a86d7a/', 'aliases': ['barbara-wold:23086_b1_t1'], 'schema_version': '9', 'biological_replicate_number': 1, 'technical_replicate_number': 1, 'experiment': '/experiments/ENCSR527NUJ/', 'library': '/libraries/ENCLB750CXR/', 'status': 'in progress', '@id': '/replicates/743b48d9-9065-4821-bf57-db1557a90a6f/', '@type': ['Replicate', 'Item'], 'uuid': '743b48d9-9065-4821-bf57-db1557a90a6f'}]}\n",
      "row 104 created: 743b48d9-9065-4821-bf57-db1557a90a6f\n",
      "Reponse {'status': 'success', '@type': ['result'], '@graph': [{'date_created': '2021-04-10T00:04:20.471482+00:00', 'submitted_by': '/users/bc5b62f7-ce28-4a1e-b6b3-81c9c5a86d7a/', 'aliases': ['barbara-wold:23087_b1_t1'], 'schema_version': '9', 'biological_replicate_number': 1, 'technical_replicate_number': 1, 'experiment': '/experiments/ENCSR706DSF/', 'library': '/libraries/ENCLB877WST/', 'status': 'in progress', '@id': '/replicates/70db8e8d-6eb9-4e73-9312-af659d710211/', '@type': ['Replicate', 'Item'], 'uuid': '70db8e8d-6eb9-4e73-9312-af659d710211'}]}\n",
      "row 105 created: 70db8e8d-6eb9-4e73-9312-af659d710211\n",
      "Reponse {'status': 'success', '@type': ['result'], '@graph': [{'date_created': '2021-04-10T00:04:20.744235+00:00', 'submitted_by': '/users/bc5b62f7-ce28-4a1e-b6b3-81c9c5a86d7a/', 'aliases': ['barbara-wold:23088_b1_t1'], 'schema_version': '9', 'biological_replicate_number': 1, 'technical_replicate_number': 1, 'experiment': '/experiments/ENCSR000PYA/', 'library': '/libraries/ENCLB862DWT/', 'status': 'in progress', '@id': '/replicates/2ae68887-5de9-48a4-afd7-702497590395/', '@type': ['Replicate', 'Item'], 'uuid': '2ae68887-5de9-48a4-afd7-702497590395'}]}\n",
      "row 106 created: 2ae68887-5de9-48a4-afd7-702497590395\n",
      "Reponse {'status': 'success', '@type': ['result'], '@graph': [{'date_created': '2021-04-10T00:04:21.025723+00:00', 'submitted_by': '/users/bc5b62f7-ce28-4a1e-b6b3-81c9c5a86d7a/', 'aliases': ['barbara-wold:23089_b1_t1'], 'schema_version': '9', 'biological_replicate_number': 1, 'technical_replicate_number': 1, 'experiment': '/experiments/ENCSR561NJH/', 'library': '/libraries/ENCLB040DWA/', 'status': 'in progress', '@id': '/replicates/4e5b8958-adfb-4fad-bddf-ca5bf8f765e4/', '@type': ['Replicate', 'Item'], 'uuid': '4e5b8958-adfb-4fad-bddf-ca5bf8f765e4'}]}\n",
      "row 107 created: 4e5b8958-adfb-4fad-bddf-ca5bf8f765e4\n",
      "Reponse {'status': 'success', '@type': ['result'], '@graph': [{'date_created': '2021-04-10T00:04:21.299387+00:00', 'submitted_by': '/users/bc5b62f7-ce28-4a1e-b6b3-81c9c5a86d7a/', 'aliases': ['barbara-wold:23090_b1_t1'], 'schema_version': '9', 'biological_replicate_number': 1, 'technical_replicate_number': 1, 'experiment': '/experiments/ENCSR471WLR/', 'library': '/libraries/ENCLB624AJY/', 'status': 'in progress', '@id': '/replicates/f21bd14a-c3ba-4fc2-8ad3-1e869ed93943/', '@type': ['Replicate', 'Item'], 'uuid': 'f21bd14a-c3ba-4fc2-8ad3-1e869ed93943'}]}\n",
      "row 108 created: f21bd14a-c3ba-4fc2-8ad3-1e869ed93943\n",
      "Reponse {'status': 'success', '@type': ['result'], '@graph': [{'date_created': '2021-04-10T00:04:21.569662+00:00', 'submitted_by': '/users/bc5b62f7-ce28-4a1e-b6b3-81c9c5a86d7a/', 'aliases': ['barbara-wold:23091_b1_t1'], 'schema_version': '9', 'biological_replicate_number': 1, 'technical_replicate_number': 1, 'experiment': '/experiments/ENCSR147MNP/', 'library': '/libraries/ENCLB059RQU/', 'status': 'in progress', '@id': '/replicates/1698a707-e192-430d-894c-e622f2e4f24b/', '@type': ['Replicate', 'Item'], 'uuid': '1698a707-e192-430d-894c-e622f2e4f24b'}]}\n",
      "row 109 created: 1698a707-e192-430d-894c-e622f2e4f24b\n",
      "Reponse {'status': 'success', '@type': ['result'], '@graph': [{'date_created': '2021-04-10T00:04:21.842710+00:00', 'submitted_by': '/users/bc5b62f7-ce28-4a1e-b6b3-81c9c5a86d7a/', 'aliases': ['barbara-wold:23092_b1_t1'], 'schema_version': '9', 'biological_replicate_number': 1, 'technical_replicate_number': 1, 'experiment': '/experiments/ENCSR998EKR/', 'library': '/libraries/ENCLB502ZSU/', 'status': 'in progress', '@id': '/replicates/f012126d-f71c-4a50-a646-6d92b82d8cff/', '@type': ['Replicate', 'Item'], 'uuid': 'f012126d-f71c-4a50-a646-6d92b82d8cff'}]}\n",
      "row 110 created: f012126d-f71c-4a50-a646-6d92b82d8cff\n",
      "Reponse {'status': 'success', '@type': ['result'], '@graph': [{'date_created': '2021-04-10T00:04:22.116653+00:00', 'submitted_by': '/users/bc5b62f7-ce28-4a1e-b6b3-81c9c5a86d7a/', 'aliases': ['barbara-wold:23093_b1_t1'], 'schema_version': '9', 'biological_replicate_number': 1, 'technical_replicate_number': 1, 'experiment': '/experiments/ENCSR367WCE/', 'library': '/libraries/ENCLB419XFY/', 'status': 'in progress', '@id': '/replicates/b5a6678b-6e73-433d-80b1-cb0607d069c7/', '@type': ['Replicate', 'Item'], 'uuid': 'b5a6678b-6e73-433d-80b1-cb0607d069c7'}]}\n",
      "row 111 created: b5a6678b-6e73-433d-80b1-cb0607d069c7\n"
     ]
    },
    {
     "name": "stdout",
     "output_type": "stream",
     "text": [
      "Reponse {'status': 'success', '@type': ['result'], '@graph': [{'date_created': '2021-04-10T00:04:22.392441+00:00', 'submitted_by': '/users/bc5b62f7-ce28-4a1e-b6b3-81c9c5a86d7a/', 'aliases': ['barbara-wold:23094_b1_t1'], 'schema_version': '9', 'biological_replicate_number': 1, 'technical_replicate_number': 1, 'experiment': '/experiments/ENCSR140RTO/', 'library': '/libraries/ENCLB745ZLH/', 'status': 'in progress', '@id': '/replicates/460ef87f-0546-445b-b4e1-2fb7eb06a46d/', '@type': ['Replicate', 'Item'], 'uuid': '460ef87f-0546-445b-b4e1-2fb7eb06a46d'}]}\n",
      "row 112 created: 460ef87f-0546-445b-b4e1-2fb7eb06a46d\n",
      "Reponse {'status': 'success', '@type': ['result'], '@graph': [{'date_created': '2021-04-10T00:04:22.670336+00:00', 'submitted_by': '/users/bc5b62f7-ce28-4a1e-b6b3-81c9c5a86d7a/', 'aliases': ['barbara-wold:23095_b1_t1'], 'schema_version': '9', 'biological_replicate_number': 1, 'technical_replicate_number': 1, 'experiment': '/experiments/ENCSR807MST/', 'library': '/libraries/ENCLB291DTZ/', 'status': 'in progress', '@id': '/replicates/cb95ec90-4c63-424f-9e4c-067f7d5fa1d5/', '@type': ['Replicate', 'Item'], 'uuid': 'cb95ec90-4c63-424f-9e4c-067f7d5fa1d5'}]}\n",
      "row 113 created: cb95ec90-4c63-424f-9e4c-067f7d5fa1d5\n",
      "Reponse {'status': 'success', '@type': ['result'], '@graph': [{'date_created': '2021-04-10T00:04:22.945432+00:00', 'submitted_by': '/users/bc5b62f7-ce28-4a1e-b6b3-81c9c5a86d7a/', 'aliases': ['barbara-wold:23096_b1_t1'], 'schema_version': '9', 'biological_replicate_number': 1, 'technical_replicate_number': 1, 'experiment': '/experiments/ENCSR673HGX/', 'library': '/libraries/ENCLB975MYH/', 'status': 'in progress', '@id': '/replicates/358b7384-b2d7-4d23-89e9-2d3412d8566d/', '@type': ['Replicate', 'Item'], 'uuid': '358b7384-b2d7-4d23-89e9-2d3412d8566d'}]}\n",
      "row 114 created: 358b7384-b2d7-4d23-89e9-2d3412d8566d\n",
      "Reponse {'status': 'success', '@type': ['result'], '@graph': [{'date_created': '2021-04-10T00:04:23.211043+00:00', 'submitted_by': '/users/bc5b62f7-ce28-4a1e-b6b3-81c9c5a86d7a/', 'aliases': ['barbara-wold:23097_b1_t1'], 'schema_version': '9', 'biological_replicate_number': 1, 'technical_replicate_number': 1, 'experiment': '/experiments/ENCSR132LRJ/', 'library': '/libraries/ENCLB474VOU/', 'status': 'in progress', '@id': '/replicates/3f6da5b3-04c6-4bab-b143-3e7af45aa272/', '@type': ['Replicate', 'Item'], 'uuid': '3f6da5b3-04c6-4bab-b143-3e7af45aa272'}]}\n",
      "row 115 created: 3f6da5b3-04c6-4bab-b143-3e7af45aa272\n",
      "Reponse {'status': 'success', '@type': ['result'], '@graph': [{'date_created': '2021-04-10T00:04:23.483728+00:00', 'submitted_by': '/users/bc5b62f7-ce28-4a1e-b6b3-81c9c5a86d7a/', 'aliases': ['barbara-wold:23098_b1_t1'], 'schema_version': '9', 'biological_replicate_number': 1, 'technical_replicate_number': 1, 'experiment': '/experiments/ENCSR388VOO/', 'library': '/libraries/ENCLB838KGX/', 'status': 'in progress', '@id': '/replicates/e16a76f8-8e40-4d60-8cc6-a9896943bafc/', '@type': ['Replicate', 'Item'], 'uuid': 'e16a76f8-8e40-4d60-8cc6-a9896943bafc'}]}\n",
      "row 116 created: e16a76f8-8e40-4d60-8cc6-a9896943bafc\n",
      "Reponse {'status': 'success', '@type': ['result'], '@graph': [{'date_created': '2021-04-10T00:04:23.758961+00:00', 'submitted_by': '/users/bc5b62f7-ce28-4a1e-b6b3-81c9c5a86d7a/', 'aliases': ['barbara-wold:23099_b1_t1'], 'schema_version': '9', 'biological_replicate_number': 1, 'technical_replicate_number': 1, 'experiment': '/experiments/ENCSR826LBN/', 'library': '/libraries/ENCLB459KDU/', 'status': 'in progress', '@id': '/replicates/099a70b9-3119-42de-a1d2-2b18caba68a0/', '@type': ['Replicate', 'Item'], 'uuid': '099a70b9-3119-42de-a1d2-2b18caba68a0'}]}\n",
      "row 117 created: 099a70b9-3119-42de-a1d2-2b18caba68a0\n",
      "Reponse {'status': 'success', '@type': ['result'], '@graph': [{'date_created': '2021-04-10T00:04:24.041254+00:00', 'submitted_by': '/users/bc5b62f7-ce28-4a1e-b6b3-81c9c5a86d7a/', 'aliases': ['barbara-wold:23100_b1_t1'], 'schema_version': '9', 'biological_replicate_number': 1, 'technical_replicate_number': 1, 'experiment': '/experiments/ENCSR792GKF/', 'library': '/libraries/ENCLB414DLJ/', 'status': 'in progress', '@id': '/replicates/fac50785-16d2-4221-86fc-bca457e10972/', '@type': ['Replicate', 'Item'], 'uuid': 'fac50785-16d2-4221-86fc-bca457e10972'}]}\n",
      "row 118 created: fac50785-16d2-4221-86fc-bca457e10972\n",
      "119\n"
     ]
    }
   ],
   "source": [
    "print(server.server)\n",
    "print(spreadsheet_name)\n",
    "replicates = pandas.read_excel(spreadsheet_name, sheet_name='Replicate', header=0, engine=engine)\n",
    "replicates = replicates[replicates['uuid'] != 'barbara approval needed']\n",
    "created = server.post_sheet('/replicates/',\n",
    "                            replicates, \n",
    "                            verbose=True, \n",
    "                            dry_run=False, \n",
    "                            validator=validator)\n",
    "print(len(created))"
   ]
  },
  {
   "cell_type": "code",
   "execution_count": 31,
   "metadata": {},
   "outputs": [],
   "source": [
    "if created:\n",
    "    replicates.to_excel('/dev/shm/replicates.xlsx', index=False)"
   ]
  },
  {
   "cell_type": "markdown",
   "metadata": {},
   "source": [
    "# Check Files"
   ]
  },
  {
   "cell_type": "code",
   "execution_count": 19,
   "metadata": {},
   "outputs": [
    {
     "name": "stdout",
     "output_type": "stream",
     "text": [
      "121\n"
     ]
    }
   ],
   "source": [
    "files = pandas.read_excel(spreadsheet_name, sheet_name='File', header=0, engine=engine)\n",
    "created = server.post_sheet('/files/', files, verbose=True, dry_run=True, validator=validator)\n",
    "print(len(created))"
   ]
  },
  {
   "cell_type": "code",
   "execution_count": null,
   "metadata": {},
   "outputs": [],
   "source": []
  }
 ],
 "metadata": {
  "kernelspec": {
   "display_name": "Python 3",
   "language": "python",
   "name": "python3"
  },
  "language_info": {
   "codemirror_mode": {
    "name": "ipython",
    "version": 3
   },
   "file_extension": ".py",
   "mimetype": "text/x-python",
   "name": "python",
   "nbconvert_exporter": "python",
   "pygments_lexer": "ipython3",
   "version": "3.9.2"
  }
 },
 "nbformat": 4,
 "nbformat_minor": 1
}
