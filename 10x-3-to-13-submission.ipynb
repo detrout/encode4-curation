{
 "cells": [
  {
   "cell_type": "markdown",
   "metadata": {},
   "source": [
    "Submitting various things for end of grant."
   ]
  },
  {
   "cell_type": "code",
   "execution_count": 1,
   "metadata": {},
   "outputs": [],
   "source": [
    "import os\n",
    "import sys\n",
    "import requests\n",
    "import pandas\n",
    "import paramiko\n",
    "import json\n",
    "from IPython import display"
   ]
  },
  {
   "cell_type": "code",
   "execution_count": 2,
   "metadata": {},
   "outputs": [],
   "source": [
    "from curation_common import *\n",
    "from htsworkflow.submission.encoded import DCCValidator"
   ]
  },
  {
   "cell_type": "code",
   "execution_count": 3,
   "metadata": {},
   "outputs": [],
   "source": [
    "PANDAS_ODF = os.path.expanduser('~/src/pandasodf')\n",
    "if PANDAS_ODF not in sys.path:\n",
    "    sys.path.append(PANDAS_ODF)\n",
    "    from pandasodf import ODFReader"
   ]
  },
  {
   "cell_type": "code",
   "execution_count": 4,
   "metadata": {},
   "outputs": [],
   "source": [
    "from htsworkflow.submission.encoded import Document\n",
    "from htsworkflow.submission.aws_submission import run_aws_cp"
   ]
  },
  {
   "cell_type": "code",
   "execution_count": 5,
   "metadata": {},
   "outputs": [],
   "source": [
    "# live server & control file\n",
    "server = ENCODED('www.encodeproject.org')\n",
    "spreadsheet_name = os.path.expanduser('~diane/woldlab/ENCODE/10x_mouse_limb_20181219.ods')\n",
    "\n",
    "# test server & datafile\n",
    "#server = ENCODED('test.encodedcc.org')\n",
    "#spreadsheet_name = os.path.expanduser('~diane/woldlab/ENCODE/10x_mouse_limb_20181219-testserver.ods')\n",
    "\n",
    "server.load_netrc()\n",
    "validator = DCCValidator(server)"
   ]
  },
  {
   "cell_type": "code",
   "execution_count": 6,
   "metadata": {},
   "outputs": [],
   "source": [
    "award = 'UM1HG009443'"
   ]
  },
  {
   "cell_type": "markdown",
   "metadata": {},
   "source": [
    "# Submit Documents"
   ]
  },
  {
   "cell_type": "markdown",
   "metadata": {},
   "source": [
    "Example Document submission"
   ]
  },
  {
   "cell_type": "code",
   "execution_count": 7,
   "metadata": {},
   "outputs": [],
   "source": [
    "#atac_uuid = '0fc44318-b802-474e-8199-f3b6d708eb6f'\n",
    "#atac = Document(os.path.expanduser('~/proj/encode3-curation/Wold_Lab_ATAC_Seq_protocol_December_2016.pdf'),\n",
    "#                'general protocol',\n",
    "#                'ATAC-Seq experiment protocol for Wold lab',\n",
    "#                )\n",
    "#body = atac.create_if_needed(server, atac_uuid)\n",
    "#print(body['@id'])"
   ]
  },
  {
   "cell_type": "markdown",
   "metadata": {},
   "source": [
    "# Submit Annotations"
   ]
  },
  {
   "cell_type": "code",
   "execution_count": 8,
   "metadata": {},
   "outputs": [],
   "source": [
    "#sheet = gcat.get_file(spreadsheet_name, fmt='pandas_excel')\n",
    "#annotations = sheet.parse('Annotations', header=0)\n",
    "#created = server.post_sheet('/annotations/', annotations, verbose=True, dry_run=True)\n",
    "#print(len(created))"
   ]
  },
  {
   "cell_type": "code",
   "execution_count": 9,
   "metadata": {},
   "outputs": [],
   "source": [
    "#if created:\n",
    "#    annotations.to_excel('/tmp/annotations.xlsx', index=False)"
   ]
  },
  {
   "cell_type": "markdown",
   "metadata": {},
   "source": [
    "# Register Biosamples"
   ]
  },
  {
   "cell_type": "code",
   "execution_count": 19,
   "metadata": {
    "scrolled": true
   },
   "outputs": [
    {
     "name": "stdout",
     "output_type": "stream",
     "text": [
      "11\n"
     ]
    }
   ],
   "source": [
    "book = ODFReader(spreadsheet_name)\n",
    "biosample = book.parse('Biosample', header=0)\n",
    "created = server.post_sheet('/biosamples/', biosample, \n",
    "                            verbose=True, \n",
    "                            dry_run=True, \n",
    "                            validator=validator)\n",
    "print(len(created))"
   ]
  },
  {
   "cell_type": "code",
   "execution_count": 20,
   "metadata": {},
   "outputs": [],
   "source": [
    "if created:\n",
    "    biosample.to_excel('/dev/shm/biosamples.xlsx', index=False)"
   ]
  },
  {
   "cell_type": "markdown",
   "metadata": {},
   "source": [
    "# Register Libraries"
   ]
  },
  {
   "cell_type": "code",
   "execution_count": 23,
   "metadata": {
    "scrolled": true
   },
   "outputs": [
    {
     "name": "stdout",
     "output_type": "stream",
     "text": [
      "/home/diane/woldlab/ENCODE/10x_mouse_limb_20181219.ods\n",
      "11\n"
     ]
    }
   ],
   "source": [
    "print(spreadsheet_name)\n",
    "book = ODFReader(spreadsheet_name)\n",
    "libraries = book.parse('Library', header=0)\n",
    "created = server.post_sheet('/libraries/', \n",
    "                            libraries, \n",
    "                            verbose=True, \n",
    "                            dry_run=True, \n",
    "                            validator=validator)\n",
    "print(len(created))"
   ]
  },
  {
   "cell_type": "code",
   "execution_count": 24,
   "metadata": {},
   "outputs": [],
   "source": [
    "if created:\n",
    "    libraries.to_excel('/dev/shm/libraries.xlsx', index=False)"
   ]
  },
  {
   "cell_type": "markdown",
   "metadata": {},
   "source": [
    "# Register Experiments"
   ]
  },
  {
   "cell_type": "code",
   "execution_count": 25,
   "metadata": {},
   "outputs": [
    {
     "name": "stdout",
     "output_type": "stream",
     "text": [
      "Reponse {'@type': ['result'], 'status': 'success', '@graph': [{'@id': '/experiments/ENCSR642XVO/', 'revoked_files': [], 'original_files': [], 'objective_slims': [], 'accession': 'ENCSR642XVO', 'dbxrefs': [], 'system_slims': [], 'references': [], 'lab': '/labs/barbara-wold/', 'uuid': 'e51d1d30-754e-450a-bbe4-d7b0f241f1af', 'biosample_synonyms': ['free part of upper limb', 'upper limb', 'free upper limb', 'foreleg', 'Entire upper limb', 'anteriormost limb', 'pectoral flipper', 'pectoral limb', 'fore limb', 'membrum superius', 'forelimb', 'superior member', 'upper extremity'], 'possible_controls': [], 'description': \"10X Genomics Chromium 3' single-cell RNA-Seq (v2 kit) of C57Bl6 wild-type 11.0 day embryonic mouse forelimb\", 'submitted_by': '/users/bc5b62f7-ce28-4a1e-b6b3-81c9c5a86d7a/', '@type': ['Experiment', 'Dataset', 'Item'], 'internal_status': 'unreviewed', 'aliases': [], 'assembly': [], 'biosample_term_name': 'forelimb', 'assay_title': 'single cell RNA-seq', 'date_created': '2019-01-04T21:14:14.247268+00:00', 'status': 'in progress', 'internal_tags': [], 'supersedes': [], 'organ_slims': ['limb'], 'type_slims': [], 'assay_term_id': 'NTR:0003082', 'developmental_slims': [], 'related_series': [], 'alternate_accessions': [], 'assay_term_name': 'single cell isolation followed by RNA-seq', 'award': '/awards/UM1HG009443/', 'biosample_type': 'tissue', 'schema_version': '22', 'replication_type': 'unreplicated', 'assay_slims': ['Transcription'], 'related_files': [], 'replicates': [], 'superseded_by': [], 'files': [], 'cell_slims': [], 'experiment_classification': ['functional genomics assay'], 'documents': ['/documents/515a990c-50c4-459a-8036-502feaf5a18c/', '/documents/ecb1c489-905b-4afb-8389-ed7fb2e36ff2/'], 'biosample_term_id': 'UBERON:0002102', 'category_slims': [], 'contributing_files': []}]}\n",
      "row 1 created: e51d1d30-754e-450a-bbe4-d7b0f241f1af\n",
      "Reponse {'status': 'success', '@graph': [{'supersedes': [], 'internal_tags': [], '@id': '/experiments/ENCSR745DNK/', 'category_slims': [], 'system_slims': [], 'biosample_term_name': 'forelimb', 'dbxrefs': [], 'status': 'in progress', 'accession': 'ENCSR745DNK', 'objective_slims': [], 'cell_slims': [], 'alternate_accessions': [], 'organ_slims': ['limb'], 'contributing_files': [], 'related_series': [], '@type': ['Experiment', 'Dataset', 'Item'], 'files': [], 'related_files': [], 'references': [], 'biosample_synonyms': ['Entire upper limb', 'pectoral flipper', 'free part of upper limb', 'anteriormost limb', 'upper extremity', 'pectoral limb', 'foreleg', 'free upper limb', 'membrum superius', 'fore limb', 'superior member', 'upper limb', 'forelimb'], 'original_files': [], 'biosample_type': 'tissue', 'assay_term_id': 'NTR:0003082', 'revoked_files': [], 'submitted_by': '/users/bc5b62f7-ce28-4a1e-b6b3-81c9c5a86d7a/', 'biosample_term_id': 'UBERON:0002102', 'possible_controls': [], 'experiment_classification': ['functional genomics assay'], 'description': \"10X Genomics Chromium 3' single-cell RNA-Seq (v2 kit) of C57Bl6 wild-type 12.0 day embryonic mouse forelimb\", 'internal_status': 'unreviewed', 'assay_term_name': 'single cell isolation followed by RNA-seq', 'lab': '/labs/barbara-wold/', 'type_slims': [], 'assembly': [], 'developmental_slims': [], 'date_created': '2019-01-04T21:14:14.416498+00:00', 'replicates': [], 'assay_title': 'single cell RNA-seq', 'schema_version': '22', 'aliases': [], 'superseded_by': [], 'award': '/awards/UM1HG009443/', 'uuid': '8c1a2220-2c99-4796-9b1e-00dd31db3368', 'documents': ['/documents/515a990c-50c4-459a-8036-502feaf5a18c/', '/documents/ecb1c489-905b-4afb-8389-ed7fb2e36ff2/'], 'assay_slims': ['Transcription'], 'replication_type': 'unreplicated'}], '@type': ['result']}\n",
      "row 2 created: 8c1a2220-2c99-4796-9b1e-00dd31db3368\n",
      "Reponse {'@type': ['result'], 'status': 'success', '@graph': [{'@id': '/experiments/ENCSR476JWN/', 'revoked_files': [], 'original_files': [], 'objective_slims': [], 'accession': 'ENCSR476JWN', 'dbxrefs': [], 'system_slims': [], 'references': [], 'lab': '/labs/barbara-wold/', 'uuid': '5ca81662-d3e3-43c5-8227-2961fdb43d5d', 'biosample_synonyms': ['free part of upper limb', 'upper limb', 'free upper limb', 'foreleg', 'Entire upper limb', 'anteriormost limb', 'pectoral flipper', 'pectoral limb', 'fore limb', 'membrum superius', 'forelimb', 'superior member', 'upper extremity'], 'possible_controls': [], 'description': \"10X Genomics Chromium 3' single-cell RNA-Seq (v2 kit) of C57Bl6 wild-type 13.0 day embryonic mouse forelimb\", 'submitted_by': '/users/bc5b62f7-ce28-4a1e-b6b3-81c9c5a86d7a/', '@type': ['Experiment', 'Dataset', 'Item'], 'internal_status': 'unreviewed', 'aliases': [], 'assembly': [], 'biosample_term_name': 'forelimb', 'assay_title': 'single cell RNA-seq', 'date_created': '2019-01-04T21:14:14.554987+00:00', 'status': 'in progress', 'internal_tags': [], 'supersedes': [], 'organ_slims': ['limb'], 'type_slims': [], 'assay_term_id': 'NTR:0003082', 'developmental_slims': [], 'related_series': [], 'alternate_accessions': [], 'assay_term_name': 'single cell isolation followed by RNA-seq', 'award': '/awards/UM1HG009443/', 'biosample_type': 'tissue', 'schema_version': '22', 'replication_type': 'unreplicated', 'assay_slims': ['Transcription'], 'related_files': [], 'replicates': [], 'superseded_by': [], 'files': [], 'cell_slims': [], 'experiment_classification': ['functional genomics assay'], 'documents': ['/documents/515a990c-50c4-459a-8036-502feaf5a18c/', '/documents/ecb1c489-905b-4afb-8389-ed7fb2e36ff2/'], 'biosample_term_id': 'UBERON:0002102', 'category_slims': [], 'contributing_files': []}]}\n",
      "row 3 created: 5ca81662-d3e3-43c5-8227-2961fdb43d5d\n",
      "Reponse {'status': 'success', '@graph': [{'original_files': [], 'related_files': [], 'assay_title': 'single cell RNA-seq', 'biosample_term_name': 'forelimb', 'superseded_by': [], 'biosample_term_id': 'UBERON:0002102', 'replication_type': 'unreplicated', 'contributing_files': [], 'submitted_by': '/users/bc5b62f7-ce28-4a1e-b6b3-81c9c5a86d7a/', 'internal_status': 'unreviewed', 'description': \"10X Genomics Chromium 3' single-cell RNA-Seq (v2 kit) of C57Bl6 wild-type 15.0 day embryonic mouse forelimb\", 'experiment_classification': ['functional genomics assay'], '@type': ['Experiment', 'Dataset', 'Item'], 'category_slims': [], 'files': [], 'possible_controls': [], 'dbxrefs': [], 'schema_version': '22', 'organ_slims': ['limb'], 'status': 'in progress', 'award': '/awards/UM1HG009443/', 'date_created': '2019-01-04T21:14:14.692088+00:00', 'assembly': [], 'uuid': '406171c2-7689-4c0d-ac26-ee333fa75df2', 'lab': '/labs/barbara-wold/', 'type_slims': [], '@id': '/experiments/ENCSR337QTQ/', 'assay_slims': ['Transcription'], 'system_slims': [], 'assay_term_name': 'single cell isolation followed by RNA-seq', 'objective_slims': [], 'assay_term_id': 'NTR:0003082', 'alternate_accessions': [], 'developmental_slims': [], 'aliases': [], 'accession': 'ENCSR337QTQ', 'references': [], 'internal_tags': [], 'related_series': [], 'replicates': [], 'cell_slims': [], 'biosample_type': 'tissue', 'documents': ['/documents/515a990c-50c4-459a-8036-502feaf5a18c/', '/documents/ecb1c489-905b-4afb-8389-ed7fb2e36ff2/'], 'supersedes': [], 'revoked_files': [], 'biosample_synonyms': ['forelimb', 'anteriormost limb', 'membrum superius', 'pectoral limb', 'upper extremity', 'free part of upper limb', 'upper limb', 'foreleg', 'free upper limb', 'fore limb', 'Entire upper limb', 'pectoral flipper', 'superior member']}], '@type': ['result']}\n",
      "row 4 created: 406171c2-7689-4c0d-ac26-ee333fa75df2\n",
      "Reponse {'status': 'success', '@graph': [{'supersedes': [], 'internal_tags': [], '@id': '/experiments/ENCSR874BOF/', 'category_slims': [], 'system_slims': [], 'biosample_term_name': 'forelimb', 'dbxrefs': [], 'status': 'in progress', 'accession': 'ENCSR874BOF', 'objective_slims': [], 'cell_slims': [], 'alternate_accessions': [], 'organ_slims': ['limb'], 'contributing_files': [], 'related_series': [], '@type': ['Experiment', 'Dataset', 'Item'], 'files': [], 'related_files': [], 'references': [], 'biosample_synonyms': ['Entire upper limb', 'pectoral flipper', 'free part of upper limb', 'anteriormost limb', 'upper extremity', 'pectoral limb', 'foreleg', 'free upper limb', 'membrum superius', 'fore limb', 'superior member', 'upper limb', 'forelimb'], 'original_files': [], 'biosample_type': 'tissue', 'assay_term_id': 'NTR:0003082', 'revoked_files': [], 'submitted_by': '/users/bc5b62f7-ce28-4a1e-b6b3-81c9c5a86d7a/', 'biosample_term_id': 'UBERON:0002102', 'possible_controls': [], 'experiment_classification': ['functional genomics assay'], 'description': \"10X Genomics Chromium 3' single-cell RNA-Seq (v2 kit) of C57Bl6 wild-type 10.5 day embryonic mouse forelimb\", 'internal_status': 'unreviewed', 'assay_term_name': 'single cell isolation followed by RNA-seq', 'lab': '/labs/barbara-wold/', 'type_slims': [], 'assembly': [], 'developmental_slims': [], 'date_created': '2019-01-04T21:14:14.838123+00:00', 'replicates': [], 'assay_title': 'single cell RNA-seq', 'schema_version': '22', 'aliases': [], 'superseded_by': [], 'award': '/awards/UM1HG009443/', 'uuid': '44ffd920-f48d-4e35-84de-02b229787cb1', 'documents': ['/documents/515a990c-50c4-459a-8036-502feaf5a18c/', '/documents/ecb1c489-905b-4afb-8389-ed7fb2e36ff2/'], 'assay_slims': ['Transcription'], 'replication_type': 'unreplicated'}], '@type': ['result']}\n",
      "row 5 created: 44ffd920-f48d-4e35-84de-02b229787cb1\n",
      "Reponse {'@graph': [{'lab': '/labs/barbara-wold/', 'revoked_files': [], 'possible_controls': [], 'assembly': [], 'schema_version': '22', 'organ_slims': ['limb'], 'developmental_slims': [], 'dbxrefs': [], '@id': '/experiments/ENCSR306UHC/', 'files': [], 'internal_status': 'unreviewed', 'biosample_term_name': 'forelimb', 'biosample_term_id': 'UBERON:0002102', 'accession': 'ENCSR306UHC', 'alternate_accessions': [], 'biosample_synonyms': ['upper limb', 'forelimb', 'Entire upper limb', 'pectoral limb', 'upper extremity', 'superior member', 'fore limb', 'anteriormost limb', 'membrum superius', 'free upper limb', 'foreleg', 'pectoral flipper', 'free part of upper limb'], 'uuid': '9b34b90b-3d7b-461d-99b7-6b85c8836e52', 'cell_slims': [], 'assay_term_name': 'single cell isolation followed by RNA-seq', 'status': 'in progress', '@type': ['Experiment', 'Dataset', 'Item'], 'assay_title': 'single cell RNA-seq', 'date_created': '2019-01-04T21:14:14.951234+00:00', 'type_slims': [], 'replicates': [], 'original_files': [], 'award': '/awards/UM1HG009443/', 'internal_tags': [], 'assay_term_id': 'NTR:0003082', 'aliases': [], 'objective_slims': [], 'related_files': [], 'category_slims': [], 'submitted_by': '/users/bc5b62f7-ce28-4a1e-b6b3-81c9c5a86d7a/', 'description': \"10X Genomics Chromium 3' single-cell RNA-Seq (v2 kit) of C57Bl6 wild-type 15.0 day embryonic mouse forelimb\", 'contributing_files': [], 'related_series': [], 'system_slims': [], 'references': [], 'documents': ['/documents/515a990c-50c4-459a-8036-502feaf5a18c/', '/documents/ecb1c489-905b-4afb-8389-ed7fb2e36ff2/'], 'assay_slims': ['Transcription'], 'experiment_classification': ['functional genomics assay'], 'biosample_type': 'tissue', 'superseded_by': [], 'supersedes': [], 'replication_type': 'unreplicated'}], 'status': 'success', '@type': ['result']}\n",
      "row 6 created: 9b34b90b-3d7b-461d-99b7-6b85c8836e52\n"
     ]
    },
    {
     "name": "stdout",
     "output_type": "stream",
     "text": [
      "Reponse {'@graph': [{'biosample_synonyms': ['upper limb', 'free part of upper limb', 'superior member', 'anteriormost limb', 'pectoral flipper', 'foreleg', 'Entire upper limb', 'fore limb', 'pectoral limb', 'membrum superius', 'upper extremity', 'forelimb', 'free upper limb'], 'developmental_slims': [], 'assay_title': 'single cell RNA-seq', 'replication_type': 'unreplicated', 'contributing_files': [], 'lab': '/labs/barbara-wold/', 'uuid': 'a010e48b-09af-404d-800b-4920aa46e4e7', 'dbxrefs': [], 'references': [], 'schema_version': '22', 'award': '/awards/UM1HG009443/', 'assay_slims': ['Transcription'], '@id': '/experiments/ENCSR847RRR/', 'description': \"10X Genomics Chromium 3' single-cell RNA-Seq (v2 kit) of C57Bl6 wild-type 15.0 day embryonic mouse proximal forelimb\", 'status': 'in progress', 'objective_slims': [], 'biosample_term_id': 'UBERON:0002102', 'supersedes': [], 'submitted_by': '/users/bc5b62f7-ce28-4a1e-b6b3-81c9c5a86d7a/', 'date_created': '2019-01-04T21:14:15.100516+00:00', 'organ_slims': ['limb'], 'documents': ['/documents/515a990c-50c4-459a-8036-502feaf5a18c/', '/documents/ecb1c489-905b-4afb-8389-ed7fb2e36ff2/'], 'possible_controls': [], 'category_slims': [], 'replicates': [], 'related_files': [], 'cell_slims': [], 'revoked_files': [], 'system_slims': [], 'aliases': [], 'alternate_accessions': [], 'biosample_type': 'tissue', 'biosample_term_name': 'forelimb', 'internal_status': 'unreviewed', 'type_slims': [], 'assay_term_name': 'single cell isolation followed by RNA-seq', 'experiment_classification': ['functional genomics assay'], 'files': [], 'accession': 'ENCSR847RRR', 'internal_tags': [], 'assay_term_id': 'NTR:0003082', 'related_series': [], 'assembly': [], 'original_files': [], '@type': ['Experiment', 'Dataset', 'Item'], 'superseded_by': []}], '@type': ['result'], 'status': 'success'}\n",
      "row 7 created: a010e48b-09af-404d-800b-4920aa46e4e7\n",
      "Reponse {'@type': ['result'], 'status': 'success', '@graph': [{'@id': '/experiments/ENCSR698TMC/', 'revoked_files': [], 'original_files': [], 'objective_slims': [], 'accession': 'ENCSR698TMC', 'dbxrefs': [], 'system_slims': [], 'references': [], 'lab': '/labs/barbara-wold/', 'uuid': 'a0c5badf-17eb-47e4-a970-07f1e0638b64', 'biosample_synonyms': ['free part of upper limb', 'upper limb', 'free upper limb', 'foreleg', 'Entire upper limb', 'anteriormost limb', 'pectoral flipper', 'pectoral limb', 'fore limb', 'membrum superius', 'forelimb', 'superior member', 'upper extremity'], 'possible_controls': [], 'description': \"10X Genomics Chromium 3' single-cell RNA-Seq (v2 kit) of C57Bl6 wild-type 15.0 day embryonic mouse mid forelimb\", 'submitted_by': '/users/bc5b62f7-ce28-4a1e-b6b3-81c9c5a86d7a/', '@type': ['Experiment', 'Dataset', 'Item'], 'internal_status': 'unreviewed', 'aliases': [], 'assembly': [], 'biosample_term_name': 'forelimb', 'assay_title': 'single cell RNA-seq', 'date_created': '2019-01-04T21:14:15.218388+00:00', 'status': 'in progress', 'internal_tags': [], 'supersedes': [], 'organ_slims': ['limb'], 'type_slims': [], 'assay_term_id': 'NTR:0003082', 'developmental_slims': [], 'related_series': [], 'alternate_accessions': [], 'assay_term_name': 'single cell isolation followed by RNA-seq', 'award': '/awards/UM1HG009443/', 'biosample_type': 'tissue', 'schema_version': '22', 'replication_type': 'unreplicated', 'assay_slims': ['Transcription'], 'related_files': [], 'replicates': [], 'superseded_by': [], 'files': [], 'cell_slims': [], 'experiment_classification': ['functional genomics assay'], 'documents': ['/documents/515a990c-50c4-459a-8036-502feaf5a18c/', '/documents/ecb1c489-905b-4afb-8389-ed7fb2e36ff2/'], 'biosample_term_id': 'UBERON:0002102', 'category_slims': [], 'contributing_files': []}]}\n",
      "row 8 created: a0c5badf-17eb-47e4-a970-07f1e0638b64\n",
      "Reponse {'status': 'success', '@graph': [{'supersedes': [], 'internal_tags': [], '@id': '/experiments/ENCSR416FHN/', 'category_slims': [], 'system_slims': [], 'biosample_term_name': 'forelimb', 'dbxrefs': [], 'status': 'in progress', 'accession': 'ENCSR416FHN', 'objective_slims': [], 'cell_slims': [], 'alternate_accessions': [], 'organ_slims': ['limb'], 'contributing_files': [], 'related_series': [], '@type': ['Experiment', 'Dataset', 'Item'], 'files': [], 'related_files': [], 'references': [], 'biosample_synonyms': ['Entire upper limb', 'pectoral flipper', 'free part of upper limb', 'anteriormost limb', 'upper extremity', 'pectoral limb', 'foreleg', 'free upper limb', 'membrum superius', 'fore limb', 'superior member', 'upper limb', 'forelimb'], 'original_files': [], 'biosample_type': 'tissue', 'assay_term_id': 'NTR:0003082', 'revoked_files': [], 'submitted_by': '/users/bc5b62f7-ce28-4a1e-b6b3-81c9c5a86d7a/', 'biosample_term_id': 'UBERON:0002102', 'possible_controls': [], 'experiment_classification': ['functional genomics assay'], 'description': \"10X Genomics Chromium 3' single-cell RNA-Seq (v2 kit) of C57Bl6 wild-type 15.0 day embryonic mouse distal forelimb\", 'internal_status': 'unreviewed', 'assay_term_name': 'single cell isolation followed by RNA-seq', 'lab': '/labs/barbara-wold/', 'type_slims': [], 'assembly': [], 'developmental_slims': [], 'date_created': '2019-01-04T21:14:15.387526+00:00', 'replicates': [], 'assay_title': 'single cell RNA-seq', 'schema_version': '22', 'aliases': [], 'superseded_by': [], 'award': '/awards/UM1HG009443/', 'uuid': '43e888ae-981b-4ff9-9db9-c10c82223c13', 'documents': ['/documents/515a990c-50c4-459a-8036-502feaf5a18c/', '/documents/ecb1c489-905b-4afb-8389-ed7fb2e36ff2/'], 'assay_slims': ['Transcription'], 'replication_type': 'unreplicated'}], '@type': ['result']}\n",
      "row 9 created: 43e888ae-981b-4ff9-9db9-c10c82223c13\n",
      "Reponse {'@graph': [{'lab': '/labs/barbara-wold/', 'revoked_files': [], 'possible_controls': [], 'assembly': [], 'schema_version': '22', 'organ_slims': ['limb'], 'developmental_slims': [], 'dbxrefs': [], '@id': '/experiments/ENCSR156HHE/', 'files': [], 'internal_status': 'unreviewed', 'biosample_term_name': 'forelimb', 'biosample_term_id': 'UBERON:0002102', 'accession': 'ENCSR156HHE', 'alternate_accessions': [], 'biosample_synonyms': ['upper limb', 'forelimb', 'Entire upper limb', 'pectoral limb', 'upper extremity', 'superior member', 'fore limb', 'anteriormost limb', 'membrum superius', 'free upper limb', 'foreleg', 'pectoral flipper', 'free part of upper limb'], 'uuid': '0c2fe776-877a-4e41-b008-fa7270a26f45', 'cell_slims': [], 'assay_term_name': 'single cell isolation followed by RNA-seq', 'status': 'in progress', '@type': ['Experiment', 'Dataset', 'Item'], 'assay_title': 'single cell RNA-seq', 'date_created': '2019-01-04T21:14:15.521346+00:00', 'type_slims': [], 'replicates': [], 'original_files': [], 'award': '/awards/UM1HG009443/', 'internal_tags': [], 'assay_term_id': 'NTR:0003082', 'aliases': [], 'objective_slims': [], 'related_files': [], 'category_slims': [], 'submitted_by': '/users/bc5b62f7-ce28-4a1e-b6b3-81c9c5a86d7a/', 'description': \"10X Genomics Chromium 3' single-cell RNA-Seq (v2 kit) of C57Bl6 wild-type 13.0 day embryonic mouse forelimb\", 'contributing_files': [], 'related_series': [], 'system_slims': [], 'references': [], 'documents': ['/documents/515a990c-50c4-459a-8036-502feaf5a18c/', '/documents/ecb1c489-905b-4afb-8389-ed7fb2e36ff2/'], 'assay_slims': ['Transcription'], 'experiment_classification': ['functional genomics assay'], 'biosample_type': 'tissue', 'superseded_by': [], 'supersedes': [], 'replication_type': 'unreplicated'}], 'status': 'success', '@type': ['result']}\n",
      "row 10 created: 0c2fe776-877a-4e41-b008-fa7270a26f45\n",
      "Reponse {'@graph': [{'biosample_synonyms': ['upper limb', 'free part of upper limb', 'superior member', 'anteriormost limb', 'pectoral flipper', 'foreleg', 'Entire upper limb', 'fore limb', 'pectoral limb', 'membrum superius', 'upper extremity', 'forelimb', 'free upper limb'], 'developmental_slims': [], 'assay_title': 'single cell RNA-seq', 'replication_type': 'unreplicated', 'contributing_files': [], 'lab': '/labs/barbara-wold/', 'uuid': '9ba5523b-10b2-40da-9846-dc418d45ba6c', 'dbxrefs': [], 'references': [], 'schema_version': '22', 'award': '/awards/UM1HG009443/', 'assay_slims': ['Transcription'], '@id': '/experiments/ENCSR792LNZ/', 'description': \"10X Genomics Chromium 3' single-cell RNA-Seq (v2 kit) of C57Bl6 wild-type 14.0 day embryonic mouse forelimb\", 'status': 'in progress', 'objective_slims': [], 'biosample_term_id': 'UBERON:0002102', 'supersedes': [], 'submitted_by': '/users/bc5b62f7-ce28-4a1e-b6b3-81c9c5a86d7a/', 'date_created': '2019-01-04T21:14:15.664107+00:00', 'organ_slims': ['limb'], 'documents': ['/documents/515a990c-50c4-459a-8036-502feaf5a18c/', '/documents/ecb1c489-905b-4afb-8389-ed7fb2e36ff2/'], 'possible_controls': [], 'category_slims': [], 'replicates': [], 'related_files': [], 'cell_slims': [], 'revoked_files': [], 'system_slims': [], 'aliases': [], 'alternate_accessions': [], 'biosample_type': 'tissue', 'biosample_term_name': 'forelimb', 'internal_status': 'unreviewed', 'type_slims': [], 'assay_term_name': 'single cell isolation followed by RNA-seq', 'experiment_classification': ['functional genomics assay'], 'files': [], 'accession': 'ENCSR792LNZ', 'internal_tags': [], 'assay_term_id': 'NTR:0003082', 'related_series': [], 'assembly': [], 'original_files': [], '@type': ['Experiment', 'Dataset', 'Item'], 'superseded_by': []}], '@type': ['result'], 'status': 'success'}\n",
      "row 11 created: 9ba5523b-10b2-40da-9846-dc418d45ba6c\n",
      "11\n"
     ]
    }
   ],
   "source": [
    "book = ODFReader(spreadsheet_name)\n",
    "experiments = book.parse('Experiment', header=0)\n",
    "created = server.post_sheet('/experiments/', \n",
    "                            experiments, \n",
    "                            verbose=True, \n",
    "                            dry_run=False, \n",
    "                            validator=validator)\n",
    "print(len(created))"
   ]
  },
  {
   "cell_type": "code",
   "execution_count": 26,
   "metadata": {},
   "outputs": [],
   "source": [
    "if created:\n",
    "    experiments.to_excel('/dev/shm/experiments.xlsx', index=False)"
   ]
  },
  {
   "cell_type": "markdown",
   "metadata": {},
   "source": [
    "# Register Replicates"
   ]
  },
  {
   "cell_type": "code",
   "execution_count": 29,
   "metadata": {
    "scrolled": true
   },
   "outputs": [
    {
     "name": "stdout",
     "output_type": "stream",
     "text": [
      "0\n"
     ]
    }
   ],
   "source": [
    "book = ODFReader(spreadsheet_name)\n",
    "replicates = book.parse('Replicate', header=0)\n",
    "created = server.post_sheet('/replicates/', \n",
    "                            replicates, \n",
    "                            verbose=True, \n",
    "                            dry_run=True, \n",
    "                            validator=validator)\n",
    "print(len(created))"
   ]
  },
  {
   "cell_type": "code",
   "execution_count": 30,
   "metadata": {},
   "outputs": [],
   "source": [
    "if created:\n",
    "    replicates.to_excel('/dev/shm/replicates.xlsx', index=False)"
   ]
  },
  {
   "cell_type": "code",
   "execution_count": null,
   "metadata": {},
   "outputs": [],
   "source": []
  }
 ],
 "metadata": {
  "kernelspec": {
   "display_name": "Python 3",
   "language": "python",
   "name": "python3"
  },
  "language_info": {
   "codemirror_mode": {
    "name": "ipython",
    "version": 3
   },
   "file_extension": ".py",
   "mimetype": "text/x-python",
   "name": "python",
   "nbconvert_exporter": "python",
   "pygments_lexer": "ipython3",
   "version": "3.7.4+"
  }
 },
 "nbformat": 4,
 "nbformat_minor": 1
}
