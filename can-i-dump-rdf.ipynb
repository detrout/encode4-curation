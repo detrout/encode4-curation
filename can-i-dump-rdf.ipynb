{
 "cells": [
  {
   "cell_type": "code",
   "execution_count": 4,
   "id": "59eb0798",
   "metadata": {},
   "outputs": [],
   "source": [
    "from argparse import ArgumentParser\n",
    "import logging\n",
    "import pandas\n",
    "import json\n",
    "from pathlib import Path\n",
    "import sys\n",
    "import xopen\n"
   ]
  },
  {
   "cell_type": "code",
   "execution_count": null,
   "id": "bbb627ef",
   "metadata": {},
   "outputs": [],
   "source": []
  },
  {
   "cell_type": "code",
   "execution_count": 5,
   "id": "f16b6dab",
   "metadata": {},
   "outputs": [],
   "source": [
    "EC = str(Path(\"~/proj/encoded_client\").expanduser())\n",
    "if EC not in sys.path:\n",
    "    sys.path.append(EC)\n",
    "\n",
    "from encoded_client.encoded import ENCODED, DCCValidator\n"
   ]
  },
  {
   "cell_type": "code",
   "execution_count": 7,
   "id": "80e0fec4",
   "metadata": {},
   "outputs": [],
   "source": [
    "HTSW = str(Path(\"~/proj/htsworkflow\").expanduser())\n",
    "if HTSW not in sys.path:\n",
    "    sys.path.append(HTSW)\n",
    "\n",
    "from htsworkflow.util.api import (\n",
    "    add_auth_options,\n",
    "    make_auth_from_opts,\n",
    "    HtswApi,\n",
    ")\n"
   ]
  },
  {
   "cell_type": "code",
   "execution_count": 14,
   "id": "f82f6897",
   "metadata": {},
   "outputs": [],
   "source": [
    "class Args:\n",
    "    def __init__(self):\n",
    "        self.host = \"https://jumpgate.caltech.edu\"\n",
    "        self.apiid = 0\n",
    "        self.apikey = None\n",
    "args = Args()        \n",
    "apidata = make_auth_from_opts(args)\n",
    "htsw = HtswApi(args.host, apidata)\n"
   ]
  },
  {
   "cell_type": "code",
   "execution_count": 18,
   "id": "cfdc57e1",
   "metadata": {},
   "outputs": [
    {
     "data": {
      "text/plain": [
       "{'antibody_id': None,\n",
       " 'cell_line_id': None,\n",
       " 'cell_line': None,\n",
       " 'experiment_type': 'RNA-seq',\n",
       " 'experiment_type_id': 4,\n",
       " 'gel_cut_size': 334,\n",
       " 'hidden': False,\n",
       " 'id': '24293',\n",
       " 'insert_size': 234,\n",
       " 'lane_set': [{'flowcell': 'AAAWCGFM5',\n",
       "   'lane_number': 1,\n",
       "   'lane_id': 13922,\n",
       "   'paired_end': False,\n",
       "   'read_length': 100,\n",
       "   'status_code': None,\n",
       "   'status': ''}],\n",
       " 'library_id': '24293',\n",
       " 'library_name': 'human_brain_Rush ID_E1302730_BS147_ENC4_cDNA697',\n",
       " 'library_species': 'Homo sapiens',\n",
       " 'library_species_id': 8,\n",
       " 'library_type_id': 11,\n",
       " 'made_for': '',\n",
       " 'made_by': 'Brian',\n",
       " 'multiplex_index': 'P5A5:TCCTCATG',\n",
       " 'notes': 'gel cut size from BioAnalyzer',\n",
       " 'replicate': None,\n",
       " 'stopping_point': 'Done',\n",
       " 'successful_pM': None,\n",
       " 'undiluted_concentration': '8.50',\n",
       " 'library_type': 'NEBNext Multiplexed'}"
      ]
     },
     "execution_count": 18,
     "metadata": {},
     "output_type": "execute_result"
    }
   ],
   "source": [
    "htsw.get_library(\"24293\")"
   ]
  },
  {
   "cell_type": "code",
   "execution_count": 16,
   "id": "e2172c30",
   "metadata": {},
   "outputs": [],
   "source": [
    "# need a dict containing ?library_id ?gel_cut ?insert_size ?index ?flowcell_id ?lane_id ?lane_status"
   ]
  },
  {
   "cell_type": "code",
   "execution_count": 21,
   "id": "d6940a47",
   "metadata": {},
   "outputs": [
    {
     "data": {
      "text/html": [
       "<div>\n",
       "<style scoped>\n",
       "    .dataframe tbody tr th:only-of-type {\n",
       "        vertical-align: middle;\n",
       "    }\n",
       "\n",
       "    .dataframe tbody tr th {\n",
       "        vertical-align: top;\n",
       "    }\n",
       "\n",
       "    .dataframe thead th {\n",
       "        text-align: right;\n",
       "    }\n",
       "</style>\n",
       "<table border=\"1\" class=\"dataframe\">\n",
       "  <thead>\n",
       "    <tr style=\"text-align: right;\">\n",
       "      <th></th>\n",
       "      <th>library_id</th>\n",
       "      <th>gel_cut</th>\n",
       "      <th>insert_size</th>\n",
       "      <th>index</th>\n",
       "      <th>flowcell_id</th>\n",
       "      <th>lane_id</th>\n",
       "      <th>lane_status</th>\n",
       "    </tr>\n",
       "  </thead>\n",
       "  <tbody>\n",
       "    <tr>\n",
       "      <th>0</th>\n",
       "      <td>24293</td>\n",
       "      <td>334</td>\n",
       "      <td>234</td>\n",
       "      <td>P5A5:TCCTCATG</td>\n",
       "      <td>AAAWCGFM5</td>\n",
       "      <td>13922</td>\n",
       "      <td></td>\n",
       "    </tr>\n",
       "  </tbody>\n",
       "</table>\n",
       "</div>"
      ],
      "text/plain": [
       "  library_id  gel_cut  insert_size          index flowcell_id  lane_id  \\\n",
       "0      24293      334          234  P5A5:TCCTCATG   AAAWCGFM5    13922   \n",
       "\n",
       "  lane_status  \n",
       "0              "
      ]
     },
     "execution_count": 21,
     "metadata": {},
     "output_type": "execute_result"
    }
   ],
   "source": [
    "lib = htsw.get_library(\"24293\")\n",
    "rows = []\n",
    "for lane in lib['lane_set']:\n",
    "    row = {\n",
    "        \"library_id\": lib[\"id\"],\n",
    "        \"gel_cut\": lib[\"gel_cut_size\"],\n",
    "        \"insert_size\": lib[\"insert_size\"],\n",
    "        \"index\": lib[\"multiplex_index\"],\n",
    "        \"flowcell_id\": lane[\"flowcell\"],\n",
    "        \"lane_id\": lane[\"lane_id\"],\n",
    "        \"lane_status\": lane[\"status\"]\n",
    "    }\n",
    "    rows.append(row)\n",
    "    \n",
    "pandas.DataFrame(rows)"
   ]
  },
  {
   "cell_type": "code",
   "execution_count": null,
   "id": "8b7542ba",
   "metadata": {},
   "outputs": [],
   "source": []
  }
 ],
 "metadata": {
  "kernelspec": {
   "display_name": "Python 3 (ipykernel)",
   "language": "python",
   "name": "python3"
  },
  "language_info": {
   "codemirror_mode": {
    "name": "ipython",
    "version": 3
   },
   "file_extension": ".py",
   "mimetype": "text/x-python",
   "name": "python",
   "nbconvert_exporter": "python",
   "pygments_lexer": "ipython3",
   "version": "3.9.9"
  }
 },
 "nbformat": 4,
 "nbformat_minor": 5
}
