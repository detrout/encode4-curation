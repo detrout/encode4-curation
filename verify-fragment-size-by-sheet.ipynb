{
 "cells": [
  {
   "cell_type": "code",
   "execution_count": 1,
   "id": "reduced-serbia",
   "metadata": {},
   "outputs": [],
   "source": [
    "import os\n",
    "import sys\n",
    "import requests\n",
    "from pathlib import Path\n",
    "import pandas\n",
    "import paramiko\n",
    "import json\n",
    "from IPython import display\n",
    "from pathlib import Path\n",
    "import configparser"
   ]
  },
  {
   "cell_type": "code",
   "execution_count": 2,
   "id": "random-recording",
   "metadata": {},
   "outputs": [],
   "source": [
    "from curation_common import *"
   ]
  },
  {
   "cell_type": "code",
   "execution_count": 3,
   "id": "conditional-catch",
   "metadata": {},
   "outputs": [],
   "source": [
    "from htsworkflow.submission.encoded import Document\n",
    "from htsworkflow.submission.aws_submission import run_aws_cp\n",
    "from htsworkflow.util.api import (\n",
    "    add_auth_options,\n",
    "    make_auth_from_opts,\n",
    "    HtswApi,\n",
    ")"
   ]
  },
  {
   "cell_type": "code",
   "execution_count": 4,
   "id": "paperback-flash",
   "metadata": {},
   "outputs": [],
   "source": [
    "config = configparser.ConfigParser()\n",
    "config.read([os.path.expanduser('~/.htsworkflow.ini'),\n",
    "             '/etc/htsworkflow.ini'\n",
    "             ])\n",
    "\n",
    "SECTION = 'sequence_archive'\n",
    "if config.has_section(SECTION):\n",
    "    apiid = config.get(SECTION, 'apiid')\n",
    "    apikey = config.get(SECTION, 'apikey')\n",
    "    apihost = config.get(SECTION, 'host')\n",
    "\n",
    "apihost='http://jumpgate.caltech.edu'    \n",
    "auth = {'apiid': apiid, 'apikey': apikey }\n",
    "htsw = HtswApi(apihost, auth)"
   ]
  },
  {
   "cell_type": "code",
   "execution_count": 5,
   "id": "tight-compression",
   "metadata": {},
   "outputs": [],
   "source": [
    "# live server & control file\n",
    "server = ENCODED('www.encodeproject.org')\n",
    "server.load_netrc()"
   ]
  },
  {
   "cell_type": "code",
   "execution_count": 6,
   "id": "cathedral-johnson",
   "metadata": {},
   "outputs": [],
   "source": [
    "encode_dir = Path('~/woldlab/ENCODE').expanduser()"
   ]
  },
  {
   "cell_type": "code",
   "execution_count": 7,
   "id": "australian-baptist",
   "metadata": {},
   "outputs": [],
   "source": [
    "book = pandas.ExcelFile(encode_dir / 'stranded-22951-23100-rush-brain.xlsx')\n",
    "experiments = book.parse('Experiment')\n",
    "libraries = book.parse('Library')\n",
    "replicate = book.parse('Replicate')"
   ]
  },
  {
   "cell_type": "code",
   "execution_count": 8,
   "id": "aerial-baking",
   "metadata": {},
   "outputs": [
    {
     "data": {
      "text/plain": [
       "((119, 8), (119, 17), (119, 9))"
      ]
     },
     "execution_count": 8,
     "metadata": {},
     "output_type": "execute_result"
    }
   ],
   "source": [
    "experiments.shape, libraries.shape, replicate.shape"
   ]
  },
  {
   "cell_type": "code",
   "execution_count": 9,
   "id": "stopped-enzyme",
   "metadata": {},
   "outputs": [],
   "source": [
    "def get_jumpgate_insert_size(library_id):\n",
    "    if not jumpgate_id.startswith('SL'):\n",
    "        jumpgate_info = htsw.get_library(library_id)\n",
    "    else:\n",
    "        jumpgate_info = {'insert_size': 'unknown'}\n",
    "    return jumpgate_info['insert_size']\n"
   ]
  },
  {
   "cell_type": "code",
   "execution_count": 10,
   "id": "naughty-campus",
   "metadata": {
    "scrolled": false
   },
   "outputs": [
    {
     "name": "stdout",
     "output_type": "stream",
     "text": [
      "nan 215 315\n",
      "nan 211 311\n",
      "nan 227 327\n",
      "nan 227 327\n",
      "nan 252 352\n",
      "nan 229 329\n",
      "nan 233 333\n",
      "nan 224 324\n",
      "nan 230 330\n",
      "nan 226 326\n",
      "nan 226 326\n",
      "nan 201 301\n",
      "nan 223 323\n",
      "nan 217 317\n",
      "nan 223 323\n",
      "nan 240 340\n",
      "nan 231 331\n",
      "nan 220 320\n",
      "nan 224 324\n",
      "nan 227 327\n",
      "nan 225 325\n",
      "nan 221 321\n",
      "nan 221 321\n",
      "nan 215 315\n",
      "nan 201 301\n",
      "nan 234 334\n",
      "nan 230 330\n",
      "nan 233 333\n",
      "nan 233 333\n",
      "nan 239 339\n",
      "nan 210 310\n",
      "nan 206 306\n",
      "nan 222 322\n",
      "nan 216 316\n",
      "nan 230 330\n",
      "nan 226 326\n",
      "nan 221 321\n",
      "nan 226 326\n",
      "nan 237 337\n",
      "nan 234 334\n",
      "nan 220 320\n",
      "nan 231 331\n",
      "nan 228 328\n",
      "nan 236 336\n",
      "nan 211 311\n",
      "nan 235 335\n",
      "nan 239 339\n",
      "nan 249 349\n",
      "nan 228 328\n",
      "nan 212 312\n",
      "nan 236 336\n",
      "nan 235 335\n",
      "nan 238 338\n",
      "nan 239 339\n",
      "nan 250 350\n",
      "nan 252 352\n",
      "nan 239 339\n",
      "nan 238 338\n",
      "nan 232 332\n",
      "nan 216 316\n",
      "nan 234 334\n",
      "nan 237 337\n",
      "nan 222 322\n",
      "nan 241 341\n",
      "nan 239 339\n",
      "nan 235 335\n",
      "nan 230 330\n",
      "nan 218 318\n",
      "nan 237 337\n",
      "nan 235 335\n",
      "nan 229 329\n",
      "nan 235 335\n",
      "nan 237 337\n",
      "nan 229 329\n",
      "nan 233 333\n",
      "nan 234 334\n",
      "nan 244 344\n",
      "nan 241 341\n",
      "nan 233 333\n",
      "nan 218 318\n",
      "nan 239 339\n",
      "nan 248 348\n",
      "nan 233 333\n",
      "nan 235 335\n",
      "nan 232 332\n",
      "nan 231 331\n",
      "nan 236 336\n",
      "nan 242 342\n",
      "nan 227 327\n",
      "nan 241 341\n",
      "nan 227 327\n",
      "nan 244 344\n",
      "nan 252 352\n",
      "nan 237 337\n",
      "nan 240 340\n",
      "nan 234 334\n",
      "nan 230 330\n",
      "nan 218 318\n",
      "nan 226 326\n",
      "nan 228 328\n",
      "nan 214 314\n",
      "nan 233 333\n",
      "nan 216 316\n",
      "nan 222 322\n",
      "nan 219 319\n",
      "nan 222 322\n",
      "nan 228 328\n",
      "nan 202 302\n",
      "nan 222 322\n",
      "nan 229 329\n",
      "nan 236 336\n",
      "nan 227 327\n",
      "nan 226 326\n",
      "nan 230 330\n",
      "nan 219 319\n",
      "nan 223 323\n",
      "nan 212 312\n",
      "nan 218 318\n",
      "nan 222 322\n"
     ]
    }
   ],
   "source": [
    "libraries = book.parse('Library')\n",
    "for i, row in libraries.iterrows():\n",
    "    jumpgate_id = row['aliases:array'][len('barbara-wold:'):]\n",
    "    accession = row['accession']\n",
    "    fragment_size = row['average_fragment_size:integer']\n",
    "    jumpgate_insert_size = get_jumpgate_insert_size(jumpgate_id)\n",
    "    if jumpgate_insert_size != fragment_size:\n",
    "        print(accession, jumpgate_insert_size, fragment_size)\n",
    "        libraries.loc[i, 'average_fragment_size:integer'] = jumpgate_insert_size"
   ]
  },
  {
   "cell_type": "code",
   "execution_count": 11,
   "id": "remarkable-duplicate",
   "metadata": {},
   "outputs": [
    {
     "name": "stderr",
     "output_type": "stream",
     "text": [
      "/usr/lib/python3/dist-packages/xlsxwriter/worksheet.py:358: SyntaxWarning: \"is\" with a literal. Did you mean \"==\"?\n",
      "  if token is '':\n",
      "/usr/lib/python3/dist-packages/xlsxwriter/worksheet.py:2437: SyntaxWarning: \"is\" with a literal. Did you mean \"==\"?\n",
      "  if options['min_type'] is 'min' and options['min_value'] == 0:\n",
      "/usr/lib/python3/dist-packages/xlsxwriter/worksheet.py:2440: SyntaxWarning: \"is\" with a literal. Did you mean \"==\"?\n",
      "  if options['max_type'] is 'max' and options['max_value'] == 0:\n",
      "/usr/lib/python3/dist-packages/xlsxwriter/worksheet.py:4999: SyntaxWarning: \"is\" with a literal. Did you mean \"==\"?\n",
      "  if props[i]['type'] is 'number':\n",
      "/usr/lib/python3/dist-packages/xlsxwriter/worksheet.py:6827: SyntaxWarning: \"is not\" with a literal. Did you mean \"!=\"?\n",
      "  if data_bar['bar_axis_position'] is not 'none':\n",
      "/usr/lib/python3/dist-packages/xlsxwriter/worksheet.py:6862: SyntaxWarning: \"is\" with a literal. Did you mean \"==\"?\n",
      "  if data_bar['bar_direction'] is 'left':\n",
      "/usr/lib/python3/dist-packages/xlsxwriter/worksheet.py:6865: SyntaxWarning: \"is\" with a literal. Did you mean \"==\"?\n",
      "  if data_bar['bar_direction'] is 'right':\n",
      "/usr/lib/python3/dist-packages/xlsxwriter/worksheet.py:6875: SyntaxWarning: \"is\" with a literal. Did you mean \"==\"?\n",
      "  if data_bar['bar_axis_position'] is 'middle':\n",
      "/usr/lib/python3/dist-packages/xlsxwriter/worksheet.py:6878: SyntaxWarning: \"is\" with a literal. Did you mean \"==\"?\n",
      "  if data_bar['bar_axis_position'] is 'none':\n",
      "/usr/lib/python3/dist-packages/xlsxwriter/chart.py:2497: SyntaxWarning: \"is\" with a literal. Did you mean \"==\"?\n",
      "  if val is 'right':\n",
      "/usr/lib/python3/dist-packages/xlsxwriter/chart.py:2500: SyntaxWarning: \"is\" with a literal. Did you mean \"==\"?\n",
      "  if val is 'left':\n"
     ]
    }
   ],
   "source": [
    "libraries.to_excel('/dev/shm/libraries.xlsx')"
   ]
  },
  {
   "cell_type": "code",
   "execution_count": null,
   "id": "challenging-williams",
   "metadata": {},
   "outputs": [],
   "source": []
  }
 ],
 "metadata": {
  "kernelspec": {
   "display_name": "Python 3",
   "language": "python",
   "name": "python3"
  },
  "language_info": {
   "codemirror_mode": {
    "name": "ipython",
    "version": 3
   },
   "file_extension": ".py",
   "mimetype": "text/x-python",
   "name": "python",
   "nbconvert_exporter": "python",
   "pygments_lexer": "ipython3",
   "version": "3.9.2"
  }
 },
 "nbformat": 4,
 "nbformat_minor": 5
}
