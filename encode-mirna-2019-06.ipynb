{
 "cells": [
  {
   "cell_type": "markdown",
   "metadata": {},
   "source": [
    "Submitting various things for end of grant."
   ]
  },
  {
   "cell_type": "code",
   "execution_count": null,
   "metadata": {},
   "outputs": [],
   "source": [
    "import os\n",
    "import sys\n",
    "import requests\n",
    "import pandas\n",
    "import paramiko\n",
    "import json\n",
    "from IPython import display\n",
    "from pathlib import Path"
   ]
  },
  {
   "cell_type": "code",
   "execution_count": null,
   "metadata": {},
   "outputs": [],
   "source": [
    "from curation_common import *\n"
   ]
  },
  {
   "cell_type": "code",
   "execution_count": null,
   "metadata": {},
   "outputs": [],
   "source": [
    "GCATDIR = os.path.expanduser('~/src/gcat')\n",
    "if GCATDIR not in sys.path:\n",
    "    sys.path.append(GCATDIR)\n",
    "    import gcat"
   ]
  },
  {
   "cell_type": "code",
   "execution_count": null,
   "metadata": {},
   "outputs": [],
   "source": [
    "EC = str(Path(\"~/proj/encoded_client\").expanduser())\n",
    "if EC not in sys.path:\n",
    "    sys.path.append(EC)"
   ]
  },
  {
   "cell_type": "code",
   "execution_count": null,
   "metadata": {},
   "outputs": [],
   "source": [
    "from encoded_client.encoded import DCCValidator\n",
    "from encoded_client.encoded import Document"
   ]
  },
  {
   "cell_type": "code",
   "execution_count": null,
   "metadata": {},
   "outputs": [],
   "source": [
    "# live server & control file\n",
    "server = ENCODED('www.encodeproject.org')\n",
    "spreadsheet_name = \"ENCODE_miRNA_experiments_06122019\"\n",
    "# test server & datafile\n",
    "#server = ENCODED('test.encodedcc.org')\n",
    "#spreadsheet_name = os.path.expanduser('~diane/woldlab/ENCODE/C1-encode3-limb-2017-testserver.ods')\n",
    "\n",
    "server.load_netrc()\n",
    "validator = DCCValidator(server)"
   ]
  },
  {
   "cell_type": "code",
   "execution_count": null,
   "metadata": {},
   "outputs": [],
   "source": [
    "award = 'UM1HG009443'"
   ]
  },
  {
   "cell_type": "markdown",
   "metadata": {},
   "source": [
    "# Submit Documents"
   ]
  },
  {
   "cell_type": "markdown",
   "metadata": {},
   "source": [
    "Example Document submission"
   ]
  },
  {
   "cell_type": "code",
   "execution_count": null,
   "metadata": {},
   "outputs": [],
   "source": [
    "#atac_uuid = '0fc44318-b802-474e-8199-f3b6d708eb6f'\n",
    "#atac = Document(os.path.expanduser('~/proj/encode3-curation/Wold_Lab_ATAC_Seq_protocol_December_2016.pdf'),\n",
    "#                'general protocol',\n",
    "#                'ATAC-Seq experiment protocol for Wold lab',\n",
    "#                )\n",
    "#body = atac.create_if_needed(server, atac_uuid)\n",
    "#print(body['@id'])"
   ]
  },
  {
   "cell_type": "markdown",
   "metadata": {},
   "source": [
    "# Submit Annotations"
   ]
  },
  {
   "cell_type": "code",
   "execution_count": null,
   "metadata": {},
   "outputs": [],
   "source": [
    "#sheet = gcat.get_file(spreadsheet_name, fmt='pandas_excel')\n",
    "#annotations = sheet.parse('Annotations', header=0)\n",
    "#created = server.post_sheet('/annotations/', annotations, verbose=True, dry_run=True)\n",
    "#print(len(created))"
   ]
  },
  {
   "cell_type": "code",
   "execution_count": null,
   "metadata": {},
   "outputs": [],
   "source": [
    "#if created:\n",
    "#    annotations.to_excel('/tmp/annotations.xlsx', index=False)"
   ]
  },
  {
   "cell_type": "markdown",
   "metadata": {},
   "source": [
    "# Register Biosamples"
   ]
  },
  {
   "cell_type": "code",
   "execution_count": null,
   "metadata": {},
   "outputs": [],
   "source": [
    "book = gcat.get_file(spreadsheet_name, fmt='pandas_excel')\n",
    "biosample = book.parse('Biosamples', header=0)\n",
    "for i, row in biosample.iterrows():\n",
    "    if not pandas.isnull(row.accession) and pandas.isnull(row.source):\n",
    "        obj = server.get_json(row.accession)\n",
    "        print(obj['source']['@id'])"
   ]
  },
  {
   "cell_type": "code",
   "execution_count": null,
   "metadata": {
    "scrolled": false
   },
   "outputs": [],
   "source": [
    "book = gcat.get_file(spreadsheet_name, fmt='pandas_excel')\n",
    "biosample = book.parse('Biosamples', header=0)\n",
    "created = server.post_sheet('/biosamples/', \n",
    "                            biosample,\n",
    "                            verbose=True,\n",
    "                            dry_run=True,\n",
    "                            validator=validator)\n",
    "print(len(created))"
   ]
  },
  {
   "cell_type": "code",
   "execution_count": null,
   "metadata": {},
   "outputs": [],
   "source": [
    "if created:\n",
    "    biosample.to_excel('/dev/shm/biosamples.xlsx', index=False)"
   ]
  },
  {
   "cell_type": "markdown",
   "metadata": {},
   "source": [
    "# Register Libraries"
   ]
  },
  {
   "cell_type": "code",
   "execution_count": null,
   "metadata": {
    "scrolled": false
   },
   "outputs": [],
   "source": [
    "print(spreadsheet_name)\n",
    "book = gcat.get_file(spreadsheet_name, fmt='pandas_excel')\n",
    "libraries = book.parse('Libraries', header=0)\n",
    "created = server.post_sheet('/libraries/',\n",
    "                            libraries,\n",
    "                            verbose=True,\n",
    "                            dry_run=True,\n",
    "                            validator=validator)\n",
    "print(len(created))"
   ]
  },
  {
   "cell_type": "code",
   "execution_count": null,
   "metadata": {},
   "outputs": [],
   "source": [
    "#if created:\n",
    "libraries.to_excel('/dev/shm/libraries.xlsx', index=False)"
   ]
  },
  {
   "cell_type": "markdown",
   "metadata": {},
   "source": [
    "# Register Experiments"
   ]
  },
  {
   "cell_type": "code",
   "execution_count": null,
   "metadata": {},
   "outputs": [],
   "source": [
    "book = gcat.get_file(spreadsheet_name, fmt='pandas_excel')\n",
    "experiments = book.parse('Experiments', header=0)\n",
    "for i, row in experiments.iterrows():\n",
    "    if not pandas.isnull(row.accession) and pandas.isnull(row.biosample_ontology):\n",
    "        obj = server.get_json(row.accession)\n",
    "        print(obj['biosample_ontology']['@id'])"
   ]
  },
  {
   "cell_type": "code",
   "execution_count": null,
   "metadata": {
    "scrolled": false
   },
   "outputs": [],
   "source": [
    "print(server.server)\n",
    "book = gcat.get_file(spreadsheet_name, fmt='pandas_excel')\n",
    "experiments = book.parse('Experiments', header=0)\n",
    "created = server.post_sheet('/experiments/',\n",
    "                            experiments,\n",
    "                            verbose=True,\n",
    "                            dry_run=True,\n",
    "                            validator=validator)\n",
    "print(len(created))"
   ]
  },
  {
   "cell_type": "code",
   "execution_count": null,
   "metadata": {},
   "outputs": [],
   "source": [
    "if created:\n",
    "    experiments.to_excel('/dev/shm/experiments.xlsx', index=False)"
   ]
  },
  {
   "cell_type": "markdown",
   "metadata": {},
   "source": [
    "# Register Replicates"
   ]
  },
  {
   "cell_type": "code",
   "execution_count": null,
   "metadata": {
    "scrolled": false
   },
   "outputs": [],
   "source": [
    "print(server.server)\n",
    "print(spreadsheet_name)\n",
    "book = gcat.get_file(spreadsheet_name, fmt='pandas_excel')\n",
    "replicates = book.parse('Replicates', header=0)\n",
    "created = server.post_sheet('/replicates/', \n",
    "                            replicates,\n",
    "                            verbose=True,\n",
    "                            dry_run=True,\n",
    "                            validator=validator)\n",
    "print(len(created))"
   ]
  },
  {
   "cell_type": "code",
   "execution_count": null,
   "metadata": {},
   "outputs": [],
   "source": [
    "if created:\n",
    "    replicates.to_excel('/dev/shm/replicates.xlsx', index=False)"
   ]
  },
  {
   "cell_type": "code",
   "execution_count": null,
   "metadata": {},
   "outputs": [],
   "source": [
    "with pandas.ExcelWriter('/dev/shm/submission.xlsx') as book:\n",
    "    biosample.to_excel(book, 'Biosample', index=False)\n",
    "    experiments.to_excel(book, 'Experiment', index=False)\n",
    "    libraries.to_excel(book, 'Library', index=False)\n",
    "    replicates.to_excel(book, 'Replicate', index=False)\n"
   ]
  },
  {
   "cell_type": "code",
   "execution_count": null,
   "metadata": {},
   "outputs": [],
   "source": []
  }
 ],
 "metadata": {
  "kernelspec": {
   "display_name": "Python 3 (ipykernel)",
   "language": "python",
   "name": "python3"
  },
  "language_info": {
   "codemirror_mode": {
    "name": "ipython",
    "version": 3
   },
   "file_extension": ".py",
   "mimetype": "text/x-python",
   "name": "python",
   "nbconvert_exporter": "python",
   "pygments_lexer": "ipython3",
   "version": "3.9.9"
  }
 },
 "nbformat": 4,
 "nbformat_minor": 1
}
