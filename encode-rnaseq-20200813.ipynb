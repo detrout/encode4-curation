{
 "cells": [
  {
   "cell_type": "markdown",
   "metadata": {},
   "source": [
    "Submitting various things for end of grant."
   ]
  },
  {
   "cell_type": "code",
   "execution_count": 1,
   "metadata": {},
   "outputs": [],
   "source": [
    "import os\n",
    "import sys\n",
    "import requests\n",
    "import pandas\n",
    "import paramiko\n",
    "import json\n",
    "from IPython import display\n",
    "from pathlib import Path"
   ]
  },
  {
   "cell_type": "code",
   "execution_count": 2,
   "metadata": {},
   "outputs": [],
   "source": [
    "from curation_common import *\n",
    "from htsworkflow.submission.encoded import ENCODED, DCCValidator"
   ]
  },
  {
   "cell_type": "code",
   "execution_count": 3,
   "metadata": {},
   "outputs": [],
   "source": [
    "from htsworkflow.submission.encoded import Document\n",
    "from htsworkflow.submission.aws_submission import run_aws_cp"
   ]
  },
  {
   "cell_type": "code",
   "execution_count": 4,
   "metadata": {},
   "outputs": [],
   "source": [
    "# live server & control file\n",
    "server = ENCODED('www.encodeproject.org')\n",
    "spreadsheet_name = Path('~diane/woldlab/ENCODE/stranded-20200813.xlsx')\n",
    "\n",
    "# test server & datafile\n",
    "#server = ENCODED('test.encodedcc.org')\n",
    "#spreadsheet_name = os.path.expanduser('~diane/woldlab/ENCODE/C1-encode3-limb-2017-testserver.ods')\n",
    "\n",
    "server.load_netrc()\n",
    "validator = DCCValidator(server)"
   ]
  },
  {
   "cell_type": "code",
   "execution_count": 5,
   "metadata": {},
   "outputs": [],
   "source": [
    "award = 'UM1HG009443'"
   ]
  },
  {
   "cell_type": "markdown",
   "metadata": {},
   "source": [
    "# Get biosample ontologies"
   ]
  },
  {
   "cell_type": "code",
   "execution_count": 6,
   "metadata": {},
   "outputs": [
    {
     "data": {
      "text/plain": [
       "0"
      ]
     },
     "execution_count": 6,
     "metadata": {},
     "output_type": "execute_result"
    }
   ],
   "source": [
    "biosamples = pandas.read_excel(spreadsheet_name, sheet_name='Biosample', header=0)\n",
    "created = 0\n",
    "\n",
    "for i, row in biosamples.iterrows():\n",
    "    if pandas.isnull(row['biosample_ontology']):\n",
    "        accession = row['accession']\n",
    "        biosample = server.get_json(accession)\n",
    "        #print(accession, biosample['biosample_ontology']['@id'])\n",
    "        biosamples.loc[i, 'biosample_ontology'] = biosample['biosample_ontology']['@id']\n",
    "        created += 1\n",
    "    if row['source'][0] != '/':\n",
    "        biosample = server.get_json(accession)\n",
    "        biosamples.loc[i, 'source'] = biosample['source']['@id']\n",
    "        created += 1\n",
    "\n",
    "if created > 0:\n",
    "    biosamples.to_excel('/dev/shm/biosamples.xlsx')\n",
    "#biosamples\n",
    "created"
   ]
  },
  {
   "cell_type": "code",
   "execution_count": 7,
   "metadata": {},
   "outputs": [
    {
     "data": {
      "text/html": [
       "<div>\n",
       "<style scoped>\n",
       "    .dataframe tbody tr th:only-of-type {\n",
       "        vertical-align: middle;\n",
       "    }\n",
       "\n",
       "    .dataframe tbody tr th {\n",
       "        vertical-align: top;\n",
       "    }\n",
       "\n",
       "    .dataframe thead th {\n",
       "        text-align: right;\n",
       "    }\n",
       "</style>\n",
       "<table border=\"1\" class=\"dataframe\">\n",
       "  <thead>\n",
       "    <tr style=\"text-align: right;\">\n",
       "      <th></th>\n",
       "      <th>uuid</th>\n",
       "      <th>accession</th>\n",
       "      <th>aliases:array</th>\n",
       "      <th>biosample_ontology</th>\n",
       "      <th>biosample_term_name:skip</th>\n",
       "      <th>description</th>\n",
       "      <th>library_id:skip</th>\n",
       "      <th>cDNA_sample:skip</th>\n",
       "      <th>organism</th>\n",
       "      <th>source</th>\n",
       "      <th>lab</th>\n",
       "      <th>award</th>\n",
       "    </tr>\n",
       "  </thead>\n",
       "  <tbody>\n",
       "    <tr>\n",
       "      <th>0</th>\n",
       "      <td>NaN</td>\n",
       "      <td>ENCBS713BMM</td>\n",
       "      <td>NaN</td>\n",
       "      <td>/biosample-types/cell_line_EFO_0003045/</td>\n",
       "      <td>NaN</td>\n",
       "      <td>H9 ESC</td>\n",
       "      <td>22537</td>\n",
       "      <td>ENC4_cDNA227</td>\n",
       "      <td>/organisms/human/</td>\n",
       "      <td>/sources/sescc/</td>\n",
       "      <td>barbara-wold</td>\n",
       "      <td>UM1HG009443</td>\n",
       "    </tr>\n",
       "    <tr>\n",
       "      <th>1</th>\n",
       "      <td>NaN</td>\n",
       "      <td>ENCBS654ADT</td>\n",
       "      <td>NaN</td>\n",
       "      <td>/biosample-types/cell_line_EFO_0003045/</td>\n",
       "      <td>NaN</td>\n",
       "      <td>H9 ESC</td>\n",
       "      <td>22538</td>\n",
       "      <td>ENC4_cDNA228</td>\n",
       "      <td>/organisms/human/</td>\n",
       "      <td>/sources/sescc/</td>\n",
       "      <td>barbara-wold</td>\n",
       "      <td>UM1HG009443</td>\n",
       "    </tr>\n",
       "    <tr>\n",
       "      <th>2</th>\n",
       "      <td>NaN</td>\n",
       "      <td>ENCBS601OTT</td>\n",
       "      <td>NaN</td>\n",
       "      <td>/biosample-types/in_vitro_differentiated_cells...</td>\n",
       "      <td>NaN</td>\n",
       "      <td>H9 derived definitive endoderm</td>\n",
       "      <td>22539</td>\n",
       "      <td>ENC4_cDNA229</td>\n",
       "      <td>/organisms/human/</td>\n",
       "      <td>/sources/sescc/</td>\n",
       "      <td>barbara-wold</td>\n",
       "      <td>UM1HG009443</td>\n",
       "    </tr>\n",
       "    <tr>\n",
       "      <th>3</th>\n",
       "      <td>NaN</td>\n",
       "      <td>ENCBS958FWY</td>\n",
       "      <td>NaN</td>\n",
       "      <td>/biosample-types/in_vitro_differentiated_cells...</td>\n",
       "      <td>NaN</td>\n",
       "      <td>H9 derived definitive endoderm</td>\n",
       "      <td>22540</td>\n",
       "      <td>ENC4_cDNA230</td>\n",
       "      <td>/organisms/human/</td>\n",
       "      <td>/sources/sescc/</td>\n",
       "      <td>barbara-wold</td>\n",
       "      <td>UM1HG009443</td>\n",
       "    </tr>\n",
       "    <tr>\n",
       "      <th>4</th>\n",
       "      <td>NaN</td>\n",
       "      <td>ENCBS832MSN</td>\n",
       "      <td>NaN</td>\n",
       "      <td>/biosample-types/in_vitro_differentiated_cells...</td>\n",
       "      <td>NaN</td>\n",
       "      <td>H9 derived pancreatic progenitor cells</td>\n",
       "      <td>22541</td>\n",
       "      <td>ENC4_cDNA231</td>\n",
       "      <td>/organisms/human/</td>\n",
       "      <td>/sources/sescc/</td>\n",
       "      <td>barbara-wold</td>\n",
       "      <td>UM1HG009443</td>\n",
       "    </tr>\n",
       "    <tr>\n",
       "      <th>5</th>\n",
       "      <td>NaN</td>\n",
       "      <td>ENCBS825BIV</td>\n",
       "      <td>NaN</td>\n",
       "      <td>/biosample-types/in_vitro_differentiated_cells...</td>\n",
       "      <td>NaN</td>\n",
       "      <td>H9 derived pancreatic progenitor cells</td>\n",
       "      <td>22542</td>\n",
       "      <td>ENC4_cDNA232</td>\n",
       "      <td>/organisms/human/</td>\n",
       "      <td>/sources/sescc/</td>\n",
       "      <td>barbara-wold</td>\n",
       "      <td>UM1HG009443</td>\n",
       "    </tr>\n",
       "    <tr>\n",
       "      <th>6</th>\n",
       "      <td>NaN</td>\n",
       "      <td>ENCBS779FCS</td>\n",
       "      <td>NaN</td>\n",
       "      <td>/biosample-types/in_vitro_differentiated_cells...</td>\n",
       "      <td>NaN</td>\n",
       "      <td>H9 derived insulin producing beta-like cells</td>\n",
       "      <td>22543</td>\n",
       "      <td>ENC4_cDNA233</td>\n",
       "      <td>/organisms/human/</td>\n",
       "      <td>/sources/sescc/</td>\n",
       "      <td>barbara-wold</td>\n",
       "      <td>UM1HG009443</td>\n",
       "    </tr>\n",
       "    <tr>\n",
       "      <th>7</th>\n",
       "      <td>NaN</td>\n",
       "      <td>ENCBS251SEQ</td>\n",
       "      <td>NaN</td>\n",
       "      <td>/biosample-types/in_vitro_differentiated_cells...</td>\n",
       "      <td>NaN</td>\n",
       "      <td>H9 derived insulin producing beta-like cells</td>\n",
       "      <td>22544</td>\n",
       "      <td>ENC4_cDNA234</td>\n",
       "      <td>/organisms/human/</td>\n",
       "      <td>/sources/sescc/</td>\n",
       "      <td>barbara-wold</td>\n",
       "      <td>UM1HG009443</td>\n",
       "    </tr>\n",
       "    <tr>\n",
       "      <th>8</th>\n",
       "      <td>NaN</td>\n",
       "      <td>ENCBS200JOD</td>\n",
       "      <td>NaN</td>\n",
       "      <td>/biosample-types/in_vitro_differentiated_cells...</td>\n",
       "      <td>NaN</td>\n",
       "      <td>H9 derived neural crest cells</td>\n",
       "      <td>22545</td>\n",
       "      <td>ENC4_cDNA235</td>\n",
       "      <td>/organisms/human/</td>\n",
       "      <td>/sources/sescc/</td>\n",
       "      <td>barbara-wold</td>\n",
       "      <td>UM1HG009443</td>\n",
       "    </tr>\n",
       "    <tr>\n",
       "      <th>9</th>\n",
       "      <td>NaN</td>\n",
       "      <td>ENCBS417JEU</td>\n",
       "      <td>NaN</td>\n",
       "      <td>/biosample-types/in_vitro_differentiated_cells...</td>\n",
       "      <td>NaN</td>\n",
       "      <td>H9 derived neural crest cells</td>\n",
       "      <td>22546</td>\n",
       "      <td>ENC4_cDNA236</td>\n",
       "      <td>/organisms/human/</td>\n",
       "      <td>/sources/sescc/</td>\n",
       "      <td>barbara-wold</td>\n",
       "      <td>UM1HG009443</td>\n",
       "    </tr>\n",
       "    <tr>\n",
       "      <th>10</th>\n",
       "      <td>NaN</td>\n",
       "      <td>ENCBS034WOR</td>\n",
       "      <td>NaN</td>\n",
       "      <td>/biosample-types/in_vitro_differentiated_cells...</td>\n",
       "      <td>NaN</td>\n",
       "      <td>H9 derived osteocytes</td>\n",
       "      <td>22547</td>\n",
       "      <td>ENC4_cDNA237</td>\n",
       "      <td>/organisms/human/</td>\n",
       "      <td>/sources/sescc/</td>\n",
       "      <td>barbara-wold</td>\n",
       "      <td>UM1HG009443</td>\n",
       "    </tr>\n",
       "    <tr>\n",
       "      <th>11</th>\n",
       "      <td>NaN</td>\n",
       "      <td>ENCBS572IFJ</td>\n",
       "      <td>NaN</td>\n",
       "      <td>/biosample-types/in_vitro_differentiated_cells...</td>\n",
       "      <td>NaN</td>\n",
       "      <td>H9 derived osteocytes</td>\n",
       "      <td>22548</td>\n",
       "      <td>ENC4_cDNA238</td>\n",
       "      <td>/organisms/human/</td>\n",
       "      <td>/sources/sescc/</td>\n",
       "      <td>barbara-wold</td>\n",
       "      <td>UM1HG009443</td>\n",
       "    </tr>\n",
       "  </tbody>\n",
       "</table>\n",
       "</div>"
      ],
      "text/plain": [
       "    uuid    accession  aliases:array  \\\n",
       "0    NaN  ENCBS713BMM            NaN   \n",
       "1    NaN  ENCBS654ADT            NaN   \n",
       "2    NaN  ENCBS601OTT            NaN   \n",
       "3    NaN  ENCBS958FWY            NaN   \n",
       "4    NaN  ENCBS832MSN            NaN   \n",
       "5    NaN  ENCBS825BIV            NaN   \n",
       "6    NaN  ENCBS779FCS            NaN   \n",
       "7    NaN  ENCBS251SEQ            NaN   \n",
       "8    NaN  ENCBS200JOD            NaN   \n",
       "9    NaN  ENCBS417JEU            NaN   \n",
       "10   NaN  ENCBS034WOR            NaN   \n",
       "11   NaN  ENCBS572IFJ            NaN   \n",
       "\n",
       "                                   biosample_ontology  \\\n",
       "0             /biosample-types/cell_line_EFO_0003045/   \n",
       "1             /biosample-types/cell_line_EFO_0003045/   \n",
       "2   /biosample-types/in_vitro_differentiated_cells...   \n",
       "3   /biosample-types/in_vitro_differentiated_cells...   \n",
       "4   /biosample-types/in_vitro_differentiated_cells...   \n",
       "5   /biosample-types/in_vitro_differentiated_cells...   \n",
       "6   /biosample-types/in_vitro_differentiated_cells...   \n",
       "7   /biosample-types/in_vitro_differentiated_cells...   \n",
       "8   /biosample-types/in_vitro_differentiated_cells...   \n",
       "9   /biosample-types/in_vitro_differentiated_cells...   \n",
       "10  /biosample-types/in_vitro_differentiated_cells...   \n",
       "11  /biosample-types/in_vitro_differentiated_cells...   \n",
       "\n",
       "    biosample_term_name:skip                                   description  \\\n",
       "0                        NaN                                        H9 ESC   \n",
       "1                        NaN                                        H9 ESC   \n",
       "2                        NaN                H9 derived definitive endoderm   \n",
       "3                        NaN                H9 derived definitive endoderm   \n",
       "4                        NaN        H9 derived pancreatic progenitor cells   \n",
       "5                        NaN        H9 derived pancreatic progenitor cells   \n",
       "6                        NaN  H9 derived insulin producing beta-like cells   \n",
       "7                        NaN  H9 derived insulin producing beta-like cells   \n",
       "8                        NaN                 H9 derived neural crest cells   \n",
       "9                        NaN                 H9 derived neural crest cells   \n",
       "10                       NaN                         H9 derived osteocytes   \n",
       "11                       NaN                         H9 derived osteocytes   \n",
       "\n",
       "    library_id:skip cDNA_sample:skip           organism           source  \\\n",
       "0             22537     ENC4_cDNA227  /organisms/human/  /sources/sescc/   \n",
       "1             22538     ENC4_cDNA228  /organisms/human/  /sources/sescc/   \n",
       "2             22539     ENC4_cDNA229  /organisms/human/  /sources/sescc/   \n",
       "3             22540     ENC4_cDNA230  /organisms/human/  /sources/sescc/   \n",
       "4             22541     ENC4_cDNA231  /organisms/human/  /sources/sescc/   \n",
       "5             22542     ENC4_cDNA232  /organisms/human/  /sources/sescc/   \n",
       "6             22543     ENC4_cDNA233  /organisms/human/  /sources/sescc/   \n",
       "7             22544     ENC4_cDNA234  /organisms/human/  /sources/sescc/   \n",
       "8             22545     ENC4_cDNA235  /organisms/human/  /sources/sescc/   \n",
       "9             22546     ENC4_cDNA236  /organisms/human/  /sources/sescc/   \n",
       "10            22547     ENC4_cDNA237  /organisms/human/  /sources/sescc/   \n",
       "11            22548     ENC4_cDNA238  /organisms/human/  /sources/sescc/   \n",
       "\n",
       "             lab        award  \n",
       "0   barbara-wold  UM1HG009443  \n",
       "1   barbara-wold  UM1HG009443  \n",
       "2   barbara-wold  UM1HG009443  \n",
       "3   barbara-wold  UM1HG009443  \n",
       "4   barbara-wold  UM1HG009443  \n",
       "5   barbara-wold  UM1HG009443  \n",
       "6   barbara-wold  UM1HG009443  \n",
       "7   barbara-wold  UM1HG009443  \n",
       "8   barbara-wold  UM1HG009443  \n",
       "9   barbara-wold  UM1HG009443  \n",
       "10  barbara-wold  UM1HG009443  \n",
       "11  barbara-wold  UM1HG009443  "
      ]
     },
     "execution_count": 7,
     "metadata": {},
     "output_type": "execute_result"
    }
   ],
   "source": [
    "biosamples"
   ]
  },
  {
   "cell_type": "markdown",
   "metadata": {},
   "source": [
    "# Submit Documents"
   ]
  },
  {
   "cell_type": "markdown",
   "metadata": {},
   "source": [
    "Example Document submission"
   ]
  },
  {
   "cell_type": "code",
   "execution_count": 8,
   "metadata": {},
   "outputs": [],
   "source": [
    "#atac_uuid = '0fc44318-b802-474e-8199-f3b6d708eb6f'\n",
    "#atac = Document(os.path.expanduser('~/proj/encode3-curation/Wold_Lab_ATAC_Seq_protocol_December_2016.pdf'),\n",
    "#                'general protocol',\n",
    "#                'ATAC-Seq experiment protocol for Wold lab',\n",
    "#                )\n",
    "#body = atac.create_if_needed(server, atac_uuid)\n",
    "#print(body['@id'])"
   ]
  },
  {
   "cell_type": "markdown",
   "metadata": {},
   "source": [
    "# Submit Annotations"
   ]
  },
  {
   "cell_type": "code",
   "execution_count": 9,
   "metadata": {},
   "outputs": [],
   "source": [
    "#sheet = gcat.get_file(spreadsheet_name, fmt='pandas_excel')\n",
    "#annotations = sheet.parse('Annotations', header=0)\n",
    "#created = server.post_sheet('/annotations/', annotations, verbose=True, dry_run=True)\n",
    "#print(len(created))"
   ]
  },
  {
   "cell_type": "code",
   "execution_count": 10,
   "metadata": {},
   "outputs": [],
   "source": [
    "#if created:\n",
    "#    annotations.to_excel('/tmp/annotations.xlsx', index=False)"
   ]
  },
  {
   "cell_type": "markdown",
   "metadata": {},
   "source": [
    "# Register Biosamples"
   ]
  },
  {
   "cell_type": "code",
   "execution_count": 11,
   "metadata": {
    "scrolled": true
   },
   "outputs": [
    {
     "name": "stdout",
     "output_type": "stream",
     "text": [
      "0\n"
     ]
    }
   ],
   "source": [
    "biosamples = pandas.read_excel(spreadsheet_name, sheet_name='Biosample', header=0)\n",
    "created = server.post_sheet('/biosamples/', biosamples, \n",
    "                            verbose=True, \n",
    "                            dry_run=True, \n",
    "                            validator=validator)\n",
    "print(len(created))"
   ]
  },
  {
   "cell_type": "code",
   "execution_count": 12,
   "metadata": {},
   "outputs": [],
   "source": [
    "if created:\n",
    "    biosample.to_excel('/dev/shm/biosamples.xlsx', index=False)"
   ]
  },
  {
   "cell_type": "markdown",
   "metadata": {},
   "source": [
    "# Register Libraries"
   ]
  },
  {
   "cell_type": "code",
   "execution_count": 21,
   "metadata": {
    "scrolled": false
   },
   "outputs": [
    {
     "name": "stdout",
     "output_type": "stream",
     "text": [
      "0\n"
     ]
    }
   ],
   "source": [
    "libraries = pandas.read_excel(spreadsheet_name, sheet_name='Library', header=0)\n",
    "created = server.post_sheet('/libraries/', libraries, verbose=True, dry_run=True, validator=validator)\n",
    "print(len(created))"
   ]
  },
  {
   "cell_type": "code",
   "execution_count": 20,
   "metadata": {},
   "outputs": [],
   "source": [
    "if created:\n",
    "    libraries.to_excel('/dev/shm/libraries.xlsx', index=False)"
   ]
  },
  {
   "cell_type": "markdown",
   "metadata": {},
   "source": [
    "# Register Experiments"
   ]
  },
  {
   "cell_type": "code",
   "execution_count": 24,
   "metadata": {},
   "outputs": [
    {
     "name": "stdout",
     "output_type": "stream",
     "text": [
      "0\n"
     ]
    }
   ],
   "source": [
    "experiments = pandas.read_excel(spreadsheet_name, sheet_name='Experiment', header=0)\n",
    "created = server.post_sheet('/experiments/', experiments, verbose=True, dry_run=True, validator=validator)\n",
    "print(len(created))"
   ]
  },
  {
   "cell_type": "code",
   "execution_count": 23,
   "metadata": {},
   "outputs": [],
   "source": [
    "if created:\n",
    "    experiments.to_excel('/dev/shm/experiments.xlsx', index=False)"
   ]
  },
  {
   "cell_type": "markdown",
   "metadata": {},
   "source": [
    "# Register Replicates"
   ]
  },
  {
   "cell_type": "code",
   "execution_count": 29,
   "metadata": {
    "scrolled": true
   },
   "outputs": [
    {
     "name": "stdout",
     "output_type": "stream",
     "text": [
      "0\n"
     ]
    }
   ],
   "source": [
    "replicates = pandas.read_excel(spreadsheet_name, sheet_name='Replicate', header=0)\n",
    "created = server.post_sheet('/replicates/', replicates, verbose=True, dry_run=True, validator=validator)\n",
    "print(len(created))"
   ]
  },
  {
   "cell_type": "code",
   "execution_count": 28,
   "metadata": {},
   "outputs": [],
   "source": [
    "if created:\n",
    "    replicates.to_excel('/dev/shm/replicates.xlsx', index=False)"
   ]
  },
  {
   "cell_type": "markdown",
   "metadata": {
    "collapsed": true
   },
   "source": [
    "# Check Files"
   ]
  },
  {
   "cell_type": "code",
   "execution_count": 32,
   "metadata": {},
   "outputs": [
    {
     "name": "stdout",
     "output_type": "stream",
     "text": [
      "24\n"
     ]
    }
   ],
   "source": [
    "files = pandas.read_excel(spreadsheet_name, sheet_name='File', header=0)\n",
    "created = server.post_sheet('/files/', files, verbose=True, dry_run=True, validator=validator)\n",
    "print(len(created))"
   ]
  },
  {
   "cell_type": "code",
   "execution_count": null,
   "metadata": {},
   "outputs": [],
   "source": []
  },
  {
   "cell_type": "code",
   "execution_count": null,
   "metadata": {},
   "outputs": [],
   "source": []
  },
  {
   "cell_type": "code",
   "execution_count": null,
   "metadata": {},
   "outputs": [],
   "source": []
  }
 ],
 "metadata": {
  "kernelspec": {
   "display_name": "Python 3",
   "language": "python",
   "name": "python3"
  },
  "language_info": {
   "codemirror_mode": {
    "name": "ipython",
    "version": 3
   },
   "file_extension": ".py",
   "mimetype": "text/x-python",
   "name": "python",
   "nbconvert_exporter": "python",
   "pygments_lexer": "ipython3",
   "version": "3.8.5"
  }
 },
 "nbformat": 4,
 "nbformat_minor": 1
}
