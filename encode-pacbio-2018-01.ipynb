{
 "cells": [
  {
   "cell_type": "markdown",
   "metadata": {},
   "source": [
    "Submitting various things for end of grant."
   ]
  },
  {
   "cell_type": "code",
   "execution_count": 1,
   "metadata": {},
   "outputs": [],
   "source": [
    "import os\n",
    "import sys\n",
    "import requests\n",
    "import pandas\n",
    "import paramiko\n",
    "import json\n",
    "from IPython import display"
   ]
  },
  {
   "cell_type": "code",
   "execution_count": 2,
   "metadata": {},
   "outputs": [],
   "source": [
    "from curation_common import *\n",
    "from htsworkflow.submission.encoded import DCCValidator"
   ]
  },
  {
   "cell_type": "code",
   "execution_count": 3,
   "metadata": {},
   "outputs": [],
   "source": [
    "PANDAS_ODF = os.path.expanduser('~/src/odf_pandas')\n",
    "if PANDAS_ODF not in sys.path:\n",
    "    sys.path.append(PANDAS_ODF)\n",
    "    from pandasodf import ODFReader"
   ]
  },
  {
   "cell_type": "code",
   "execution_count": 4,
   "metadata": {},
   "outputs": [],
   "source": [
    "import gcat"
   ]
  },
  {
   "cell_type": "code",
   "execution_count": 5,
   "metadata": {},
   "outputs": [],
   "source": [
    "from htsworkflow.submission.encoded import Document\n",
    "from htsworkflow.submission.aws_submission import run_aws_cp"
   ]
  },
  {
   "cell_type": "code",
   "execution_count": 6,
   "metadata": {},
   "outputs": [],
   "source": [
    "# live server & control file\n",
    "server = ENCODED('www.encodeproject.org')\n",
    "spreadsheet_name = \"ENCODE4 Aug PacBio\"\n",
    "\n",
    "# test server & datafile\n",
    "#server = ENCODED('test.encodedcc.org')\n",
    "#spreadsheet_name = os.path.expanduser('~diane/woldlab/ENCODE/C1-encode3-limb-2017-testserver.ods')\n",
    "\n",
    "server.load_netrc()\n",
    "validator = DCCValidator(server)"
   ]
  },
  {
   "cell_type": "code",
   "execution_count": 7,
   "metadata": {},
   "outputs": [],
   "source": [
    "award = 'UM1HG009443'"
   ]
  },
  {
   "cell_type": "markdown",
   "metadata": {},
   "source": [
    "# Submit Documents"
   ]
  },
  {
   "cell_type": "markdown",
   "metadata": {},
   "source": [
    "Example Document submission"
   ]
  },
  {
   "cell_type": "code",
   "execution_count": 8,
   "metadata": {},
   "outputs": [],
   "source": [
    "#atac_uuid = '0fc44318-b802-474e-8199-f3b6d708eb6f'\n",
    "#atac = Document(os.path.expanduser('~/proj/encode3-curation/Wold_Lab_ATAC_Seq_protocol_December_2016.pdf'),\n",
    "#                'general protocol',\n",
    "#                'ATAC-Seq experiment protocol for Wold lab',\n",
    "#                )\n",
    "#body = atac.create_if_needed(server, atac_uuid)\n",
    "#print(body['@id'])"
   ]
  },
  {
   "cell_type": "markdown",
   "metadata": {},
   "source": [
    "# Submit Annotations"
   ]
  },
  {
   "cell_type": "code",
   "execution_count": 9,
   "metadata": {},
   "outputs": [],
   "source": [
    "#sheet = gcat.get_file(spreadsheet_name, fmt='pandas_excel')\n",
    "#annotations = sheet.parse('Annotations', header=0)\n",
    "#created = server.post_sheet('/annotations/', annotations, verbose=True, dry_run=True)\n",
    "#print(len(created))"
   ]
  },
  {
   "cell_type": "code",
   "execution_count": 10,
   "metadata": {},
   "outputs": [],
   "source": [
    "#if created:\n",
    "#    annotations.to_excel('/tmp/annotations.xlsx', index=False)"
   ]
  },
  {
   "cell_type": "markdown",
   "metadata": {},
   "source": [
    "# Register Biosamples"
   ]
  },
  {
   "cell_type": "code",
   "execution_count": 17,
   "metadata": {
    "scrolled": false
   },
   "outputs": [
    {
     "name": "stdout",
     "output_type": "stream",
     "text": [
      "{'uuid': 'a9330453-a271-4011-92af-c3898b151655', 'biosample_accession': 'ENCBS440MJL', 'biosample_type': 'immortalized cell line', 'biosample_term_name': 'HepG2', 'biosample_term_id': 'EFO:0001187', 'organism': '/organisms/human/', 'description': 'Homo sapiens HepG2 immortalized cell line', 'source': '/sources/atcc/', 'starting_amount': 5000000, 'starting_amount_units': 'cells', 'culture_harvest_date': '2017-07-24', 'age': '15.0', 'age_units': 'years', 'donor': 'ENCDO000AAC', 'lab': 'ali-mortazavi', 'award': 'UM1HG009443'} biosample_accession\n",
      "{'uuid': '7745b647-ff15-4ff3-9ced-b897d4e2983c', 'biosample_accession': 'ENCBS667GKM', 'biosample_type': 'immortalized cell line', 'biosample_term_name': 'HepG2', 'biosample_term_id': 'EFO:0001187', 'organism': '/organisms/human/', 'description': 'Homo sapiens HepG2 immortalized cell line', 'source': '/sources/atcc/', 'starting_amount': 5000000, 'starting_amount_units': 'cells', 'culture_harvest_date': '2017-06-25', 'age': '15.0', 'age_units': 'years', 'donor': 'ENCDO000AAC', 'lab': 'ali-mortazavi', 'award': 'UM1HG009443'} biosample_accession\n",
      "{'uuid': '7d58bd37-2307-44ef-8697-4af213a1ccdf', 'biosample_accession': 'ENCBS229YYL', 'biosample_type': 'immortalized cell line', 'biosample_term_name': 'GM12878', 'biosample_term_id': 'EFO:0002784', 'organism': '/organisms/human/', 'description': 'Homo sapiens GM12878 immortalized cell line', 'source': '/sources/coriell/', 'starting_amount': 5000000, 'starting_amount_units': 'cells', 'culture_harvest_date': '2017-10-17', 'originated_from': 'ENCBS090RNA', 'donor': 'ENCDO000AAK', 'lab': 'ali-mortazavi', 'award': 'UM1HG009443'} biosample_accession\n",
      "{'uuid': '95145626-9017-4678-90e4-f89dad064f3b', 'biosample_accession': 'ENCBS657BPX', 'biosample_type': 'immortalized cell line', 'biosample_term_name': 'GM12878', 'biosample_term_id': 'EFO:0002784', 'organism': '/organisms/human/', 'description': 'Homo sapiens GM12878 immortalized cell line', 'source': '/sources/coriell/', 'starting_amount': 5000000, 'starting_amount_units': 'cells', 'culture_harvest_date': '2017-10-17', 'originated_from': 'ENCBS090RNA', 'donor': 'ENCDO000AAK', 'lab': 'ali-mortazavi', 'award': 'UM1HG009443'} biosample_accession\n",
      "{'uuid': '4662c28f-8df6-47b8-aaaa-5da7fa6e2028', 'biosample_accession': 'ENCBS203BUH', 'biosample_type': 'immortalized cell line', 'biosample_term_name': 'K562', 'biosample_term_id': 'EFO:0002067', 'organism': '/organisms/human/', 'description': 'Homo sapiens K562 immortalized cell line', 'source': '/sources/atcc/', 'starting_amount': 4800000, 'starting_amount_units': 'cells', 'culture_harvest_date': '2017-11-17', 'donor': 'ENCDO000AAD', 'lab': 'ali-mortazavi', 'award': 'UM1HG009443'} biosample_accession\n",
      "{'uuid': '7c57cf66-d026-49fd-8843-5f32eff466a2', 'biosample_accession': 'ENCBS859NNO', 'biosample_type': 'immortalized cell line', 'biosample_term_name': 'K562', 'biosample_term_id': 'EFO:0002067', 'organism': '/organisms/human/', 'description': 'Homo sapiens K562 immortalized cell line', 'source': '/sources/atcc/', 'starting_amount': 4800000, 'starting_amount_units': 'cells', 'culture_harvest_date': '2017-11-17', 'donor': 'ENCDO000AAD', 'lab': 'ali-mortazavi', 'award': 'UM1HG009443'} biosample_accession\n",
      "0\n"
     ]
    }
   ],
   "source": [
    "book = gcat.get_file(spreadsheet_name, fmt='pandas_excel')\n",
    "biosample = book.parse('Biosamples', header=0)\n",
    "created = server.post_sheet('/biosamples/', biosample, \n",
    "                            verbose=True, \n",
    "                            dry_run=True, \n",
    "                            validator=validator)\n",
    "print(len(created))"
   ]
  },
  {
   "cell_type": "code",
   "execution_count": 16,
   "metadata": {},
   "outputs": [],
   "source": [
    "if created:\n",
    "    biosample.to_excel('/dev/shm/biosamples.xlsx', index=False)"
   ]
  },
  {
   "cell_type": "markdown",
   "metadata": {},
   "source": [
    "# Register Libraries"
   ]
  },
  {
   "cell_type": "code",
   "execution_count": 21,
   "metadata": {
    "scrolled": false
   },
   "outputs": [
    {
     "name": "stdout",
     "output_type": "stream",
     "text": [
      "ENCODE4 Aug PacBio\n",
      "{'library_accession': 'example', 'aliases': ['barbara-wold:18270_A1'], 'biosample': 'barbara-wold:c1_e12.5_mouse_limb_cell_18270_A1', 'nucleic_acid_term_name': 'polyadenylated mRNA', 'size_range': '400.0', 'documents': ['barbara-wold:smarter-ulta-low-pdf'], 'lab': 'barbara-wold', 'award': 'UM1HG009443'} library_accession\n",
      "{'uuid': 'c346fdc3-f8b5-47c2-80b2-8646de8fad5e', 'library_accession': 'ENCLB443KZB', 'aliases': ['ali-mortazavi:PB23'], 'biosample': 'ENCBS440MJL', 'nucleic_acid_term_name': 'polyadenylated mRNA', 'lab': 'ali-mortazavi', 'award': 'UM1HG009443'} library_accession\n",
      "{'uuid': 'a79e9c80-ae41-49db-987f-562f0c9f27cd', 'library_accession': 'ENCLB572FVU', 'aliases': ['ali-mortazavi:PB26'], 'biosample': 'ENCBS667GKM', 'nucleic_acid_term_name': 'polyadenylated mRNA', 'lab': 'ali-mortazavi', 'award': 'UM1HG009443'} library_accession\n",
      "{'uuid': '9f5e2bc3-ce7b-418d-ab51-dda35e02ce96', 'library_accession': 'ENCLB027JID', 'aliases': ['ali-mortazavi:PB36'], 'biosample': 'ENCBS229YYL', 'nucleic_acid_term_name': 'polyadenylated mRNA', 'lab': 'ali-mortazavi', 'award': 'UM1HG009443'} library_accession\n",
      "{'uuid': '3a67cb0d-aedd-4520-92c7-14390c9749a8', 'library_accession': 'ENCLB133UBC', 'aliases': ['ali-mortazavi:PB38'], 'biosample': 'ENCBS657BPX', 'nucleic_acid_term_name': 'polyadenylated mRNA', 'lab': 'ali-mortazavi', 'award': 'UM1HG009443'} library_accession\n",
      "{'uuid': 'cb6457e3-e39d-48ff-83d5-4beca49e837b', 'library_accession': 'ENCLB846KPV', 'aliases': ['ali-mortazavi:PB48'], 'biosample': 'ENCBS203BUH', 'nucleic_acid_term_name': 'polyadenylated mRNA', 'lab': 'ali-mortazavi', 'award': 'UM1HG009443'} library_accession\n",
      "{'uuid': '522cc575-f1fa-4b38-8a30-b4d02a5f74d4', 'library_accession': 'ENCLB095ZGG', 'aliases': ['ali-mortazavi:PB49'], 'biosample': 'ENCBS859NNO', 'nucleic_acid_term_name': 'polyadenylated mRNA', 'lab': 'ali-mortazavi', 'award': 'UM1HG009443'} library_accession\n",
      "0\n"
     ]
    }
   ],
   "source": [
    "print(spreadsheet_name)\n",
    "book = gcat.get_file(spreadsheet_name, fmt='pandas_excel')\n",
    "libraries = book.parse('Libraries', header=0)\n",
    "created = server.post_sheet('/libraries/', libraries, verbose=True, dry_run=True, validator=validator)\n",
    "print(len(created))"
   ]
  },
  {
   "cell_type": "code",
   "execution_count": 20,
   "metadata": {},
   "outputs": [],
   "source": [
    "if created:\n",
    "    libraries.to_excel('/dev/shm/libraries.xlsx', index=False)"
   ]
  },
  {
   "cell_type": "markdown",
   "metadata": {},
   "source": [
    "# Register Experiments"
   ]
  },
  {
   "cell_type": "code",
   "execution_count": 25,
   "metadata": {},
   "outputs": [
    {
     "name": "stdout",
     "output_type": "stream",
     "text": [
      "www.encodeproject.org\n",
      "{'uuid': 'example', 'experiment_accession': 'example', 'aliases': ['barbara-wold:c1_e12.5_mouse_limb_experiment'], 'description': 'C1 e12.5 mouse limb', 'assay_term_name': 'ISO-seq', 'lab': 'barbara-wold', 'award': 'U54HG006998'} experiment_accession\n",
      "{'uuid': 'b4305eff-e8c8-4600-a134-ca64b49ae8c9', 'experiment_accession': 'ENCSR834DQL', 'biosample_type': 'immortalized cell line', 'biosample_term_name': 'HepG2', 'biosample_term_id': 'EFO:0001187', 'description': 'Homo sapiens HepG2 immortalized cell line', 'assay_term_name': 'ISO-seq', 'lab': 'ali-mortazavi', 'award': 'UM1HG009443'} experiment_accession\n",
      "{'uuid': 'b2323239-fb86-4b42-8150-9d7cc0dc5e1f', 'experiment_accession': 'ENCSR706ANY', 'biosample_type': 'immortalized cell line', 'biosample_term_name': 'GM12878', 'biosample_term_id': 'EFO:0002784', 'description': 'Homo sapiens GM12878 immortalized cell line', 'assay_term_name': 'ISO-seq', 'lab': 'ali-mortazavi', 'award': 'UM1HG009443'} experiment_accession\n",
      "{'uuid': 'ac3ef4ab-1ac7-45a6-86f6-f8757cdda03c', 'experiment_accession': 'ENCSR589FUJ', 'biosample_type': 'immortalized cell line', 'biosample_term_name': 'K562', 'biosample_term_id': 'EFO:0002067', 'description': 'Homo sapiens K562 immortalized cell line', 'assay_term_name': 'ISO-seq', 'lab': 'ali-mortazavi', 'award': 'UM1HG009443'} experiment_accession\n",
      "0\n"
     ]
    }
   ],
   "source": [
    "print(server.server)\n",
    "book = gcat.get_file(spreadsheet_name, fmt='pandas_excel')\n",
    "experiments = book.parse('Experiments', header=0)\n",
    "created = server.post_sheet('/experiments/', experiments, verbose=True, dry_run=True, validator=validator)\n",
    "print(len(created))"
   ]
  },
  {
   "cell_type": "code",
   "execution_count": 24,
   "metadata": {},
   "outputs": [],
   "source": [
    "if created:\n",
    "    experiments.to_excel('/dev/shm/experiments.xlsx', index=False)"
   ]
  },
  {
   "cell_type": "markdown",
   "metadata": {},
   "source": [
    "# Register Replicates"
   ]
  },
  {
   "cell_type": "code",
   "execution_count": 27,
   "metadata": {
    "scrolled": true
   },
   "outputs": [
    {
     "name": "stdout",
     "output_type": "stream",
     "text": [
      "www.encodeproject.org\n",
      "ENCODE4 Aug PacBio\n",
      "{'uuid': 'example', 'experiment': 'barbara-wold:c1_e12.5_mouse_limb_experiment', 'biological_replicate_number': 1, 'technical_replicate_number': 1, 'library': 'barbara-wold:18270_A1'} uuid\n",
      "{'experiment': 'ENCSR834DQL', 'biological_replicate_number': 1, 'technical_replicate_number': 1, 'library': 'ENCLB443KZB'} uuid\n",
      "{'experiment': 'ENCSR834DQL', 'biological_replicate_number': 2, 'technical_replicate_number': 1, 'library': 'ENCLB572FVU'} uuid\n",
      "{'experiment': 'ENCSR706ANY', 'biological_replicate_number': 1, 'technical_replicate_number': 1, 'library': 'ENCLB027JID'} uuid\n",
      "{'experiment': 'ENCSR706ANY', 'biological_replicate_number': 2, 'technical_replicate_number': 1, 'library': 'ENCLB133UBC'} uuid\n",
      "{'experiment': 'ENCSR589FUJ', 'biological_replicate_number': 1, 'technical_replicate_number': 1, 'library': 'ENCLB846KPV'} uuid\n",
      "{'experiment': 'ENCSR589FUJ', 'biological_replicate_number': 2, 'technical_replicate_number': 1, 'library': 'ENCLB095ZGG'} uuid\n",
      "Reponse {'@type': ['result'], '@graph': [{'date_created': '2018-01-11T23:43:51.134888+00:00', 'schema_version': '9', '@id': '/replicates/ec14c478-67a5-48cd-9813-db362de120f3/', 'aliases': [], 'experiment': '/experiments/ENCSR834DQL/', 'uuid': 'ec14c478-67a5-48cd-9813-db362de120f3', 'submitted_by': '/users/bc5b62f7-ce28-4a1e-b6b3-81c9c5a86d7a/', 'technical_replicate_number': 1, '@type': ['Replicate', 'Item'], 'library': '/libraries/ENCLB443KZB/', 'biological_replicate_number': 1, 'status': 'in progress'}], 'status': 'success'}\n",
      "row 1 created: ec14c478-67a5-48cd-9813-db362de120f3\n",
      "Reponse {'@type': ['result'], '@graph': [{'date_created': '2018-01-11T23:43:51.306886+00:00', 'submitted_by': '/users/bc5b62f7-ce28-4a1e-b6b3-81c9c5a86d7a/', 'experiment': '/experiments/ENCSR834DQL/', 'status': 'in progress', '@id': '/replicates/d0efdadd-75ab-491f-b921-16f09bc9a7df/', 'library': '/libraries/ENCLB572FVU/', 'aliases': [], 'uuid': 'd0efdadd-75ab-491f-b921-16f09bc9a7df', 'technical_replicate_number': 1, '@type': ['Replicate', 'Item'], 'biological_replicate_number': 2, 'schema_version': '9'}], 'status': 'success'}\n",
      "row 2 created: d0efdadd-75ab-491f-b921-16f09bc9a7df\n",
      "Reponse {'@graph': [{'library': '/libraries/ENCLB027JID/', 'experiment': '/experiments/ENCSR706ANY/', 'technical_replicate_number': 1, 'aliases': [], 'submitted_by': '/users/bc5b62f7-ce28-4a1e-b6b3-81c9c5a86d7a/', 'schema_version': '9', 'biological_replicate_number': 1, 'date_created': '2018-01-11T23:43:51.471328+00:00', 'uuid': 'f9cfca7a-11f4-462e-9b43-b00ba6ea1c43', '@type': ['Replicate', 'Item'], '@id': '/replicates/f9cfca7a-11f4-462e-9b43-b00ba6ea1c43/', 'status': 'in progress'}], 'status': 'success', '@type': ['result']}\n",
      "row 3 created: f9cfca7a-11f4-462e-9b43-b00ba6ea1c43\n",
      "Reponse {'@type': ['result'], '@graph': [{'date_created': '2018-01-11T23:43:51.606033+00:00', 'submitted_by': '/users/bc5b62f7-ce28-4a1e-b6b3-81c9c5a86d7a/', 'experiment': '/experiments/ENCSR706ANY/', 'status': 'in progress', '@id': '/replicates/d0deccb8-d886-4743-8b75-e3336520c7d9/', 'library': '/libraries/ENCLB133UBC/', 'aliases': [], 'uuid': 'd0deccb8-d886-4743-8b75-e3336520c7d9', 'technical_replicate_number': 1, '@type': ['Replicate', 'Item'], 'biological_replicate_number': 2, 'schema_version': '9'}], 'status': 'success'}\n",
      "row 4 created: d0deccb8-d886-4743-8b75-e3336520c7d9\n",
      "Reponse {'status': 'success', '@type': ['result'], '@graph': [{'biological_replicate_number': 1, 'library': '/libraries/ENCLB846KPV/', '@type': ['Replicate', 'Item'], 'date_created': '2018-01-11T23:43:51.747446+00:00', 'submitted_by': '/users/bc5b62f7-ce28-4a1e-b6b3-81c9c5a86d7a/', '@id': '/replicates/2520c316-402c-442f-beeb-e0477eb39989/', 'uuid': '2520c316-402c-442f-beeb-e0477eb39989', 'status': 'in progress', 'aliases': [], 'technical_replicate_number': 1, 'experiment': '/experiments/ENCSR589FUJ/', 'schema_version': '9'}]}\n",
      "row 5 created: 2520c316-402c-442f-beeb-e0477eb39989\n",
      "Reponse {'status': 'success', '@graph': [{'status': 'in progress', '@id': '/replicates/0493ef70-11ef-4582-af21-c4ab9395c787/', 'aliases': [], 'biological_replicate_number': 2, '@type': ['Replicate', 'Item'], 'submitted_by': '/users/bc5b62f7-ce28-4a1e-b6b3-81c9c5a86d7a/', 'uuid': '0493ef70-11ef-4582-af21-c4ab9395c787', 'date_created': '2018-01-11T23:43:51.898516+00:00', 'experiment': '/experiments/ENCSR589FUJ/', 'technical_replicate_number': 1, 'schema_version': '9', 'library': '/libraries/ENCLB095ZGG/'}], '@type': ['result']}\n",
      "row 6 created: 0493ef70-11ef-4582-af21-c4ab9395c787\n",
      "6\n"
     ]
    }
   ],
   "source": [
    "print(server.server)\n",
    "print(spreadsheet_name)\n",
    "book = gcat.get_file(spreadsheet_name, fmt='pandas_excel')\n",
    "replicates = book.parse('Replicates', header=0)\n",
    "created = server.post_sheet('/replicates/', replicates, verbose=True, dry_run=False, validator=validator)\n",
    "print(len(created))"
   ]
  },
  {
   "cell_type": "code",
   "execution_count": 28,
   "metadata": {},
   "outputs": [],
   "source": [
    "if created:\n",
    "    replicates.to_excel('/dev/shm/replicates.xlsx', index=False)"
   ]
  },
  {
   "cell_type": "code",
   "execution_count": null,
   "metadata": {},
   "outputs": [],
   "source": []
  }
 ],
 "metadata": {
  "kernelspec": {
   "display_name": "Python 3",
   "language": "python",
   "name": "python3"
  },
  "language_info": {
   "codemirror_mode": {
    "name": "ipython",
    "version": 3
   },
   "file_extension": ".py",
   "mimetype": "text/x-python",
   "name": "python",
   "nbconvert_exporter": "python",
   "pygments_lexer": "ipython3",
   "version": "3.6.4"
  }
 },
 "nbformat": 4,
 "nbformat_minor": 1
}
