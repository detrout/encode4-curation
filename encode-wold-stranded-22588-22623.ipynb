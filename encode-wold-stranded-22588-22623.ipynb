{
 "cells": [
  {
   "cell_type": "markdown",
   "metadata": {},
   "source": [
    "Preparing to submit wold stranded samples....\n",
    "\n",
    "This got a little messy because a couple libraries needed a top up."
   ]
  },
  {
   "cell_type": "code",
   "execution_count": 1,
   "metadata": {},
   "outputs": [],
   "source": [
    "import os\n",
    "import sys\n",
    "import requests\n",
    "import pandas\n",
    "import paramiko\n",
    "import json\n",
    "from IPython import display\n",
    "from pathlib import Path\n",
    "import configparser"
   ]
  },
  {
   "cell_type": "code",
   "execution_count": 2,
   "metadata": {},
   "outputs": [],
   "source": [
    "from curation_common import *\n",
    "from htsworkflow.submission.encoded import DCCValidator"
   ]
  },
  {
   "cell_type": "code",
   "execution_count": 3,
   "metadata": {},
   "outputs": [],
   "source": [
    "from htsworkflow.submission.encoded import Document\n",
    "from htsworkflow.submission.aws_submission import run_aws_cp\n",
    "from htsworkflow.util.api import (\n",
    "    add_auth_options,\n",
    "    make_auth_from_opts,\n",
    "    HtswApi,\n",
    ")"
   ]
  },
  {
   "cell_type": "code",
   "execution_count": 17,
   "metadata": {},
   "outputs": [],
   "source": []
  },
  {
   "cell_type": "code",
   "execution_count": 20,
   "metadata": {},
   "outputs": [],
   "source": [
    "config = configparser.ConfigParser()\n",
    "config.read([os.path.expanduser('~/.htsworkflow.ini'),\n",
    "             '/etc/htsworkflow.ini'\n",
    "             ])\n",
    "\n",
    "SECTION = 'sequence_archive'\n",
    "if config.has_section(SECTION):\n",
    "    apiid = config.get(SECTION, 'apiid')\n",
    "    apikey = config.get(SECTION, 'apikey')\n",
    "    apihost = config.get(SECTION, 'host')\n",
    "\n",
    "apihost='http://jumpgate.caltech.edu'    \n",
    "auth = {'apiid': apiid, 'apikey': apikey }\n",
    "htsw = HtswApi(apihost, auth)"
   ]
  },
  {
   "cell_type": "code",
   "execution_count": 5,
   "metadata": {},
   "outputs": [],
   "source": [
    "# live server & control file\n",
    "server = ENCODED('www.encodeproject.org')\n",
    "spreadsheet_name = Path('~/woldlab/ENCODE/stranded-22588-22623-jax.xlsx').expanduser()\n",
    "engine=None\n",
    "#engine='odf'\n",
    "\n",
    "# test server & datafile\n",
    "#server = ENCODED('test.encodedcc.org')\n",
    "#spreadsheet_name = os.path.expanduser('~diane/woldlab/ENCODE/C1-encode3-limb-2017-testserver.ods')\n",
    "\n",
    "server.load_netrc()\n",
    "validator = DCCValidator(server)"
   ]
  },
  {
   "cell_type": "code",
   "execution_count": 6,
   "metadata": {},
   "outputs": [],
   "source": [
    "award = 'UM1HG009443'"
   ]
  },
  {
   "cell_type": "markdown",
   "metadata": {},
   "source": [
    "# Lookup biosample ontologies"
   ]
  },
  {
   "cell_type": "markdown",
   "metadata": {},
   "source": [
    "Lookup any biosample ontologies that are already present"
   ]
  },
  {
   "cell_type": "code",
   "execution_count": 7,
   "metadata": {},
   "outputs": [
    {
     "data": {
      "text/html": [
       "<div>\n",
       "<style scoped>\n",
       "    .dataframe tbody tr th:only-of-type {\n",
       "        vertical-align: middle;\n",
       "    }\n",
       "\n",
       "    .dataframe tbody tr th {\n",
       "        vertical-align: top;\n",
       "    }\n",
       "\n",
       "    .dataframe thead th {\n",
       "        text-align: right;\n",
       "    }\n",
       "</style>\n",
       "<table border=\"1\" class=\"dataframe\">\n",
       "  <thead>\n",
       "    <tr style=\"text-align: right;\">\n",
       "      <th></th>\n",
       "      <th>uuid</th>\n",
       "      <th>accession</th>\n",
       "      <th>aliases:array</th>\n",
       "      <th>biosample_ontology</th>\n",
       "      <th>biosample_term_name:skip</th>\n",
       "      <th>pooled_from:array</th>\n",
       "      <th>description</th>\n",
       "      <th>library_id:skip</th>\n",
       "      <th>cDNA_sample:skip</th>\n",
       "      <th>organism</th>\n",
       "      <th>source</th>\n",
       "      <th>lab</th>\n",
       "      <th>award</th>\n",
       "    </tr>\n",
       "  </thead>\n",
       "  <tbody>\n",
       "    <tr>\n",
       "      <th>0</th>\n",
       "      <td>NaN</td>\n",
       "      <td>ENCBS928SLW</td>\n",
       "      <td>NaN</td>\n",
       "      <td>/biosample-types/tissue_UBERON_0001987/</td>\n",
       "      <td>placenta</td>\n",
       "      <td>NaN</td>\n",
       "      <td>Stam Placenta 11005</td>\n",
       "      <td>NaN</td>\n",
       "      <td>NaN</td>\n",
       "      <td>/organisms/human/</td>\n",
       "      <td>/sources/john-stamatoyannopoulos/</td>\n",
       "      <td>barbara-wold</td>\n",
       "      <td>UM1HG009443</td>\n",
       "    </tr>\n",
       "    <tr>\n",
       "      <th>1</th>\n",
       "      <td>NaN</td>\n",
       "      <td>ENCBS984FMU</td>\n",
       "      <td>NaN</td>\n",
       "      <td>/biosample-types/primary_cell_CL_0000624/</td>\n",
       "      <td>CD4-positive, alpha-beta T cell</td>\n",
       "      <td>NaN</td>\n",
       "      <td>CD4+ T cells (CD3+CD4+)</td>\n",
       "      <td>22588.0</td>\n",
       "      <td>ENC4_cDNA283</td>\n",
       "      <td>/organisms/human/</td>\n",
       "      <td>/sources/allcells/</td>\n",
       "      <td>barbara-wold</td>\n",
       "      <td>UM1HG009443</td>\n",
       "    </tr>\n",
       "    <tr>\n",
       "      <th>2</th>\n",
       "      <td>NaN</td>\n",
       "      <td>ENCBS075SKQ</td>\n",
       "      <td>NaN</td>\n",
       "      <td>/biosample-types/primary_cell_CL_0000624/</td>\n",
       "      <td>CD4-positive, alpha-beta T cell</td>\n",
       "      <td>NaN</td>\n",
       "      <td>CD4+ T cells (CD3+CD4+)</td>\n",
       "      <td>22589.0</td>\n",
       "      <td>ENC4_cDNA284</td>\n",
       "      <td>/organisms/human/</td>\n",
       "      <td>/sources/allcells/</td>\n",
       "      <td>barbara-wold</td>\n",
       "      <td>UM1HG009443</td>\n",
       "    </tr>\n",
       "    <tr>\n",
       "      <th>3</th>\n",
       "      <td>NaN</td>\n",
       "      <td>ENCBS883EPS</td>\n",
       "      <td>NaN</td>\n",
       "      <td>/biosample-types/primary_cell_NTR_0000495/</td>\n",
       "      <td>activated CD4-positive, alpha-beta T cell</td>\n",
       "      <td>NaN</td>\n",
       "      <td>CD4+ T cells, activated day 2</td>\n",
       "      <td>22590.0</td>\n",
       "      <td>ENC4_cDNA285</td>\n",
       "      <td>/organisms/human/</td>\n",
       "      <td>/sources/allcells/</td>\n",
       "      <td>barbara-wold</td>\n",
       "      <td>UM1HG009443</td>\n",
       "    </tr>\n",
       "    <tr>\n",
       "      <th>4</th>\n",
       "      <td>NaN</td>\n",
       "      <td>ENCBS555KPW</td>\n",
       "      <td>NaN</td>\n",
       "      <td>/biosample-types/primary_cell_NTR_0000495/</td>\n",
       "      <td>activated CD4-positive, alpha-beta T cell</td>\n",
       "      <td>NaN</td>\n",
       "      <td>CD4+ T cells, activated day 2</td>\n",
       "      <td>22591.0</td>\n",
       "      <td>ENC4_cDNA286</td>\n",
       "      <td>/organisms/human/</td>\n",
       "      <td>/sources/allcells/</td>\n",
       "      <td>barbara-wold</td>\n",
       "      <td>UM1HG009443</td>\n",
       "    </tr>\n",
       "    <tr>\n",
       "      <th>...</th>\n",
       "      <td>...</td>\n",
       "      <td>...</td>\n",
       "      <td>...</td>\n",
       "      <td>...</td>\n",
       "      <td>...</td>\n",
       "      <td>...</td>\n",
       "      <td>...</td>\n",
       "      <td>...</td>\n",
       "      <td>...</td>\n",
       "      <td>...</td>\n",
       "      <td>...</td>\n",
       "      <td>...</td>\n",
       "      <td>...</td>\n",
       "    </tr>\n",
       "    <tr>\n",
       "      <th>1048570</th>\n",
       "      <td>NaN</td>\n",
       "      <td>NaN</td>\n",
       "      <td>NaN</td>\n",
       "      <td>NaN</td>\n",
       "      <td>NaN</td>\n",
       "      <td>NaN</td>\n",
       "      <td>NaN</td>\n",
       "      <td>NaN</td>\n",
       "      <td>NaN</td>\n",
       "      <td>NaN</td>\n",
       "      <td>NaN</td>\n",
       "      <td>NaN</td>\n",
       "      <td>NaN</td>\n",
       "    </tr>\n",
       "    <tr>\n",
       "      <th>1048571</th>\n",
       "      <td>NaN</td>\n",
       "      <td>NaN</td>\n",
       "      <td>NaN</td>\n",
       "      <td>NaN</td>\n",
       "      <td>NaN</td>\n",
       "      <td>NaN</td>\n",
       "      <td>NaN</td>\n",
       "      <td>NaN</td>\n",
       "      <td>NaN</td>\n",
       "      <td>NaN</td>\n",
       "      <td>NaN</td>\n",
       "      <td>NaN</td>\n",
       "      <td>NaN</td>\n",
       "    </tr>\n",
       "    <tr>\n",
       "      <th>1048572</th>\n",
       "      <td>NaN</td>\n",
       "      <td>NaN</td>\n",
       "      <td>NaN</td>\n",
       "      <td>NaN</td>\n",
       "      <td>NaN</td>\n",
       "      <td>NaN</td>\n",
       "      <td>NaN</td>\n",
       "      <td>NaN</td>\n",
       "      <td>NaN</td>\n",
       "      <td>NaN</td>\n",
       "      <td>NaN</td>\n",
       "      <td>NaN</td>\n",
       "      <td>NaN</td>\n",
       "    </tr>\n",
       "    <tr>\n",
       "      <th>1048573</th>\n",
       "      <td>NaN</td>\n",
       "      <td>NaN</td>\n",
       "      <td>NaN</td>\n",
       "      <td>NaN</td>\n",
       "      <td>NaN</td>\n",
       "      <td>NaN</td>\n",
       "      <td>NaN</td>\n",
       "      <td>NaN</td>\n",
       "      <td>NaN</td>\n",
       "      <td>NaN</td>\n",
       "      <td>NaN</td>\n",
       "      <td>NaN</td>\n",
       "      <td>NaN</td>\n",
       "    </tr>\n",
       "    <tr>\n",
       "      <th>1048574</th>\n",
       "      <td>NaN</td>\n",
       "      <td>NaN</td>\n",
       "      <td>NaN</td>\n",
       "      <td>NaN</td>\n",
       "      <td>NaN</td>\n",
       "      <td>NaN</td>\n",
       "      <td>NaN</td>\n",
       "      <td>NaN</td>\n",
       "      <td>NaN</td>\n",
       "      <td>NaN</td>\n",
       "      <td>NaN</td>\n",
       "      <td>NaN</td>\n",
       "      <td>NaN</td>\n",
       "    </tr>\n",
       "  </tbody>\n",
       "</table>\n",
       "<p>1048575 rows × 13 columns</p>\n",
       "</div>"
      ],
      "text/plain": [
       "        uuid    accession  aliases:array  \\\n",
       "0        NaN  ENCBS928SLW            NaN   \n",
       "1        NaN  ENCBS984FMU            NaN   \n",
       "2        NaN  ENCBS075SKQ            NaN   \n",
       "3        NaN  ENCBS883EPS            NaN   \n",
       "4        NaN  ENCBS555KPW            NaN   \n",
       "...      ...          ...            ...   \n",
       "1048570  NaN          NaN            NaN   \n",
       "1048571  NaN          NaN            NaN   \n",
       "1048572  NaN          NaN            NaN   \n",
       "1048573  NaN          NaN            NaN   \n",
       "1048574  NaN          NaN            NaN   \n",
       "\n",
       "                                 biosample_ontology  \\\n",
       "0           /biosample-types/tissue_UBERON_0001987/   \n",
       "1         /biosample-types/primary_cell_CL_0000624/   \n",
       "2         /biosample-types/primary_cell_CL_0000624/   \n",
       "3        /biosample-types/primary_cell_NTR_0000495/   \n",
       "4        /biosample-types/primary_cell_NTR_0000495/   \n",
       "...                                             ...   \n",
       "1048570                                         NaN   \n",
       "1048571                                         NaN   \n",
       "1048572                                         NaN   \n",
       "1048573                                         NaN   \n",
       "1048574                                         NaN   \n",
       "\n",
       "                          biosample_term_name:skip pooled_from:array  \\\n",
       "0                                         placenta               NaN   \n",
       "1                  CD4-positive, alpha-beta T cell               NaN   \n",
       "2                  CD4-positive, alpha-beta T cell               NaN   \n",
       "3        activated CD4-positive, alpha-beta T cell               NaN   \n",
       "4        activated CD4-positive, alpha-beta T cell               NaN   \n",
       "...                                            ...               ...   \n",
       "1048570                                        NaN               NaN   \n",
       "1048571                                        NaN               NaN   \n",
       "1048572                                        NaN               NaN   \n",
       "1048573                                        NaN               NaN   \n",
       "1048574                                        NaN               NaN   \n",
       "\n",
       "                           description  library_id:skip cDNA_sample:skip  \\\n",
       "0                  Stam Placenta 11005              NaN              NaN   \n",
       "1              CD4+ T cells (CD3+CD4+)          22588.0     ENC4_cDNA283   \n",
       "2              CD4+ T cells (CD3+CD4+)          22589.0     ENC4_cDNA284   \n",
       "3        CD4+ T cells, activated day 2          22590.0     ENC4_cDNA285   \n",
       "4        CD4+ T cells, activated day 2          22591.0     ENC4_cDNA286   \n",
       "...                                ...              ...              ...   \n",
       "1048570                            NaN              NaN              NaN   \n",
       "1048571                            NaN              NaN              NaN   \n",
       "1048572                            NaN              NaN              NaN   \n",
       "1048573                            NaN              NaN              NaN   \n",
       "1048574                            NaN              NaN              NaN   \n",
       "\n",
       "                  organism                             source           lab  \\\n",
       "0        /organisms/human/  /sources/john-stamatoyannopoulos/  barbara-wold   \n",
       "1        /organisms/human/                 /sources/allcells/  barbara-wold   \n",
       "2        /organisms/human/                 /sources/allcells/  barbara-wold   \n",
       "3        /organisms/human/                 /sources/allcells/  barbara-wold   \n",
       "4        /organisms/human/                 /sources/allcells/  barbara-wold   \n",
       "...                    ...                                ...           ...   \n",
       "1048570                NaN                                NaN           NaN   \n",
       "1048571                NaN                                NaN           NaN   \n",
       "1048572                NaN                                NaN           NaN   \n",
       "1048573                NaN                                NaN           NaN   \n",
       "1048574                NaN                                NaN           NaN   \n",
       "\n",
       "               award  \n",
       "0        UM1HG009443  \n",
       "1        UM1HG009443  \n",
       "2        UM1HG009443  \n",
       "3        UM1HG009443  \n",
       "4        UM1HG009443  \n",
       "...              ...  \n",
       "1048570          NaN  \n",
       "1048571          NaN  \n",
       "1048572          NaN  \n",
       "1048573          NaN  \n",
       "1048574          NaN  \n",
       "\n",
       "[1048575 rows x 13 columns]"
      ]
     },
     "execution_count": 7,
     "metadata": {},
     "output_type": "execute_result"
    }
   ],
   "source": [
    "biosample = pandas.read_excel(spreadsheet_name, sheet_name='Biosample', header=0, engine=engine)\n",
    "\n",
    "for i, row in biosample.iterrows():\n",
    "    if not pandas.isnull(row.accession) and row.accession.startswith('E'):\n",
    "        obj = server.get_json(row.accession)\n",
    "        biosample_ontology = obj['biosample_ontology']\n",
    "        if isinstance(biosample_ontology, dict):\n",
    "            biosample.loc[i, 'biosample_ontology'] = biosample_ontology['@id']\n",
    "            biosample.loc[i, 'biosample_term_name:skip'] = biosample_ontology['term_name']\n",
    "        biosample.loc[i, 'source'] = obj['source']['@id']\n",
    "            \n",
    "biosample"
   ]
  },
  {
   "cell_type": "code",
   "execution_count": 8,
   "metadata": {},
   "outputs": [],
   "source": [
    "#biosample.to_excel('/dev/shm/biosamples.xlsx', index=False)"
   ]
  },
  {
   "cell_type": "markdown",
   "metadata": {},
   "source": [
    "# Register Biosamples"
   ]
  },
  {
   "cell_type": "code",
   "execution_count": 18,
   "metadata": {
    "scrolled": true
   },
   "outputs": [
    {
     "name": "stdout",
     "output_type": "stream",
     "text": [
      "0\n"
     ]
    }
   ],
   "source": [
    "biosample = pandas.read_excel(spreadsheet_name, sheet_name='Biosample', header=0, engine=engine)\n",
    "created = server.post_sheet('/biosamples/', biosample, \n",
    "                            verbose=True, \n",
    "                            dry_run=True, \n",
    "                            validator=validator)\n",
    "print(len(created))"
   ]
  },
  {
   "cell_type": "code",
   "execution_count": null,
   "metadata": {},
   "outputs": [],
   "source": [
    "if created:\n",
    "    biosample.to_excel('/dev/shm/biosamples.xlsx', index=False)"
   ]
  },
  {
   "cell_type": "markdown",
   "metadata": {},
   "source": [
    "# Register Libraries"
   ]
  },
  {
   "cell_type": "code",
   "execution_count": 11,
   "metadata": {
    "scrolled": false
   },
   "outputs": [
    {
     "name": "stdout",
     "output_type": "stream",
     "text": [
      "/home/diane/woldlab/ENCODE/stranded-22588-22623-jax.xlsx\n",
      "0\n"
     ]
    }
   ],
   "source": [
    "print(spreadsheet_name)\n",
    "libraries = pandas.read_excel(spreadsheet_name, sheet_name='Library', header=0, engine=engine)\n",
    "created = server.post_sheet('/libraries/', \n",
    "                            libraries,\n",
    "                            verbose=True, \n",
    "                            dry_run=True, \n",
    "                            validator=validator)\n",
    "print(len(created))"
   ]
  },
  {
   "cell_type": "code",
   "execution_count": 12,
   "metadata": {},
   "outputs": [],
   "source": [
    "if created:\n",
    "    libraries.to_excel('/dev/shm/libraries.xlsx', index=False)"
   ]
  },
  {
   "cell_type": "code",
   "execution_count": 29,
   "metadata": {},
   "outputs": [
    {
     "name": "stdout",
     "output_type": "stream",
     "text": [
      "22588 267.0 161 267\n",
      "22589 271.0 167 271\n",
      "22590 259.0 171 259\n",
      "22591 256.0 159 256\n",
      "22592 278.0 156 278\n",
      "22593 273.0 178 273\n",
      "22594 285.0 173 285\n",
      "22595 274.0 185 274\n",
      "22596 285.0 174 285\n",
      "22597 279.0 185 279\n",
      "22598 256.0 179 256\n",
      "22599 263.0 156 263\n",
      "22600 264.0 163 264\n",
      "22601 264.0 164 264\n",
      "22602 267.0 164 267\n",
      "22603 268.0 167 268\n",
      "22604 267.0 168 267\n",
      "22605 273.0 167 273\n",
      "22606 272.0 173 272\n",
      "22607 284.0 172 284\n",
      "22608 300.0 184 300\n",
      "22609 354.0 200 354\n",
      "22610 368.0 254 368\n",
      "22611 376.0 268 376\n",
      "22612 367.0 276 367\n",
      "22613 372.0 267 372\n",
      "22614 368.0 272 368\n",
      "22615 372.0 268 372\n",
      "22616 370.0 272 370\n",
      "22617 372.0 270 372\n",
      "22618 371.0 272 371\n",
      "22619 369.0 271 369\n",
      "22620 364.0 269 364\n",
      "22621 362.0 264 362\n",
      "22622 371.0 262 371\n",
      "22623 nan 271 None\n"
     ]
    }
   ],
   "source": [
    "for i, row in libraries.iterrows():\n",
    "    accession = row['accession']\n",
    "    alias = row['aliases:array']\n",
    "    fragment = row['average_fragment_size:integer']\n",
    "    library_id = alias[len('barbara-wold:'):]\n",
    "    jumpgate_info = htsw.get_library(library_id)\n",
    "    dcc_info = server.get_json(accession)\n",
    "    print(library_id, fragment, jumpgate_info['insert_size'], dcc_info.get('average_fragment_size'))\n",
    "    if jumpgate_info['insert_size'] != dcc_info.get('average_fragment_size'):\n",
    "        server.patch_json(dcc_info['@id'], {'average_fragment_size': int(jumpgate_info['insert_size'])})"
   ]
  },
  {
   "cell_type": "markdown",
   "metadata": {},
   "source": [
    "# Generate library files for downloads"
   ]
  },
  {
   "cell_type": "code",
   "execution_count": 21,
   "metadata": {},
   "outputs": [],
   "source": [
    "library_files = {}\n",
    "for i, row in libraries.iterrows():\n",
    "    library_id = row['aliases:array'].split(':')[1]\n",
    "    jumpgate = htsw.get_library(library_id)\n",
    "    for lane in jumpgate['lane_set']:\n",
    "        #print(library_id, lane['flowcell'])\n",
    "        if jumpgate['library_species'] == 'Homo sapiens':\n",
    "            genome = 'GRCh38'\n",
    "            annotation = 'V29'\n",
    "            sex = 'male'\n",
    "        else:\n",
    "            raise RuntimeError('Unsupported species {}'.format(library_species))\n",
    "        library_files.setdefault(lane['flowcell'], []).append({\n",
    "            'library_id': library_id,\n",
    "            'analysis_dir': library_id,\n",
    "            'genome': genome,\n",
    "            'annotation': annotation,\n",
    "            'sex': sex,\n",
    "            'read_1': Path(library_id) / (library_id + '*' + '.fastq.gz')\n",
    "        })\n",
    "    "
   ]
  },
  {
   "cell_type": "code",
   "execution_count": null,
   "metadata": {},
   "outputs": [],
   "source": [
    "library_files.keys()"
   ]
  },
  {
   "cell_type": "code",
   "execution_count": null,
   "metadata": {},
   "outputs": [],
   "source": [
    "for k in library_files:\n",
    "    print(k, len(library_files[k]))"
   ]
  },
  {
   "cell_type": "code",
   "execution_count": null,
   "metadata": {},
   "outputs": [],
   "source": [
    "pandas.DataFrame(library_files['HGLTKBCX3']).set_index('library_id')"
   ]
  },
  {
   "cell_type": "code",
   "execution_count": null,
   "metadata": {},
   "outputs": [],
   "source": [
    "client = paramiko.SSHClient()\n",
    "client.load_system_host_keys()\n",
    "client.connect('pongo.caltech.edu')\n",
    "sftp = client.open_sftp()"
   ]
  },
  {
   "cell_type": "code",
   "execution_count": null,
   "metadata": {},
   "outputs": [],
   "source": [
    "flowcells = Path('/woldlab/loxcyc/home/diane/proj/flowcells')"
   ]
  },
  {
   "cell_type": "code",
   "execution_count": null,
   "metadata": {},
   "outputs": [],
   "source": [
    "for key in library_files:\n",
    "    curdir = flowcells / key\n",
    "    try:\n",
    "        stat = sftp.stat(str(curdir))\n",
    "    except FileNotFoundError:\n",
    "        print('{key} is missing'.format(key=key))\n",
    "        sftp.mkdir(str(curdir))\n",
    "        \n",
    "    tsv = curdir / 'libraries.tsv'\n",
    "    try:\n",
    "        stat = sftp.stat(str(tsv))\n",
    "    except FileNotFoundError:\n",
    "        print('{tsv} is missing. Creating'.format(tsv=tsv))\n",
    "        with sftp.open(str(tsv), 'w') as outstream:\n",
    "            df = pandas.DataFrame(library_files[key]).set_index('library_id')\n",
    "            df.to_csv(outstream, sep='\\t')"
   ]
  },
  {
   "cell_type": "markdown",
   "metadata": {},
   "source": [
    "# Register Experiments"
   ]
  },
  {
   "cell_type": "code",
   "execution_count": 14,
   "metadata": {
    "scrolled": false
   },
   "outputs": [
    {
     "name": "stdout",
     "output_type": "stream",
     "text": [
      "www.encodeproject.org\n",
      "0\n"
     ]
    }
   ],
   "source": [
    "print(server.server)\n",
    "experiments = pandas.read_excel(spreadsheet_name, sheet_name='Experiment', header=0, engine=engine)\n",
    "experiments = experiments[experiments['accession'] != 'barbara approval needed']\n",
    "created = server.post_sheet('/experiments/', \n",
    "                            experiments, \n",
    "                            verbose=True, \n",
    "                            dry_run=True, \n",
    "                            validator=validator)\n",
    "print(len(created))"
   ]
  },
  {
   "cell_type": "code",
   "execution_count": 15,
   "metadata": {},
   "outputs": [],
   "source": [
    "if created:\n",
    "    experiments.to_excel('/dev/shm/experiments.xlsx', index=False)"
   ]
  },
  {
   "cell_type": "markdown",
   "metadata": {},
   "source": [
    "# Register Replicates"
   ]
  },
  {
   "cell_type": "code",
   "execution_count": 22,
   "metadata": {
    "scrolled": false
   },
   "outputs": [
    {
     "name": "stdout",
     "output_type": "stream",
     "text": [
      "www.encodeproject.org\n",
      "/home/diane/woldlab/ENCODE/stranded-22588-22623-jax.xlsx\n",
      "0\n"
     ]
    }
   ],
   "source": [
    "print(server.server)\n",
    "print(spreadsheet_name)\n",
    "replicates = pandas.read_excel(spreadsheet_name, sheet_name='Replicate', header=0, engine=engine)\n",
    "replicates = replicates[replicates['uuid'] != 'barbara approval needed']\n",
    "created = server.post_sheet('/replicates/',\n",
    "                            replicates, \n",
    "                            verbose=True, \n",
    "                            dry_run=True, \n",
    "                            validator=validator)\n",
    "print(len(created))"
   ]
  },
  {
   "cell_type": "code",
   "execution_count": 21,
   "metadata": {},
   "outputs": [],
   "source": [
    "if created:\n",
    "    replicates.to_excel('/dev/shm/replicates.xlsx', index=False)"
   ]
  },
  {
   "cell_type": "markdown",
   "metadata": {},
   "source": [
    "# Check Files"
   ]
  },
  {
   "cell_type": "code",
   "execution_count": null,
   "metadata": {},
   "outputs": [],
   "source": [
    "files = pandas.read_excel(spreadsheet_name, sheet_name='File', header=0, engine=engine)\n",
    "created = server.post_sheet('/files/', files, verbose=True, dry_run=True, validator=validator)\n",
    "print(len(created))"
   ]
  },
  {
   "cell_type": "code",
   "execution_count": null,
   "metadata": {},
   "outputs": [],
   "source": []
  }
 ],
 "metadata": {
  "kernelspec": {
   "display_name": "Python 3",
   "language": "python",
   "name": "python3"
  },
  "language_info": {
   "codemirror_mode": {
    "name": "ipython",
    "version": 3
   },
   "file_extension": ".py",
   "mimetype": "text/x-python",
   "name": "python",
   "nbconvert_exporter": "python",
   "pygments_lexer": "ipython3",
   "version": "3.9.2"
  }
 },
 "nbformat": 4,
 "nbformat_minor": 1
}
