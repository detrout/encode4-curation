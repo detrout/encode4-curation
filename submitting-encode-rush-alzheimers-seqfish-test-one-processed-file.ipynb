{
 "cells": [
  {
   "cell_type": "markdown",
   "id": "atomic-board",
   "metadata": {},
   "source": [
    "# Introduction"
   ]
  },
  {
   "cell_type": "markdown",
   "id": "better-mounting",
   "metadata": {},
   "source": [
    "Trying to submit some test data to the DCC.\n",
    "\n",
    "This attempt is using some example files given to me by Henry.\n",
    "\n",
    "I have a cell by gene quantification matrix and a cell location matrix.\n",
    "\n",
    "In my first attempted I also posted a processed image henry generated which was constructed from several different channels of the tiff.\n"
   ]
  },
  {
   "cell_type": "code",
   "execution_count": 1,
   "id": "exclusive-paste",
   "metadata": {},
   "outputs": [
    {
     "name": "stdout",
     "output_type": "stream",
     "text": [
      "Requirement already satisfied: encoded_client in /woldlab/loxcyc/home/diane/.local/lib/python3.9/site-packages (0.2.0)\r\n",
      "Requirement already satisfied: awscli in /usr/lib/python3/dist-packages (from encoded_client) (1.19.1)\r\n",
      "Requirement already satisfied: jsonschema in /usr/lib/python3/dist-packages (from encoded_client) (3.2.0)\r\n",
      "Requirement already satisfied: pandas in /usr/lib/python3/dist-packages (from encoded_client) (1.1.5)\r\n",
      "Requirement already satisfied: requests in /usr/lib/python3/dist-packages (from encoded_client) (2.25.1)\r\n"
     ]
    }
   ],
   "source": [
    "import sys\n",
    "\n",
    "!{sys.executable} -m pip install encoded_client"
   ]
  },
  {
   "cell_type": "code",
   "execution_count": 2,
   "id": "artificial-folder",
   "metadata": {},
   "outputs": [],
   "source": [
    "import hashlib"
   ]
  },
  {
   "cell_type": "code",
   "execution_count": 5,
   "id": "proved-waste",
   "metadata": {},
   "outputs": [],
   "source": [
    "from encoded_client.encoded import ENCODED, DCCValidator, Document\n",
    "from encoded_client.submission import run_aws_cp\n",
    "from pathlib import Path\n",
    "import pandas"
   ]
  },
  {
   "cell_type": "code",
   "execution_count": 4,
   "id": "centered-valuable",
   "metadata": {},
   "outputs": [],
   "source": [
    "server = ENCODED(\"test.encodedcc.org\")\n",
    "server.load_netrc()\n",
    "assert server.auth is not None\n",
    "validator = DCCValidator(server)"
   ]
  },
  {
   "cell_type": "code",
   "execution_count": null,
   "id": "according-charity",
   "metadata": {},
   "outputs": [],
   "source": [
    "alzheimers_dir = Path(\"/woldlab/castor/proj/alzheimers/work/2022080500\")\n",
    "list(alzheimers_dir.glob(\"*\"))"
   ]
  },
  {
   "cell_type": "code",
   "execution_count": null,
   "id": "stuffed-selling",
   "metadata": {},
   "outputs": [],
   "source": [
    "ls -lh $alzheimers_dir"
   ]
  },
  {
   "cell_type": "code",
   "execution_count": null,
   "id": "proved-avatar",
   "metadata": {},
   "outputs": [],
   "source": [
    "donor = \"/human-donors/ENCDO609ZOG/\"\n",
    "biosample = \"/biosample/ENCBS411JUI/\"\n",
    "lab = \"/labs/barbara-wold/\"\n",
    "award = \"UM1HG009443\"\n",
    "\n",
    "dry_run=False"
   ]
  },
  {
   "cell_type": "code",
   "execution_count": null,
   "id": "bibliographic-laser",
   "metadata": {},
   "outputs": [],
   "source": [
    "experiment_id = \"barbara-wold:seqfish_5194210_experiment\"\n",
    "experiments = {\n",
    "    'uuid': '3c2db1d7-2d74-4162-a99f-a7630440223e',\n",
    "    \"accession\": \"TSTSR166085\",\n",
    "    \"aliases:array\": [experiment_id],\n",
    "    \"description\": \"human_brain_Rush ID_5194210\",\n",
    "    \"biosample_ontology\": \"/biosample-types/tissue_UBERON_0006483/\",\n",
    "    \"assay_term_name\": \"seqFISH\",\n",
    "    \"lab\": lab,\n",
    "    \"award\": award,\n",
    "}\n",
    "\n",
    "experiments = pandas.DataFrame(experiments)\n",
    "print(server.post_sheet(\"/experiments/\", experiments, dry_run=True, verbose=True, validator=validator))"
   ]
  },
  {
   "cell_type": "code",
   "execution_count": null,
   "id": "martial-forty",
   "metadata": {},
   "outputs": [],
   "source": [
    "composite_slide_id = \"barbara-wold:seqfish_5194210_library_composite1\"\n",
    "composite_slide_uuid = '1a2cc7b0-879b-47da-b539-083a1d391077'\n",
    "composite_slide_doc = Document(\n",
    "    alzheimers_dir / \"rush_middle_frontal_ba46_5194210_composite.png\",\n",
    "    document_type=\"high resolution slide image\",\n",
    "    aliases=[composite_slide_id],\n",
    "    description=\"composite of DAPI, Poly-T, a stain for the Tau protein, and a stain for Amyloid Beta\",\n",
    "    server=server,\n",
    ")\n",
    "print(composite_slide_doc.create_if_needed(server, composite_slide_uuid, validator))\n"
   ]
  },
  {
   "cell_type": "code",
   "execution_count": null,
   "id": "powered-superior",
   "metadata": {},
   "outputs": [],
   "source": [
    "library_id = \"barbara-wold:seqfish_5194210_library\"\n",
    "libraries = {\n",
    "    \"uuid\": '14b1421e-d976-4bc1-9e0a-3354d281a1af',\n",
    "    \"accession\": \"TSTLB109656\",\n",
    "    \"aliases:array\": [library_id],\n",
    "    \"biosample\": biosample,\n",
    "    \"documents:array\": [composite_slide_uuid],\n",
    "    \"nucleic_acid_term_name\": \"RNA\",\n",
    "    \"strand_specificity\": \"unstranded\",\n",
    "    \"documents:array\": [composite_slide_uuid],\n",
    "    \"lab\": lab,\n",
    "    \"award\": award,\n",
    "}\n",
    "\n",
    "\n",
    "libraries = pandas.DataFrame(libraries)\n",
    "server.post_sheet(\"/libraries/\", libraries, dry_run=True, verbose=True, validator=validator)\n"
   ]
  },
  {
   "cell_type": "code",
   "execution_count": null,
   "id": "necessary-cotton",
   "metadata": {},
   "outputs": [],
   "source": [
    "replicate_id = \"barbara-wold:seqfish_5194210_library_b1_t1\"\n",
    "replicates = {\n",
    "    \"uuid\": '1fd40e74-1ec3-4005-851a-c70f1ccc389a',\n",
    "    \"experiment\": experiment_id, \n",
    "    \"biological_replicate_number:integer\": 1,\n",
    "    \"technical_replicate_number:integer\": 1,\n",
    "    \"library\": library_id,\n",
    "    \"aliases:array\": [replicate_id],\n",
    "}\n",
    "\n",
    "replicates = pandas.DataFrame(replicates)\n",
    "server.post_sheet(\"/replicates/\", replicates, dry_run=True, verbose=True, validator=validator)"
   ]
  },
  {
   "cell_type": "code",
   "execution_count": null,
   "id": "trying-mumbai",
   "metadata": {},
   "outputs": [],
   "source": [
    "# cell coordinates, cell type annotations, and raw imaging signal"
   ]
  },
  {
   "cell_type": "code",
   "execution_count": null,
   "id": "invalid-rebound",
   "metadata": {},
   "outputs": [],
   "source": [
    "#Counts matrix should be by id.\n",
    "\n",
    "files = [\n",
    "    {\"uuid\": 'b6b240d6-6a57-4d8c-809c-a2893fd076b3', \"accession\": \"TSTFF842936\", \"dataset\": experiment_id, \"submitted_file_name\": \"rush_middle_frontal_ba46_5194210_counts.tsv\", \"file_format\": \"tsv\", \"output_type\": \"gene quantifications\", \"replicate\": replicate_id, \"lab\": lab, \"award\": award},\n",
    "    {\"uuid\": 'b6402ac1-c2ab-4c96-a1dc-ec9aadb063c0', \"accession\": \"TSTFF241595\", \"dataset\": experiment_id, \"submitted_file_name\": \"rush_middle_frontal_ba46_5194210_obs.tsv\", \"file_format\": \"tsv\", \"output_type\": \"cell coordinates\", \"replicate\": replicate_id, \"lab\": lab, \"award\": award},\n",
    "    #{\"dataset\": experiment_id, \"submitted_file_name\": \"rush_middle_frontal_ba46_5194210_composite.png\", \"file_format\": \"png\", \"output_type\": \"raw imaging signal\", \"platform\": None, \"replicate\": replicate_id, \"lab\": lab, \"award\": award},\n",
    "]\n",
    "\n",
    "for f in files:\n",
    "    if \"md5sum\" not in f:\n",
    "        with open(alzheimers_dir / f[\"submitted_file_name\"], \"rb\") as instream:\n",
    "            md5 = hashlib.md5()\n",
    "            block = instream.read()\n",
    "            md5.update(block)\n",
    "        f[\"md5sum\"] = md5.hexdigest()\n",
    "\n",
    "files = pandas.DataFrame(files)\n",
    "created = server.post_sheet(\"/files/\", files, dry_run=True, verbose=True, validator=validator)\n"
   ]
  },
  {
   "cell_type": "code",
   "execution_count": null,
   "id": "infectious-flavor",
   "metadata": {},
   "outputs": [],
   "source": [
    "created = _"
   ]
  },
  {
   "cell_type": "code",
   "execution_count": null,
   "id": "tender-forestry",
   "metadata": {},
   "outputs": [],
   "source": [
    "if 0:\n",
    "    for row in created:\n",
    "        print(run_aws_cp(alzheimers_dir / row[\"submitted_file_name\"], row[\"upload_credentials\"]))"
   ]
  },
  {
   "cell_type": "code",
   "execution_count": null,
   "id": "crazy-momentum",
   "metadata": {},
   "outputs": [],
   "source": []
  },
  {
   "cell_type": "code",
   "execution_count": null,
   "id": "structural-array",
   "metadata": {},
   "outputs": [],
   "source": [
    "if 0:\n",
    "    for row in created:\n",
    "        print(run_aws_cp(alzheimers_dir / row[\"submitted_file_name\"], row[\"upload_credentials\"]))"
   ]
  }
 ],
 "metadata": {
  "kernelspec": {
   "display_name": "Python 3",
   "language": "python",
   "name": "python3"
  },
  "language_info": {
   "codemirror_mode": {
    "name": "ipython",
    "version": 3
   },
   "file_extension": ".py",
   "mimetype": "text/x-python",
   "name": "python",
   "nbconvert_exporter": "python",
   "pygments_lexer": "ipython3",
   "version": "3.9.2"
  }
 },
 "nbformat": 4,
 "nbformat_minor": 5
}
