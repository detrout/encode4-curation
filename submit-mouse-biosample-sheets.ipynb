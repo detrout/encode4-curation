{
 "cells": [
  {
   "cell_type": "markdown",
   "id": "super-advantage",
   "metadata": {},
   "source": [
    "# Introduction"
   ]
  },
  {
   "cell_type": "markdown",
   "id": "adjusted-anatomy",
   "metadata": {},
   "source": [
    "We have several spreadsheets from Brian. How much is in common & how much is different between them all?"
   ]
  },
  {
   "cell_type": "code",
   "execution_count": null,
   "id": "permanent-dakota",
   "metadata": {},
   "outputs": [],
   "source": [
    "import pandas\n",
    "from pathlib import Path\n",
    "import sys\n",
    "import re\n",
    "from matplotlib import pyplot\n",
    "import upsetplot"
   ]
  },
  {
   "cell_type": "code",
   "execution_count": null,
   "id": "appropriate-holiday",
   "metadata": {},
   "outputs": [],
   "source": [
    "EC = str(Path(\"/home/diane/proj/encoded_client/\").expanduser())\n",
    "if EC not in sys.path:\n",
    "    sys.path.append(EC)\n",
    "from encoded_client.encoded import ENCODED, DCCValidator\n",
    "\n",
    "server = ENCODED('www.encodeproject.org')\n",
    "#server = ENCODED('test.encodedcc.org')\n",
    "server.load_netrc()\n",
    "\n",
    "validator = DCCValidator(server)"
   ]
  },
  {
   "cell_type": "code",
   "execution_count": null,
   "id": "atlantic-stability",
   "metadata": {},
   "outputs": [],
   "source": [
    "encode_dir = Path(\"~/woldlab/ENCODE\").expanduser()\n",
    "biosample_dir = encode_dir / 'mouse-biosamples'"
   ]
  },
  {
   "cell_type": "code",
   "execution_count": null,
   "id": "federal-garden",
   "metadata": {},
   "outputs": [],
   "source": [
    "ls $biosample_dir"
   ]
  },
  {
   "cell_type": "code",
   "execution_count": null,
   "id": "permanent-teacher",
   "metadata": {},
   "outputs": [],
   "source": [
    "book_name = \"BioSample_Accession_sheet_hippocampus_front_cortex_for_Diane_April16_2021.xlsx\"\n",
    "sheet_name = 'shipped from Jax March 19 2021'\n",
    "spreadsheet_name = biosample_dir / book_name\n",
    "biosample = pandas.read_excel(spreadsheet_name, sheet_name=sheet_name, header=0)\n",
    "created = server.post_sheet('/biosamples/', biosample, \n",
    "                            verbose=True, \n",
    "                            dry_run=True, \n",
    "                            validator=validator)\n",
    "print(len(created))\n",
    "if created:\n",
    "    biosample.to_excel(Path('/dev/shm/')/book_name, sheet_name=sheet_name, index=False)\n",
    "    print('Wrote {}'.format(Path('/dev/shm/')/book_name))"
   ]
  },
  {
   "cell_type": "code",
   "execution_count": null,
   "id": "handmade-concert",
   "metadata": {},
   "outputs": [],
   "source": [
    "book_name = \"BioSample_Accession_sheet_reserve_full_time_course_core_biobank_for_Diane_April16_2021.xlsx\"\n",
    "sheet_name = 'Shipped from Jax 1-15-21'\n",
    "spreadsheet_name = biosample_dir / book_name\n",
    "biosample = pandas.read_excel(spreadsheet_name, sheet_name=sheet_name, header=0)\n",
    "created = server.post_sheet('/biosamples/', biosample, \n",
    "                            verbose=True, \n",
    "                            dry_run=True, \n",
    "                            validator=validator)\n",
    "print(len(created))\n",
    "if created:\n",
    "    biosample.to_excel(Path('/dev/shm/')/book_name, sheet_name=sheet_name, index=False)\n",
    "    print('Wrote {}'.format(Path('/dev/shm/')/book_name))    "
   ]
  },
  {
   "cell_type": "code",
   "execution_count": null,
   "id": "impaired-textbook",
   "metadata": {},
   "outputs": [],
   "source": [
    "book_name = \"BioSample_Accession_sheet_18_20_months_core_biobank_for_Diane_April16_2021.xlsx\"\n",
    "sheet_name = '9-2020 shipped from Jax'\n",
    "spreadsheet_name = biosample_dir / book_name\n",
    "biosample = pandas.read_excel(spreadsheet_name, sheet_name=sheet_name, header=0)\n",
    "created = server.post_sheet('/biosamples/', biosample, \n",
    "                            verbose=True, \n",
    "                            dry_run=True, \n",
    "                            validator=validator)\n",
    "print(len(created))\n",
    "if created:\n",
    "    biosample.to_excel(Path('/dev/shm/')/book_name, sheet_name=sheet_name, index=False)\n",
    "    print('Wrote {}'.format(Path('/dev/shm/')/book_name))    "
   ]
  },
  {
   "cell_type": "code",
   "execution_count": null,
   "id": "adult-degree",
   "metadata": {},
   "outputs": [],
   "source": []
  }
 ],
 "metadata": {
  "kernelspec": {
   "display_name": "Python 3",
   "language": "python",
   "name": "python3"
  },
  "language_info": {
   "codemirror_mode": {
    "name": "ipython",
    "version": 3
   },
   "file_extension": ".py",
   "mimetype": "text/x-python",
   "name": "python",
   "nbconvert_exporter": "python",
   "pygments_lexer": "ipython3",
   "version": "3.9.2"
  }
 },
 "nbformat": 4,
 "nbformat_minor": 5
}
