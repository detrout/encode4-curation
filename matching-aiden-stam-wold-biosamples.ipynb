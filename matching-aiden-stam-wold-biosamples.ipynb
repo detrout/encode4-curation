{
 "cells": [
  {
   "cell_type": "markdown",
   "id": "78e02e11",
   "metadata": {},
   "source": [
    "# Introduction"
   ]
  },
  {
   "cell_type": "markdown",
   "id": "52a3a92b",
   "metadata": {},
   "source": [
    "Attached are two lists of child BioSample Accession numbers for samples from the Aiden Lab (Erez at Baylor) for which I am trying \n",
    "to find a correspondence.  \n",
    "\n",
    "We received 48 samples, while Stam lab received 32.  I believe that our 48 contain entirely the 32 that\n",
    "were sent to Stam lab.  Using the alias designations, it seems clear how the correspondence goes.  \n",
    "\n",
    "If we wanted to confirm the correspondence by tracing the child BioSample Accessions on both of these lists back to their parents on the portal, is that\n",
    "something that you could do without a lot of effort?   That would help me know which of the BioSamples sent to us I should work up in order \n",
    "to match those done by Stam.  If it takes more than 20 minutes of your time, forget it.\n"
   ]
  },
  {
   "cell_type": "code",
   "execution_count": 1,
   "id": "da023953",
   "metadata": {},
   "outputs": [],
   "source": [
    "import sys"
   ]
  },
  {
   "cell_type": "code",
   "execution_count": 2,
   "id": "c7ba4a70",
   "metadata": {},
   "outputs": [
    {
     "name": "stdout",
     "output_type": "stream",
     "text": [
      "Requirement already satisfied: encoded_client in /home/diane/proj/encoded_client (0.1.1.dev16+gd869c38)\r\n",
      "Requirement already satisfied: awscli in /usr/lib/python3/dist-packages (from encoded_client) (1.24.8)\r\n",
      "Requirement already satisfied: jsonschema in /usr/lib/python3/dist-packages (from encoded_client) (3.2.0)\r\n",
      "Requirement already satisfied: pandas in /usr/lib/python3/dist-packages (from encoded_client) (1.3.5)\r\n",
      "Requirement already satisfied: requests in /usr/lib/python3/dist-packages (from encoded_client) (2.27.1)\r\n"
     ]
    }
   ],
   "source": [
    "!$sys.executable -m pip install --user encoded_client"
   ]
  },
  {
   "cell_type": "code",
   "execution_count": 3,
   "id": "73ba4ce8",
   "metadata": {},
   "outputs": [],
   "source": [
    "import pandas\n",
    "from io import StringIO\n",
    "import re\n",
    "from encoded_client.encoded import ENCODED"
   ]
  },
  {
   "cell_type": "code",
   "execution_count": 4,
   "id": "15e9ce58",
   "metadata": {},
   "outputs": [],
   "source": [
    "server = ENCODED(\"www.encodeproject.org\")"
   ]
  },
  {
   "cell_type": "code",
   "execution_count": 5,
   "id": "470b7088",
   "metadata": {},
   "outputs": [
    {
     "data": {
      "text/html": [
       "<div>\n",
       "<style scoped>\n",
       "    .dataframe tbody tr th:only-of-type {\n",
       "        vertical-align: middle;\n",
       "    }\n",
       "\n",
       "    .dataframe tbody tr th {\n",
       "        vertical-align: top;\n",
       "    }\n",
       "\n",
       "    .dataframe thead th {\n",
       "        text-align: right;\n",
       "    }\n",
       "</style>\n",
       "<table border=\"1\" class=\"dataframe\">\n",
       "  <thead>\n",
       "    <tr style=\"text-align: right;\">\n",
       "      <th></th>\n",
       "      <th>TUBE LABEL</th>\n",
       "      <th>alias</th>\n",
       "      <th>Child Accession</th>\n",
       "      <th>rep</th>\n",
       "    </tr>\n",
       "  </thead>\n",
       "  <tbody>\n",
       "    <tr>\n",
       "      <th>0</th>\n",
       "      <td>ENCODE-GP BRD4-1F RNASeq - 6hr treat - rep1</td>\n",
       "      <td>barbara-wold:HCT116-BRD4-clone1-treated-new_bu...</td>\n",
       "      <td>ENCBS116FGF</td>\n",
       "      <td>rep1</td>\n",
       "    </tr>\n",
       "    <tr>\n",
       "      <th>1</th>\n",
       "      <td>ENCODE-GP BRD4-1F RNASeq - 6hr treat - rep2</td>\n",
       "      <td>barbara-wold:HCT116-BRD4-clone1-treated-new_bu...</td>\n",
       "      <td>ENCBS569QUD</td>\n",
       "      <td>rep2</td>\n",
       "    </tr>\n",
       "    <tr>\n",
       "      <th>2</th>\n",
       "      <td>ENCODE-GP BRD4-1F RNASeq - 6hr treat - rep3</td>\n",
       "      <td>barbara-wold:HCT116-BRD4-clone1-treated-new_bu...</td>\n",
       "      <td>ENCBS517FRZ</td>\n",
       "      <td>rep3</td>\n",
       "    </tr>\n",
       "    <tr>\n",
       "      <th>3</th>\n",
       "      <td>ENCODE-GP BRD4-1F RNASeq - untreated - rep1</td>\n",
       "      <td>barbara-wold:HCT116-BRD4-clone1-untreated-new_...</td>\n",
       "      <td>ENCBS909MRS</td>\n",
       "      <td>rep1</td>\n",
       "    </tr>\n",
       "    <tr>\n",
       "      <th>4</th>\n",
       "      <td>ENCODE-GP BRD4-1F RNASeq - untreated - rep2</td>\n",
       "      <td>barbara-wold:HCT116-BRD4-clone1-untreated-new_...</td>\n",
       "      <td>ENCBS913PLQ</td>\n",
       "      <td>rep2</td>\n",
       "    </tr>\n",
       "  </tbody>\n",
       "</table>\n",
       "</div>"
      ],
      "text/plain": [
       "                                    TUBE LABEL  \\\n",
       "0  ENCODE-GP BRD4-1F RNASeq - 6hr treat - rep1   \n",
       "1  ENCODE-GP BRD4-1F RNASeq - 6hr treat - rep2   \n",
       "2  ENCODE-GP BRD4-1F RNASeq - 6hr treat - rep3   \n",
       "3  ENCODE-GP BRD4-1F RNASeq - untreated - rep1   \n",
       "4  ENCODE-GP BRD4-1F RNASeq - untreated - rep2   \n",
       "\n",
       "                                               alias Child Accession   rep  \n",
       "0  barbara-wold:HCT116-BRD4-clone1-treated-new_bu...     ENCBS116FGF  rep1  \n",
       "1  barbara-wold:HCT116-BRD4-clone1-treated-new_bu...     ENCBS569QUD  rep2  \n",
       "2  barbara-wold:HCT116-BRD4-clone1-treated-new_bu...     ENCBS517FRZ  rep3  \n",
       "3  barbara-wold:HCT116-BRD4-clone1-untreated-new_...     ENCBS909MRS  rep1  \n",
       "4  barbara-wold:HCT116-BRD4-clone1-untreated-new_...     ENCBS913PLQ  rep2  "
      ]
     },
     "execution_count": 5,
     "metadata": {},
     "output_type": "execute_result"
    }
   ],
   "source": [
    "woldlab_ids = pandas.read_csv(StringIO(\"\"\"TUBE LABEL\talias\tChild Accession\n",
    "ENCODE-GP BRD4-1F RNASeq - 6hr treat - rep1\tbarbara-wold:HCT116-BRD4-clone1-treated-new_bulk_1\tENCBS116FGF\n",
    "ENCODE-GP BRD4-1F RNASeq - 6hr treat - rep2\tbarbara-wold:HCT116-BRD4-clone1-treated-new_bulk_2\tENCBS569QUD\n",
    "ENCODE-GP BRD4-1F RNASeq - 6hr treat - rep3\tbarbara-wold:HCT116-BRD4-clone1-treated-new_bulk_3\tENCBS517FRZ\n",
    "ENCODE-GP BRD4-1F RNASeq - untreated - rep1\tbarbara-wold:HCT116-BRD4-clone1-untreated-new_bulk_1\tENCBS909MRS\n",
    "ENCODE-GP BRD4-1F RNASeq - untreated - rep2\tbarbara-wold:HCT116-BRD4-clone1-untreated-new_bulk_2\tENCBS913PLQ\n",
    "ENCODE-GP BRD4-1F RNASeq - untreated - rep3\tbarbara-wold:HCT116-BRD4-clone1-untreated-new_bulk_3\tENCBS139ZRR\n",
    "ENCODE-GP CDK7-A4 RNASeq - 6hr treat - rep1\tbarbara-wold:HCT116-CDK7-treated-new_bulk_1\tENCBS806WQS\n",
    "ENCODE-GP CDK7-A4 RNASeq - 6hr treat - rep2\tbarbara-wold:HCT116-CDK7-treated-new_bulk_2\tENCBS040KDM\n",
    "ENCODE-GP CDK7-A4 RNASeq - 6hr treat - rep3\tbarbara-wold:HCT116-CDK7-treated-new_bulk_3\tENCBS533QJS\n",
    "ENCODE-GP CDK7-A4 RNASeq - untreated - rep1\tbarbara-wold:HCT116-CDK7-untreated-new_bulk_1\tENCBS921NBP\n",
    "ENCODE-GP CDK7-A4 RNASeq - untreated - rep2\tbarbara-wold:HCT116-CDK7-untreated-new_bulk_2\tENCBS298VZU\n",
    "ENCODE-GP CDK7-A4 RNASeq - untreated - rep3\tbarbara-wold:HCT116-CDK7-untreated-new_bulk_3\tENCBS230SHS\n",
    "ENCODE-GP CTCF-D12 RNASeq - 6hr treat - rep1\tbarbara-wold:HCT116-CTCF-treated-new_bulk_1\tENCBS895NSJ\n",
    "ENCODE-GP CTCF-D12 RNASeq - 6hr treat - rep2\tbarbara-wold:HCT116-CTCF-treated-new_bulk_2\tENCBS753USK\n",
    "ENCODE-GP CTCF-D12 RNASeq - 6hr treat - rep3\tbarbara-wold:HCT116-CTCF-treated-new_bulk_3\tENCBS376SGM\n",
    "ENCODE-GP CTCF-D12 RNASeq - untreated - rep1\tbarbara-wold:HCT116-CTCF-untreated-new_bulk_1\tENCBS529HYV\n",
    "ENCODE-GP CTCF-D12 RNASeq - untreated - rep2\tbarbara-wold:HCT116-CTCF-untreated-new_bulk_2\tENCBS242YXD\n",
    "ENCODE-GP CTCF-D12 RNASeq - untreated - rep3\tbarbara-wold:HCT116-CTCF-untreated-new_bulk_3\tENCBS454MWK\n",
    "ENCODE-GP MED14-4C RNASeq - 6hr treat - rep1\tbarbara-wold:HCT116-MED14-clone1-treated-new_bulk_1\tENCBS066LQR\n",
    "ENCODE-GP MED14-4C RNASeq - 6hr treat - rep2\tbarbara-wold:HCT116-MED14-clone1-treated-new_bulk_2\tENCBS896ORZ\n",
    "ENCODE-GP MED14-4C RNASeq - 6hr treat - rep3\tbarbara-wold:HCT116-MED14-clone1-treated-new_bulk_3\tENCBS596DYV\n",
    "ENCODE-GP MED14-4C RNASeq - untreated - rep1\tbarbara-wold:HCT116-MED14-clone1-untreated-new_bulk_1\tENCBS265FNK\n",
    "ENCODE-GP MED14-4C RNASeq - untreated - rep2\tbarbara-wold:HCT116-MED14-clone1-untreated-new_bulk_2\tENCBS003KVP\n",
    "ENCODE-GP MED14-4C RNASeq - untreated - rep3\tbarbara-wold:HCT116-MED14-clone1-untreated-new_bulk_3\tENCBS809PDL\n",
    "ENCODE-GP POLR2A-B10 RNASeq - 6hr treat - rep1\tbarbara-wold:HCT116-POLR2A-clone1-treated-new_bulk_1\tENCBS141PCL\n",
    "ENCODE-GP POLR2A-B10 RNASeq - 6hr treat - rep2\tbarbara-wold:HCT116-POLR2A-clone1-treated-new_bulk_2\tENCBS606HUI\n",
    "ENCODE-GP POLR2A-B10 RNASeq - 6hr treat - rep3\tbarbara-wold:HCT116-POLR2A-clone1-treated-new_bulk_3\tENCBS409ERR\n",
    "ENCODE-GP POLR2A-B10 RNASeq - untreated - rep1\tbarbara-wold:HCT116-POLR2A-clone1-untreated-new_bulk_1\tENCBS976NRF\n",
    "ENCODE-GP POLR2A-B10 RNASeq - untreated - rep2\tbarbara-wold:HCT116-POLR2A-clone1-untreated-new_bulk_2\tENCBS038BAW\n",
    "ENCODE-GP POLR2A-B10 RNASeq - untreated - rep3\tbarbara-wold:HCT116-POLR2A-clone1-untreated-new_bulk_3\tENCBS918OQT\n",
    "ENCODE-GP RAD21-C1 RNASeq - 6hr treat - rep1\tbarbara-wold:HCT116-RAD21-clone1-treated-new_bulk_1\tENCBS590FGJ\n",
    "ENCODE-GP RAD21-C1 RNASeq - 6hr treat - rep2\tbarbara-wold:HCT116-RAD21-clone1-treated-new_bulk_2\tENCBS068GZX\n",
    "ENCODE-GP RAD21-C1 RNASeq - 6hr treat - rep3\tbarbara-wold:HCT116-RAD21-clone1-treated-new_bulk_3\tENCBS549ISP\n",
    "ENCODE-GP RAD21-C1 RNASeq - untreated - rep1\tbarbara-wold:HCT116-RAD21-clone1-untreated-new_bulk_1\tENCBS470QIL\n",
    "ENCODE-GP RAD21-C1 RNASeq - untreated - rep2\tbarbara-wold:HCT116-RAD21-clone1-untreated-new_bulk_2\tENCBS767IFU\n",
    "ENCODE-GP RAD21-C1 RNASeq - untreated - rep3\tbarbara-wold:HCT116-RAD21-clone1-untreated-new_bulk_3\tENCBS258FKN\n",
    "ENCODE-GP SMARCA5-E3 RNASeq - 6hr treat - rep1\tbarbara-wold:HCT116-SMARCA5-clone1-treated-new_bulk_1\tENCBS641JLV\n",
    "ENCODE-GP SMARCA5-E3 RNASeq - 6hr treat - rep2\tbarbara-wold:HCT116-SMARCA5-clone1-treated-new_bulk_2\tENCBS965YHW\n",
    "ENCODE-GP SMARCA5-E3 RNASeq - 6hr treat - rep3\tbarbara-wold:HCT116-SMARCA5-clone1-treated-new_bulk_3\tENCBS960LYD\n",
    "ENCODE-GP SMARCA5-E3 RNASeq - untreated - rep1\tbarbara-wold:HCT116-SMARCA5-clone1-untreated-new_bulk_1\tENCBS913KQH\n",
    "ENCODE-GP SMARCA5-E3 RNASeq - untreated - rep2\tbarbara-wold:HCT116-SMARCA5-clone1-untreated-new_bulk_2\tENCBS349LBR\n",
    "ENCODE-GP SMARCA5-E3 RNASeq - untreated - rep3\tbarbara-wold:HCT116-SMARCA5-clone1-untreated-new_bulk_3\tENCBS019NWF\n",
    "ENCODE-GP SUPT16H-F1 RNASeq - 6hr treat - rep1\tbarbara-wold:HCT116-SUPT16H-clone1-treated-new_bulk_1\tENCBS956LYW\n",
    "ENCODE-GP SUPT16H-F1 RNASeq - 6hr treat - rep2\tbarbara-wold:HCT116-SUPT16H-clone1-treated-new_bulk_2\tENCBS561STX\n",
    "ENCODE-GP SUPT16H-F1 RNASeq - 6hr treat - rep3\tbarbara-wold:HCT116-SUPT16H-clone1-treated-new_bulk_3\tENCBS146BZU\n",
    "ENCODE-GP SUPT16H-F1 RNASeq - untreated - rep1\tbarbara-wold:HCT116-SUPT16H-clone1-untreated-new_bulk_1\tENCBS249OII\n",
    "ENCODE-GP SUPT16H-F1 RNASeq - untreated - rep2\tbarbara-wold:HCT116-SUPT16H-clone1-untreated-new_bulk_2\tENCBS171WOQ\n",
    "ENCODE-GP SUPT16H-F1 RNASeq - untreated - rep3\tbarbara-wold:HCT116-SUPT16H-clone1-untreated-new_bulk_3\tENCBS316EYF\"\"\"), \n",
    "                         sep=\"\\t\")\n",
    "woldlab_ids[\"rep\"] = woldlab_ids[\"TUBE LABEL\"].apply(lambda x: x.split(\" - \")[-1])\n",
    "woldlab_ids.head()"
   ]
  },
  {
   "cell_type": "code",
   "execution_count": null,
   "id": "cc672340",
   "metadata": {},
   "outputs": [],
   "source": []
  },
  {
   "cell_type": "code",
   "execution_count": 6,
   "id": "8be1a480",
   "metadata": {},
   "outputs": [
    {
     "data": {
      "text/html": [
       "<div>\n",
       "<style scoped>\n",
       "    .dataframe tbody tr th:only-of-type {\n",
       "        vertical-align: middle;\n",
       "    }\n",
       "\n",
       "    .dataframe tbody tr th {\n",
       "        vertical-align: top;\n",
       "    }\n",
       "\n",
       "    .dataframe thead th {\n",
       "        text-align: right;\n",
       "    }\n",
       "</style>\n",
       "<table border=\"1\" class=\"dataframe\">\n",
       "  <thead>\n",
       "    <tr style=\"text-align: right;\">\n",
       "      <th></th>\n",
       "      <th>TUBE LABEL</th>\n",
       "      <th>alias</th>\n",
       "      <th>Child Accession</th>\n",
       "      <th>rep</th>\n",
       "    </tr>\n",
       "  </thead>\n",
       "  <tbody>\n",
       "    <tr>\n",
       "      <th>0</th>\n",
       "      <td>ENCODE-GP BRD4-1F DNaseSeq - 6hr treat - rep1</td>\n",
       "      <td>john-stamatoyannopoulos:HCT116-BRD4-clone1-tre...</td>\n",
       "      <td>ENCBS016NYI</td>\n",
       "      <td>rep1</td>\n",
       "    </tr>\n",
       "    <tr>\n",
       "      <th>1</th>\n",
       "      <td>ENCODE-GP BRD4-1F DNaseSeq - 6hr treat - rep2</td>\n",
       "      <td>john-stamatoyannopoulos:HCT116-BRD4-clone1-tre...</td>\n",
       "      <td>ENCBS524SGS</td>\n",
       "      <td>rep2</td>\n",
       "    </tr>\n",
       "    <tr>\n",
       "      <th>2</th>\n",
       "      <td>ENCODE-GP BRD4-1F DNaseSeq - untreated - rep1</td>\n",
       "      <td>john-stamatoyannopoulos:HCT116-BRD4-clone1-unt...</td>\n",
       "      <td>ENCBS131GLR</td>\n",
       "      <td>rep1</td>\n",
       "    </tr>\n",
       "    <tr>\n",
       "      <th>3</th>\n",
       "      <td>ENCODE-GP BRD4-1F DNaseSeq - untreated - rep2</td>\n",
       "      <td>john-stamatoyannopoulos:HCT116-BRD4-clone1-unt...</td>\n",
       "      <td>ENCBS140VNG</td>\n",
       "      <td>rep2</td>\n",
       "    </tr>\n",
       "    <tr>\n",
       "      <th>4</th>\n",
       "      <td>ENCODE-GP CDK7-A4 DNaseSeq - 6hr treat - rep1</td>\n",
       "      <td>john-stamatoyannopoulos:HCT116-CDK7-treated-new_1</td>\n",
       "      <td>ENCBS236PWP</td>\n",
       "      <td>rep1</td>\n",
       "    </tr>\n",
       "  </tbody>\n",
       "</table>\n",
       "</div>"
      ],
      "text/plain": [
       "                                      TUBE LABEL  \\\n",
       "0  ENCODE-GP BRD4-1F DNaseSeq - 6hr treat - rep1   \n",
       "1  ENCODE-GP BRD4-1F DNaseSeq - 6hr treat - rep2   \n",
       "2  ENCODE-GP BRD4-1F DNaseSeq - untreated - rep1   \n",
       "3  ENCODE-GP BRD4-1F DNaseSeq - untreated - rep2   \n",
       "4  ENCODE-GP CDK7-A4 DNaseSeq - 6hr treat - rep1   \n",
       "\n",
       "                                               alias Child Accession   rep  \n",
       "0  john-stamatoyannopoulos:HCT116-BRD4-clone1-tre...     ENCBS016NYI  rep1  \n",
       "1  john-stamatoyannopoulos:HCT116-BRD4-clone1-tre...     ENCBS524SGS  rep2  \n",
       "2  john-stamatoyannopoulos:HCT116-BRD4-clone1-unt...     ENCBS131GLR  rep1  \n",
       "3  john-stamatoyannopoulos:HCT116-BRD4-clone1-unt...     ENCBS140VNG  rep2  \n",
       "4  john-stamatoyannopoulos:HCT116-CDK7-treated-new_1     ENCBS236PWP  rep1  "
      ]
     },
     "execution_count": 6,
     "metadata": {},
     "output_type": "execute_result"
    }
   ],
   "source": [
    "stamlab_ids = pandas.read_csv(StringIO(\"\"\"TUBE LABEL\talias\tChild Accession\n",
    "ENCODE-GP BRD4-1F DNaseSeq - 6hr treat - rep1\tjohn-stamatoyannopoulos:HCT116-BRD4-clone1-treated-new_1\tENCBS016NYI\n",
    "ENCODE-GP BRD4-1F DNaseSeq - 6hr treat - rep2\tjohn-stamatoyannopoulos:HCT116-BRD4-clone1-treated-new_2\tENCBS524SGS\n",
    "ENCODE-GP BRD4-1F DNaseSeq - untreated - rep1\tjohn-stamatoyannopoulos:HCT116-BRD4-clone1-untreated-new_1\tENCBS131GLR\n",
    "ENCODE-GP BRD4-1F DNaseSeq - untreated - rep2\tjohn-stamatoyannopoulos:HCT116-BRD4-clone1-untreated-new_2\tENCBS140VNG\n",
    "ENCODE-GP CDK7-A4 DNaseSeq - 6hr treat - rep1\tjohn-stamatoyannopoulos:HCT116-CDK7-treated-new_1\tENCBS236PWP\n",
    "ENCODE-GP CDK7-A4 DNaseSeq - 6hr treat - rep2\tjohn-stamatoyannopoulos:HCT116-CDK7-treated-new_2\tENCBS474PRW\n",
    "ENCODE-GP CDK7-A4 DNaseSeq - untreated - rep1\tjohn-stamatoyannopoulos:HCT116-CDK7-untreated-new_1\tENCBS785ZQK\n",
    "ENCODE-GP CDK7-A4 DNaseSeq - untreated - rep2\tjohn-stamatoyannopoulos:HCT116-CDK7-untreated-new_2\tENCBS827ZQR\n",
    "ENCODE-GP CTCF-D12 DNaseSeq - 6hr treat - rep1\tjohn-stamatoyannopoulos:HCT116-CTCF-treated-new_1\tENCBS197XQV\n",
    "ENCODE-GP CTCF-D12 DNaseSeq - 6hr treat - rep2\tjohn-stamatoyannopoulos:HCT116-CTCF-treated-new_2\tENCBS865XEF\n",
    "ENCODE-GP CTCF-D12 DNaseSeq - untreated - rep1\tjohn-stamatoyannopoulos:HCT116-CTCF-untreated-new_1\tENCBS026CTI\n",
    "ENCODE-GP CTCF-D12 DNaseSeq - untreated - rep2\tjohn-stamatoyannopoulos:HCT116-CTCF-untreated-new_2\tENCBS184IVK\n",
    "ENCODE-GP MED14-4C DNaseSeq - 6hr treat - rep1\tjohn-stamatoyannopoulos:HCT116-MED14-clone1-treated-new_1\tENCBS137WSD\n",
    "ENCODE-GP MED14-4C DNaseSeq - 6hr treat - rep2\tjohn-stamatoyannopoulos:HCT116-MED14-clone1-treated-new_2\tENCBS467OOU\n",
    "ENCODE-GP MED14-4C DNaseSeq - untreated - rep1\tjohn-stamatoyannopoulos:HCT116-MED14-clone1-untreated-new_1\tENCBS357JIV\n",
    "ENCODE-GP MED14-4C DNaseSeq - untreated - rep2\tjohn-stamatoyannopoulos:HCT116-MED14-clone1-untreated-new_2\tENCBS811OFM\n",
    "ENCODE-GP POLR2A-B10 DNaseSeq - 6hr treat - rep1\tjohn-stamatoyannopoulos:HCT116-POLR2A-clone1-treated-new_1\tENCBS783IUR\n",
    "ENCODE-GP POLR2A-B10 DNaseSeq - 6hr treat - rep2\tjohn-stamatoyannopoulos:HCT116-POLR2A-clone1-treated-new_2\tENCBS296AAV\n",
    "ENCODE-GP POLR2A-B10 DNaseSeq - untreated - rep1\tjohn-stamatoyannopoulos:HCT116-POLR2A-clone1-untreated-new_1\tENCBS806VMA\n",
    "ENCODE-GP POLR2A-B10 DNaseSeq - untreated - rep2\tjohn-stamatoyannopoulos:HCT116-POLR2A-clone1-untreated-new_2\tENCBS324LVI\n",
    "ENCODE-GP RAD21-C1 DNaseSeq - 6hr treat - rep1\tjohn-stamatoyannopoulos:HCT116-RAD21-clone1-treated-new_1\tENCBS740QPA\n",
    "ENCODE-GP RAD21-C1 DNaseSeq - 6hr treat - rep2\tjohn-stamatoyannopoulos:HCT116-RAD21-clone1-treated-new_2\tENCBS271ZSK\n",
    "ENCODE-GP RAD21-C1 DNaseSeq - untreated - rep1\tjohn-stamatoyannopoulos:HCT116-RAD21-clone1-untreated-new_1\tENCBS325JPX\n",
    "ENCODE-GP RAD21-C1 DNaseSeq - untreated - rep2\tjohn-stamatoyannopoulos:HCT116-RAD21-clone1-untreated-new_2\tENCBS662EON\n",
    "ENCODE-GP SMARCA5-E3 DNaseSeq - 6hr treat - rep1\tjohn-stamatoyannopoulos:HCT116-SMARCA5-clone1-treated-new_1\tENCBS002PXM\n",
    "ENCODE-GP SMARCA5-E3 DNaseSeq - 6hr treat - rep2\tjohn-stamatoyannopoulos:HCT116-SMARCA5-clone1-treated-new_2\tENCBS775LEA\n",
    "ENCODE-GP SMARCA5-E3 DNaseSeq - untreated - rep1\tjohn-stamatoyannopoulos:HCT116-SMARCA5-clone1-untreated-new_1\tENCBS166GZO\n",
    "ENCODE-GP SMARCA5-E3 DNaseSeq - untreated - rep2\tjohn-stamatoyannopoulos:HCT116-SMARCA5-clone1-untreated-new_2\tENCBS744LAK\n",
    "ENCODE-GP SUPT16H-F1 DNaseSeq - 6hr treat - rep1\tjohn-stamatoyannopoulos:HCT116-SUPT16H-clone1-treated-new_1\tENCBS036VAP\n",
    "ENCODE-GP SUPT16H-F1 DNaseSeq - 6hr treat - rep2\tjohn-stamatoyannopoulos:HCT116-SUPT16H-clone1-treated-new_2\tENCBS918YSB\n",
    "ENCODE-GP SUPT16H-F1 DNaseSeq - untreated - rep1\tjohn-stamatoyannopoulos:HCT116-SUPT16H-clone1-untreated-new_1\tENCBS567QTT\n",
    "ENCODE-GP SUPT16H-F1 DNaseSeq - untreated - rep2\tjohn-stamatoyannopoulos:HCT116-SUPT16H-clone1-untreated-new_2\tENCBS997KVR\"\"\"),\n",
    "                          sep=\"\\t\")\n",
    "stamlab_ids[\"rep\"] = stamlab_ids[\"TUBE LABEL\"].apply(lambda x: x.split(\" - \")[-1])\n",
    "stamlab_ids.head()"
   ]
  },
  {
   "cell_type": "code",
   "execution_count": null,
   "id": "e76f5c4c",
   "metadata": {},
   "outputs": [],
   "source": []
  },
  {
   "cell_type": "code",
   "execution_count": 7,
   "id": "e5d7563f",
   "metadata": {},
   "outputs": [
    {
     "data": {
      "text/plain": [
       "set()"
      ]
     },
     "execution_count": 7,
     "metadata": {},
     "output_type": "execute_result"
    }
   ],
   "source": [
    "set(stamlab_ids[\"TUBE LABEL\"].values).intersection(woldlab_ids[\"TUBE LABEL\"].values)"
   ]
  },
  {
   "cell_type": "code",
   "execution_count": 8,
   "id": "8f9fd914",
   "metadata": {},
   "outputs": [
    {
     "data": {
      "text/plain": [
       "set()"
      ]
     },
     "execution_count": 8,
     "metadata": {},
     "output_type": "execute_result"
    }
   ],
   "source": [
    "set(stamlab_ids[\"Child Accession\"].values).intersection(woldlab_ids[\"Child Accession\"].values)"
   ]
  },
  {
   "cell_type": "code",
   "execution_count": 9,
   "id": "c956eb34",
   "metadata": {},
   "outputs": [],
   "source": [
    "def update_table_with_parent(table):\n",
    "    if \"parent\" not in table:\n",
    "        parents = []\n",
    "        for i, row in table.iterrows():\n",
    "            biosample = server.get_json(row[\"Child Accession\"])\n",
    "            parent_biosample = biosample.get(\"part_of\")\n",
    "            if parent_biosample is None:\n",
    "                parent_biosample = {\"accession\": None}\n",
    "            parents.append(parent_biosample[\"accession\"])\n",
    "        table[\"parent\"] = parents            \n",
    "\n",
    "update_table_with_parent(stamlab_ids)\n",
    "update_table_with_parent(woldlab_ids)"
   ]
  },
  {
   "cell_type": "code",
   "execution_count": 10,
   "id": "25e667a2",
   "metadata": {},
   "outputs": [
    {
     "data": {
      "text/html": [
       "<div>\n",
       "<style scoped>\n",
       "    .dataframe tbody tr th:only-of-type {\n",
       "        vertical-align: middle;\n",
       "    }\n",
       "\n",
       "    .dataframe tbody tr th {\n",
       "        vertical-align: top;\n",
       "    }\n",
       "\n",
       "    .dataframe thead th {\n",
       "        text-align: right;\n",
       "    }\n",
       "</style>\n",
       "<table border=\"1\" class=\"dataframe\">\n",
       "  <thead>\n",
       "    <tr style=\"text-align: right;\">\n",
       "      <th></th>\n",
       "      <th>TUBE LABEL</th>\n",
       "      <th>alias</th>\n",
       "      <th>Child Accession</th>\n",
       "      <th>rep</th>\n",
       "      <th>parent</th>\n",
       "    </tr>\n",
       "  </thead>\n",
       "  <tbody>\n",
       "    <tr>\n",
       "      <th>0</th>\n",
       "      <td>ENCODE-GP BRD4-1F DNaseSeq - 6hr treat - rep1</td>\n",
       "      <td>john-stamatoyannopoulos:HCT116-BRD4-clone1-tre...</td>\n",
       "      <td>ENCBS016NYI</td>\n",
       "      <td>rep1</td>\n",
       "      <td>ENCBS228RKP</td>\n",
       "    </tr>\n",
       "    <tr>\n",
       "      <th>1</th>\n",
       "      <td>ENCODE-GP BRD4-1F DNaseSeq - 6hr treat - rep2</td>\n",
       "      <td>john-stamatoyannopoulos:HCT116-BRD4-clone1-tre...</td>\n",
       "      <td>ENCBS524SGS</td>\n",
       "      <td>rep2</td>\n",
       "      <td>ENCBS228RKP</td>\n",
       "    </tr>\n",
       "    <tr>\n",
       "      <th>2</th>\n",
       "      <td>ENCODE-GP BRD4-1F DNaseSeq - untreated - rep1</td>\n",
       "      <td>john-stamatoyannopoulos:HCT116-BRD4-clone1-unt...</td>\n",
       "      <td>ENCBS131GLR</td>\n",
       "      <td>rep1</td>\n",
       "      <td>ENCBS368OIX</td>\n",
       "    </tr>\n",
       "    <tr>\n",
       "      <th>3</th>\n",
       "      <td>ENCODE-GP BRD4-1F DNaseSeq - untreated - rep2</td>\n",
       "      <td>john-stamatoyannopoulos:HCT116-BRD4-clone1-unt...</td>\n",
       "      <td>ENCBS140VNG</td>\n",
       "      <td>rep2</td>\n",
       "      <td>ENCBS368OIX</td>\n",
       "    </tr>\n",
       "    <tr>\n",
       "      <th>4</th>\n",
       "      <td>ENCODE-GP CDK7-A4 DNaseSeq - 6hr treat - rep1</td>\n",
       "      <td>john-stamatoyannopoulos:HCT116-CDK7-treated-new_1</td>\n",
       "      <td>ENCBS236PWP</td>\n",
       "      <td>rep1</td>\n",
       "      <td>ENCBS395CVW</td>\n",
       "    </tr>\n",
       "  </tbody>\n",
       "</table>\n",
       "</div>"
      ],
      "text/plain": [
       "                                      TUBE LABEL  \\\n",
       "0  ENCODE-GP BRD4-1F DNaseSeq - 6hr treat - rep1   \n",
       "1  ENCODE-GP BRD4-1F DNaseSeq - 6hr treat - rep2   \n",
       "2  ENCODE-GP BRD4-1F DNaseSeq - untreated - rep1   \n",
       "3  ENCODE-GP BRD4-1F DNaseSeq - untreated - rep2   \n",
       "4  ENCODE-GP CDK7-A4 DNaseSeq - 6hr treat - rep1   \n",
       "\n",
       "                                               alias Child Accession   rep  \\\n",
       "0  john-stamatoyannopoulos:HCT116-BRD4-clone1-tre...     ENCBS016NYI  rep1   \n",
       "1  john-stamatoyannopoulos:HCT116-BRD4-clone1-tre...     ENCBS524SGS  rep2   \n",
       "2  john-stamatoyannopoulos:HCT116-BRD4-clone1-unt...     ENCBS131GLR  rep1   \n",
       "3  john-stamatoyannopoulos:HCT116-BRD4-clone1-unt...     ENCBS140VNG  rep2   \n",
       "4  john-stamatoyannopoulos:HCT116-CDK7-treated-new_1     ENCBS236PWP  rep1   \n",
       "\n",
       "        parent  \n",
       "0  ENCBS228RKP  \n",
       "1  ENCBS228RKP  \n",
       "2  ENCBS368OIX  \n",
       "3  ENCBS368OIX  \n",
       "4  ENCBS395CVW  "
      ]
     },
     "execution_count": 10,
     "metadata": {},
     "output_type": "execute_result"
    }
   ],
   "source": [
    "stamlab_ids.head()"
   ]
  },
  {
   "cell_type": "code",
   "execution_count": 11,
   "id": "0af9e7b9",
   "metadata": {},
   "outputs": [
    {
     "data": {
      "text/plain": [
       "{'ENCBS036FEF',\n",
       " 'ENCBS177ZJV',\n",
       " 'ENCBS178RWJ',\n",
       " 'ENCBS204AVI',\n",
       " 'ENCBS228RKP',\n",
       " 'ENCBS257YYW',\n",
       " 'ENCBS335ZNA',\n",
       " 'ENCBS358FCU',\n",
       " 'ENCBS368OIX',\n",
       " 'ENCBS386LBR',\n",
       " 'ENCBS395CVW',\n",
       " 'ENCBS676ONK',\n",
       " 'ENCBS682ITO',\n",
       " 'ENCBS768VHM',\n",
       " 'ENCBS793DSB',\n",
       " 'ENCBS842OLG'}"
      ]
     },
     "execution_count": 11,
     "metadata": {},
     "output_type": "execute_result"
    }
   ],
   "source": [
    "set(stamlab_ids[\"parent\"].values).intersection(woldlab_ids[\"parent\"].values)"
   ]
  },
  {
   "cell_type": "code",
   "execution_count": 15,
   "id": "31f4703e",
   "metadata": {},
   "outputs": [
    {
     "data": {
      "text/plain": [
       "Index(['TUBE LABEL_wold', 'alias_wold', 'Child Accession_wold', 'rep',\n",
       "       'parent', 'TUBE LABEL_stam', 'alias_stam', 'Child Accession_stam'],\n",
       "      dtype='object')"
      ]
     },
     "execution_count": 15,
     "metadata": {},
     "output_type": "execute_result"
    }
   ],
   "source": [
    "merged = pandas.merge(\n",
    "    woldlab_ids,\n",
    "    stamlab_ids,\n",
    "    suffixes=(\"_wold\", \"_stam\"),\n",
    "    how=\"left\",\n",
    "    on=(\"parent\", \"rep\")\n",
    ")\n",
    "merged.columns"
   ]
  },
  {
   "cell_type": "code",
   "execution_count": 19,
   "id": "bc1f862b",
   "metadata": {},
   "outputs": [],
   "source": [
    "desired = ['parent', 'rep', 'TUBE LABEL_wold', 'alias_wold', 'Child Accession_wold', 'TUBE LABEL_stam', 'alias_stam', 'Child Accession_stam']\n",
    "merged = merged[desired]"
   ]
  },
  {
   "cell_type": "code",
   "execution_count": 20,
   "id": "b1b76de4",
   "metadata": {},
   "outputs": [],
   "source": [
    "merged.to_csv(\"merge_stam_wold.csv\", index=False)"
   ]
  },
  {
   "cell_type": "code",
   "execution_count": 21,
   "id": "2cc6576a",
   "metadata": {},
   "outputs": [],
   "source": []
  },
  {
   "cell_type": "code",
   "execution_count": null,
   "id": "a69de5e6",
   "metadata": {},
   "outputs": [],
   "source": []
  }
 ],
 "metadata": {
  "kernelspec": {
   "display_name": "Python 3 (ipykernel)",
   "language": "python",
   "name": "python3"
  },
  "language_info": {
   "codemirror_mode": {
    "name": "ipython",
    "version": 3
   },
   "file_extension": ".py",
   "mimetype": "text/x-python",
   "name": "python",
   "nbconvert_exporter": "python",
   "pygments_lexer": "ipython3",
   "version": "3.10.5"
  }
 },
 "nbformat": 4,
 "nbformat_minor": 5
}
