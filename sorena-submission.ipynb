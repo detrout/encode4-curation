{
 "cells": [
  {
   "cell_type": "markdown",
   "metadata": {},
   "source": [
    "Submitting various things for end of grant."
   ]
  },
  {
   "cell_type": "code",
   "execution_count": 1,
   "metadata": {},
   "outputs": [],
   "source": [
    "import os\n",
    "import sys\n",
    "import requests\n",
    "import pandas\n",
    "import paramiko\n",
    "import json\n",
    "from IPython import display\n",
    "import gcat"
   ]
  },
  {
   "cell_type": "code",
   "execution_count": 2,
   "metadata": {},
   "outputs": [],
   "source": [
    "from curation_common import *\n",
    "from htsworkflow.submission.encoded import DCCValidator"
   ]
  },
  {
   "cell_type": "code",
   "execution_count": 3,
   "metadata": {},
   "outputs": [],
   "source": [
    "PANDAS_ODF = os.path.expanduser('~/src/pandasodf')\n",
    "if PANDAS_ODF not in sys.path:\n",
    "    sys.path.append(PANDAS_ODF)\n",
    "    from pandasodf import ODFReader"
   ]
  },
  {
   "cell_type": "code",
   "execution_count": 4,
   "metadata": {},
   "outputs": [],
   "source": [
    "from htsworkflow.submission.encoded import Document, typed_column_parser\n",
    "from htsworkflow.submission.aws_submission import run_aws_cp"
   ]
  },
  {
   "cell_type": "code",
   "execution_count": 5,
   "metadata": {},
   "outputs": [],
   "source": [
    "# live server & control file\n",
    "server = ENCODED('www.encodeproject.org')\n",
    "#spreadsheet_name = os.path.expanduser('~diane/woldlab/ENCODE/C1-encode3-limb-tranche1-resubmit.ods')\n",
    "spreadsheet_name = \"ENCODE_miRNA_experiments_07032018\"\n",
    "\n",
    "# test server & datafile\n",
    "#server = ENCODED('test.encodedcc.org')\n",
    "#spreadsheet_name = os.path.expanduser('~diane/woldlab/ENCODE/C1-encode3-limb-tranche1-resubmit-testserver.ods')\n",
    "\n",
    "\n",
    "def get_book(name):\n",
    "    #return ODFReader(name)\n",
    "    return gcat.get_file(spreadsheet_name, fmt='pandas_excel')\n",
    "\n",
    "server.load_netrc()\n",
    "validator = DCCValidator(server)"
   ]
  },
  {
   "cell_type": "code",
   "execution_count": 6,
   "metadata": {},
   "outputs": [],
   "source": [
    "award = 'UM1HG009443'"
   ]
  },
  {
   "cell_type": "markdown",
   "metadata": {},
   "source": [
    "# Submit Documents"
   ]
  },
  {
   "cell_type": "markdown",
   "metadata": {},
   "source": [
    "Example Document submission"
   ]
  },
  {
   "cell_type": "code",
   "execution_count": 7,
   "metadata": {},
   "outputs": [],
   "source": [
    "#atac_uuid = '0fc44318-b802-474e-8199-f3b6d708eb6f'\n",
    "#atac = Document(os.path.expanduser('~/proj/encode3-curation/Wold_Lab_ATAC_Seq_protocol_December_2016.pdf'),\n",
    "#                'general protocol',\n",
    "#                'ATAC-Seq experiment protocol for Wold lab',\n",
    "#                )\n",
    "#body = atac.create_if_needed(server, atac_uuid)\n",
    "#print(body['@id'])"
   ]
  },
  {
   "cell_type": "markdown",
   "metadata": {},
   "source": [
    "# Submit Annotations"
   ]
  },
  {
   "cell_type": "code",
   "execution_count": 8,
   "metadata": {},
   "outputs": [],
   "source": [
    "#sheet = gcat.get_file(spreadsheet_name, fmt='pandas_excel')\n",
    "#annotations = sheet.parse('Annotations', header=0)\n",
    "#created = server.post_sheet('/annotations/', annotations, verbose=True, dry_run=True)\n",
    "#print(len(created))"
   ]
  },
  {
   "cell_type": "code",
   "execution_count": 9,
   "metadata": {},
   "outputs": [],
   "source": [
    "#if created:\n",
    "#    annotations.to_excel('/tmp/annotations.xlsx', index=False)"
   ]
  },
  {
   "cell_type": "markdown",
   "metadata": {},
   "source": [
    "# Register Biosamples"
   ]
  },
  {
   "cell_type": "code",
   "execution_count": 19,
   "metadata": {
    "scrolled": true
   },
   "outputs": [
    {
     "name": "stdout",
     "output_type": "stream",
     "text": [
      "0\n"
     ]
    }
   ],
   "source": [
    "book = get_book(spreadsheet_name)\n",
    "biosample = book.parse('Biosamples', header=0)\n",
    "created = server.post_sheet('/biosamples/', biosample, \n",
    "                            verbose=True, \n",
    "                            dry_run=True, \n",
    "                            validator=validator)\n",
    "print(len(created))"
   ]
  },
  {
   "cell_type": "code",
   "execution_count": 11,
   "metadata": {},
   "outputs": [],
   "source": [
    "if created:\n",
    "    biosample.to_excel('/dev/shm/biosamples.xlsx', index=False)"
   ]
  },
  {
   "cell_type": "markdown",
   "metadata": {},
   "source": [
    "# Register Libraries"
   ]
  },
  {
   "cell_type": "code",
   "execution_count": 22,
   "metadata": {
    "scrolled": true
   },
   "outputs": [
    {
     "name": "stdout",
     "output_type": "stream",
     "text": [
      "ENCODE_miRNA_experiments_07032018\n",
      "0\n"
     ]
    }
   ],
   "source": [
    "print(spreadsheet_name)\n",
    "book = get_book(spreadsheet_name)\n",
    "libraries = book.parse('Libraries', header=0)\n",
    "created = server.post_sheet('/libraries/', \n",
    "                            libraries, \n",
    "                            verbose=True, \n",
    "                            dry_run=True, \n",
    "                            validator=validator)\n",
    "print(len(created))"
   ]
  },
  {
   "cell_type": "code",
   "execution_count": 23,
   "metadata": {},
   "outputs": [],
   "source": [
    "if created:\n",
    "    libraries.to_excel('/dev/shm/libraries.xlsx', index=False)"
   ]
  },
  {
   "cell_type": "code",
   "execution_count": 24,
   "metadata": {},
   "outputs": [
    {
     "data": {
      "text/plain": [
       "0"
      ]
     },
     "execution_count": 24,
     "metadata": {},
     "output_type": "execute_result"
    }
   ],
   "source": [
    "len(created)"
   ]
  },
  {
   "cell_type": "markdown",
   "metadata": {},
   "source": [
    "# Register Experiments"
   ]
  },
  {
   "cell_type": "code",
   "execution_count": 28,
   "metadata": {},
   "outputs": [
    {
     "name": "stdout",
     "output_type": "stream",
     "text": [
      "0\n"
     ]
    }
   ],
   "source": [
    "book = get_book(spreadsheet_name)\n",
    "experiments = book.parse('Experiments', header=0)\n",
    "created = server.post_sheet('/experiments/', \n",
    "                            experiments, \n",
    "                            verbose=True, \n",
    "                            dry_run=True, \n",
    "                            validator=validator)\n",
    "print(len(created))"
   ]
  },
  {
   "cell_type": "code",
   "execution_count": 27,
   "metadata": {},
   "outputs": [],
   "source": [
    "if created:\n",
    "    experiments.to_excel('/dev/shm/experiments.xlsx', index=False)"
   ]
  },
  {
   "cell_type": "markdown",
   "metadata": {},
   "source": [
    "# Register Replicates"
   ]
  },
  {
   "cell_type": "code",
   "execution_count": 29,
   "metadata": {
    "scrolled": true
   },
   "outputs": [
    {
     "name": "stdout",
     "output_type": "stream",
     "text": [
      "Reponse {'status': 'success', '@graph': [{'aliases': ['ali-mortazavi:GM12878-rep3-SR'], 'biological_replicate_number': 1, 'status': 'in progress', 'date_created': '2018-07-04T00:06:45.874242+00:00', 'submitted_by': '/users/bc5b62f7-ce28-4a1e-b6b3-81c9c5a86d7a/', 'technical_replicate_number': 1, 'library': '/libraries/ENCLB298VOK/', 'schema_version': '9', '@id': '/replicates/a8dbed80-e80b-4a32-a36f-cda0f4fd2cef/', '@type': ['Replicate', 'Item'], 'experiment': '/experiments/ENCSR770HBF/', 'uuid': 'a8dbed80-e80b-4a32-a36f-cda0f4fd2cef'}], '@type': ['result']}\n",
      "row 4 created: a8dbed80-e80b-4a32-a36f-cda0f4fd2cef\n",
      "Reponse {'@type': ['result'], 'status': 'success', '@graph': [{'aliases': ['ali-mortazavi:GM12878-rep4-SR'], 'date_created': '2018-07-04T00:06:46.005611+00:00', 'technical_replicate_number': 1, 'submitted_by': '/users/bc5b62f7-ce28-4a1e-b6b3-81c9c5a86d7a/', 'uuid': '3645b3ba-4587-4495-a447-f39d09b0d3df', 'status': 'in progress', 'biological_replicate_number': 2, '@type': ['Replicate', 'Item'], 'library': '/libraries/ENCLB318HJU/', '@id': '/replicates/3645b3ba-4587-4495-a447-f39d09b0d3df/', 'schema_version': '9', 'experiment': '/experiments/ENCSR770HBF/'}]}\n",
      "row 5 created: 3645b3ba-4587-4495-a447-f39d09b0d3df\n",
      "Reponse {'@graph': [{'aliases': ['ali-mortazavi:K562-rep1-SR'], 'submitted_by': '/users/bc5b62f7-ce28-4a1e-b6b3-81c9c5a86d7a/', 'uuid': '58ad470f-a0f1-44d9-aef1-6a9ffc4b00bf', 'experiment': '/experiments/ENCSR569QVM/', 'library': '/libraries/ENCLB136UZC/', '@id': '/replicates/58ad470f-a0f1-44d9-aef1-6a9ffc4b00bf/', '@type': ['Replicate', 'Item'], 'schema_version': '9', 'technical_replicate_number': 1, 'date_created': '2018-07-04T00:06:46.145861+00:00', 'biological_replicate_number': 1, 'status': 'in progress'}], '@type': ['result'], 'status': 'success'}\n",
      "row 6 created: 58ad470f-a0f1-44d9-aef1-6a9ffc4b00bf\n",
      "Reponse {'@type': ['result'], 'status': 'success', '@graph': [{'experiment': '/experiments/ENCSR569QVM/', 'date_created': '2018-07-04T00:06:46.251713+00:00', 'status': 'in progress', 'schema_version': '9', 'aliases': ['ali-mortazavi:K562-rep2-SR'], '@id': '/replicates/3eeb93ea-6a01-479e-bba0-8106ef482873/', 'uuid': '3eeb93ea-6a01-479e-bba0-8106ef482873', '@type': ['Replicate', 'Item'], 'library': '/libraries/ENCLB339NLX/', 'submitted_by': '/users/bc5b62f7-ce28-4a1e-b6b3-81c9c5a86d7a/', 'biological_replicate_number': 2, 'technical_replicate_number': 1}]}\n",
      "row 7 created: 3eeb93ea-6a01-479e-bba0-8106ef482873\n",
      "4\n"
     ]
    }
   ],
   "source": [
    "book = get_book(spreadsheet_name)\n",
    "replicates = book.parse('Replicates', header=0)\n",
    "created = server.post_sheet('/replicates/', \n",
    "                            replicates, \n",
    "                            verbose=True, \n",
    "                            dry_run=False, \n",
    "                            validator=validator)\n",
    "print(len(created))"
   ]
  },
  {
   "cell_type": "code",
   "execution_count": 30,
   "metadata": {},
   "outputs": [],
   "source": [
    "if created:\n",
    "    replicates.to_excel('/dev/shm/replicates.xlsx', index=False)"
   ]
  },
  {
   "cell_type": "code",
   "execution_count": null,
   "metadata": {},
   "outputs": [],
   "source": []
  }
 ],
 "metadata": {
  "kernelspec": {
   "display_name": "Python 3",
   "language": "python",
   "name": "python3"
  },
  "language_info": {
   "codemirror_mode": {
    "name": "ipython",
    "version": 3
   },
   "file_extension": ".py",
   "mimetype": "text/x-python",
   "name": "python",
   "nbconvert_exporter": "python",
   "pygments_lexer": "ipython3",
   "version": "3.6.6"
  }
 },
 "nbformat": 4,
 "nbformat_minor": 1
}
