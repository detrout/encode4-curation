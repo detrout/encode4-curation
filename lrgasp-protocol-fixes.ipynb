{
 "cells": [
  {
   "cell_type": "markdown",
   "id": "b418aad2",
   "metadata": {},
   "source": [
    "# Introduction"
   ]
  },
  {
   "cell_type": "markdown",
   "id": "9bf70522",
   "metadata": {},
   "source": [
    "Brian wants some of the LRGASP protocols to be adjusted.\n",
    "\n",
    "Sorry that this change on the ENCODE Portal is coming so last minute, but I am hoping that it won't be too much headache.  \n",
    "We need to swap out the PDF protocol titled \" Long Read wet lab protocol v3\" that is currently attached to the LRGASP \n",
    "experiments (only! no other long read experiments yet, I am still checking with Heidi and Ali) below on the Portal, and replace it with the protocol attached to this email.  \n",
    "\n",
    "Note:  when doing this, please leave attached to the experiments the other 2 protocols that are attached now on the portal\n",
    "(FASTQs and the \"protocol to add 5' cap ...\").\n",
    "\n"
   ]
  },
  {
   "cell_type": "code",
   "execution_count": 1,
   "id": "ce51a4c8",
   "metadata": {},
   "outputs": [],
   "source": [
    "import pandas\n",
    "from pathlib import Path\n",
    "from io import StringIO\n",
    "import os\n",
    "import sys\n",
    "\n",
    "EC = str(Path(\"~/proj/encoded_client\").expanduser())\n",
    "if EC not in sys.path:\n",
    "    sys.path.append(EC)\n",
    "from encoded_client.encoded import ENCODED, HTTPError"
   ]
  },
  {
   "cell_type": "code",
   "execution_count": 2,
   "id": "191fcbec",
   "metadata": {},
   "outputs": [],
   "source": [
    "#server = ENCODED(\"www.encodeproject.org\")\n",
    "server = ENCODED(\"test.encodedcc.org\")"
   ]
  },
  {
   "cell_type": "code",
   "execution_count": null,
   "id": "f2aecf41",
   "metadata": {},
   "outputs": [],
   "source": []
  },
  {
   "cell_type": "code",
   "execution_count": null,
   "id": "7cefd38c",
   "metadata": {},
   "outputs": [],
   "source": []
  },
  {
   "cell_type": "code",
   "execution_count": 3,
   "id": "e3dd2c99",
   "metadata": {},
   "outputs": [],
   "source": [
    "def update_documents(seen_documents, experiment_id, obj):\n",
    "    for d in obj.get(\"documents\", []):\n",
    "        seen_documents.setdefault(d, set()).add(experiment_id)\n",
    "\n",
    "def get_all_documents(query):\n",
    "    seen_documents = {}\n",
    "    for row in query[\"@graph\"]:\n",
    "        experiment_id = row[\"@id\"]\n",
    "        experiment = server.get_json(experiment_id)\n",
    "        update_documents(seen_documents, experiment_id, experiment)\n",
    "        for rep in experiment[\"replicates\"]:\n",
    "            library = rep[\"library\"]\n",
    "            update_documents(seen_documents, experiment_id, library)\n",
    "            if \"biosample\" in rep[\"library\"]:\n",
    "                biosample = rep[\"library\"][\"biosample\"]\n",
    "                update_documents(seen_documents, experiment_id, biosample)\n",
    "    return seen_documents\n",
    "\n",
    "def describe_documents(seen_documents):\n",
    "    records = []\n",
    "    for d in seen_documents:\n",
    "        document = server.get_json(d)\n",
    "        records.append({\n",
    "            \"id\": \"https://www.encodeproject.org{}\".format(d),\n",
    "            \"used\": len(seen_documents[d]),\n",
    "            \"filename\": document[\"attachment\"][\"download\"],\n",
    "            \"description\": document[\"description\"],\n",
    "        })\n",
    "\n",
    "    return pandas.DataFrame(records)\n",
    "\n",
    "\n",
    "def build_experiment_query(table):\n",
    "    base_url = \"https://www.encodeproject.org/search/?type=Experiment&\"\n",
    "    values = table[\"Experiment Accession\"].values\n",
    "    return base_url + \"&\".join([\"accession={}\".format(x) for x in values])\n"
   ]
  },
  {
   "cell_type": "code",
   "execution_count": null,
   "id": "4fe1dc33",
   "metadata": {},
   "outputs": [],
   "source": []
  },
  {
   "cell_type": "code",
   "execution_count": 4,
   "id": "bff957d5",
   "metadata": {},
   "outputs": [
    {
     "data": {
      "text/html": [
       "<div>\n",
       "<style scoped>\n",
       "    .dataframe tbody tr th:only-of-type {\n",
       "        vertical-align: middle;\n",
       "    }\n",
       "\n",
       "    .dataframe tbody tr th {\n",
       "        vertical-align: top;\n",
       "    }\n",
       "\n",
       "    .dataframe thead th {\n",
       "        text-align: right;\n",
       "    }\n",
       "</style>\n",
       "<table border=\"1\" class=\"dataframe\">\n",
       "  <thead>\n",
       "    <tr style=\"text-align: right;\">\n",
       "      <th></th>\n",
       "      <th>Lab</th>\n",
       "      <th>species</th>\n",
       "      <th>sample name</th>\n",
       "      <th>Experiment Accession</th>\n",
       "    </tr>\n",
       "  </thead>\n",
       "  <tbody>\n",
       "    <tr>\n",
       "      <th>0</th>\n",
       "      <td>Mortazavi</td>\n",
       "      <td>Homo sapiens</td>\n",
       "      <td>endodermal cell</td>\n",
       "      <td>ENCSR127HKN</td>\n",
       "    </tr>\n",
       "    <tr>\n",
       "      <th>1</th>\n",
       "      <td>Mortazavi</td>\n",
       "      <td>Homo sapiens</td>\n",
       "      <td>H1 ES</td>\n",
       "      <td>ENCSR271KEJ</td>\n",
       "    </tr>\n",
       "    <tr>\n",
       "      <th>2</th>\n",
       "      <td>Mortazavi</td>\n",
       "      <td>Mus musculus</td>\n",
       "      <td>F121-9</td>\n",
       "      <td>ENCSR172GXL</td>\n",
       "    </tr>\n",
       "    <tr>\n",
       "      <th>3</th>\n",
       "      <td>Mortazavi</td>\n",
       "      <td>Homo sapiens</td>\n",
       "      <td>WTC11</td>\n",
       "      <td>ENCSR507JOF</td>\n",
       "    </tr>\n",
       "    <tr>\n",
       "      <th>4</th>\n",
       "      <td>Mortazavi</td>\n",
       "      <td>Homo sapiens</td>\n",
       "      <td>technical sample</td>\n",
       "      <td>ENCSR731MFY</td>\n",
       "    </tr>\n",
       "  </tbody>\n",
       "</table>\n",
       "</div>"
      ],
      "text/plain": [
       "         Lab       species       sample name Experiment Accession\n",
       "0  Mortazavi  Homo sapiens   endodermal cell          ENCSR127HKN\n",
       "1  Mortazavi  Homo sapiens             H1 ES          ENCSR271KEJ\n",
       "2  Mortazavi  Mus musculus            F121-9          ENCSR172GXL\n",
       "3  Mortazavi  Homo sapiens             WTC11          ENCSR507JOF\n",
       "4  Mortazavi  Homo sapiens  technical sample          ENCSR731MFY"
      ]
     },
     "execution_count": 4,
     "metadata": {},
     "output_type": "execute_result"
    }
   ],
   "source": [
    "mortazavi = pandas.read_csv(StringIO(\"\"\"Lab\tspecies\tsample name\tExperiment Accession\n",
    "Mortazavi\tHomo sapiens\tendodermal cell\tENCSR127HKN\n",
    "Mortazavi\tHomo sapiens\tH1 ES\tENCSR271KEJ\n",
    "Mortazavi\tMus musculus\tF121-9\tENCSR172GXL\n",
    "Mortazavi\tHomo sapiens\tWTC11\tENCSR507JOF\n",
    "Mortazavi\tHomo sapiens\ttechnical sample\tENCSR731MFY\"\"\"), sep=\"\\t\")\n",
    "mortazavi"
   ]
  },
  {
   "cell_type": "code",
   "execution_count": 5,
   "id": "50ae8534",
   "metadata": {},
   "outputs": [
    {
     "data": {
      "text/plain": [
       "'https://www.encodeproject.org/search/?type=Experiment&accession=ENCSR127HKN&accession=ENCSR271KEJ&accession=ENCSR172GXL&accession=ENCSR507JOF&accession=ENCSR731MFY'"
      ]
     },
     "execution_count": 5,
     "metadata": {},
     "output_type": "execute_result"
    }
   ],
   "source": [
    "build_experiment_query(mortazavi)"
   ]
  },
  {
   "cell_type": "code",
   "execution_count": 6,
   "id": "ef318d59",
   "metadata": {},
   "outputs": [
    {
     "data": {
      "text/html": [
       "<div>\n",
       "<style scoped>\n",
       "    .dataframe tbody tr th:only-of-type {\n",
       "        vertical-align: middle;\n",
       "    }\n",
       "\n",
       "    .dataframe tbody tr th {\n",
       "        vertical-align: top;\n",
       "    }\n",
       "\n",
       "    .dataframe thead th {\n",
       "        text-align: right;\n",
       "    }\n",
       "</style>\n",
       "<table border=\"1\" class=\"dataframe\">\n",
       "  <thead>\n",
       "    <tr style=\"text-align: right;\">\n",
       "      <th></th>\n",
       "      <th>id</th>\n",
       "      <th>used</th>\n",
       "      <th>filename</th>\n",
       "      <th>description</th>\n",
       "    </tr>\n",
       "  </thead>\n",
       "  <tbody>\n",
       "    <tr>\n",
       "      <th>0</th>\n",
       "      <td>https://www.encodeproject.org/documents/81af56...</td>\n",
       "      <td>5</td>\n",
       "      <td>ENCODE Long Read RNA-Seq Analysis Pipeline v3 ...</td>\n",
       "      <td>This document describes 1) the steps used to g...</td>\n",
       "    </tr>\n",
       "    <tr>\n",
       "      <th>1</th>\n",
       "      <td>https://www.encodeproject.org/documents/e90954...</td>\n",
       "      <td>5</td>\n",
       "      <td>ENCODE_Protocol_Spikeins_capping_v1.pdf</td>\n",
       "      <td>Protocol to add 5’ cap structures to exogenous...</td>\n",
       "    </tr>\n",
       "    <tr>\n",
       "      <th>2</th>\n",
       "      <td>https://www.encodeproject.org/documents/35c950...</td>\n",
       "      <td>5</td>\n",
       "      <td>Long read cDNA prep with Maxima H no exo SIRV4...</td>\n",
       "      <td>Library protocol for LRGASP long read RNA-seq.</td>\n",
       "    </tr>\n",
       "  </tbody>\n",
       "</table>\n",
       "</div>"
      ],
      "text/plain": [
       "                                                  id  used  \\\n",
       "0  https://www.encodeproject.org/documents/81af56...     5   \n",
       "1  https://www.encodeproject.org/documents/e90954...     5   \n",
       "2  https://www.encodeproject.org/documents/35c950...     5   \n",
       "\n",
       "                                            filename  \\\n",
       "0  ENCODE Long Read RNA-Seq Analysis Pipeline v3 ...   \n",
       "1            ENCODE_Protocol_Spikeins_capping_v1.pdf   \n",
       "2  Long read cDNA prep with Maxima H no exo SIRV4...   \n",
       "\n",
       "                                         description  \n",
       "0  This document describes 1) the steps used to g...  \n",
       "1  Protocol to add 5’ cap structures to exogenous...  \n",
       "2     Library protocol for LRGASP long read RNA-seq.  "
      ]
     },
     "execution_count": 6,
     "metadata": {},
     "output_type": "execute_result"
    }
   ],
   "source": [
    "mortazavi_seen = get_all_documents(server.get_json(build_experiment_query(mortazavi)))\n",
    "mortazavi_docs = describe_documents(mortazavi_seen)\n",
    "\n",
    "mortazavi_docs"
   ]
  },
  {
   "cell_type": "code",
   "execution_count": 7,
   "id": "86a3844b",
   "metadata": {},
   "outputs": [
    {
     "data": {
      "text/html": [
       "<div>\n",
       "<style scoped>\n",
       "    .dataframe tbody tr th:only-of-type {\n",
       "        vertical-align: middle;\n",
       "    }\n",
       "\n",
       "    .dataframe tbody tr th {\n",
       "        vertical-align: top;\n",
       "    }\n",
       "\n",
       "    .dataframe thead th {\n",
       "        text-align: right;\n",
       "    }\n",
       "</style>\n",
       "<table border=\"1\" class=\"dataframe\">\n",
       "  <thead>\n",
       "    <tr style=\"text-align: right;\">\n",
       "      <th></th>\n",
       "      <th>Lab</th>\n",
       "      <th>species</th>\n",
       "      <th>sample name</th>\n",
       "      <th>Experiment Accession</th>\n",
       "    </tr>\n",
       "  </thead>\n",
       "  <tbody>\n",
       "    <tr>\n",
       "      <th>0</th>\n",
       "      <td>Wold</td>\n",
       "      <td>Homo sapiens</td>\n",
       "      <td>endodermal cell</td>\n",
       "      <td>ENCSR266XAJ</td>\n",
       "    </tr>\n",
       "    <tr>\n",
       "      <th>1</th>\n",
       "      <td>Wold</td>\n",
       "      <td>Homo sapiens</td>\n",
       "      <td>H1 ES</td>\n",
       "      <td>ENCSR588EJX</td>\n",
       "    </tr>\n",
       "    <tr>\n",
       "      <th>2</th>\n",
       "      <td>Wold</td>\n",
       "      <td>Mus musculus</td>\n",
       "      <td>F121-9</td>\n",
       "      <td>ENCSR982PLD</td>\n",
       "    </tr>\n",
       "    <tr>\n",
       "      <th>3</th>\n",
       "      <td>Wold</td>\n",
       "      <td>Homo sapiens</td>\n",
       "      <td>WTC11</td>\n",
       "      <td>ENCSR673UKZ</td>\n",
       "    </tr>\n",
       "    <tr>\n",
       "      <th>4</th>\n",
       "      <td>Wold</td>\n",
       "      <td>Homo sapiens</td>\n",
       "      <td>technical sample</td>\n",
       "      <td>ENCSR154RVC</td>\n",
       "    </tr>\n",
       "  </tbody>\n",
       "</table>\n",
       "</div>"
      ],
      "text/plain": [
       "    Lab       species       sample name Experiment Accession\n",
       "0  Wold  Homo sapiens   endodermal cell          ENCSR266XAJ\n",
       "1  Wold  Homo sapiens             H1 ES          ENCSR588EJX\n",
       "2  Wold  Mus musculus            F121-9          ENCSR982PLD\n",
       "3  Wold  Homo sapiens             WTC11          ENCSR673UKZ\n",
       "4  Wold  Homo sapiens  technical sample          ENCSR154RVC"
      ]
     },
     "execution_count": 7,
     "metadata": {},
     "output_type": "execute_result"
    }
   ],
   "source": [
    "wold = pandas.read_csv(StringIO(\"\"\"Lab\tspecies\tsample name\tExperiment Accession\n",
    "Wold\tHomo sapiens\tendodermal cell\tENCSR266XAJ\n",
    "Wold\tHomo sapiens\tH1 ES\tENCSR588EJX\n",
    "Wold\tMus musculus\tF121-9\tENCSR982PLD\n",
    "Wold\tHomo sapiens\tWTC11\tENCSR673UKZ\n",
    "Wold\tHomo sapiens\ttechnical sample\tENCSR154RVC\"\"\"), sep=\"\\t\")\n",
    "wold"
   ]
  },
  {
   "cell_type": "code",
   "execution_count": 8,
   "id": "b786ded4",
   "metadata": {},
   "outputs": [
    {
     "data": {
      "text/plain": [
       "array(['ENCSR266XAJ', 'ENCSR588EJX', 'ENCSR982PLD', 'ENCSR673UKZ',\n",
       "       'ENCSR154RVC'], dtype=object)"
      ]
     },
     "execution_count": 8,
     "metadata": {},
     "output_type": "execute_result"
    }
   ],
   "source": [
    "wold[\"Experiment Accession\"].values"
   ]
  },
  {
   "cell_type": "code",
   "execution_count": 9,
   "id": "82f8186a",
   "metadata": {},
   "outputs": [
    {
     "data": {
      "text/plain": [
       "'https://www.encodeproject.org/search/?type=Experiment&accession=ENCSR266XAJ&accession=ENCSR588EJX&accession=ENCSR982PLD&accession=ENCSR673UKZ&accession=ENCSR154RVC'"
      ]
     },
     "execution_count": 9,
     "metadata": {},
     "output_type": "execute_result"
    }
   ],
   "source": [
    "build_experiment_query(wold)"
   ]
  },
  {
   "cell_type": "code",
   "execution_count": 10,
   "id": "2c6ff1c9",
   "metadata": {},
   "outputs": [
    {
     "data": {
      "text/html": [
       "<div>\n",
       "<style scoped>\n",
       "    .dataframe tbody tr th:only-of-type {\n",
       "        vertical-align: middle;\n",
       "    }\n",
       "\n",
       "    .dataframe tbody tr th {\n",
       "        vertical-align: top;\n",
       "    }\n",
       "\n",
       "    .dataframe thead th {\n",
       "        text-align: right;\n",
       "    }\n",
       "</style>\n",
       "<table border=\"1\" class=\"dataframe\">\n",
       "  <thead>\n",
       "    <tr style=\"text-align: right;\">\n",
       "      <th></th>\n",
       "      <th>id</th>\n",
       "      <th>used</th>\n",
       "      <th>filename</th>\n",
       "      <th>description</th>\n",
       "    </tr>\n",
       "  </thead>\n",
       "  <tbody>\n",
       "    <tr>\n",
       "      <th>0</th>\n",
       "      <td>https://www.encodeproject.org/documents/334823...</td>\n",
       "      <td>5</td>\n",
       "      <td>Norgen_Animal-Tissue-RNA-Purification-Kit-Inse...</td>\n",
       "      <td>Norgen Animal Tissue RNA purification kit user...</td>\n",
       "    </tr>\n",
       "    <tr>\n",
       "      <th>1</th>\n",
       "      <td>https://www.encodeproject.org/documents/e90954...</td>\n",
       "      <td>5</td>\n",
       "      <td>ENCODE_Protocol_Spikeins_capping_v1.pdf</td>\n",
       "      <td>Protocol to add 5’ cap structures to exogenous...</td>\n",
       "    </tr>\n",
       "    <tr>\n",
       "      <th>2</th>\n",
       "      <td>https://www.encodeproject.org/documents/35c950...</td>\n",
       "      <td>5</td>\n",
       "      <td>Long read cDNA prep with Maxima H no exo SIRV4...</td>\n",
       "      <td>Library protocol for LRGASP long read RNA-seq.</td>\n",
       "    </tr>\n",
       "    <tr>\n",
       "      <th>3</th>\n",
       "      <td>https://www.encodeproject.org/documents/6936da...</td>\n",
       "      <td>5</td>\n",
       "      <td>nextera-dna-flex-library-prep-reference-guide-...</td>\n",
       "      <td>Library protocol for LRGASP total RNA-seq.</td>\n",
       "    </tr>\n",
       "  </tbody>\n",
       "</table>\n",
       "</div>"
      ],
      "text/plain": [
       "                                                  id  used  \\\n",
       "0  https://www.encodeproject.org/documents/334823...     5   \n",
       "1  https://www.encodeproject.org/documents/e90954...     5   \n",
       "2  https://www.encodeproject.org/documents/35c950...     5   \n",
       "3  https://www.encodeproject.org/documents/6936da...     5   \n",
       "\n",
       "                                            filename  \\\n",
       "0  Norgen_Animal-Tissue-RNA-Purification-Kit-Inse...   \n",
       "1            ENCODE_Protocol_Spikeins_capping_v1.pdf   \n",
       "2  Long read cDNA prep with Maxima H no exo SIRV4...   \n",
       "3  nextera-dna-flex-library-prep-reference-guide-...   \n",
       "\n",
       "                                         description  \n",
       "0  Norgen Animal Tissue RNA purification kit user...  \n",
       "1  Protocol to add 5’ cap structures to exogenous...  \n",
       "2     Library protocol for LRGASP long read RNA-seq.  \n",
       "3         Library protocol for LRGASP total RNA-seq.  "
      ]
     },
     "execution_count": 10,
     "metadata": {},
     "output_type": "execute_result"
    }
   ],
   "source": [
    "\n",
    "wold_seen = get_all_documents(server.get_json(build_experiment_query(wold)))\n",
    "wold_docs = describe_documents(wold_seen)\n",
    "\n",
    "wold_docs"
   ]
  },
  {
   "cell_type": "code",
   "execution_count": null,
   "id": "900aea59",
   "metadata": {},
   "outputs": [],
   "source": []
  },
  {
   "cell_type": "code",
   "execution_count": 11,
   "id": "934c7659",
   "metadata": {},
   "outputs": [
    {
     "data": {
      "text/html": [
       "<div>\n",
       "<style scoped>\n",
       "    .dataframe tbody tr th:only-of-type {\n",
       "        vertical-align: middle;\n",
       "    }\n",
       "\n",
       "    .dataframe tbody tr th {\n",
       "        vertical-align: top;\n",
       "    }\n",
       "\n",
       "    .dataframe thead th {\n",
       "        text-align: right;\n",
       "    }\n",
       "</style>\n",
       "<table border=\"1\" class=\"dataframe\">\n",
       "  <thead>\n",
       "    <tr style=\"text-align: right;\">\n",
       "      <th></th>\n",
       "      <th>id</th>\n",
       "      <th>used</th>\n",
       "      <th>filename</th>\n",
       "      <th>description</th>\n",
       "    </tr>\n",
       "  </thead>\n",
       "  <tbody>\n",
       "    <tr>\n",
       "      <th>0</th>\n",
       "      <td>https://www.encodeproject.org/documents/334823...</td>\n",
       "      <td>5</td>\n",
       "      <td>Norgen_Animal-Tissue-RNA-Purification-Kit-Inse...</td>\n",
       "      <td>Norgen Animal Tissue RNA purification kit user...</td>\n",
       "    </tr>\n",
       "    <tr>\n",
       "      <th>1</th>\n",
       "      <td>https://www.encodeproject.org/documents/e90954...</td>\n",
       "      <td>5</td>\n",
       "      <td>ENCODE_Protocol_Spikeins_capping_v1.pdf</td>\n",
       "      <td>Protocol to add 5’ cap structures to exogenous...</td>\n",
       "    </tr>\n",
       "  </tbody>\n",
       "</table>\n",
       "</div>"
      ],
      "text/plain": [
       "                                                  id  used  \\\n",
       "0  https://www.encodeproject.org/documents/334823...     5   \n",
       "1  https://www.encodeproject.org/documents/e90954...     5   \n",
       "\n",
       "                                            filename  \\\n",
       "0  Norgen_Animal-Tissue-RNA-Purification-Kit-Inse...   \n",
       "1            ENCODE_Protocol_Spikeins_capping_v1.pdf   \n",
       "\n",
       "                                         description  \n",
       "0  Norgen Animal Tissue RNA purification kit user...  \n",
       "1  Protocol to add 5’ cap structures to exogenous...  "
      ]
     },
     "execution_count": 11,
     "metadata": {},
     "output_type": "execute_result"
    }
   ],
   "source": [
    "j = pandas.read_csv(\n",
    "    \"https://www.encodeproject.org/report.tsv?type=Experiment&accession=ENCSR127HKN&accession=ENCSR271KEJ&accession=ENCSR172GXL&accession=ENCSR507JOF&accession=ENCSR731MFY&accession=ENCSR266XAJ&accession=ENCSR588EJX&accession=ENCSR982PLD&accession=ENCSR673UKZ&accession=ENCSR154RVC&field=%40id&field=replicates.library.accession&field=replicates.library.documents&assay_title=total+RNA-seq\", \n",
    "    sep=\"\\t\",\n",
    "    converters={\n",
    "        \"replicates.library.accession\": lambda x: x.split(\",\"),\n",
    "        \"replicates.library.documents\": lambda x: x.split(\",\"),\n",
    "    },\n",
    "    skiprows=1)\n",
    "\n",
    "j_seen = {}\n",
    "for i, row in j.iterrows():\n",
    "    for rep in row[\"replicates.library.documents\"]:\n",
    "        j_seen.setdefault(rep, set()).add(row[\"ID\"])\n",
    "        \n",
    "j_docs = describe_documents(j_seen)\n",
    "j_docs"
   ]
  },
  {
   "cell_type": "code",
   "execution_count": 12,
   "id": "5909268b",
   "metadata": {},
   "outputs": [
    {
     "data": {
      "text/plain": [
       "array(['Norgen_Animal-Tissue-RNA-Purification-Kit-Insert-PI25700-8-M14.pdf',\n",
       "       'ENCODE_Protocol_Spikeins_capping_v1.pdf'], dtype=object)"
      ]
     },
     "execution_count": 12,
     "metadata": {},
     "output_type": "execute_result"
    }
   ],
   "source": [
    "j_docs[\"filename\"].values"
   ]
  },
  {
   "cell_type": "code",
   "execution_count": 13,
   "id": "f2068151",
   "metadata": {},
   "outputs": [
    {
     "data": {
      "text/plain": [
       "{'/documents/33482357-bcb8-43d0-ac76-d58ff785b710/': {'/experiments/ENCSR154RVC/',\n",
       "  '/experiments/ENCSR266XAJ/',\n",
       "  '/experiments/ENCSR588EJX/',\n",
       "  '/experiments/ENCSR673UKZ/',\n",
       "  '/experiments/ENCSR982PLD/'},\n",
       " '/documents/e909542d-44c0-4bee-9aac-4d41a0b768db/': {'/experiments/ENCSR154RVC/',\n",
       "  '/experiments/ENCSR266XAJ/',\n",
       "  '/experiments/ENCSR588EJX/',\n",
       "  '/experiments/ENCSR673UKZ/',\n",
       "  '/experiments/ENCSR982PLD/'}}"
      ]
     },
     "execution_count": 13,
     "metadata": {},
     "output_type": "execute_result"
    }
   ],
   "source": [
    "j_seen"
   ]
  },
  {
   "cell_type": "code",
   "execution_count": null,
   "id": "c445f645",
   "metadata": {},
   "outputs": [],
   "source": []
  },
  {
   "cell_type": "code",
   "execution_count": null,
   "id": "70bdd740",
   "metadata": {},
   "outputs": [],
   "source": []
  },
  {
   "cell_type": "code",
   "execution_count": 15,
   "id": "74a6e2f2",
   "metadata": {},
   "outputs": [
    {
     "name": "stdout",
     "output_type": "stream",
     "text": [
      "mortizavi\n",
      "                                                  id  used  \\\n",
      "0  https://www.encodeproject.org/documents/81af56...     5   \n",
      "1  https://www.encodeproject.org/documents/e90954...     5   \n",
      "2  https://www.encodeproject.org/documents/35c950...     5   \n",
      "\n",
      "                                            filename  \\\n",
      "0  ENCODE Long Read RNA-Seq Analysis Pipeline v3 ...   \n",
      "1            ENCODE_Protocol_Spikeins_capping_v1.pdf   \n",
      "2  Long read cDNA prep with Maxima H no exo SIRV4...   \n",
      "\n",
      "                                         description  \n",
      "0  This document describes 1) the steps used to g...  \n",
      "1  Protocol to add 5’ cap structures to exogenous...  \n",
      "2     Library protocol for LRGASP long read RNA-seq.  \n",
      "wold\n",
      "                                                  id  used  \\\n",
      "0  https://www.encodeproject.org/documents/334823...     5   \n",
      "1  https://www.encodeproject.org/documents/e90954...     5   \n",
      "2  https://www.encodeproject.org/documents/35c950...     5   \n",
      "3  https://www.encodeproject.org/documents/6936da...     5   \n",
      "\n",
      "                                            filename  \\\n",
      "0  Norgen_Animal-Tissue-RNA-Purification-Kit-Inse...   \n",
      "1            ENCODE_Protocol_Spikeins_capping_v1.pdf   \n",
      "2  Long read cDNA prep with Maxima H no exo SIRV4...   \n",
      "3  nextera-dna-flex-library-prep-reference-guide-...   \n",
      "\n",
      "                                         description  \n",
      "0  Norgen Animal Tissue RNA purification kit user...  \n",
      "1  Protocol to add 5’ cap structures to exogenous...  \n",
      "2     Library protocol for LRGASP long read RNA-seq.  \n",
      "3         Library protocol for LRGASP total RNA-seq.  \n",
      "hl60\n",
      "                                                  id  used  \\\n",
      "0  https://www.encodeproject.org/documents/6d583a...     7   \n",
      "1  https://www.encodeproject.org/documents/77db75...     7   \n",
      "2  https://www.encodeproject.org/documents/ae021f...     7   \n",
      "\n",
      "                                            filename  \\\n",
      "0  ENCODE Long Read RNA-Seq Analysis Pipeline v3....   \n",
      "1               ENCODE_protocol_2020pacbio_Final.pdf   \n",
      "2  Macrophage_differentiation_and_M1_M2_activatio...   \n",
      "\n",
      "                                         description  \n",
      "0  \"This document describes 1) the steps used to ...  \n",
      "1  This protocol describes an optimized method fo...  \n",
      "2            HL-60 M0/M1/M2 differentiation protocol  \n"
     ]
    }
   ],
   "source": [
    "fixes = {\n",
    "    \"mortizavi\": \"https://test.encodedcc.org/search/?type=Experiment&accession=ENCSR127HKN&accession=ENCSR271KEJ&accession=ENCSR172GXL&accession=ENCSR507JOF&accession=ENCSR731MFY\",\n",
    "    \"wold\": \"https://test.encodedcc.org/search/?type=Experiment&accession=ENCSR266XAJ&accession=ENCSR588EJX&accession=ENCSR982PLD&accession=ENCSR673UKZ&accession=ENCSR154RVC\",\n",
    "    \"hl60\": \"https://test.encodedcc.org/search/?type=Experiment&replicates.library.accession=ENCLB045HKM&replicates.library.accession=ENCLB463QEM&replicates.library.accession=ENCLB268CWN&replicates.library.accession=ENCLB909APR&replicates.library.accession=ENCLB529IWA&replicates.library.accession=ENCLB054OEH&replicates.library.accession=ENCLB559VQN&replicates.library.accession=ENCLB101LYE&replicates.library.accession=ENCLB455DNY&replicates.library.accession=ENCLB493RCQ&replicates.library.accession=ENCLB622SOZ&replicates.library.accession=ENCLB825EPI&replicates.library.accession=ENCLB611DPF&replicates.library.accession=ENCLB605OTC\",\n",
    "}\n",
    "\n",
    "\n",
    "seen = {k: get_all_documents(server.get_json(fixes[k])) for k in fixes}\n",
    "docs = {k: describe_documents(seen[k]) for k in seen}\n",
    "\n",
    "for k in docs:\n",
    "    print(k)\n",
    "    print(docs[k])\n"
   ]
  },
  {
   "cell_type": "code",
   "execution_count": 17,
   "id": "2ca3c58c",
   "metadata": {},
   "outputs": [
    {
     "data": {
      "text/html": [
       "<div>\n",
       "<style scoped>\n",
       "    .dataframe tbody tr th:only-of-type {\n",
       "        vertical-align: middle;\n",
       "    }\n",
       "\n",
       "    .dataframe tbody tr th {\n",
       "        vertical-align: top;\n",
       "    }\n",
       "\n",
       "    .dataframe thead th {\n",
       "        text-align: right;\n",
       "    }\n",
       "</style>\n",
       "<table border=\"1\" class=\"dataframe\">\n",
       "  <thead>\n",
       "    <tr style=\"text-align: right;\">\n",
       "      <th></th>\n",
       "      <th>id</th>\n",
       "      <th>used</th>\n",
       "      <th>filename</th>\n",
       "      <th>description</th>\n",
       "    </tr>\n",
       "  </thead>\n",
       "  <tbody>\n",
       "    <tr>\n",
       "      <th>0</th>\n",
       "      <td>https://www.encodeproject.org/documents/81af56...</td>\n",
       "      <td>5</td>\n",
       "      <td>ENCODE Long Read RNA-Seq Analysis Pipeline v3 ...</td>\n",
       "      <td>This document describes 1) the steps used to g...</td>\n",
       "    </tr>\n",
       "    <tr>\n",
       "      <th>1</th>\n",
       "      <td>https://www.encodeproject.org/documents/e90954...</td>\n",
       "      <td>5</td>\n",
       "      <td>ENCODE_Protocol_Spikeins_capping_v1.pdf</td>\n",
       "      <td>Protocol to add 5’ cap structures to exogenous...</td>\n",
       "    </tr>\n",
       "    <tr>\n",
       "      <th>2</th>\n",
       "      <td>https://www.encodeproject.org/documents/35c950...</td>\n",
       "      <td>5</td>\n",
       "      <td>Long read cDNA prep with Maxima H no exo SIRV4...</td>\n",
       "      <td>Library protocol for LRGASP long read RNA-seq.</td>\n",
       "    </tr>\n",
       "  </tbody>\n",
       "</table>\n",
       "</div>"
      ],
      "text/plain": [
       "                                                  id  used  \\\n",
       "0  https://www.encodeproject.org/documents/81af56...     5   \n",
       "1  https://www.encodeproject.org/documents/e90954...     5   \n",
       "2  https://www.encodeproject.org/documents/35c950...     5   \n",
       "\n",
       "                                            filename  \\\n",
       "0  ENCODE Long Read RNA-Seq Analysis Pipeline v3 ...   \n",
       "1            ENCODE_Protocol_Spikeins_capping_v1.pdf   \n",
       "2  Long read cDNA prep with Maxima H no exo SIRV4...   \n",
       "\n",
       "                                         description  \n",
       "0  This document describes 1) the steps used to g...  \n",
       "1  Protocol to add 5’ cap structures to exogenous...  \n",
       "2     Library protocol for LRGASP long read RNA-seq.  "
      ]
     },
     "execution_count": 17,
     "metadata": {},
     "output_type": "execute_result"
    }
   ],
   "source": [
    "docs[\"mortizavi\"]"
   ]
  },
  {
   "cell_type": "code",
   "execution_count": 18,
   "id": "54bb4614",
   "metadata": {},
   "outputs": [
    {
     "data": {
      "text/html": [
       "<div>\n",
       "<style scoped>\n",
       "    .dataframe tbody tr th:only-of-type {\n",
       "        vertical-align: middle;\n",
       "    }\n",
       "\n",
       "    .dataframe tbody tr th {\n",
       "        vertical-align: top;\n",
       "    }\n",
       "\n",
       "    .dataframe thead th {\n",
       "        text-align: right;\n",
       "    }\n",
       "</style>\n",
       "<table border=\"1\" class=\"dataframe\">\n",
       "  <thead>\n",
       "    <tr style=\"text-align: right;\">\n",
       "      <th></th>\n",
       "      <th>id</th>\n",
       "      <th>used</th>\n",
       "      <th>filename</th>\n",
       "      <th>description</th>\n",
       "    </tr>\n",
       "  </thead>\n",
       "  <tbody>\n",
       "    <tr>\n",
       "      <th>0</th>\n",
       "      <td>https://www.encodeproject.org/documents/334823...</td>\n",
       "      <td>5</td>\n",
       "      <td>Norgen_Animal-Tissue-RNA-Purification-Kit-Inse...</td>\n",
       "      <td>Norgen Animal Tissue RNA purification kit user...</td>\n",
       "    </tr>\n",
       "    <tr>\n",
       "      <th>1</th>\n",
       "      <td>https://www.encodeproject.org/documents/e90954...</td>\n",
       "      <td>5</td>\n",
       "      <td>ENCODE_Protocol_Spikeins_capping_v1.pdf</td>\n",
       "      <td>Protocol to add 5’ cap structures to exogenous...</td>\n",
       "    </tr>\n",
       "    <tr>\n",
       "      <th>2</th>\n",
       "      <td>https://www.encodeproject.org/documents/35c950...</td>\n",
       "      <td>5</td>\n",
       "      <td>Long read cDNA prep with Maxima H no exo SIRV4...</td>\n",
       "      <td>Library protocol for LRGASP long read RNA-seq.</td>\n",
       "    </tr>\n",
       "    <tr>\n",
       "      <th>3</th>\n",
       "      <td>https://www.encodeproject.org/documents/6936da...</td>\n",
       "      <td>5</td>\n",
       "      <td>nextera-dna-flex-library-prep-reference-guide-...</td>\n",
       "      <td>Library protocol for LRGASP total RNA-seq.</td>\n",
       "    </tr>\n",
       "  </tbody>\n",
       "</table>\n",
       "</div>"
      ],
      "text/plain": [
       "                                                  id  used  \\\n",
       "0  https://www.encodeproject.org/documents/334823...     5   \n",
       "1  https://www.encodeproject.org/documents/e90954...     5   \n",
       "2  https://www.encodeproject.org/documents/35c950...     5   \n",
       "3  https://www.encodeproject.org/documents/6936da...     5   \n",
       "\n",
       "                                            filename  \\\n",
       "0  Norgen_Animal-Tissue-RNA-Purification-Kit-Inse...   \n",
       "1            ENCODE_Protocol_Spikeins_capping_v1.pdf   \n",
       "2  Long read cDNA prep with Maxima H no exo SIRV4...   \n",
       "3  nextera-dna-flex-library-prep-reference-guide-...   \n",
       "\n",
       "                                         description  \n",
       "0  Norgen Animal Tissue RNA purification kit user...  \n",
       "1  Protocol to add 5’ cap structures to exogenous...  \n",
       "2     Library protocol for LRGASP long read RNA-seq.  \n",
       "3         Library protocol for LRGASP total RNA-seq.  "
      ]
     },
     "execution_count": 18,
     "metadata": {},
     "output_type": "execute_result"
    }
   ],
   "source": [
    "docs[\"wold\"]"
   ]
  },
  {
   "cell_type": "code",
   "execution_count": 19,
   "id": "82135d87",
   "metadata": {},
   "outputs": [
    {
     "data": {
      "text/html": [
       "<div>\n",
       "<style scoped>\n",
       "    .dataframe tbody tr th:only-of-type {\n",
       "        vertical-align: middle;\n",
       "    }\n",
       "\n",
       "    .dataframe tbody tr th {\n",
       "        vertical-align: top;\n",
       "    }\n",
       "\n",
       "    .dataframe thead th {\n",
       "        text-align: right;\n",
       "    }\n",
       "</style>\n",
       "<table border=\"1\" class=\"dataframe\">\n",
       "  <thead>\n",
       "    <tr style=\"text-align: right;\">\n",
       "      <th></th>\n",
       "      <th>id</th>\n",
       "      <th>used</th>\n",
       "      <th>filename</th>\n",
       "      <th>description</th>\n",
       "    </tr>\n",
       "  </thead>\n",
       "  <tbody>\n",
       "    <tr>\n",
       "      <th>0</th>\n",
       "      <td>https://www.encodeproject.org/documents/6d583a...</td>\n",
       "      <td>7</td>\n",
       "      <td>ENCODE Long Read RNA-Seq Analysis Pipeline v3....</td>\n",
       "      <td>\"This document describes 1) the steps used to ...</td>\n",
       "    </tr>\n",
       "    <tr>\n",
       "      <th>1</th>\n",
       "      <td>https://www.encodeproject.org/documents/77db75...</td>\n",
       "      <td>7</td>\n",
       "      <td>ENCODE_protocol_2020pacbio_Final.pdf</td>\n",
       "      <td>This protocol describes an optimized method fo...</td>\n",
       "    </tr>\n",
       "    <tr>\n",
       "      <th>2</th>\n",
       "      <td>https://www.encodeproject.org/documents/ae021f...</td>\n",
       "      <td>7</td>\n",
       "      <td>Macrophage_differentiation_and_M1_M2_activatio...</td>\n",
       "      <td>HL-60 M0/M1/M2 differentiation protocol</td>\n",
       "    </tr>\n",
       "  </tbody>\n",
       "</table>\n",
       "</div>"
      ],
      "text/plain": [
       "                                                  id  used  \\\n",
       "0  https://www.encodeproject.org/documents/6d583a...     7   \n",
       "1  https://www.encodeproject.org/documents/77db75...     7   \n",
       "2  https://www.encodeproject.org/documents/ae021f...     7   \n",
       "\n",
       "                                            filename  \\\n",
       "0  ENCODE Long Read RNA-Seq Analysis Pipeline v3....   \n",
       "1               ENCODE_protocol_2020pacbio_Final.pdf   \n",
       "2  Macrophage_differentiation_and_M1_M2_activatio...   \n",
       "\n",
       "                                         description  \n",
       "0  \"This document describes 1) the steps used to ...  \n",
       "1  This protocol describes an optimized method fo...  \n",
       "2            HL-60 M0/M1/M2 differentiation protocol  "
      ]
     },
     "execution_count": 19,
     "metadata": {},
     "output_type": "execute_result"
    }
   ],
   "source": [
    "docs[\"hl60\"]"
   ]
  },
  {
   "cell_type": "code",
   "execution_count": null,
   "id": "bd71f95c",
   "metadata": {},
   "outputs": [],
   "source": []
  }
 ],
 "metadata": {
  "kernelspec": {
   "display_name": "Python 3 (ipykernel)",
   "language": "python",
   "name": "python3"
  },
  "language_info": {
   "codemirror_mode": {
    "name": "ipython",
    "version": 3
   },
   "file_extension": ".py",
   "mimetype": "text/x-python",
   "name": "python",
   "nbconvert_exporter": "python",
   "pygments_lexer": "ipython3",
   "version": "3.10.9"
  }
 },
 "nbformat": 4,
 "nbformat_minor": 5
}
