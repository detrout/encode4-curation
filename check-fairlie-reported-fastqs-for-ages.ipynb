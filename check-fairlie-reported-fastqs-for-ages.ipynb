{
 "cells": [
  {
   "cell_type": "markdown",
   "id": "690a47c1",
   "metadata": {},
   "source": [
    "# Introduction"
   ]
  },
  {
   "cell_type": "markdown",
   "id": "5f6f9d24",
   "metadata": {},
   "source": [
    "Farlie mentioned that there were some files missing their age information"
   ]
  },
  {
   "cell_type": "code",
   "execution_count": 1,
   "id": "c1bf5eca",
   "metadata": {},
   "outputs": [],
   "source": [
    "import pandas\n",
    "import os\n",
    "import sys\n",
    "from pathlib import Path"
   ]
  },
  {
   "cell_type": "code",
   "execution_count": 3,
   "id": "c0b9d0e9",
   "metadata": {},
   "outputs": [],
   "source": [
    "EC = str(Path(\"~/proj/encoded_client\").expanduser())\n",
    "if EC not in sys.path:\n",
    "    sys.path.append(EC)\n",
    "from encoded_client.encoded import ENCODED"
   ]
  },
  {
   "cell_type": "code",
   "execution_count": 5,
   "id": "0fd15bb8",
   "metadata": {},
   "outputs": [],
   "source": [
    "server = ENCODED(\"www.encodeproject.org\")"
   ]
  },
  {
   "cell_type": "code",
   "execution_count": 20,
   "id": "35208cbd",
   "metadata": {},
   "outputs": [],
   "source": [
    "fastqs = \"\"\"ENCFF755HCY\n",
    "ENCFF106TTV\n",
    "ENCFF076SID\n",
    "ENCFF284XBP\n",
    "ENCFF168WKT\n",
    "ENCFF117PAU\n",
    "ENCFF947UNC\n",
    "ENCFF424TYF\n",
    "ENCFF273NAQ\n",
    "ENCFF048CGT\n",
    "ENCFF250WVW\n",
    "ENCFF746MGQ\n",
    "\"\"\".split()"
   ]
  },
  {
   "cell_type": "code",
   "execution_count": 7,
   "id": "f7282eb0",
   "metadata": {},
   "outputs": [],
   "source": [
    "fastq = server.get_json(\"ENCFF755HCY\")"
   ]
  },
  {
   "cell_type": "code",
   "execution_count": 9,
   "id": "b5254ad1",
   "metadata": {},
   "outputs": [
    {
     "data": {
      "text/plain": [
       "['@context',\n",
       " '@id',\n",
       " '@type',\n",
       " 'accession',\n",
       " 'aliases',\n",
       " 'alternate_accessions',\n",
       " 'analyses',\n",
       " 'analysis_step_version',\n",
       " 'assay_term_name',\n",
       " 'assay_title',\n",
       " 'assembly',\n",
       " 'audit',\n",
       " 'award',\n",
       " 'azure_uri',\n",
       " 'biological_replicates',\n",
       " 'biological_replicates_formatted',\n",
       " 'biosample_ontology',\n",
       " 'cloud_metadata',\n",
       " 'dataset',\n",
       " 'date_created',\n",
       " 'dbxrefs',\n",
       " 'derived_from',\n",
       " 'donors',\n",
       " 'fastq_signature',\n",
       " 'file_format',\n",
       " 'file_size',\n",
       " 'file_type',\n",
       " 'flowcell_details',\n",
       " 'genome_annotation',\n",
       " 'href',\n",
       " 'lab',\n",
       " 'md5sum',\n",
       " 'no_file_available',\n",
       " 'output_category',\n",
       " 'output_type',\n",
       " 'processed',\n",
       " 'quality_metrics',\n",
       " 's3_uri',\n",
       " 'schema_version',\n",
       " 'simple_biosample_summary',\n",
       " 'status',\n",
       " 'step_run',\n",
       " 'submitted_by',\n",
       " 'submitted_file_name',\n",
       " 'superseded_by',\n",
       " 'technical_replicates',\n",
       " 'title',\n",
       " 'uuid']"
      ]
     },
     "execution_count": 9,
     "metadata": {},
     "output_type": "execute_result"
    }
   ],
   "source": [
    "sorted(fastq.keys())"
   ]
  },
  {
   "cell_type": "code",
   "execution_count": 13,
   "id": "a89467cf",
   "metadata": {},
   "outputs": [],
   "source": [
    "experiment = server.get_json(fastq[\"dataset\"])"
   ]
  },
  {
   "cell_type": "code",
   "execution_count": 19,
   "id": "dfbb6114",
   "metadata": {},
   "outputs": [
    {
     "data": {
      "text/plain": [
       "{'accession': 'ENCBS752ONG',\n",
       " 'aliases': ['barbara-wold:gastrocnemius_B6Cast_F1_PND_18-20_months_Male_03_ENC4_cDNA489',\n",
       "  'barbara-wold:ENC4_cDNA489'],\n",
       " 'schema_version': '26',\n",
       " 'status': 'released',\n",
       " 'lab': '/labs/barbara-wold/',\n",
       " 'award': '/awards/UM1HG009443/',\n",
       " 'date_created': '2021-04-16T03:19:25.715267+00:00',\n",
       " 'submitted_by': {'@id': '/users/bc5b62f7-ce28-4a1e-b6b3-81c9c5a86d7a/',\n",
       "  '@type': ['User', 'Item'],\n",
       "  'uuid': 'bc5b62f7-ce28-4a1e-b6b3-81c9c5a86d7a',\n",
       "  'lab': '/labs/barbara-wold/',\n",
       "  'title': 'Diane Trout',\n",
       "  'submits_for': ['/labs/barbara-wold/',\n",
       "   '/labs/richard-myers/',\n",
       "   '/labs/ali-mortazavi/',\n",
       "   '/labs/roderic-guigo/']},\n",
       " 'documents': [],\n",
       " 'references': [],\n",
       " 'source': {'aliases': [],\n",
       "  'description': '',\n",
       "  'name': 'jackson-labs',\n",
       "  'title': 'The Jackson Laboratory',\n",
       "  'url': 'http://www.jax.org/index.html',\n",
       "  'schema_version': '6',\n",
       "  'status': 'released',\n",
       "  '@id': '/sources/jackson-labs/',\n",
       "  '@type': ['Source', 'Item'],\n",
       "  'uuid': 'e2f552ae-ecd9-400f-8cab-3c9b90440378'},\n",
       " 'biosample_ontology': {'status': 'released',\n",
       "  'schema_version': '1',\n",
       "  'references': [],\n",
       "  'aliases': [],\n",
       "  'classification': 'tissue',\n",
       "  'dbxrefs': [],\n",
       "  'term_id': 'UBERON:0001388',\n",
       "  'term_name': 'gastrocnemius',\n",
       "  '@id': '/biosample-types/tissue_UBERON_0001388/',\n",
       "  '@type': ['BiosampleType', 'Item'],\n",
       "  'uuid': 'c7ac3b8e-e00c-404a-92fe-51a67a6fbaf0',\n",
       "  'name': 'tissue_UBERON_0001388',\n",
       "  'organ_slims': ['limb', 'musculature of body'],\n",
       "  'cell_slims': [],\n",
       "  'developmental_slims': [],\n",
       "  'system_slims': ['musculature'],\n",
       "  'synonyms': ['m. gastrocnemius', 'gastrocnemius muscle', 'm.gastrocnemius']},\n",
       " 'genetic_modifications': [],\n",
       " 'alternate_accessions': [],\n",
       " 'description': 'gastrocnemius_B6Cast F1 PND 18-20 months_Male 03_ENC4_cDNA489',\n",
       " 'treatments': [],\n",
       " 'dbxrefs': ['GEO:SAMN22818985'],\n",
       " 'donor': {'date_created': '2014-11-06T22:33:42.205215+00:00',\n",
       "  'documents': [],\n",
       "  'schema_version': '11',\n",
       "  'external_ids': [],\n",
       "  'alternate_accessions': [],\n",
       "  'parent_strains': ['/mouse-donors/ENCDO072AAA/',\n",
       "   '/mouse-donors/ENCDO883SSK/'],\n",
       "  'references': [],\n",
       "  'award': '/awards/U54HG006998/',\n",
       "  'strain_name': 'B6CASTF1/J',\n",
       "  'organism': {'schema_version': '6',\n",
       "   'scientific_name': 'Mus musculus',\n",
       "   'name': 'mouse',\n",
       "   'status': 'released',\n",
       "   'taxon_id': '10090',\n",
       "   '@id': '/organisms/mouse/',\n",
       "   '@type': ['Organism', 'Item'],\n",
       "   'uuid': '3413218c-3d86-498b-a0a2-9a406638e786'},\n",
       "  'strain_background': 'C57BL/6JxCAST/EiJ',\n",
       "  'genetic_modifications': [],\n",
       "  'accession': 'ENCDO509HIY',\n",
       "  'aliases': ['encode:Castaneus'],\n",
       "  'status': 'released',\n",
       "  'dbxrefs': ['GEO:SAMN04284203'],\n",
       "  'submitted_by': '/users/81a6cc12-2847-4e2e-8f2c-f566699eb29e/',\n",
       "  'lab': '/labs/barbara-wold/',\n",
       "  '@id': '/mouse-donors/ENCDO509HIY/',\n",
       "  '@type': ['MouseDonor', 'Donor', 'Item'],\n",
       "  'uuid': '47bdaec5-848d-449e-9c60-33192f025f25',\n",
       "  'characterizations': []},\n",
       " 'organism': {'schema_version': '6',\n",
       "  'scientific_name': 'Mus musculus',\n",
       "  'name': 'mouse',\n",
       "  'status': 'released',\n",
       "  'taxon_id': '10090',\n",
       "  '@id': '/organisms/mouse/',\n",
       "  '@type': ['Organism', 'Item'],\n",
       "  'uuid': '3413218c-3d86-498b-a0a2-9a406638e786'},\n",
       " 'internal_tags': [],\n",
       " 'model_organism_sex': 'male',\n",
       " '@id': '/biosamples/ENCBS752ONG/',\n",
       " '@type': ['Biosample', 'Item'],\n",
       " 'uuid': 'c575dafd-0cd9-41ca-998c-d69449085733',\n",
       " 'sex': 'male',\n",
       " 'age': 'unknown',\n",
       " 'life_stage': 'unknown',\n",
       " 'model_organism_donor_modifications': [],\n",
       " 'applied_modifications': [],\n",
       " 'characterizations': [],\n",
       " 'parent_of': [],\n",
       " 'perturbed': False,\n",
       " 'simple_summary': 'male strain B6CASTF1/J C57BL/6JxCAST/EiJ',\n",
       " 'summary': 'Mus musculus strain B6CASTF1/J male gastrocnemius tissue'}"
      ]
     },
     "execution_count": 19,
     "metadata": {},
     "output_type": "execute_result"
    }
   ],
   "source": [
    "experiment[\"replicates\"][0][\"library\"][\"biosample\"]"
   ]
  },
  {
   "cell_type": "code",
   "execution_count": 34,
   "id": "ed611717",
   "metadata": {},
   "outputs": [
    {
     "data": {
      "text/html": [
       "<div>\n",
       "<style scoped>\n",
       "    .dataframe tbody tr th:only-of-type {\n",
       "        vertical-align: middle;\n",
       "    }\n",
       "\n",
       "    .dataframe tbody tr th {\n",
       "        vertical-align: top;\n",
       "    }\n",
       "\n",
       "    .dataframe thead th {\n",
       "        text-align: right;\n",
       "    }\n",
       "</style>\n",
       "<table border=\"1\" class=\"dataframe\">\n",
       "  <thead>\n",
       "    <tr style=\"text-align: right;\">\n",
       "      <th></th>\n",
       "      <th>age</th>\n",
       "      <th>description</th>\n",
       "    </tr>\n",
       "    <tr>\n",
       "      <th>biosample</th>\n",
       "      <th></th>\n",
       "      <th></th>\n",
       "    </tr>\n",
       "  </thead>\n",
       "  <tbody>\n",
       "    <tr>\n",
       "      <th>ENCBS216EDC</th>\n",
       "      <td>None</td>\n",
       "      <td>gastrocnemius_B6Cast F1 PND 18-20 months_Femal...</td>\n",
       "    </tr>\n",
       "    <tr>\n",
       "      <th>ENCBS752ONG</th>\n",
       "      <td>None</td>\n",
       "      <td>gastrocnemius_B6Cast F1 PND 18-20 months_Male ...</td>\n",
       "    </tr>\n",
       "    <tr>\n",
       "      <th>ENCBS861KNF</th>\n",
       "      <td>None</td>\n",
       "      <td>gastrocnemius_B6Cast F1 PND 18-20 months_Male ...</td>\n",
       "    </tr>\n",
       "    <tr>\n",
       "      <th>ENCBS655BBB</th>\n",
       "      <td>None</td>\n",
       "      <td>gastrocnemius_B6Cast F1 PND 18-20 months_Femal...</td>\n",
       "    </tr>\n",
       "  </tbody>\n",
       "</table>\n",
       "</div>"
      ],
      "text/plain": [
       "              age                                        description\n",
       "biosample                                                           \n",
       "ENCBS216EDC  None  gastrocnemius_B6Cast F1 PND 18-20 months_Femal...\n",
       "ENCBS752ONG  None  gastrocnemius_B6Cast F1 PND 18-20 months_Male ...\n",
       "ENCBS861KNF  None  gastrocnemius_B6Cast F1 PND 18-20 months_Male ...\n",
       "ENCBS655BBB  None  gastrocnemius_B6Cast F1 PND 18-20 months_Femal..."
      ]
     },
     "execution_count": 34,
     "metadata": {},
     "output_type": "execute_result"
    }
   ],
   "source": [
    "rows = set()\n",
    "for fastq_accession in fastqs:\n",
    "    fastq = server.get_json(fastq_accession)\n",
    "    experiment = server.get_json(fastq['dataset'])\n",
    "    for replicate in experiment[\"replicates\"]:\n",
    "        library = replicate[\"library\"]\n",
    "        biosample = library[\"biosample\"]\n",
    "        #library[\"accession\"]\n",
    "        rows.add((biosample[\"accession\"], biosample.get(\"model_organism_age\"), biosample[\"description\"]))\n",
    "\n",
    "df = pandas.DataFrame(rows, columns=[\"biosample\", \"age\", \"description\"])\n",
    "df.set_index(\"biosample\")"
   ]
  },
  {
   "cell_type": "code",
   "execution_count": 33,
   "id": "f8d17c90",
   "metadata": {},
   "outputs": [
    {
     "ename": "AttributeError",
     "evalue": "'DataFrame' object has no attribute 'unique'",
     "output_type": "error",
     "traceback": [
      "\u001b[0;31m---------------------------------------------------------------------------\u001b[0m",
      "\u001b[0;31mAttributeError\u001b[0m                            Traceback (most recent call last)",
      "\u001b[0;32m/tmp/ipykernel_394906/3197898640.py\u001b[0m in \u001b[0;36m<module>\u001b[0;34m\u001b[0m\n\u001b[0;32m----> 1\u001b[0;31m \u001b[0mdf\u001b[0m\u001b[0;34m.\u001b[0m\u001b[0mset_index\u001b[0m\u001b[0;34m(\u001b[0m\u001b[0;34m\"biosample\"\u001b[0m\u001b[0;34m)\u001b[0m\u001b[0;34m.\u001b[0m\u001b[0msort_index\u001b[0m\u001b[0;34m(\u001b[0m\u001b[0;34m)\u001b[0m\u001b[0;34m.\u001b[0m\u001b[0munique\u001b[0m\u001b[0;34m(\u001b[0m\u001b[0;34m)\u001b[0m\u001b[0;34m\u001b[0m\u001b[0;34m\u001b[0m\u001b[0m\n\u001b[0m",
      "\u001b[0;32m/usr/lib/python3/dist-packages/pandas/core/generic.py\u001b[0m in \u001b[0;36m__getattr__\u001b[0;34m(self, name)\u001b[0m\n\u001b[1;32m   5485\u001b[0m         ):\n\u001b[1;32m   5486\u001b[0m             \u001b[0;32mreturn\u001b[0m \u001b[0mself\u001b[0m\u001b[0;34m[\u001b[0m\u001b[0mname\u001b[0m\u001b[0;34m]\u001b[0m\u001b[0;34m\u001b[0m\u001b[0;34m\u001b[0m\u001b[0m\n\u001b[0;32m-> 5487\u001b[0;31m         \u001b[0;32mreturn\u001b[0m \u001b[0mobject\u001b[0m\u001b[0;34m.\u001b[0m\u001b[0m__getattribute__\u001b[0m\u001b[0;34m(\u001b[0m\u001b[0mself\u001b[0m\u001b[0;34m,\u001b[0m \u001b[0mname\u001b[0m\u001b[0;34m)\u001b[0m\u001b[0;34m\u001b[0m\u001b[0;34m\u001b[0m\u001b[0m\n\u001b[0m\u001b[1;32m   5488\u001b[0m \u001b[0;34m\u001b[0m\u001b[0m\n\u001b[1;32m   5489\u001b[0m     \u001b[0;32mdef\u001b[0m \u001b[0m__setattr__\u001b[0m\u001b[0;34m(\u001b[0m\u001b[0mself\u001b[0m\u001b[0;34m,\u001b[0m \u001b[0mname\u001b[0m\u001b[0;34m:\u001b[0m \u001b[0mstr\u001b[0m\u001b[0;34m,\u001b[0m \u001b[0mvalue\u001b[0m\u001b[0;34m)\u001b[0m \u001b[0;34m->\u001b[0m \u001b[0;32mNone\u001b[0m\u001b[0;34m:\u001b[0m\u001b[0;34m\u001b[0m\u001b[0;34m\u001b[0m\u001b[0m\n",
      "\u001b[0;31mAttributeError\u001b[0m: 'DataFrame' object has no attribute 'unique'"
     ]
    }
   ],
   "source": [
    "df.set_index(\"biosample\").sort_index().dis"
   ]
  },
  {
   "cell_type": "code",
   "execution_count": null,
   "id": "a8d6057f",
   "metadata": {},
   "outputs": [],
   "source": [
    "df"
   ]
  }
 ],
 "metadata": {
  "kernelspec": {
   "display_name": "Python 3 (ipykernel)",
   "language": "python",
   "name": "python3"
  },
  "language_info": {
   "codemirror_mode": {
    "name": "ipython",
    "version": 3
   },
   "file_extension": ".py",
   "mimetype": "text/x-python",
   "name": "python",
   "nbconvert_exporter": "python",
   "pygments_lexer": "ipython3",
   "version": "3.9.9"
  }
 },
 "nbformat": 4,
 "nbformat_minor": 5
}
