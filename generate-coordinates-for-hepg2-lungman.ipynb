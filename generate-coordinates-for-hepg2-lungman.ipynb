{
 "cells": [
  {
   "cell_type": "markdown",
   "id": "massive-visibility",
   "metadata": {},
   "source": [
    "# Introduction"
   ]
  },
  {
   "cell_type": "markdown",
   "id": "interested-sussex",
   "metadata": {},
   "source": [
    "Attached is a genes X count matrix for micro RNAs from HepG2.  \n",
    "\n",
    "I am trying to select a Browser shot example that has an expressed microRNA near a collection of other regulatory \n",
    "features that I have chosen from STARR-seq and TF-ChIP-seq data.  \n",
    "\n",
    "It would really help if I had the chromosome coordinates (in Browser address form) for all of these\n",
    "microRNAs.  Can you map chromosome coordinates from hg38 onto these ENSEMBLE IDs?\n"
   ]
  },
  {
   "cell_type": "code",
   "execution_count": 1,
   "id": "parliamentary-mills",
   "metadata": {},
   "outputs": [],
   "source": [
    "import pandas\n",
    "import numpy\n",
    "from pathlib import Path\n",
    "import os\n",
    "import sys"
   ]
  },
  {
   "cell_type": "code",
   "execution_count": 2,
   "id": "periodic-kennedy",
   "metadata": {},
   "outputs": [],
   "source": [
    "WRS = str(Path(\"~/proj/woldlab-rna-seq\").expanduser())\n",
    "if WRS not in sys.path:\n",
    "    sys.path.append(WRS)\n",
    "    \n",
    "from woldrnaseq.compute_read_distribution import read_tabix\n"
   ]
  },
  {
   "cell_type": "code",
   "execution_count": 3,
   "id": "above-terminology",
   "metadata": {},
   "outputs": [],
   "source": [
    "spreadsheet = \"HepG2_Ljungman_growth_microRNA_quantifications.xlsx\""
   ]
  },
  {
   "cell_type": "code",
   "execution_count": 4,
   "id": "mineral-story",
   "metadata": {},
   "outputs": [],
   "source": [
    "genome_dir = Path(\"~/proj/genome\").expanduser()\n",
    "gtf_name = genome_dir / \"GRCh38-V29-male\" / \"GRCh38-V29-male.h5\""
   ]
  },
  {
   "cell_type": "code",
   "execution_count": 5,
   "id": "recorded-adelaide",
   "metadata": {},
   "outputs": [
    {
     "data": {
      "text/plain": [
       "(58780, 7)"
      ]
     },
     "execution_count": 5,
     "metadata": {},
     "output_type": "execute_result"
    }
   ],
   "source": [
    "store = pandas.HDFStore(gtf_name)\n",
    "gtf_key = list(store.keys())[0]\n",
    "gtf = store.select(\n",
    "    gtf_key,\n",
    "    where='type=\"{}\"'.format(\"gene\"),\n",
    "    columns=[\"chromosome\", \"type\", \"start\", \"stop\", \"strand\", \"gene_id\"],\n",
    ")\n",
    "store.close()\n",
    "gtf[\"coordinate\"] = gtf.apply(lambda row: \"{}:{}-{}\".format(row[\"chromosome\"], row[\"start\"], row[\"stop\"]), axis=1)\n",
    "gtf.shape"
   ]
  },
  {
   "cell_type": "code",
   "execution_count": 6,
   "id": "opponent-spotlight",
   "metadata": {},
   "outputs": [
    {
     "data": {
      "text/html": [
       "<div>\n",
       "<style scoped>\n",
       "    .dataframe tbody tr th:only-of-type {\n",
       "        vertical-align: middle;\n",
       "    }\n",
       "\n",
       "    .dataframe tbody tr th {\n",
       "        vertical-align: top;\n",
       "    }\n",
       "\n",
       "    .dataframe thead th {\n",
       "        text-align: right;\n",
       "    }\n",
       "</style>\n",
       "<table border=\"1\" class=\"dataframe\">\n",
       "  <thead>\n",
       "    <tr style=\"text-align: right;\">\n",
       "      <th></th>\n",
       "      <th>chromosome</th>\n",
       "      <th>type</th>\n",
       "      <th>start</th>\n",
       "      <th>stop</th>\n",
       "      <th>strand</th>\n",
       "      <th>gene_id</th>\n",
       "      <th>coordinate</th>\n",
       "    </tr>\n",
       "  </thead>\n",
       "  <tbody>\n",
       "    <tr>\n",
       "      <th>0</th>\n",
       "      <td>chr1</td>\n",
       "      <td>gene</td>\n",
       "      <td>11869</td>\n",
       "      <td>14409</td>\n",
       "      <td>1</td>\n",
       "      <td>ENSG00000223972.5</td>\n",
       "      <td>chr1:11869-14409</td>\n",
       "    </tr>\n",
       "    <tr>\n",
       "      <th>12</th>\n",
       "      <td>chr1</td>\n",
       "      <td>gene</td>\n",
       "      <td>14404</td>\n",
       "      <td>29570</td>\n",
       "      <td>-1</td>\n",
       "      <td>ENSG00000227232.5</td>\n",
       "      <td>chr1:14404-29570</td>\n",
       "    </tr>\n",
       "    <tr>\n",
       "      <th>25</th>\n",
       "      <td>chr1</td>\n",
       "      <td>gene</td>\n",
       "      <td>17369</td>\n",
       "      <td>17436</td>\n",
       "      <td>-1</td>\n",
       "      <td>ENSG00000278267.1</td>\n",
       "      <td>chr1:17369-17436</td>\n",
       "    </tr>\n",
       "    <tr>\n",
       "      <th>28</th>\n",
       "      <td>chr1</td>\n",
       "      <td>gene</td>\n",
       "      <td>29554</td>\n",
       "      <td>31109</td>\n",
       "      <td>1</td>\n",
       "      <td>ENSG00000243485.5</td>\n",
       "      <td>chr1:29554-31109</td>\n",
       "    </tr>\n",
       "    <tr>\n",
       "      <th>36</th>\n",
       "      <td>chr1</td>\n",
       "      <td>gene</td>\n",
       "      <td>30366</td>\n",
       "      <td>30503</td>\n",
       "      <td>1</td>\n",
       "      <td>ENSG00000284332.1</td>\n",
       "      <td>chr1:30366-30503</td>\n",
       "    </tr>\n",
       "  </tbody>\n",
       "</table>\n",
       "</div>"
      ],
      "text/plain": [
       "   chromosome  type  start   stop  strand            gene_id        coordinate\n",
       "0        chr1  gene  11869  14409       1  ENSG00000223972.5  chr1:11869-14409\n",
       "12       chr1  gene  14404  29570      -1  ENSG00000227232.5  chr1:14404-29570\n",
       "25       chr1  gene  17369  17436      -1  ENSG00000278267.1  chr1:17369-17436\n",
       "28       chr1  gene  29554  31109       1  ENSG00000243485.5  chr1:29554-31109\n",
       "36       chr1  gene  30366  30503       1  ENSG00000284332.1  chr1:30366-30503"
      ]
     },
     "execution_count": 6,
     "metadata": {},
     "output_type": "execute_result"
    }
   ],
   "source": [
    "gtf.head()"
   ]
  },
  {
   "cell_type": "code",
   "execution_count": 7,
   "id": "responsible-figure",
   "metadata": {},
   "outputs": [
    {
     "data": {
      "text/plain": [
       "(1880, 4)"
      ]
     },
     "execution_count": 7,
     "metadata": {},
     "output_type": "execute_result"
    }
   ],
   "source": [
    "counts = pandas.read_excel(spreadsheet, skiprows=4, names=[\"gene_id\", \"U\", \"+\", \"-\"])\n",
    "counts.shape"
   ]
  },
  {
   "cell_type": "code",
   "execution_count": 8,
   "id": "constant-russian",
   "metadata": {},
   "outputs": [
    {
     "data": {
      "text/html": [
       "<div>\n",
       "<style scoped>\n",
       "    .dataframe tbody tr th:only-of-type {\n",
       "        vertical-align: middle;\n",
       "    }\n",
       "\n",
       "    .dataframe tbody tr th {\n",
       "        vertical-align: top;\n",
       "    }\n",
       "\n",
       "    .dataframe thead th {\n",
       "        text-align: right;\n",
       "    }\n",
       "</style>\n",
       "<table border=\"1\" class=\"dataframe\">\n",
       "  <thead>\n",
       "    <tr style=\"text-align: right;\">\n",
       "      <th></th>\n",
       "      <th>gene_id</th>\n",
       "      <th>U</th>\n",
       "      <th>+</th>\n",
       "      <th>-</th>\n",
       "    </tr>\n",
       "  </thead>\n",
       "  <tbody>\n",
       "    <tr>\n",
       "      <th>0</th>\n",
       "      <td>ENSG00000284332.1</td>\n",
       "      <td>0</td>\n",
       "      <td>0</td>\n",
       "      <td>0</td>\n",
       "    </tr>\n",
       "    <tr>\n",
       "      <th>1</th>\n",
       "      <td>ENSG00000273874.1</td>\n",
       "      <td>0</td>\n",
       "      <td>0</td>\n",
       "      <td>0</td>\n",
       "    </tr>\n",
       "    <tr>\n",
       "      <th>2</th>\n",
       "      <td>ENSG00000278791.1</td>\n",
       "      <td>0</td>\n",
       "      <td>0</td>\n",
       "      <td>0</td>\n",
       "    </tr>\n",
       "    <tr>\n",
       "      <th>3</th>\n",
       "      <td>ENSG00000207730.3</td>\n",
       "      <td>29934</td>\n",
       "      <td>29934</td>\n",
       "      <td>0</td>\n",
       "    </tr>\n",
       "    <tr>\n",
       "      <th>4</th>\n",
       "      <td>ENSG00000207607.3</td>\n",
       "      <td>4996</td>\n",
       "      <td>4876</td>\n",
       "      <td>120</td>\n",
       "    </tr>\n",
       "  </tbody>\n",
       "</table>\n",
       "</div>"
      ],
      "text/plain": [
       "             gene_id      U      +    -\n",
       "0  ENSG00000284332.1      0      0    0\n",
       "1  ENSG00000273874.1      0      0    0\n",
       "2  ENSG00000278791.1      0      0    0\n",
       "3  ENSG00000207730.3  29934  29934    0\n",
       "4  ENSG00000207607.3   4996   4876  120"
      ]
     },
     "execution_count": 8,
     "metadata": {},
     "output_type": "execute_result"
    }
   ],
   "source": [
    "counts.head()"
   ]
  },
  {
   "cell_type": "code",
   "execution_count": 9,
   "id": "spectacular-italy",
   "metadata": {},
   "outputs": [
    {
     "name": "stdout",
     "output_type": "stream",
     "text": [
      "gene_ids in common 1880\n",
      "gene_ids different 56900\n"
     ]
    }
   ],
   "source": [
    "print(\"gene_ids in common\", len(set(counts['gene_id']).intersection(gtf[\"gene_id\"])))\n",
    "print(\"gene_ids different\", len(set(counts['gene_id']).symmetric_difference(gtf[\"gene_id\"])))"
   ]
  },
  {
   "cell_type": "code",
   "execution_count": 11,
   "id": "provincial-nancy",
   "metadata": {},
   "outputs": [],
   "source": [
    "merged = counts.merge(gtf[[\"gene_id\", \"coordinate\"]], left_on=\"gene_id\", right_on=\"gene_id\")"
   ]
  },
  {
   "cell_type": "code",
   "execution_count": 12,
   "id": "executed-assault",
   "metadata": {},
   "outputs": [],
   "source": [
    "merged.to_excel(\"HepG2_Ljungman_growth_microRNA_quantifications_coordinates.xlsx\", index=False)"
   ]
  },
  {
   "cell_type": "code",
   "execution_count": null,
   "id": "standing-postcard",
   "metadata": {},
   "outputs": [],
   "source": []
  }
 ],
 "metadata": {
  "kernelspec": {
   "display_name": "Python 3",
   "language": "python",
   "name": "python3"
  },
  "language_info": {
   "codemirror_mode": {
    "name": "ipython",
    "version": 3
   },
   "file_extension": ".py",
   "mimetype": "text/x-python",
   "name": "python",
   "nbconvert_exporter": "python",
   "pygments_lexer": "ipython3",
   "version": "3.9.1+"
  }
 },
 "nbformat": 4,
 "nbformat_minor": 5
}
