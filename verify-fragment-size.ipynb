{
 "cells": [
  {
   "cell_type": "code",
   "execution_count": 2,
   "id": "reduced-serbia",
   "metadata": {},
   "outputs": [],
   "source": [
    "import os\n",
    "import sys\n",
    "import requests\n",
    "import pandas\n",
    "import paramiko\n",
    "import json\n",
    "from IPython import display\n",
    "from pathlib import Path\n",
    "import configparser"
   ]
  },
  {
   "cell_type": "code",
   "execution_count": 3,
   "id": "random-recording",
   "metadata": {},
   "outputs": [],
   "source": [
    "from curation_common import *\n",
    "from htsworkflow.submission.encoded import DCCValidator"
   ]
  },
  {
   "cell_type": "code",
   "execution_count": 4,
   "id": "conditional-catch",
   "metadata": {},
   "outputs": [],
   "source": [
    "from htsworkflow.submission.encoded import Document\n",
    "from htsworkflow.submission.aws_submission import run_aws_cp\n",
    "from htsworkflow.util.api import (\n",
    "    add_auth_options,\n",
    "    make_auth_from_opts,\n",
    "    HtswApi,\n",
    ")"
   ]
  },
  {
   "cell_type": "code",
   "execution_count": 5,
   "id": "paperback-flash",
   "metadata": {},
   "outputs": [],
   "source": [
    "config = configparser.ConfigParser()\n",
    "config.read([os.path.expanduser('~/.htsworkflow.ini'),\n",
    "             '/etc/htsworkflow.ini'\n",
    "             ])\n",
    "\n",
    "SECTION = 'sequence_archive'\n",
    "if config.has_section(SECTION):\n",
    "    apiid = config.get(SECTION, 'apiid')\n",
    "    apikey = config.get(SECTION, 'apikey')\n",
    "    apihost = config.get(SECTION, 'host')\n",
    "\n",
    "apihost='http://jumpgate.caltech.edu'    \n",
    "auth = {'apiid': apiid, 'apikey': apikey }\n",
    "htsw = HtswApi(apihost, auth)"
   ]
  },
  {
   "cell_type": "code",
   "execution_count": 6,
   "id": "tight-compression",
   "metadata": {},
   "outputs": [],
   "source": [
    "# live server & control file\n",
    "server = ENCODED('www.encodeproject.org')\n",
    "server.load_netrc()"
   ]
  },
  {
   "cell_type": "code",
   "execution_count": 8,
   "id": "cathedral-johnson",
   "metadata": {},
   "outputs": [
    {
     "data": {
      "text/plain": [
       "'/home/diane/proj/encode4-curation'"
      ]
     },
     "execution_count": 8,
     "metadata": {},
     "output_type": "execute_result"
    }
   ],
   "source": []
  },
  {
   "cell_type": "code",
   "execution_count": null,
   "id": "australian-baptist",
   "metadata": {},
   "outputs": [],
   "source": []
  },
  {
   "cell_type": "code",
   "execution_count": 7,
   "id": "declared-inquiry",
   "metadata": {},
   "outputs": [
    {
     "name": "stderr",
     "output_type": "stream",
     "text": [
      "Error http status: 400 for https://www.encodeproject.org/search/?type=Experiments&lab.title=Barbara+Wold%2C+Caltech&award.rfa=ENCODE4\n"
     ]
    },
    {
     "ename": "HTTPError",
     "evalue": "400 Client Error: Bad Request for url: https://www.encodeproject.org/search/?type=Experiments&lab.title=Barbara+Wold%2C+Caltech&award.rfa=ENCODE4&limit=all",
     "output_type": "error",
     "traceback": [
      "\u001b[0;31m---------------------------------------------------------------------------\u001b[0m",
      "\u001b[0;31mHTTPError\u001b[0m                                 Traceback (most recent call last)",
      "\u001b[0;32m<ipython-input-7-9001701809f2>\u001b[0m in \u001b[0;36m<module>\u001b[0;34m\u001b[0m\n\u001b[1;32m      1\u001b[0m \u001b[0;31m#graph = server.get_json('https://www.encodeproject.org/search/?type=Experiment&@id=%2Fexperiments%2FENCSR479MNN%2F&@id=%2Fexperiments%2FENCSR288RRZ%2F&@id=%2Fexperiments%2FENCSR899OKE%2F&@id=%2Fexperiments%2FENCSR464VSR%2F&@id=%2Fexperiments%2FENCSR774MGO%2F&@id=%2Fexperiments%2FENCSR129VBC%2F&@id=%2Fexperiments%2FENCSR420YFF%2F&@id=%2Fexperiments%2FENCSR942YMN%2F&@id=%2Fexperiments%2FENCSR648YUM%2F&@id=%2Fexperiments%2FENCSR903XMI%2F&@id=%2Fexperiments%2FENCSR244HHV%2F&@id=%2Fexperiments%2FENCSR168PXI%2F&@id=%2Fexperiments%2FENCSR308XAR%2F&@id=%2Fexperiments%2FENCSR484WZL%2F&@id=%2Fexperiments%2FENCSR450EXF%2F')\u001b[0m\u001b[0;34m\u001b[0m\u001b[0;34m\u001b[0m\u001b[0;34m\u001b[0m\u001b[0m\n\u001b[0;32m----> 2\u001b[0;31m \u001b[0mgraph\u001b[0m \u001b[0;34m=\u001b[0m \u001b[0mserver\u001b[0m\u001b[0;34m.\u001b[0m\u001b[0mget_json\u001b[0m\u001b[0;34m(\u001b[0m\u001b[0;34m\"/search/?type=Experiments&lab.title=Barbara+Wold%2C+Caltech&award.rfa=ENCODE4\"\u001b[0m\u001b[0;34m)\u001b[0m\u001b[0;34m\u001b[0m\u001b[0;34m\u001b[0m\u001b[0m\n\u001b[0m",
      "\u001b[0;32m~/proj/htsworkflow/htsworkflow/submission/encoded.py\u001b[0m in \u001b[0;36mget_json\u001b[0;34m(self, obj_id, **kwargs)\u001b[0m\n\u001b[1;32m    230\u001b[0m             \u001b[0mkwargs\u001b[0m\u001b[0;34m[\u001b[0m\u001b[0;34m'limit'\u001b[0m\u001b[0;34m]\u001b[0m \u001b[0;34m=\u001b[0m \u001b[0;34m'all'\u001b[0m\u001b[0;34m\u001b[0m\u001b[0;34m\u001b[0m\u001b[0m\n\u001b[1;32m    231\u001b[0m \u001b[0;34m\u001b[0m\u001b[0m\n\u001b[0;32m--> 232\u001b[0;31m         \u001b[0mresponse\u001b[0m \u001b[0;34m=\u001b[0m \u001b[0mself\u001b[0m\u001b[0;34m.\u001b[0m\u001b[0mget_response\u001b[0m\u001b[0;34m(\u001b[0m\u001b[0mobj_id\u001b[0m\u001b[0;34m,\u001b[0m \u001b[0;34m**\u001b[0m\u001b[0mkwargs\u001b[0m\u001b[0;34m)\u001b[0m\u001b[0;34m\u001b[0m\u001b[0;34m\u001b[0m\u001b[0m\n\u001b[0m\u001b[1;32m    233\u001b[0m         \u001b[0mdata\u001b[0m \u001b[0;34m=\u001b[0m \u001b[0mresponse\u001b[0m\u001b[0;34m.\u001b[0m\u001b[0mjson\u001b[0m\u001b[0;34m(\u001b[0m\u001b[0;34m)\u001b[0m\u001b[0;34m\u001b[0m\u001b[0;34m\u001b[0m\u001b[0m\n\u001b[1;32m    234\u001b[0m         \u001b[0mresponse\u001b[0m\u001b[0;34m.\u001b[0m\u001b[0mclose\u001b[0m\u001b[0;34m(\u001b[0m\u001b[0;34m)\u001b[0m\u001b[0;34m\u001b[0m\u001b[0;34m\u001b[0m\u001b[0m\n",
      "\u001b[0;32m~/proj/htsworkflow/htsworkflow/submission/encoded.py\u001b[0m in \u001b[0;36mget_response\u001b[0;34m(self, fragment, **kwargs)\u001b[0m\n\u001b[1;32m    286\u001b[0m         \u001b[0;32mif\u001b[0m \u001b[0;32mnot\u001b[0m \u001b[0mresponse\u001b[0m\u001b[0;34m.\u001b[0m\u001b[0mstatus_code\u001b[0m \u001b[0;34m==\u001b[0m \u001b[0mrequests\u001b[0m\u001b[0;34m.\u001b[0m\u001b[0mcodes\u001b[0m\u001b[0;34m.\u001b[0m\u001b[0mok\u001b[0m\u001b[0;34m:\u001b[0m\u001b[0;34m\u001b[0m\u001b[0;34m\u001b[0m\u001b[0m\n\u001b[1;32m    287\u001b[0m             \u001b[0mLOGGER\u001b[0m\u001b[0;34m.\u001b[0m\u001b[0mwarning\u001b[0m\u001b[0;34m(\u001b[0m\u001b[0;34m\"Error http status: {} for {}\"\u001b[0m\u001b[0;34m.\u001b[0m\u001b[0mformat\u001b[0m\u001b[0;34m(\u001b[0m\u001b[0mresponse\u001b[0m\u001b[0;34m.\u001b[0m\u001b[0mstatus_code\u001b[0m\u001b[0;34m,\u001b[0m \u001b[0murl\u001b[0m\u001b[0;34m)\u001b[0m\u001b[0;34m)\u001b[0m\u001b[0;34m\u001b[0m\u001b[0;34m\u001b[0m\u001b[0m\n\u001b[0;32m--> 288\u001b[0;31m             \u001b[0mresponse\u001b[0m\u001b[0;34m.\u001b[0m\u001b[0mraise_for_status\u001b[0m\u001b[0;34m(\u001b[0m\u001b[0;34m)\u001b[0m\u001b[0;34m\u001b[0m\u001b[0;34m\u001b[0m\u001b[0m\n\u001b[0m\u001b[1;32m    289\u001b[0m \u001b[0;34m\u001b[0m\u001b[0m\n\u001b[1;32m    290\u001b[0m         \u001b[0;32mreturn\u001b[0m \u001b[0mresponse\u001b[0m\u001b[0;34m\u001b[0m\u001b[0;34m\u001b[0m\u001b[0m\n",
      "\u001b[0;32m/usr/lib/python3/dist-packages/requests/models.py\u001b[0m in \u001b[0;36mraise_for_status\u001b[0;34m(self)\u001b[0m\n\u001b[1;32m    941\u001b[0m \u001b[0;34m\u001b[0m\u001b[0m\n\u001b[1;32m    942\u001b[0m         \u001b[0;32mif\u001b[0m \u001b[0mhttp_error_msg\u001b[0m\u001b[0;34m:\u001b[0m\u001b[0;34m\u001b[0m\u001b[0;34m\u001b[0m\u001b[0m\n\u001b[0;32m--> 943\u001b[0;31m             \u001b[0;32mraise\u001b[0m \u001b[0mHTTPError\u001b[0m\u001b[0;34m(\u001b[0m\u001b[0mhttp_error_msg\u001b[0m\u001b[0;34m,\u001b[0m \u001b[0mresponse\u001b[0m\u001b[0;34m=\u001b[0m\u001b[0mself\u001b[0m\u001b[0;34m)\u001b[0m\u001b[0;34m\u001b[0m\u001b[0;34m\u001b[0m\u001b[0m\n\u001b[0m\u001b[1;32m    944\u001b[0m \u001b[0;34m\u001b[0m\u001b[0m\n\u001b[1;32m    945\u001b[0m     \u001b[0;32mdef\u001b[0m \u001b[0mclose\u001b[0m\u001b[0;34m(\u001b[0m\u001b[0mself\u001b[0m\u001b[0;34m)\u001b[0m\u001b[0;34m:\u001b[0m\u001b[0;34m\u001b[0m\u001b[0;34m\u001b[0m\u001b[0m\n",
      "\u001b[0;31mHTTPError\u001b[0m: 400 Client Error: Bad Request for url: https://www.encodeproject.org/search/?type=Experiments&lab.title=Barbara+Wold%2C+Caltech&award.rfa=ENCODE4&limit=all"
     ]
    }
   ],
   "source": [
    "graph = server.get_json('https://www.encodeproject.org/search/?type=Experiment&@id=%2Fexperiments%2FENCSR479MNN%2F&@id=%2Fexperiments%2FENCSR288RRZ%2F&@id=%2Fexperiments%2FENCSR899OKE%2F&@id=%2Fexperiments%2FENCSR464VSR%2F&@id=%2Fexperiments%2FENCSR774MGO%2F&@id=%2Fexperiments%2FENCSR129VBC%2F&@id=%2Fexperiments%2FENCSR420YFF%2F&@id=%2Fexperiments%2FENCSR942YMN%2F&@id=%2Fexperiments%2FENCSR648YUM%2F&@id=%2Fexperiments%2FENCSR903XMI%2F&@id=%2Fexperiments%2FENCSR244HHV%2F&@id=%2Fexperiments%2FENCSR168PXI%2F&@id=%2Fexperiments%2FENCSR308XAR%2F&@id=%2Fexperiments%2FENCSR484WZL%2F&@id=%2Fexperiments%2FENCSR450EXF%2F')"
   ]
  },
  {
   "cell_type": "code",
   "execution_count": 19,
   "id": "unable-elimination",
   "metadata": {},
   "outputs": [
    {
     "name": "stdout",
     "output_type": "stream",
     "text": [
      "/libraries/ENCLB492DNB/ 22576 265 265\n",
      "/libraries/ENCLB641ESO/ 22578 259 259\n",
      "/libraries/ENCLB706JRN/ 22577 260 260\n",
      "/libraries/ENCLB952BRY/ 22569 250 250\n",
      "/libraries/ENCLB404DIP/ 22574 256 256\n",
      "/libraries/ENCLB693TEO/ 22575 267 267\n",
      "/libraries/ENCLB445WKP/ 22570 246 246\n",
      "/libraries/ENCLB081RMC/ 22568 255 255\n",
      "/libraries/ENCLB603CZI/ 22565 250 250\n",
      "/libraries/ENCLB979UQX/ 22567 254 254\n",
      "/libraries/ENCLB462YMC/ 22573 269 269\n",
      "/libraries/ENCLB542TEM/ 22563 251 251\n",
      "/libraries/ENCLB784DQM/ 22566 255 255\n",
      "/libraries/ENCLB758ADE/ 22572 255 255\n",
      "/libraries/ENCLB480EGW/ SL428074_E3 244 unknown\n",
      "/libraries/ENCLB045XLK/ SL428072_E1 242 unknown\n",
      "/libraries/ENCLB872CWU/ SL428073_E2 242 unknown\n",
      "/libraries/ENCLB396RKH/ 22564 246 246\n",
      "/libraries/ENCLB076XKH/ 22581 243 243\n",
      "/libraries/ENCLB657TWS/ 22580 246 246\n",
      "/libraries/ENCLB556TQU/ 22579 247 247\n",
      "/libraries/ENCLB136WOV/ 22571 264 264\n"
     ]
    }
   ],
   "source": [
    "for row in graph['@graph']:\n",
    "    for replicate_sparse in row['replicates']:\n",
    "        replicate = server.get_json(replicate_sparse['@id'])\n",
    "        library_id = replicate['library']['@id']\n",
    "        fragment_size = replicate['library'].get('average_fragment_size')\n",
    "        jumpgate_id = replicate['library']['aliases'][0].split(':')[1]\n",
    "        if not jumpgate_id.startswith('SL'):\n",
    "            jumpgate_info = htsw.get_library(jumpgate_id)\n",
    "        else:\n",
    "            jumpgate_info = {'insert_size': 'unknown'}\n",
    "        print(library_id, jumpgate_id, fragment_size, jumpgate_info['insert_size'])"
   ]
  },
  {
   "cell_type": "code",
   "execution_count": 18,
   "id": "viral-combination",
   "metadata": {},
   "outputs": [
    {
     "data": {
      "text/plain": [
       "'SL428074_E3'"
      ]
     },
     "execution_count": 18,
     "metadata": {},
     "output_type": "execute_result"
    }
   ],
   "source": [
    "jumpgate_id"
   ]
  },
  {
   "cell_type": "code",
   "execution_count": null,
   "id": "romance-assault",
   "metadata": {},
   "outputs": [],
   "source": []
  }
 ],
 "metadata": {
  "kernelspec": {
   "display_name": "Python 3",
   "language": "python",
   "name": "python3"
  },
  "language_info": {
   "codemirror_mode": {
    "name": "ipython",
    "version": 3
   },
   "file_extension": ".py",
   "mimetype": "text/x-python",
   "name": "python",
   "nbconvert_exporter": "python",
   "pygments_lexer": "ipython3",
   "version": "3.9.2"
  }
 },
 "nbformat": 4,
 "nbformat_minor": 5
}
