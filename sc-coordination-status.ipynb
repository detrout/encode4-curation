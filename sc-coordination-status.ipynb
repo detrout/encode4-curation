{
 "cells": [
  {
   "cell_type": "markdown",
   "metadata": {},
   "source": [
    "Submitting various things for end of grant."
   ]
  },
  {
   "cell_type": "code",
   "execution_count": 1,
   "metadata": {},
   "outputs": [],
   "source": [
    "import numpy\n",
    "import pandas\n",
    "import sys\n"
   ]
  },
  {
   "cell_type": "markdown",
   "metadata": {},
   "source": [
    "Install my ENCODE DCC support library. It will either look for authentication tokens in the environment variables DCC_API_KEY and DCC_SECRET_KEY or in an entry in a .netrc file with the line\n",
    "\n",
    "machine www.encodeproject.org login DCC_API_KEY password DCC_SECRET_KEY, or just set `server.auth = (DCC_API_KEY, DCC_SECRET_KEY)` after creating the object."
   ]
  },
  {
   "cell_type": "code",
   "execution_count": 2,
   "metadata": {},
   "outputs": [
    {
     "name": "stdout",
     "output_type": "stream",
     "text": [
      "Requirement already satisfied: encoded_client in /home/diane/proj/encoded_client (0.1.1.dev16+gd869c38)\r\n",
      "Requirement already satisfied: awscli in /usr/lib/python3/dist-packages (from encoded_client) (1.24.8)\r\n",
      "Requirement already satisfied: jsonschema in /usr/lib/python3/dist-packages (from encoded_client) (3.2.0)\r\n",
      "Requirement already satisfied: pandas in /usr/lib/python3/dist-packages (from encoded_client) (1.3.5)\r\n",
      "Requirement already satisfied: requests in /usr/lib/python3/dist-packages (from encoded_client) (2.27.1)\r\n"
     ]
    }
   ],
   "source": [
    "!$sys.executable -m pip install --user encoded_client"
   ]
  },
  {
   "cell_type": "code",
   "execution_count": 3,
   "metadata": {},
   "outputs": [],
   "source": [
    "from encoded_client.encoded import ENCODED"
   ]
  },
  {
   "cell_type": "code",
   "execution_count": 4,
   "metadata": {},
   "outputs": [],
   "source": [
    "# live server & control file\n",
    "\n",
    "server = ENCODED('www.encodeproject.org')\n",
    "spreadsheet_name = \"https://docs.google.com/spreadsheets/d/1sRCE-Cydci0xkg3fTpGJWdRgKEjVCvpX/export?format=xlsx\"\n"
   ]
  },
  {
   "cell_type": "code",
   "execution_count": 5,
   "metadata": {},
   "outputs": [
    {
     "name": "stdout",
     "output_type": "stream",
     "text": [
      "How many records are there total 478\n"
     ]
    }
   ],
   "source": [
    "datasets = pandas.read_excel(spreadsheet_name, sheet_name=\"datasets\")\n",
    "\n",
    "print(\"How many records are there total\", datasets.shape[0])"
   ]
  },
  {
   "cell_type": "code",
   "execution_count": 6,
   "metadata": {},
   "outputs": [
    {
     "name": "stdout",
     "output_type": "stream",
     "text": [
      "How many records lack an analyst 103\n"
     ]
    }
   ],
   "source": [
    "print(\"How many records lack an analyst\", datasets[pandas.isnull(datasets[\"primary analysist\"])].shape[0])"
   ]
  },
  {
   "cell_type": "markdown",
   "metadata": {},
   "source": [
    "While trying to understand this, lets see what files are available on a processed scATAC-seq file."
   ]
  },
  {
   "cell_type": "code",
   "execution_count": 7,
   "metadata": {},
   "outputs": [
    {
     "name": "stdout",
     "output_type": "stream",
     "text": [
      "ENCSR237BTV single-nucleus ATAC-seq ENCFF011AHT reads\n",
      "ENCSR237BTV single-nucleus ATAC-seq ENCFF321JCZ reads\n",
      "ENCSR237BTV single-nucleus ATAC-seq ENCFF102ITI reads\n",
      "ENCSR237BTV single-nucleus ATAC-seq ENCFF946ZML reads\n",
      "ENCSR237BTV single-nucleus ATAC-seq ENCFF180LFF reads\n",
      "ENCSR237BTV single-nucleus ATAC-seq ENCFF868YVX reads\n",
      "ENCSR237BTV single-nucleus ATAC-seq ENCFF763QQR reads\n",
      "ENCSR237BTV single-nucleus ATAC-seq ENCFF314WHS reads\n",
      "ENCSR237BTV single-nucleus ATAC-seq ENCFF978HAU index reads\n",
      "ENCSR237BTV single-nucleus ATAC-seq ENCFF326KKX index reads\n",
      "ENCSR237BTV single-nucleus ATAC-seq ENCFF923ONK index reads\n",
      "ENCSR237BTV single-nucleus ATAC-seq ENCFF428KHS index reads\n",
      "ENCSR237BTV single-nucleus ATAC-seq ENCFF449WUA filtered reads\n",
      "ENCSR237BTV single-nucleus ATAC-seq ENCFF381INN filtered reads\n",
      "ENCSR237BTV single-nucleus ATAC-seq ENCFF853WXT unfiltered alignments\n",
      "ENCSR237BTV single-nucleus ATAC-seq ENCFF163UJY alignments\n",
      "ENCSR237BTV single-nucleus ATAC-seq ENCFF231IRS fragments\n"
     ]
    }
   ],
   "source": [
    "experiment = server.get_json(\"ENCSR237BTV\")\n",
    "for f in experiment[\"files\"]:\n",
    "    print(experiment[\"accession\"], experiment[\"assay_term_name\"], f[\"accession\"], f[\"output_type\"])"
   ]
  },
  {
   "cell_type": "markdown",
   "metadata": {},
   "source": [
    "With that we can write a function to determine if a particular experiment has a file that indicates it was processed."
   ]
  },
  {
   "cell_type": "code",
   "execution_count": 8,
   "metadata": {},
   "outputs": [],
   "source": [
    "def is_processed(accession):\n",
    "    final_file = {\n",
    "        \"single-nucleus ATAC-seq\": \"fragments\",\n",
    "        \"single-cell RNA sequencing assay\": 'sparse gene count matrix of all reads',\n",
    "    }\n",
    "    seen_output_types = []\n",
    "    experiment = server.get_json(accession)\n",
    "    status = False\n",
    "    output_types = set()\n",
    "    for f in experiment[\"files\"]:\n",
    "        output_types.add(f[\"output_type\"])\n",
    "        \n",
    "    target_output_type = final_file.get(experiment[\"assay_term_name\"])\n",
    "    if target_output_type is None:\n",
    "        print(\"Unsupported assay type {}\".format(experiment[\"assay_term_name\"]))\n",
    "        print(\"Seen {}\".format(output_types))\n",
    "    elif target_output_type in output_types:\n",
    "        status = True\n",
    "        \n",
    "    return {\n",
    "        \"is_processed\": status,\n",
    "        \"status\": experiment[\"status\"],\n",
    "        \"assay_term_name\": experiment[\"assay_term_name\"],\n",
    "        \"default_analysis\": experiment[\"default_analysis\"],\n",
    "        \"biosample_summary\": experiment[\"biosample_summary\"],\n",
    "    }"
   ]
  },
  {
   "cell_type": "markdown",
   "metadata": {},
   "source": [
    "Query the ENCODE DCC portal to see if experiments lacking an analyst, have been processed."
   ]
  },
  {
   "cell_type": "code",
   "execution_count": 9,
   "metadata": {},
   "outputs": [
    {
     "data": {
      "text/html": [
       "<div>\n",
       "<style scoped>\n",
       "    .dataframe tbody tr th:only-of-type {\n",
       "        vertical-align: middle;\n",
       "    }\n",
       "\n",
       "    .dataframe tbody tr th {\n",
       "        vertical-align: top;\n",
       "    }\n",
       "\n",
       "    .dataframe thead th {\n",
       "        text-align: right;\n",
       "    }\n",
       "</style>\n",
       "<table border=\"1\" class=\"dataframe\">\n",
       "  <thead>\n",
       "    <tr style=\"text-align: right;\">\n",
       "      <th></th>\n",
       "      <th>is_processed</th>\n",
       "      <th>status</th>\n",
       "      <th>assay_term_name</th>\n",
       "      <th>default_analysis</th>\n",
       "      <th>biosample_summary</th>\n",
       "    </tr>\n",
       "  </thead>\n",
       "  <tbody>\n",
       "    <tr>\n",
       "      <th>ENCSR237BTV</th>\n",
       "      <td>True</td>\n",
       "      <td>released</td>\n",
       "      <td>single-nucleus ATAC-seq</td>\n",
       "      <td>/analyses/ENCAN277WEW/</td>\n",
       "      <td>Homo sapiens A549 nuclear fraction</td>\n",
       "    </tr>\n",
       "    <tr>\n",
       "      <th>ENCSR624OTN</th>\n",
       "      <td>True</td>\n",
       "      <td>released</td>\n",
       "      <td>single-nucleus ATAC-seq</td>\n",
       "      <td>/analyses/ENCAN615PWI/</td>\n",
       "      <td>Homo sapiens A549 nuclear fraction</td>\n",
       "    </tr>\n",
       "    <tr>\n",
       "      <th>ENCSR773HYY</th>\n",
       "      <td>True</td>\n",
       "      <td>released</td>\n",
       "      <td>single-nucleus ATAC-seq</td>\n",
       "      <td>/analyses/ENCAN738VCU/</td>\n",
       "      <td>Homo sapiens A673 nuclear fraction</td>\n",
       "    </tr>\n",
       "    <tr>\n",
       "      <th>ENCSR719QGN</th>\n",
       "      <td>True</td>\n",
       "      <td>released</td>\n",
       "      <td>single-nucleus ATAC-seq</td>\n",
       "      <td>/analyses/ENCAN692ASW/</td>\n",
       "      <td>Homo sapiens activated B cell nuclear fraction...</td>\n",
       "    </tr>\n",
       "    <tr>\n",
       "      <th>ENCSR675DJV</th>\n",
       "      <td>True</td>\n",
       "      <td>released</td>\n",
       "      <td>single-nucleus ATAC-seq</td>\n",
       "      <td>/analyses/ENCAN520KVN/</td>\n",
       "      <td>Homo sapiens activated naive CD4-positive, alp...</td>\n",
       "    </tr>\n",
       "  </tbody>\n",
       "</table>\n",
       "</div>"
      ],
      "text/plain": [
       "            is_processed    status          assay_term_name  \\\n",
       "ENCSR237BTV         True  released  single-nucleus ATAC-seq   \n",
       "ENCSR624OTN         True  released  single-nucleus ATAC-seq   \n",
       "ENCSR773HYY         True  released  single-nucleus ATAC-seq   \n",
       "ENCSR719QGN         True  released  single-nucleus ATAC-seq   \n",
       "ENCSR675DJV         True  released  single-nucleus ATAC-seq   \n",
       "\n",
       "                   default_analysis  \\\n",
       "ENCSR237BTV  /analyses/ENCAN277WEW/   \n",
       "ENCSR624OTN  /analyses/ENCAN615PWI/   \n",
       "ENCSR773HYY  /analyses/ENCAN738VCU/   \n",
       "ENCSR719QGN  /analyses/ENCAN692ASW/   \n",
       "ENCSR675DJV  /analyses/ENCAN520KVN/   \n",
       "\n",
       "                                             biosample_summary  \n",
       "ENCSR237BTV                 Homo sapiens A549 nuclear fraction  \n",
       "ENCSR624OTN                 Homo sapiens A549 nuclear fraction  \n",
       "ENCSR773HYY                 Homo sapiens A673 nuclear fraction  \n",
       "ENCSR719QGN  Homo sapiens activated B cell nuclear fraction...  \n",
       "ENCSR675DJV  Homo sapiens activated naive CD4-positive, alp...  "
      ]
     },
     "execution_count": 9,
     "metadata": {},
     "output_type": "execute_result"
    }
   ],
   "source": [
    "processed = {}\n",
    "for i, row in datasets[pandas.isnull(datasets[\"primary analysist\"])].iterrows():\n",
    "    processed[row[\" ID\"]] = is_processed(row[\" ID\"])\n",
    "    \n",
    "processed = pandas.DataFrame(processed).T\n",
    "processed.head()"
   ]
  },
  {
   "cell_type": "markdown",
   "metadata": {},
   "source": [
    "Report any experiment accessions that lack processed data."
   ]
  },
  {
   "cell_type": "code",
   "execution_count": 10,
   "metadata": {},
   "outputs": [
    {
     "data": {
      "text/html": [
       "<div>\n",
       "<style scoped>\n",
       "    .dataframe tbody tr th:only-of-type {\n",
       "        vertical-align: middle;\n",
       "    }\n",
       "\n",
       "    .dataframe tbody tr th {\n",
       "        vertical-align: top;\n",
       "    }\n",
       "\n",
       "    .dataframe thead th {\n",
       "        text-align: right;\n",
       "    }\n",
       "</style>\n",
       "<table border=\"1\" class=\"dataframe\">\n",
       "  <thead>\n",
       "    <tr style=\"text-align: right;\">\n",
       "      <th></th>\n",
       "      <th>is_processed</th>\n",
       "      <th>status</th>\n",
       "      <th>assay_term_name</th>\n",
       "      <th>default_analysis</th>\n",
       "      <th>biosample_summary</th>\n",
       "    </tr>\n",
       "  </thead>\n",
       "  <tbody>\n",
       "  </tbody>\n",
       "</table>\n",
       "</div>"
      ],
      "text/plain": [
       "Empty DataFrame\n",
       "Columns: [is_processed, status, assay_term_name, default_analysis, biosample_summary]\n",
       "Index: []"
      ]
     },
     "execution_count": 10,
     "metadata": {},
     "output_type": "execute_result"
    }
   ],
   "source": [
    "processed[processed[\"is_processed\"] == False]"
   ]
  },
  {
   "cell_type": "markdown",
   "metadata": {},
   "source": [
    "Double check that all queried experiments have processed data."
   ]
  },
  {
   "cell_type": "code",
   "execution_count": 11,
   "metadata": {},
   "outputs": [
    {
     "data": {
      "text/plain": [
       "True"
      ]
     },
     "execution_count": 11,
     "metadata": {},
     "output_type": "execute_result"
    }
   ],
   "source": [
    "numpy.all(processed[\"is_processed\"])"
   ]
  },
  {
   "cell_type": "code",
   "execution_count": 12,
   "metadata": {},
   "outputs": [
    {
     "data": {
      "text/html": [
       "<div>\n",
       "<style scoped>\n",
       "    .dataframe tbody tr th:only-of-type {\n",
       "        vertical-align: middle;\n",
       "    }\n",
       "\n",
       "    .dataframe tbody tr th {\n",
       "        vertical-align: top;\n",
       "    }\n",
       "\n",
       "    .dataframe thead th {\n",
       "        text-align: right;\n",
       "    }\n",
       "</style>\n",
       "<table border=\"1\" class=\"dataframe\">\n",
       "  <thead>\n",
       "    <tr style=\"text-align: right;\">\n",
       "      <th></th>\n",
       "      <th>is_processed</th>\n",
       "      <th>status</th>\n",
       "      <th>assay_term_name</th>\n",
       "      <th>default_analysis</th>\n",
       "      <th>biosample_summary</th>\n",
       "    </tr>\n",
       "  </thead>\n",
       "  <tbody>\n",
       "    <tr>\n",
       "      <th>ENCSR076QTT</th>\n",
       "      <td>True</td>\n",
       "      <td>in progress</td>\n",
       "      <td>single-nucleus ATAC-seq</td>\n",
       "      <td>/analyses/ENCAN399JOZ/</td>\n",
       "      <td>Homo sapiens HCT116 genetically modified (inse...</td>\n",
       "    </tr>\n",
       "    <tr>\n",
       "      <th>ENCSR840IWM</th>\n",
       "      <td>True</td>\n",
       "      <td>in progress</td>\n",
       "      <td>single-nucleus ATAC-seq</td>\n",
       "      <td>/analyses/ENCAN544EUT/</td>\n",
       "      <td>Homo sapiens HCT116 genetically modified (inse...</td>\n",
       "    </tr>\n",
       "    <tr>\n",
       "      <th>ENCSR672VKC</th>\n",
       "      <td>True</td>\n",
       "      <td>in progress</td>\n",
       "      <td>single-nucleus ATAC-seq</td>\n",
       "      <td>/analyses/ENCAN754EDL/</td>\n",
       "      <td>Homo sapiens HCT116 genetically modified (inse...</td>\n",
       "    </tr>\n",
       "    <tr>\n",
       "      <th>ENCSR587XSM</th>\n",
       "      <td>True</td>\n",
       "      <td>in progress</td>\n",
       "      <td>single-nucleus ATAC-seq</td>\n",
       "      <td>/analyses/ENCAN836EBA/</td>\n",
       "      <td>Homo sapiens HCT116 genetically modified (inse...</td>\n",
       "    </tr>\n",
       "    <tr>\n",
       "      <th>ENCSR694GIR</th>\n",
       "      <td>True</td>\n",
       "      <td>in progress</td>\n",
       "      <td>single-nucleus ATAC-seq</td>\n",
       "      <td>/analyses/ENCAN288TVZ/</td>\n",
       "      <td>Homo sapiens HCT116 genetically modified (inse...</td>\n",
       "    </tr>\n",
       "    <tr>\n",
       "      <th>ENCSR270OJH</th>\n",
       "      <td>True</td>\n",
       "      <td>in progress</td>\n",
       "      <td>single-nucleus ATAC-seq</td>\n",
       "      <td>/analyses/ENCAN443NEB/</td>\n",
       "      <td>Homo sapiens HCT116 genetically modified (inse...</td>\n",
       "    </tr>\n",
       "  </tbody>\n",
       "</table>\n",
       "</div>"
      ],
      "text/plain": [
       "            is_processed       status          assay_term_name  \\\n",
       "ENCSR076QTT         True  in progress  single-nucleus ATAC-seq   \n",
       "ENCSR840IWM         True  in progress  single-nucleus ATAC-seq   \n",
       "ENCSR672VKC         True  in progress  single-nucleus ATAC-seq   \n",
       "ENCSR587XSM         True  in progress  single-nucleus ATAC-seq   \n",
       "ENCSR694GIR         True  in progress  single-nucleus ATAC-seq   \n",
       "ENCSR270OJH         True  in progress  single-nucleus ATAC-seq   \n",
       "\n",
       "                   default_analysis  \\\n",
       "ENCSR076QTT  /analyses/ENCAN399JOZ/   \n",
       "ENCSR840IWM  /analyses/ENCAN544EUT/   \n",
       "ENCSR672VKC  /analyses/ENCAN754EDL/   \n",
       "ENCSR587XSM  /analyses/ENCAN836EBA/   \n",
       "ENCSR694GIR  /analyses/ENCAN288TVZ/   \n",
       "ENCSR270OJH  /analyses/ENCAN443NEB/   \n",
       "\n",
       "                                             biosample_summary  \n",
       "ENCSR076QTT  Homo sapiens HCT116 genetically modified (inse...  \n",
       "ENCSR840IWM  Homo sapiens HCT116 genetically modified (inse...  \n",
       "ENCSR672VKC  Homo sapiens HCT116 genetically modified (inse...  \n",
       "ENCSR587XSM  Homo sapiens HCT116 genetically modified (inse...  \n",
       "ENCSR694GIR  Homo sapiens HCT116 genetically modified (inse...  \n",
       "ENCSR270OJH  Homo sapiens HCT116 genetically modified (inse...  "
      ]
     },
     "execution_count": 12,
     "metadata": {},
     "output_type": "execute_result"
    }
   ],
   "source": [
    "processed[processed[\"status\"] != \"released\"]"
   ]
  },
  {
   "cell_type": "code",
   "execution_count": null,
   "metadata": {},
   "outputs": [],
   "source": []
  }
 ],
 "metadata": {
  "kernelspec": {
   "display_name": "Python 3 (ipykernel)",
   "language": "python",
   "name": "python3"
  },
  "language_info": {
   "codemirror_mode": {
    "name": "ipython",
    "version": 3
   },
   "file_extension": ".py",
   "mimetype": "text/x-python",
   "name": "python",
   "nbconvert_exporter": "python",
   "pygments_lexer": "ipython3",
   "version": "3.10.5"
  }
 },
 "nbformat": 4,
 "nbformat_minor": 1
}
