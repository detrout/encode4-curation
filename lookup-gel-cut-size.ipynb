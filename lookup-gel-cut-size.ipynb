{
 "cells": [
  {
   "cell_type": "code",
   "execution_count": 1,
   "metadata": {},
   "outputs": [],
   "source": [
    "import pandas\n",
    "import sys\n",
    "from pathlib import Path\n",
    "from rdflib import Graph"
   ]
  },
  {
   "cell_type": "code",
   "execution_count": null,
   "metadata": {},
   "outputs": [],
   "source": []
  },
  {
   "cell_type": "code",
   "execution_count": 2,
   "metadata": {},
   "outputs": [],
   "source": [
    "HTSW = str(Path('~/proj/htsworkflow').expanduser())\n",
    "if HTSW not in sys.path:\n",
    "    sys.path.append(HTSW)\n",
    "from htsworkflow.util import rdfhelp"
   ]
  },
  {
   "cell_type": "markdown",
   "metadata": {},
   "source": [
    "The gel_cut size is always a bit larger than the fragment size, so subtract this off of the gel cut size"
   ]
  },
  {
   "cell_type": "code",
   "execution_count": 3,
   "metadata": {},
   "outputs": [],
   "source": [
    "gel_cut_offset = 100"
   ]
  },
  {
   "cell_type": "code",
   "execution_count": 4,
   "metadata": {},
   "outputs": [],
   "source": [
    "aliases = \"\"\"barbara-wold:22563\n",
    "barbara-wold:22564\n",
    "barbara-wold:22565\n",
    "barbara-wold:22566\n",
    "barbara-wold:22567\n",
    "barbara-wold:22568\n",
    "barbara-wold:22569\n",
    "barbara-wold:22570\n",
    "barbara-wold:22571\n",
    "barbara-wold:22572\n",
    "barbara-wold:22573\n",
    "barbara-wold:22574\n",
    "barbara-wold:22575\n",
    "barbara-wold:22576\n",
    "barbara-wold:22577\n",
    "barbara-wold:22578\n",
    "barbara-wold:22579\n",
    "barbara-wold:22580\n",
    "barbara-wold:22581\"\"\".split('\\n')\n",
    "\n"
   ]
  },
  {
   "cell_type": "code",
   "execution_count": 5,
   "metadata": {},
   "outputs": [],
   "source": [
    "model = Graph()"
   ]
  },
  {
   "cell_type": "code",
   "execution_count": 6,
   "metadata": {},
   "outputs": [],
   "source": [
    "rdfhelp.load_into_model(model, 'rdfa', 'http://jumpgate.caltech.edu/library/22162/')"
   ]
  },
  {
   "cell_type": "code",
   "execution_count": 7,
   "metadata": {},
   "outputs": [],
   "source": [
    "def lookup_gel_cut(library_id):\n",
    "    url = 'http://jumpgate.caltech.edu/library/{}/'.format(library_id)\n",
    "    model = Graph()\n",
    "    rdfhelp.load_into_model(model, 'rdfa', url)\n",
    "    for row in model.query(\"\"\"PREFIX libns: <http://jumpgate.caltech.edu/wiki/LibraryOntology#>\n",
    "select ?s ?p ?o \n",
    "where {\n",
    "  ?s a libns:Library ;\n",
    "     libns:gel_cut ?o .\n",
    "}\n",
    "    \"\"\"):\n",
    "        return row[2].toPython()"
   ]
  },
  {
   "cell_type": "code",
   "execution_count": 8,
   "metadata": {},
   "outputs": [
    {
     "name": "stdout",
     "output_type": "stream",
     "text": [
      "251\n",
      "246\n",
      "250\n",
      "255\n",
      "254\n",
      "255\n",
      "250\n",
      "246\n",
      "264\n",
      "255\n",
      "269\n",
      "256\n",
      "267\n",
      "265\n",
      "260\n",
      "259\n",
      "247\n",
      "246\n",
      "243\n"
     ]
    }
   ],
   "source": [
    "prefix_len = len('barbara-wold:')\n",
    "for row in aliases:\n",
    "    library_id = row[prefix_len:]\n",
    "    print(lookup_gel_cut(library_id)-gel_cut_offset)"
   ]
  },
  {
   "cell_type": "code",
   "execution_count": null,
   "metadata": {},
   "outputs": [],
   "source": []
  }
 ],
 "metadata": {
  "kernelspec": {
   "display_name": "Python 3",
   "language": "python",
   "name": "python3"
  },
  "language_info": {
   "codemirror_mode": {
    "name": "ipython",
    "version": 3
   },
   "file_extension": ".py",
   "mimetype": "text/x-python",
   "name": "python",
   "nbconvert_exporter": "python",
   "pygments_lexer": "ipython3",
   "version": "3.8.5"
  }
 },
 "nbformat": 4,
 "nbformat_minor": 4
}
