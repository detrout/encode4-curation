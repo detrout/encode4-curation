{
 "cells": [
  {
   "cell_type": "markdown",
   "id": "03f6a8f0",
   "metadata": {},
   "source": [
    "# Introduction"
   ]
  },
  {
   "cell_type": "markdown",
   "id": "f9b9b5fd",
   "metadata": {},
   "source": [
    "Brian gave me an excel file with a bunch of biosamples."
   ]
  },
  {
   "cell_type": "code",
   "execution_count": 1,
   "id": "a5dedab9",
   "metadata": {},
   "outputs": [],
   "source": [
    "import pandas\n",
    "import re\n",
    "import sys\n",
    "from pathlib import Path"
   ]
  },
  {
   "cell_type": "code",
   "execution_count": 2,
   "id": "395779e8",
   "metadata": {},
   "outputs": [],
   "source": [
    "EC = str(Path(\"~/proj/encoded_client\").expanduser())\n",
    "if EC not in sys.path:\n",
    "    sys.path.append(EC)\n",
    "from encoded_client.encoded import ENCODED"
   ]
  },
  {
   "cell_type": "code",
   "execution_count": 3,
   "id": "651131a5",
   "metadata": {},
   "outputs": [],
   "source": [
    "server = ENCODED(\"www.encodeproject.org\")"
   ]
  },
  {
   "cell_type": "code",
   "execution_count": 4,
   "id": "8c411e4e",
   "metadata": {},
   "outputs": [],
   "source": [
    "mouse_biosamples = Path(\"~/woldlab/ENCODE/mouse-biosamples/\").expanduser()\n",
    "book_filename = mouse_biosamples / \"BioSample_Accession_replacements_for_pooled_samples_Jan12_2022.xlsx\""
   ]
  },
  {
   "cell_type": "code",
   "execution_count": 5,
   "id": "96b7ab41",
   "metadata": {},
   "outputs": [
    {
     "name": "stdout",
     "output_type": "stream",
     "text": [
      "['Bernstein 2mo Aug31_2021', 'Bernstein 2mo gasthrtlctxSept15', 'PND14 Bernst Aug31_2021', 'Snyder_July22_21_2mos', 'Snyder PND14 Aug31_21', 'Stam 8mo B6Cast_Oct4_21', 'reaccession Rush brain', 'sex corrections']\n"
     ]
    }
   ],
   "source": [
    "book = pandas.ExcelFile(book_filename)\n",
    "print(book.sheet_names)"
   ]
  },
  {
   "cell_type": "code",
   "execution_count": 6,
   "id": "b80ad4c3",
   "metadata": {},
   "outputs": [
    {
     "data": {
      "text/html": [
       "<div>\n",
       "<style scoped>\n",
       "    .dataframe tbody tr th:only-of-type {\n",
       "        vertical-align: middle;\n",
       "    }\n",
       "\n",
       "    .dataframe tbody tr th {\n",
       "        vertical-align: top;\n",
       "    }\n",
       "\n",
       "    .dataframe thead th {\n",
       "        text-align: right;\n",
       "    }\n",
       "</style>\n",
       "<table border=\"1\" class=\"dataframe\">\n",
       "  <thead>\n",
       "    <tr style=\"text-align: right;\">\n",
       "      <th></th>\n",
       "      <th>BioSample Accession</th>\n",
       "      <th>age</th>\n",
       "      <th>sex</th>\n",
       "      <th>tissue</th>\n",
       "      <th>animal ID #</th>\n",
       "      <th>date born</th>\n",
       "      <th>date collected</th>\n",
       "    </tr>\n",
       "  </thead>\n",
       "  <tbody>\n",
       "    <tr>\n",
       "      <th>0</th>\n",
       "      <td>ENCBS641RQY</td>\n",
       "      <td>8 months</td>\n",
       "      <td>female (corrected to male)</td>\n",
       "      <td>adrenal gland</td>\n",
       "      <td>27</td>\n",
       "      <td>2021-10-20</td>\n",
       "      <td>2021-07-20</td>\n",
       "    </tr>\n",
       "    <tr>\n",
       "      <th>1</th>\n",
       "      <td>ENCBS840BRQ</td>\n",
       "      <td>8 months</td>\n",
       "      <td>female (corrected to male)</td>\n",
       "      <td>cerebellum</td>\n",
       "      <td>27</td>\n",
       "      <td>2021-10-20</td>\n",
       "      <td>2021-07-20</td>\n",
       "    </tr>\n",
       "    <tr>\n",
       "      <th>2</th>\n",
       "      <td>ENCBS302JNY</td>\n",
       "      <td>8 months</td>\n",
       "      <td>female (corrected to male)</td>\n",
       "      <td>gastrocnemius</td>\n",
       "      <td>27</td>\n",
       "      <td>2021-10-20</td>\n",
       "      <td>2021-07-20</td>\n",
       "    </tr>\n",
       "    <tr>\n",
       "      <th>3</th>\n",
       "      <td>ENCBS367EYF</td>\n",
       "      <td>8 months</td>\n",
       "      <td>female (corrected to male)</td>\n",
       "      <td>heart</td>\n",
       "      <td>27</td>\n",
       "      <td>2021-10-20</td>\n",
       "      <td>2021-07-20</td>\n",
       "    </tr>\n",
       "    <tr>\n",
       "      <th>4</th>\n",
       "      <td>ENCBS059FJJ</td>\n",
       "      <td>8 months</td>\n",
       "      <td>female (corrected to male)</td>\n",
       "      <td>hippocampus</td>\n",
       "      <td>27</td>\n",
       "      <td>2021-10-20</td>\n",
       "      <td>2021-07-20</td>\n",
       "    </tr>\n",
       "  </tbody>\n",
       "</table>\n",
       "</div>"
      ],
      "text/plain": [
       "  BioSample Accession       age                         sex         tissue  \\\n",
       "0         ENCBS641RQY  8 months  female (corrected to male)  adrenal gland   \n",
       "1         ENCBS840BRQ  8 months  female (corrected to male)     cerebellum   \n",
       "2         ENCBS302JNY  8 months  female (corrected to male)  gastrocnemius   \n",
       "3         ENCBS367EYF  8 months  female (corrected to male)          heart   \n",
       "4         ENCBS059FJJ  8 months  female (corrected to male)    hippocampus   \n",
       "\n",
       "   animal ID #  date born date collected  \n",
       "0           27 2021-10-20     2021-07-20  \n",
       "1           27 2021-10-20     2021-07-20  \n",
       "2           27 2021-10-20     2021-07-20  \n",
       "3           27 2021-10-20     2021-07-20  \n",
       "4           27 2021-10-20     2021-07-20  "
      ]
     },
     "execution_count": 6,
     "metadata": {},
     "output_type": "execute_result"
    }
   ],
   "source": [
    "corrections = book.parse(\"sex corrections\")\n",
    "corrections.head()"
   ]
  },
  {
   "cell_type": "code",
   "execution_count": 18,
   "id": "03f4702d",
   "metadata": {},
   "outputs": [
    {
     "name": "stdout",
     "output_type": "stream",
     "text": [
      "ENCBS641RQY female True male False\n",
      "ENCBS840BRQ female True male False\n",
      "ENCBS302JNY female True male False\n",
      "ENCBS367EYF female True male False\n",
      "ENCBS059FJJ female True male False\n",
      "ENCBS170SSW female True male False\n",
      "ENCBS158ROD female True male False\n",
      "ENCBS146CZA female True male False\n",
      "ENCBS516WOV female True male False\n",
      "ENCBS666FTV female True male False\n",
      "ENCBS432VAU female True male False\n",
      "ENCBS603DJU female True male False\n",
      "ENCBS231IMT female True male False\n",
      "ENCBS464MLL female True male False\n",
      "ENCBS664VXG male True female False\n",
      "ENCBS054OUK male True female False\n",
      "ENCBS386XLW male True female False\n",
      "ENCBS417NMX male True female False\n",
      "ENCBS184RLN male True female False\n",
      "ENCBS987EJP male True female False\n",
      "ENCBS151JJZ male True female False\n",
      "ENCBS447THP male True female False\n",
      "ENCBS124YMM male True female False\n",
      "ENCBS794LQT male True female False\n",
      "ENCBS023LOR male True female False\n",
      "ENCBS155NZE male True female False\n",
      "ENCBS788DEB male True female False\n",
      "ENCBS044NHG male True female False\n"
     ]
    }
   ],
   "source": [
    "sexes = re.compile(\"(?P<current>(male)|(female)) \\(corrected to (?P<desired>(male)|(female))\\)\")\n",
    "for i, row in corrections.iterrows():\n",
    "    accession = row[\"BioSample Accession\"]\n",
    "    tissue = row[\"tissue\"]\n",
    "    match = sexes.search(row[\"sex\"])\n",
    "    current = match.group(\"current\")\n",
    "    desired = match.group(\"desired\")\n",
    "    biosample = server.get_json(accession)        \n",
    "    print(accession, current, biosample[\"sex\"] != current, desired, biosample[\"sex\"] != desired)\n"
   ]
  },
  {
   "cell_type": "code",
   "execution_count": 16,
   "id": "60f3ebc1",
   "metadata": {},
   "outputs": [
    {
     "name": "stdout",
     "output_type": "stream",
     "text": [
      "ENCBS641RQY is correct\n",
      "ENCBS840BRQ is correct\n",
      "ENCBS302JNY is correct\n",
      "ENCBS367EYF is correct\n",
      "ENCBS059FJJ is correct\n",
      "ENCBS170SSW is correct\n",
      "ENCBS158ROD is correct\n",
      "ENCBS146CZA is correct\n",
      "ENCBS516WOV is correct\n",
      "ENCBS666FTV is correct\n",
      "ENCBS432VAU is correct\n",
      "ENCBS603DJU is correct\n",
      "ENCBS231IMT is correct\n",
      "ENCBS464MLL is correct\n",
      "ENCBS664VXG is correct\n",
      "ENCBS054OUK is correct\n",
      "ENCBS386XLW Changing: male to female\n",
      "ENCBS417NMX Changing: male to female\n",
      "ENCBS184RLN Changing: male to female\n",
      "ENCBS987EJP Changing: male to female\n",
      "ENCBS151JJZ Changing: male to female\n",
      "ENCBS447THP Changing: male to female\n",
      "ENCBS124YMM Changing: male to female\n",
      "ENCBS794LQT Changing: male to female\n",
      "ENCBS023LOR Changing: male to female\n",
      "ENCBS155NZE Changing: male to female\n",
      "ENCBS788DEB Changing: male to female\n",
      "ENCBS044NHG Changing: male to female\n"
     ]
    }
   ],
   "source": [
    "sexes = re.compile(\"(?P<current>(male)|(female)) \\(corrected to (?P<desired>(male)|(female))\\)\")\n",
    "for i, row in corrections.iterrows():\n",
    "    accession = row[\"BioSample Accession\"]\n",
    "    tissue = row[\"tissue\"]\n",
    "    match = sexes.search(row[\"sex\"])\n",
    "    current = match.group(\"current\")\n",
    "    desired = match.group(\"desired\")\n",
    "    biosample = server.get_json(accession)\n",
    "    if biosample[\"sex\"] != desired:\n",
    "        print(\"{} Changing: {} to {}\".format(accession, current, desired))\n",
    "        server.patch_json(biosample[\"@id\"], {\"model_organism_sex\": desired})\n",
    "    else:\n",
    "        print(\"{} is correct\".format(accession))\n"
   ]
  },
  {
   "cell_type": "code",
   "execution_count": null,
   "id": "43eaec80",
   "metadata": {},
   "outputs": [],
   "source": []
  }
 ],
 "metadata": {
  "kernelspec": {
   "display_name": "Python 3 (ipykernel)",
   "language": "python",
   "name": "python3"
  },
  "language_info": {
   "codemirror_mode": {
    "name": "ipython",
    "version": 3
   },
   "file_extension": ".py",
   "mimetype": "text/x-python",
   "name": "python",
   "nbconvert_exporter": "python",
   "pygments_lexer": "ipython3",
   "version": "3.9.9"
  }
 },
 "nbformat": 4,
 "nbformat_minor": 5
}
