{
 "cells": [
  {
   "cell_type": "code",
   "execution_count": null,
   "metadata": {},
   "outputs": [],
   "source": []
  },
  {
   "cell_type": "code",
   "execution_count": 1,
   "metadata": {},
   "outputs": [],
   "source": [
    "import pandas\n",
    "import os\n",
    "import sys\n",
    "import requests\n",
    "from matplotlib import pyplot "
   ]
  },
  {
   "cell_type": "code",
   "execution_count": 2,
   "metadata": {},
   "outputs": [],
   "source": [
    "HTSW = os.path.expanduser('~diane/proj/htsworkflow')\n",
    "if HTSW not in sys.path:\n",
    "    sys.path.append(HTSW)\n",
    "from htsworkflow.submission.encoded import ENCODED"
   ]
  },
  {
   "cell_type": "code",
   "execution_count": 3,
   "metadata": {},
   "outputs": [],
   "source": [
    "server = ENCODED('www.encodeproject.org')\n",
    "server.load_netrc()"
   ]
  },
  {
   "cell_type": "code",
   "execution_count": 4,
   "metadata": {},
   "outputs": [],
   "source": [
    "def lookup_experiment(experiment_id):\n",
    "    experiment = server.get_json(experiment_id)\n",
    "    for replicate in experiment['replicates']:\n",
    "        library = replicate['library']\n",
    "        if 'aliases' not in library:\n",
    "            library = server.get_json(replicate['library'])\n",
    "\n",
    "        print(experiment['accession'], library['accession'], library['aliases'], experiment['description'])"
   ]
  },
  {
   "cell_type": "code",
   "execution_count": 5,
   "metadata": {},
   "outputs": [],
   "source": [
    "def parse_samtools_stats(record):\n",
    "    columns = {\n",
    "        '@id': str,\n",
    "        'quality_metric_of': list,\n",
    "        'duplicates': int,\n",
    "        'duplicates_qc_failed': int, \n",
    "        'mapped': int, \n",
    "        'mapped_pct': float, \n",
    "        'mapped_qc_failed': int,\n",
    "        'total': int, \n",
    "        'total_qc_failed': int,\n",
    "    }\n",
    "    results = {}\n",
    "    for name, converter in columns.items():\n",
    "        results[name] = converter(record[name])\n",
    "    return results\n",
    "    #return pandas.Series(result)\n"
   ]
  },
  {
   "cell_type": "code",
   "execution_count": 6,
   "metadata": {},
   "outputs": [],
   "source": [
    "def parse_pct(value):\n",
    "    assert value.endswith('%'), 'Expected % at end of {}'.format(value)\n",
    "    return float(value[:-1])\n",
    "\n",
    "def parse_star_stats(record):\n",
    "    columns = {\n",
    "        '@id': str,\n",
    "        'quality_metric_of': list,\n",
    "        '% of chimeric reads': parse_pct,\n",
    "        '% of reads mapped to multiple loci': parse_pct,\n",
    "        '% of reads mapped to too many loci': parse_pct,\n",
    "        '% of reads unmapped: other': parse_pct,\n",
    "        '% of reads unmapped: too many mismatches': parse_pct,\n",
    "        '% of reads unmapped: too short': parse_pct,\n",
    "        'Average input read length': float,\n",
    "        'Average mapped length': float,\n",
    "        'Deletion average length': float,\n",
    "        'Deletion rate per base': parse_pct,\n",
    "        'Insertion average length': float,\n",
    "        'Insertion rate per base': parse_pct,\n",
    "        'Mapping speed, Million of reads per hour': float,\n",
    "        'Mismatch rate per base, %': parse_pct,\n",
    "        'Number of chimeric reads': int,\n",
    "        'Number of input reads': int,\n",
    "        'Number of reads mapped to multiple loci': int,\n",
    "        'Number of reads mapped to too many loci': int,\n",
    "        'Number of splices: AT/AC': int,\n",
    "        'Number of splices: Annotated (sjdb)': int,\n",
    "        'Number of splices: GC/AG': int,\n",
    "        'Number of splices: GT/AG': int,\n",
    "        'Number of splices: Non-canonical': int,\n",
    "        'Number of splices: Total': int,\n",
    "        'Uniquely mapped reads %': parse_pct,\n",
    "        'Uniquely mapped reads number': int,\n",
    "    }\n",
    "    results = {}\n",
    "    for name, converter in columns.items():\n",
    "        results[name] = converter(record[name])\n",
    "        \n",
    "    return results"
   ]
  },
  {
   "cell_type": "code",
   "execution_count": 7,
   "metadata": {},
   "outputs": [],
   "source": [
    "def parse_gene_type_quantification(record):\n",
    "    columns = {\n",
    "        '@id': str,\n",
    "        'quality_metric_of': list,\n",
    "        'Mt_rRNA': int, \n",
    "        'antisense': int, \n",
    "        'miRNA': int, \n",
    "        'processed_transcript': int,\n",
    "        'protein_coding': int, \n",
    "        'rRNA': int,\n",
    "        'ribozyme': int, \n",
    "        'sRNA': int, \n",
    "        'scaRNA': int, \n",
    "        'sense_intronic': int, \n",
    "        'sense_overlapping': int, \n",
    "        'snRNA': int, \n",
    "        'snoRNA': int, \n",
    "        'spikein': int\n",
    "    }\n",
    "    results = {}\n",
    "    for name, converter in columns.items():\n",
    "        results[name] = converter(record[name])\n",
    "    \n",
    "    return results\n",
    "    #return pandas.Series(result)"
   ]
  },
  {
   "cell_type": "code",
   "execution_count": 8,
   "metadata": {},
   "outputs": [],
   "source": [
    "def parse_mad_metric(record):\n",
    "    def get_href(record):\n",
    "        return record['href']\n",
    "    \n",
    "    columns = {\n",
    "        '@id': str,\n",
    "        'quality_metric_of': list,\n",
    "        'attachment': get_href,\n",
    "        'SD of log ratios': float,\n",
    "        'Pearson correlation': float,\n",
    "        'Spearman correlation': float,\n",
    "        'MAD of log ratios': float,\n",
    "    }\n",
    "    results = {}\n",
    "    for name, converter in columns.items():\n",
    "        results[name] = converter(record[name])    \n",
    "    return results"
   ]
  },
  {
   "cell_type": "code",
   "execution_count": 9,
   "metadata": {},
   "outputs": [],
   "source": [
    "def parse_genes_detected(record):\n",
    "    columns = {\n",
    "        '@id': str,\n",
    "        'quality_metric_of': list,\n",
    "        'number_of_genes_detected': int,\n",
    "    }\n",
    "    results = {}\n",
    "    for name, converter in columns.items():\n",
    "        results[name] = converter(record[name])\n",
    "        \n",
    "    return results    "
   ]
  },
  {
   "cell_type": "code",
   "execution_count": 10,
   "metadata": {},
   "outputs": [],
   "source": [
    "def files_to_library(experiment, file_object):\n",
    "    libraries = None\n",
    "    library_aliases = None\n",
    "    assert len(file_object['replicate_libraries']) == 1\n",
    "    for file_library_id in file_object['replicate_libraries']:\n",
    "        for experiment_replicate in experiment['replicates']:\n",
    "            library = experiment_replicate['library']\n",
    "            if library['@id'] == file_library_id:\n",
    "                libraries = library['accession']\n",
    "                library_aliases = library['aliases'][0]\n",
    "    return (libraries, library_aliases)\n",
    "\n",
    "def find_experiment_quality_metrics(experiment):   \n",
    "    qc_report = {\n",
    "        'SamtoolsFlagstatsQualityMetric': parse_samtools_stats,\n",
    "        'StarQualityMetric': parse_star_stats,\n",
    "        'GeneTypeQuantificationQualityMetric': parse_gene_type_quantification,\n",
    "        'MadQualityMetric': parse_mad_metric,\n",
    "        'GeneQuantificationQualityMetric': parse_genes_detected,\n",
    "    }\n",
    "\n",
    "    library_map = {}\n",
    "    library_aliases_map = {}\n",
    "    for f in experiment['files']:\n",
    "        libraries, aliases = files_to_library(experiment, f)\n",
    "        library_map[f['@id']] = libraries\n",
    "        library_aliases_map[f['@id']] = aliases\n",
    "        \n",
    "    reports = {}\n",
    "    for f in experiment['files']:\n",
    "        if 'quality_metrics' in f:\n",
    "            for metric in f['quality_metrics']:\n",
    "                metric_type = metric['@type'][0]\n",
    "                value = qc_report[metric_type](metric)\n",
    "                for_libraries = tuple([library_aliases_map[x] for x in value['quality_metric_of']])\n",
    "                reports.setdefault(metric_type, {})[for_libraries] = value\n",
    "    return reports\n",
    "\n",
    "def format_alias(alias):\n",
    "    return \",\".join([x.split(':')[1] for x in alias])\n",
    "\n",
    "def report_experiment(experiment):\n",
    "    print(experiment['accession'], experiment['description'])\n",
    "    reports = find_experiment_quality_metrics(experiment)\n",
    "    \n",
    "    star_quality = {}\n",
    "    for library_alias in reports['StarQualityMetric']:\n",
    "        formatted_alias = format_alias(library_alias)\n",
    "        star_qc = reports['StarQualityMetric'][library_alias]\n",
    "        mapped = star_qc['Number of reads mapped to multiple loci'] + star_qc['Uniquely mapped reads number']\n",
    "        fraction_mapped = mapped / star_qc['Number of input reads']\n",
    "        star_quality[formatted_alias] = {\n",
    "            'multi': star_qc['Number of reads mapped to multiple loci'],\n",
    "            'uniq': star_qc['Uniquely mapped reads number'],\n",
    "            'mapped': mapped,\n",
    "            'total': star_qc['Number of input reads'],\n",
    "            '%mapped': \"{:.4}\".format(fraction_mapped * 100),\n",
    "        }\n",
    "    print(pandas.DataFrame(star_quality).T)\n",
    "            \n",
    "\n",
    "    if 'MadQualityMetric' in reports:\n",
    "        mad = reports['MadQualityMetric']\n",
    "        for library_alias in mad:\n",
    "            formatted_alias = format_alias(library_alias)\n",
    "            print(formatted_alias, 'Spearman', mad[library_alias]['Spearman correlation'])    \n",
    "    else:\n",
    "        print('No correlation for {}'.format(library_alias))\n",
    "\n",
    "    gene_type = {}\n",
    "    for library_alias in reports['GeneTypeQuantificationQualityMetric']:\n",
    "        formatted_alias = format_alias(library_alias)\n",
    "        gene_type_counts = reports['GeneTypeQuantificationQualityMetric'][library_alias]\n",
    "        del gene_type_counts['@id']\n",
    "        del gene_type_counts['quality_metric_of']\n",
    "        gene_type[formatted_alias] = gene_type_counts\n",
    "        \n",
    "    gene_type = pandas.DataFrame(gene_type)\n",
    "    f = pyplot.figure(figsize=(8,8))\n",
    "    ax = f.add_subplot(1,1,1)\n",
    "    gene_type.T.plot.bar(stacked=True, ax=ax)\n",
    "    #return gene_type   \n",
    "    #reports['GeneQuantificationQualityMetric']"
   ]
  },
  {
   "cell_type": "code",
   "execution_count": null,
   "metadata": {},
   "outputs": [],
   "source": []
  },
  {
   "cell_type": "code",
   "execution_count": 11,
   "metadata": {
    "scrolled": false
   },
   "outputs": [
    {
     "name": "stdout",
     "output_type": "stream",
     "text": [
      "ENCSR288RRZ Stam Placenta 11005\n"
     ]
    },
    {
     "ename": "KeyError",
     "evalue": "'replicate_libraries'",
     "output_type": "error",
     "traceback": [
      "\u001b[0;31m---------------------------------------------------------------------------\u001b[0m",
      "\u001b[0;31mKeyError\u001b[0m                                  Traceback (most recent call last)",
      "\u001b[0;32m<ipython-input-11-9b43b2b4403b>\u001b[0m in \u001b[0;36m<module>\u001b[0;34m\u001b[0m\n\u001b[1;32m      5\u001b[0m \u001b[0;32mfor\u001b[0m \u001b[0mrow\u001b[0m \u001b[0;32min\u001b[0m \u001b[0msearch\u001b[0m\u001b[0;34m[\u001b[0m\u001b[0;34m'@graph'\u001b[0m\u001b[0;34m]\u001b[0m\u001b[0;34m:\u001b[0m\u001b[0;34m\u001b[0m\u001b[0;34m\u001b[0m\u001b[0m\n\u001b[1;32m      6\u001b[0m     \u001b[0mexperiment\u001b[0m \u001b[0;34m=\u001b[0m \u001b[0mserver\u001b[0m\u001b[0;34m.\u001b[0m\u001b[0mget_json\u001b[0m\u001b[0;34m(\u001b[0m\u001b[0mrow\u001b[0m\u001b[0;34m[\u001b[0m\u001b[0;34m'@id'\u001b[0m\u001b[0;34m]\u001b[0m\u001b[0;34m)\u001b[0m\u001b[0;34m\u001b[0m\u001b[0;34m\u001b[0m\u001b[0m\n\u001b[0;32m----> 7\u001b[0;31m     \u001b[0mreport_experiment\u001b[0m\u001b[0;34m(\u001b[0m\u001b[0mexperiment\u001b[0m\u001b[0;34m)\u001b[0m\u001b[0;34m\u001b[0m\u001b[0;34m\u001b[0m\u001b[0m\n\u001b[0m",
      "\u001b[0;32m<ipython-input-10-e5a6fbb4f869>\u001b[0m in \u001b[0;36mreport_experiment\u001b[0;34m(experiment)\u001b[0m\n\u001b[1;32m     42\u001b[0m \u001b[0;32mdef\u001b[0m \u001b[0mreport_experiment\u001b[0m\u001b[0;34m(\u001b[0m\u001b[0mexperiment\u001b[0m\u001b[0;34m)\u001b[0m\u001b[0;34m:\u001b[0m\u001b[0;34m\u001b[0m\u001b[0;34m\u001b[0m\u001b[0m\n\u001b[1;32m     43\u001b[0m     \u001b[0mprint\u001b[0m\u001b[0;34m(\u001b[0m\u001b[0mexperiment\u001b[0m\u001b[0;34m[\u001b[0m\u001b[0;34m'accession'\u001b[0m\u001b[0;34m]\u001b[0m\u001b[0;34m,\u001b[0m \u001b[0mexperiment\u001b[0m\u001b[0;34m[\u001b[0m\u001b[0;34m'description'\u001b[0m\u001b[0;34m]\u001b[0m\u001b[0;34m)\u001b[0m\u001b[0;34m\u001b[0m\u001b[0;34m\u001b[0m\u001b[0m\n\u001b[0;32m---> 44\u001b[0;31m     \u001b[0mreports\u001b[0m \u001b[0;34m=\u001b[0m \u001b[0mfind_experiment_quality_metrics\u001b[0m\u001b[0;34m(\u001b[0m\u001b[0mexperiment\u001b[0m\u001b[0;34m)\u001b[0m\u001b[0;34m\u001b[0m\u001b[0;34m\u001b[0m\u001b[0m\n\u001b[0m\u001b[1;32m     45\u001b[0m \u001b[0;34m\u001b[0m\u001b[0m\n\u001b[1;32m     46\u001b[0m     \u001b[0mstar_quality\u001b[0m \u001b[0;34m=\u001b[0m \u001b[0;34m{\u001b[0m\u001b[0;34m}\u001b[0m\u001b[0;34m\u001b[0m\u001b[0;34m\u001b[0m\u001b[0m\n",
      "\u001b[0;32m<ipython-input-10-e5a6fbb4f869>\u001b[0m in \u001b[0;36mfind_experiment_quality_metrics\u001b[0;34m(experiment)\u001b[0m\n\u001b[1;32m     23\u001b[0m     \u001b[0mlibrary_aliases_map\u001b[0m \u001b[0;34m=\u001b[0m \u001b[0;34m{\u001b[0m\u001b[0;34m}\u001b[0m\u001b[0;34m\u001b[0m\u001b[0;34m\u001b[0m\u001b[0m\n\u001b[1;32m     24\u001b[0m     \u001b[0;32mfor\u001b[0m \u001b[0mf\u001b[0m \u001b[0;32min\u001b[0m \u001b[0mexperiment\u001b[0m\u001b[0;34m[\u001b[0m\u001b[0;34m'files'\u001b[0m\u001b[0;34m]\u001b[0m\u001b[0;34m:\u001b[0m\u001b[0;34m\u001b[0m\u001b[0;34m\u001b[0m\u001b[0m\n\u001b[0;32m---> 25\u001b[0;31m         \u001b[0mlibraries\u001b[0m\u001b[0;34m,\u001b[0m \u001b[0maliases\u001b[0m \u001b[0;34m=\u001b[0m \u001b[0mfiles_to_library\u001b[0m\u001b[0;34m(\u001b[0m\u001b[0mexperiment\u001b[0m\u001b[0;34m,\u001b[0m \u001b[0mf\u001b[0m\u001b[0;34m)\u001b[0m\u001b[0;34m\u001b[0m\u001b[0;34m\u001b[0m\u001b[0m\n\u001b[0m\u001b[1;32m     26\u001b[0m         \u001b[0mlibrary_map\u001b[0m\u001b[0;34m[\u001b[0m\u001b[0mf\u001b[0m\u001b[0;34m[\u001b[0m\u001b[0;34m'@id'\u001b[0m\u001b[0;34m]\u001b[0m\u001b[0;34m]\u001b[0m \u001b[0;34m=\u001b[0m \u001b[0mlibraries\u001b[0m\u001b[0;34m\u001b[0m\u001b[0;34m\u001b[0m\u001b[0m\n\u001b[1;32m     27\u001b[0m         \u001b[0mlibrary_aliases_map\u001b[0m\u001b[0;34m[\u001b[0m\u001b[0mf\u001b[0m\u001b[0;34m[\u001b[0m\u001b[0;34m'@id'\u001b[0m\u001b[0;34m]\u001b[0m\u001b[0;34m]\u001b[0m \u001b[0;34m=\u001b[0m \u001b[0maliases\u001b[0m\u001b[0;34m\u001b[0m\u001b[0;34m\u001b[0m\u001b[0m\n",
      "\u001b[0;32m<ipython-input-10-e5a6fbb4f869>\u001b[0m in \u001b[0;36mfiles_to_library\u001b[0;34m(experiment, file_object)\u001b[0m\n\u001b[1;32m      2\u001b[0m     \u001b[0mlibraries\u001b[0m \u001b[0;34m=\u001b[0m \u001b[0;32mNone\u001b[0m\u001b[0;34m\u001b[0m\u001b[0;34m\u001b[0m\u001b[0m\n\u001b[1;32m      3\u001b[0m     \u001b[0mlibrary_aliases\u001b[0m \u001b[0;34m=\u001b[0m \u001b[0;32mNone\u001b[0m\u001b[0;34m\u001b[0m\u001b[0;34m\u001b[0m\u001b[0m\n\u001b[0;32m----> 4\u001b[0;31m     \u001b[0;32massert\u001b[0m \u001b[0mlen\u001b[0m\u001b[0;34m(\u001b[0m\u001b[0mfile_object\u001b[0m\u001b[0;34m[\u001b[0m\u001b[0;34m'replicate_libraries'\u001b[0m\u001b[0;34m]\u001b[0m\u001b[0;34m)\u001b[0m \u001b[0;34m==\u001b[0m \u001b[0;36m1\u001b[0m\u001b[0;34m\u001b[0m\u001b[0;34m\u001b[0m\u001b[0m\n\u001b[0m\u001b[1;32m      5\u001b[0m     \u001b[0;32mfor\u001b[0m \u001b[0mfile_library_id\u001b[0m \u001b[0;32min\u001b[0m \u001b[0mfile_object\u001b[0m\u001b[0;34m[\u001b[0m\u001b[0;34m'replicate_libraries'\u001b[0m\u001b[0;34m]\u001b[0m\u001b[0;34m:\u001b[0m\u001b[0;34m\u001b[0m\u001b[0;34m\u001b[0m\u001b[0m\n\u001b[1;32m      6\u001b[0m         \u001b[0;32mfor\u001b[0m \u001b[0mexperiment_replicate\u001b[0m \u001b[0;32min\u001b[0m \u001b[0mexperiment\u001b[0m\u001b[0;34m[\u001b[0m\u001b[0;34m'replicates'\u001b[0m\u001b[0;34m]\u001b[0m\u001b[0;34m:\u001b[0m\u001b[0;34m\u001b[0m\u001b[0;34m\u001b[0m\u001b[0m\n",
      "\u001b[0;31mKeyError\u001b[0m: 'replicate_libraries'"
     ]
    }
   ],
   "source": [
    "#query = \"https://www.encodeproject.org/search/?type=Experiment&@id=%2Fexperiments%2FENCSR379DEC%2F&@id=%2Fexperiments%2FENCSR877FRY%2F&@id=%2Fexperiments%2FENCSR631FXT%2F&@id=%2Fexperiments%2FENCSR306IAW%2F&@id=%2Fexperiments%2FENCSR336VTK%2F&@id=%2Fexperiments%2FENCSR429EGC%2F\"\n",
    "#query = \"https://www.encodeproject.org/search/?type=Experiment&@id=%2Fexperiments%2FENCSR479MNN%2F&@id=%2Fexperiments%2FENCSR288RRZ%2F&@id=%2Fexperiments%2FENCSR899OKE%2F&@id=%2Fexperiments%2FENCSR464VSR%2F&@id=%2Fexperiments%2FENCSR774MGO%2F&@id=%2Fexperiments%2FENCSR129VBC%2F&@id=%2Fexperiments%2FENCSR420YFF%2F&@id=%2Fexperiments%2FENCSR942YMN%2F&@id=%2Fexperiments%2FENCSR648YUM%2F&@id=%2Fexperiments%2FENCSR903XMI%2F&@id=%2Fexperiments%2FENCSR244HHV%2F&@id=%2Fexperiments%2FENCSR168PXI%2F&@id=%2Fexperiments%2FENCSR308XAR%2F&@id=%2Fexperiments%2FENCSR484WZL%2F\"\n",
    "query = \"https://www.encodeproject.org/search/?type=Experiment&@id=%2Fexperiments%2FENCSR479MNN%2F&@id=%2Fexperiments%2FENCSR288RRZ%2F&@id=%2Fexperiments%2FENCSR899OKE%2F&@id=%2Fexperiments%2FENCSR464VSR%2F&@id=%2Fexperiments%2FENCSR774MGO%2F&@id=%2Fexperiments%2FENCSR129VBC%2F&@id=%2Fexperiments%2FENCSR420YFF%2F&@id=%2Fexperiments%2FENCSR942YMN%2F&@id=%2Fexperiments%2FENCSR648YUM%2F&@id=%2Fexperiments%2FENCSR903XMI%2F&@id=%2Fexperiments%2FENCSR244HHV%2F&@id=%2Fexperiments%2FENCSR168PXI%2F&@id=%2Fexperiments%2FENCSR308XAR%2F&@id=%2Fexperiments%2FENCSR484WZL%2F&@id=%2Fexperiments%2FENCSR538FRP%2F\"\n",
    "search = server.get_json(query)\n",
    "for row in search['@graph']:\n",
    "    experiment = server.get_json(row['@id'])\n",
    "    report_experiment(experiment)"
   ]
  },
  {
   "cell_type": "code",
   "execution_count": null,
   "metadata": {},
   "outputs": [],
   "source": []
  }
 ],
 "metadata": {
  "kernelspec": {
   "display_name": "Python 3",
   "language": "python",
   "name": "python3"
  },
  "language_info": {
   "codemirror_mode": {
    "name": "ipython",
    "version": 3
   },
   "file_extension": ".py",
   "mimetype": "text/x-python",
   "name": "python",
   "nbconvert_exporter": "python",
   "pygments_lexer": "ipython3",
   "version": "3.9.2"
  }
 },
 "nbformat": 4,
 "nbformat_minor": 4
}
