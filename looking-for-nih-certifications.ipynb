{
 "cells": [
  {
   "cell_type": "markdown",
   "metadata": {},
   "source": [
    "Look up samples that are missing institutional certifications"
   ]
  },
  {
   "cell_type": "code",
   "execution_count": 1,
   "metadata": {},
   "outputs": [],
   "source": [
    "import pandas\n",
    "import os\n",
    "import sys"
   ]
  },
  {
   "cell_type": "code",
   "execution_count": 3,
   "metadata": {},
   "outputs": [],
   "source": [
    "HTSW=os.path.expanduser('~/proj/htsworkflow')\n",
    "if HTSW not in sys.path:\n",
    "    sys.path.append(HTSW)\n",
    "from htsworkflow.submission import encoded"
   ]
  },
  {
   "cell_type": "code",
   "execution_count": 4,
   "metadata": {},
   "outputs": [],
   "source": [
    "server = encoded.ENCODED('www.encodeproject.org')\n",
    "server.load_netrc()"
   ]
  },
  {
   "cell_type": "code",
   "execution_count": 5,
   "metadata": {},
   "outputs": [],
   "source": [
    "query = server.get_json('https://www.encodeproject.org/search/?type=Experiment&submitted_by.%40id=%2Fusers%2Fbc5b62f7-ce28-4a1e-b6b3-81c9c5a86d7a%2F&status=submitted&status=in+progress&audit.ERROR.category=missing+nih_institutional_certification')"
   ]
  },
  {
   "cell_type": "code",
   "execution_count": 14,
   "metadata": {},
   "outputs": [
    {
     "name": "stdout",
     "output_type": "stream",
     "text": [
      "ENCSR081NRO Adrenal Gland 1-2 ENTEX50\n",
      "ENCSR420ZKB Clonal line 6 derived from hTert immortalized HFF 13 minute fragmentation\n",
      "ENCSR381OTM Clonal line 6 derived from hTert immortalized HFF\n",
      "ENCSR712GOC h1_hesc\n",
      "ENCSR995WKW Adrenal Gland 2-1 ENTEX51\n",
      "ENCSR636LEU Clonal line 6 derived from hTert immortalized HFF 300 ng\n",
      "ENCSR146ZSP Clonal line 6 derived from hTert immortalized HFF 600 ng\n",
      "ENCSR730NEO RNA Evaluation HepG2 microRNA-seq from Mortazavi\n",
      "ENCSR657HJW W61 right lobe of liver\n",
      "ENCSR559HWG h1_endoderm\n",
      "ENCSR895ZTB h1_hesc\n",
      "ENCSR735JKB Clonal line 6 derived from hTert immortalized HFF 7 minute fragmentation\n",
      "ENCSR841QAC Clonal line 6 derived from hTert immortalized HFF 900 ng\n"
     ]
    }
   ],
   "source": [
    "for row in query['@graph']:\n",
    "    obj = server.get_json(row['accession'])\n",
    "    print(obj['accession'], obj['description'])\n",
    "    #for f in obj['files']:\n",
    "    #    print(row['accession'], f['submitted_file_name'])"
   ]
  }
 ],
 "metadata": {
  "kernelspec": {
   "display_name": "Python 3",
   "language": "python",
   "name": "python3"
  },
  "language_info": {
   "codemirror_mode": {
    "name": "ipython",
    "version": 3
   },
   "file_extension": ".py",
   "mimetype": "text/x-python",
   "name": "python",
   "nbconvert_exporter": "python",
   "pygments_lexer": "ipython3",
   "version": "3.9.1+"
  }
 },
 "nbformat": 4,
 "nbformat_minor": 4
}
