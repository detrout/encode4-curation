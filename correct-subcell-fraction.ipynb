{
 "cells": [
  {
   "cell_type": "markdown",
   "id": "c490d596",
   "metadata": {},
   "source": [
    "# Introduction"
   ]
  },
  {
   "cell_type": "markdown",
   "id": "42c8aeda",
   "metadata": {},
   "source": [
    "Hi Ingrid and Diane,\n",
    "\n",
    "The last 8 multiome mouse samples are on the portal:\n",
    "https://www.encodeproject.org/search/?type=Experiment&assay_title=scRNA-seq&replicates.library.biosample.donor.organism.scientific_name=Mus+musculus&biosample_ontology.term_name=gastrocnemius&lab.title=Michael+Snyder%2C+Stanford\n",
    "\n",
    "But they also have to be patched with subcellular_fraction nucleus. I can’t do that because the biosample were not submitted by us. \n"
   ]
  },
  {
   "cell_type": "code",
   "execution_count": 1,
   "id": "d723086d",
   "metadata": {},
   "outputs": [],
   "source": [
    "import pandas\n",
    "import os\n",
    "import sys\n",
    "from pathlib import Path"
   ]
  },
  {
   "cell_type": "code",
   "execution_count": 3,
   "id": "d3154fbd",
   "metadata": {},
   "outputs": [],
   "source": [
    "EC = str(Path(\"~/proj/encoded_client\").expanduser())\n",
    "if EC not in sys.path:\n",
    "    sys.path.append(EC)\n",
    "from encoded_client.encoded import ENCODED"
   ]
  },
  {
   "cell_type": "code",
   "execution_count": 7,
   "id": "f2c3461c",
   "metadata": {},
   "outputs": [],
   "source": [
    "server = ENCODED(\"www.encodeproject.org\")"
   ]
  },
  {
   "cell_type": "code",
   "execution_count": 8,
   "id": "51e7a2d6",
   "metadata": {},
   "outputs": [],
   "source": [
    "search = \"/search/?type=Experiment&assay_title=scRNA-seq&replicates.library.biosample.donor.organism.scientific_name=Mus+musculus&biosample_ontology.term_name=gastrocnemius&lab.title=Michael+Snyder%2C+Stanford\""
   ]
  },
  {
   "cell_type": "code",
   "execution_count": 27,
   "id": "2a430c3c",
   "metadata": {},
   "outputs": [
    {
     "name": "stdout",
     "output_type": "stream",
     "text": [
      "ENCSR478PUL ENCBS234LLL nucleus Tao Wang\n",
      "ENCSR021MHR ENCBS342SAO nucleus Tao Wang\n",
      "ENCSR771MOE ENCBS969HWV nucleus Diane Trout\n",
      "ENCSR835ZXV ENCBS911KWK nucleus Tao Wang\n",
      "ENCSR163GJZ ENCBS455FAA nucleus Diane Trout\n",
      "ENCSR125XUV ENCBS618FPS nucleus Diane Trout\n",
      "ENCSR188GDL ENCBS589EZL nucleus Diane Trout\n",
      "ENCSR438FRT ENCBS306WRP nucleus Tao Wang\n"
     ]
    }
   ],
   "source": [
    "query = server.get_json(search)\n",
    "for row in query[\"@graph\"]:\n",
    "    for replicate in row[\"replicates\"]:\n",
    "        biosample_accession = replicate[\"library\"][\"biosample\"][\"accession\"]\n",
    "        biosample = server.get_json(\"/biosamples/{}/\".format(biosample_accession))\n",
    "        fraction = biosample.get(\"subcellular_fraction_term_name\")\n",
    "        print(row[\"accession\"], biosample_accession, fraction, biosample[\"submitted_by\"][\"title\"])\n",
    "        #if fraction is None and biosample[\"submitted_by\"][\"title\"] == \"Diane Trout\":\n",
    "        #    print(server.patch_json(biosample[\"@id\"], {\"subcellular_fraction_term_name\": \"nucleus\"}))\n"
   ]
  },
  {
   "cell_type": "code",
   "execution_count": null,
   "id": "4dadd5f4",
   "metadata": {},
   "outputs": [],
   "source": []
  },
  {
   "cell_type": "code",
   "execution_count": null,
   "id": "6ace07b2",
   "metadata": {},
   "outputs": [],
   "source": []
  }
 ],
 "metadata": {
  "kernelspec": {
   "display_name": "Python 3 (ipykernel)",
   "language": "python",
   "name": "python3"
  },
  "language_info": {
   "codemirror_mode": {
    "name": "ipython",
    "version": 3
   },
   "file_extension": ".py",
   "mimetype": "text/x-python",
   "name": "python",
   "nbconvert_exporter": "python",
   "pygments_lexer": "ipython3",
   "version": "3.9.9"
  }
 },
 "nbformat": 4,
 "nbformat_minor": 5
}
