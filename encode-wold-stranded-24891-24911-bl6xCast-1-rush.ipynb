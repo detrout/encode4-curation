{
 "cells": [
  {
   "cell_type": "markdown",
   "metadata": {},
   "source": [
    "Preparing to submit wold stranded samples....\n"
   ]
  },
  {
   "cell_type": "code",
   "execution_count": null,
   "metadata": {},
   "outputs": [],
   "source": [
    "import os\n",
    "import sys\n",
    "import requests\n",
    "import pandas\n",
    "import paramiko\n",
    "import re\n",
    "import json\n",
    "from IPython import display\n",
    "from pathlib import Path\n",
    "import configparser"
   ]
  },
  {
   "cell_type": "code",
   "execution_count": null,
   "metadata": {},
   "outputs": [],
   "source": [
    "from curation_common import *\n",
    "from encoded_client.encoded import DCCValidator"
   ]
  },
  {
   "cell_type": "code",
   "execution_count": null,
   "metadata": {},
   "outputs": [],
   "source": [
    "from encoded_client.encoded import Document\n",
    "from encoded_client.submission import run_aws_cp\n",
    "from htsworkflow.util.api import (\n",
    "    add_auth_options,\n",
    "    make_auth_from_opts,\n",
    "    HtswApi,\n",
    ")"
   ]
  },
  {
   "cell_type": "code",
   "execution_count": null,
   "metadata": {},
   "outputs": [],
   "source": [
    "config = configparser.ConfigParser()\n",
    "config.read([os.path.expanduser('~/.htsworkflow.ini'),\n",
    "             '/etc/htsworkflow.ini'\n",
    "             ])\n",
    "\n",
    "SECTION = 'sequence_archive'\n",
    "if config.has_section(SECTION):\n",
    "    apiid = config.get(SECTION, 'apiid')\n",
    "    apikey = config.get(SECTION, 'apikey')\n",
    "    apihost = config.get(SECTION, 'host')\n",
    "\n",
    "auth = {'apiid': apiid, 'apikey': apikey }\n",
    "htsw = HtswApi(apihost, auth)"
   ]
  },
  {
   "cell_type": "code",
   "execution_count": null,
   "metadata": {},
   "outputs": [],
   "source": [
    "# live server & control file\n",
    "server = ENCODED('www.encodeproject.org')\n",
    "spreadsheet_name = Path('~/woldlab/ENCODE/stranded-24891-24911-bl6xCast-1-rush.xlsx').expanduser()\n",
    "engine=None\n",
    "#engine='odf'\n",
    "\n",
    "# test server & datafile\n",
    "#server = ENCODED('test.encodedcc.org')\n",
    "#spreadsheet_name = os.path.expanduser('~diane/woldlab/ENCODE/C1-encode3-limb-2017-testserver.ods')\n",
    "\n",
    "server.load_netrc()\n",
    "validator = DCCValidator(server)\n",
    "\n",
    "assert spreadsheet_name.exists()"
   ]
  },
  {
   "cell_type": "code",
   "execution_count": null,
   "metadata": {},
   "outputs": [],
   "source": [
    "award = 'UM1HG009443'"
   ]
  },
  {
   "cell_type": "markdown",
   "metadata": {},
   "source": [
    "# Lookup biosample ontologies"
   ]
  },
  {
   "cell_type": "markdown",
   "metadata": {},
   "source": [
    "Lookup any biosample ontologies that are already present"
   ]
  },
  {
   "cell_type": "code",
   "execution_count": null,
   "metadata": {
    "scrolled": false
   },
   "outputs": [],
   "source": [
    "biosample_sheet = pandas.read_excel(spreadsheet_name, sheet_name='Biosample', header=0, engine=engine)\n",
    "\n",
    "for i, row in biosample_sheet.iterrows():\n",
    "    if not pandas.isnull(row.accession) and row.accession.startswith('E'):\n",
    "        biosample = server.get_json(row.accession)\n",
    "        biosample_ontology = biosample['biosample_ontology']\n",
    "        if isinstance(biosample_ontology, dict):\n",
    "            biosample_sheet.loc[i, 'biosample_ontology'] = biosample_ontology['@id']\n",
    "            biosample_sheet.loc[i, 'biosample_term_name:skip'] = biosample_ontology['term_name']\n",
    "            for term in [(\"organism\",\"@id\"), (\"source\",\"@id\"), (\"donor\",\"@id\"), (\"lab\",\"@id\"), (\"award\", \"@id\")]:\n",
    "                if pandas.isnull(biosample_sheet.loc[i, term[0]]):\n",
    "                    biosample_sheet.loc[i, term[0]] = biosample[term[0]][term[1]]\n",
    "            \n",
    "biosample_sheet"
   ]
  },
  {
   "cell_type": "code",
   "execution_count": null,
   "metadata": {},
   "outputs": [],
   "source": [
    "biosample_sheet.to_excel('/dev/shm/biosamples.xlsx', index=False)"
   ]
  },
  {
   "cell_type": "markdown",
   "metadata": {},
   "source": [
    "# Generate experiment descriptions"
   ]
  },
  {
   "cell_type": "code",
   "execution_count": null,
   "metadata": {},
   "outputs": [],
   "source": [
    "biosample_sheet = pandas.read_excel(spreadsheet_name, sheet_name='Biosample', header=0, engine=engine)\n",
    "\n",
    "def uniquify_pandas(rows):\n",
    "    if isinstance(rows, str):\n",
    "        return rows\n",
    "    elif isinstance(rows, pandas.Series):\n",
    "        result = set()\n",
    "        for value in rows:\n",
    "            result.add(value)\n",
    "        assert len(result) == 1, \"Too many values {}\".format(result)\n",
    "        return result.pop()\n",
    "    else:\n",
    "        raise RuntimeError(\"Unexpected type\")\n",
    "\n",
    "experiments = {}\n",
    "\n",
    "for i, row in biosample_sheet.iterrows():\n",
    "    desired = re.sub(\"_rep_[\\d]+(_ENC4_cDNA_[\\d]+)?\", \"\", row.description)\n",
    "    #experiments.setdefault(desired, []).append(row.description)\n",
    "    #biosample_ontology = biosample_sheet.set_index(\"description\").loc[row.description, \"biosample_ontology\"]\n",
    "    #for biosample_ontology_id in biosample_ontology:\n",
    "    #    experiment_ontologies.setdefault(desired, set()).add(biosample_ontology_id)\n",
    "\n",
    "    #print(type(biosample_sheet.set_index(\"description\").loc[row.description, \"biosample_term_name:skip\"]))\n",
    "    #for term in biosample_sheet.set_index(\"description\").loc[row.description, \"biosample_term_name:skip\"]:\n",
    "    #    print(term)\n",
    "    #experiment_ontology_terms.setdefault(desired, set()).add(biosample_ontology_term)\n",
    "    experiment_ontology = uniquify_pandas(biosample_sheet.set_index(\"description\").loc[row.description, \"biosample_ontology\"])\n",
    "    experiment_ontology_term = uniquify_pandas(biosample_sheet.set_index(\"description\").loc[row.description, \"biosample_term_name:skip\"])\n",
    "    experiments[desired] = {\n",
    "        \"biosample_ontology\":experiment_ontology, \n",
    "        \"biosample_ontology_term_name:skip\": experiment_ontology_term\n",
    "    }\n",
    "    \n",
    "experiment_metadata = pandas.DataFrame(experiments).T\n",
    "\n",
    "experiment_metadata.to_excel(\"/dev/shm/experiment_metadata.xlsx\")\n",
    "experiment_metadata\n"
   ]
  },
  {
   "cell_type": "markdown",
   "metadata": {},
   "source": [
    "# Register Biosamples"
   ]
  },
  {
   "cell_type": "code",
   "execution_count": null,
   "metadata": {
    "scrolled": false
   },
   "outputs": [],
   "source": [
    "biosample = pandas.read_excel(spreadsheet_name, sheet_name='Biosample', header=0, engine=engine)\n",
    "created = server.post_sheet('/biosamples/', biosample, \n",
    "                            verbose=True, \n",
    "                            dry_run=True,\n",
    "                            validator=validator)\n",
    "print(len(created))"
   ]
  },
  {
   "cell_type": "code",
   "execution_count": null,
   "metadata": {},
   "outputs": [],
   "source": [
    "if created:\n",
    "    biosample.to_excel('/dev/shm/biosamples.xlsx', index=False)"
   ]
  },
  {
   "cell_type": "markdown",
   "metadata": {},
   "source": [
    "# oops fix aliases"
   ]
  },
  {
   "cell_type": "code",
   "execution_count": null,
   "metadata": {},
   "outputs": [],
   "source": [
    "biosamples = pandas.read_excel(spreadsheet_name, sheet_name='Biosample', header=0, engine=engine)\n",
    "for i, row in biosamples.iterrows():\n",
    "    biosample = server.get_json(\"/biosample/{}/\".format(row.accession))\n",
    "    row_aliases = row[\"aliases:array\"].split(\",\")\n",
    "    if row_aliases != biosample[\"aliases\"]:\n",
    "        print(row.accession, row_aliases, biosample[\"aliases\"])\n",
    "        if 0:\n",
    "            print(server.patch_json(biosample[\"@id\"], {\"aliases\": [row[\"aliases:array\"]]}))\n",
    "            \n",
    "    "
   ]
  },
  {
   "cell_type": "markdown",
   "metadata": {},
   "source": [
    "# Retrieve library starting amount"
   ]
  },
  {
   "cell_type": "code",
   "execution_count": null,
   "metadata": {},
   "outputs": [],
   "source": []
  },
  {
   "cell_type": "code",
   "execution_count": null,
   "metadata": {},
   "outputs": [],
   "source": [
    "print(spreadsheet_name)\n",
    "libraries = pandas.read_excel(spreadsheet_name, sheet_name='Library', header=0, engine=engine)\n",
    "\n",
    "fragment_size = []\n",
    "for i, row in libraries.iterrows():\n",
    "    library_id = row[\"library_id:skip\"]\n",
    "    library_info = htsw.get_library(library_id)    \n",
    "    if pandas.isnull(row[\"average_fragment_size:integer\"]):\n",
    "        fragment_size.append(library_info[\"insert_size\"])\n",
    "    else:\n",
    "        assert library_info[\"insert_size\"] == row[\"average_fragment_size:integer\"], \"{} {} {}!={}\".format(i, library_id, library_info[\"insert_size\"], row[\"average_fragment_size:integer\"])\n",
    "        fragment_size.append(\"{} pass\".format(row[\"average_fragment_size:integer\"]))\n",
    "    \n",
    "print(\"\\n\".join([str(x) for x in fragment_size]))"
   ]
  },
  {
   "cell_type": "markdown",
   "metadata": {},
   "source": [
    "# Register Libraries"
   ]
  },
  {
   "cell_type": "code",
   "execution_count": null,
   "metadata": {
    "scrolled": true
   },
   "outputs": [],
   "source": [
    "print(spreadsheet_name)\n",
    "libraries = pandas.read_excel(spreadsheet_name, sheet_name='Library', header=0, engine=engine)\n",
    "created = server.post_sheet('/libraries/', \n",
    "                            libraries,\n",
    "                            verbose=True, \n",
    "                            dry_run=True, \n",
    "                            validator=validator)\n",
    "print(len(created))"
   ]
  },
  {
   "cell_type": "code",
   "execution_count": null,
   "metadata": {},
   "outputs": [],
   "source": [
    "if created:\n",
    "    libraries.to_excel('/dev/shm/libraries.xlsx', index=False)"
   ]
  },
  {
   "cell_type": "markdown",
   "metadata": {},
   "source": [
    "# Register Experiments"
   ]
  },
  {
   "cell_type": "code",
   "execution_count": null,
   "metadata": {
    "scrolled": true
   },
   "outputs": [],
   "source": [
    "print(server.server)\n",
    "experiments = pandas.read_excel(spreadsheet_name, sheet_name='Experiment', header=0, engine=engine)\n",
    "experiments = experiments[experiments['accession'] != 'barbara approval needed']\n",
    "created = server.post_sheet('/experiments/', \n",
    "                            experiments, \n",
    "                            verbose=True, \n",
    "                            dry_run=True, \n",
    "                            validator=validator)\n",
    "print(len(created))"
   ]
  },
  {
   "cell_type": "code",
   "execution_count": null,
   "metadata": {},
   "outputs": [],
   "source": [
    "if created:\n",
    "    experiments.to_excel('/dev/shm/experiments.xlsx', index=False)"
   ]
  },
  {
   "cell_type": "markdown",
   "metadata": {},
   "source": [
    "# Register Replicates"
   ]
  },
  {
   "cell_type": "code",
   "execution_count": null,
   "metadata": {
    "scrolled": true
   },
   "outputs": [],
   "source": [
    "print(server.server)\n",
    "print(spreadsheet_name)\n",
    "replicates = pandas.read_excel(spreadsheet_name, sheet_name='Replicate', header=0, engine=engine)\n",
    "replicates = replicates[replicates['uuid'] != 'barbara approval needed']\n",
    "created = server.post_sheet('/replicates/',\n",
    "                            replicates, \n",
    "                            verbose=True, \n",
    "                            dry_run=True, \n",
    "                            validator=validator)\n",
    "print(len(created))"
   ]
  },
  {
   "cell_type": "code",
   "execution_count": null,
   "metadata": {},
   "outputs": [],
   "source": [
    "if created:\n",
    "    replicates.to_excel('/dev/shm/replicates.xlsx', index=False)"
   ]
  },
  {
   "cell_type": "markdown",
   "metadata": {},
   "source": [
    "# Check Files"
   ]
  },
  {
   "cell_type": "code",
   "execution_count": null,
   "metadata": {},
   "outputs": [],
   "source": [
    "files = pandas.read_excel(spreadsheet_name, sheet_name='File', header=0, engine=engine)\n",
    "created = server.post_sheet('/files/', files, verbose=True, dry_run=True, validator=validator)\n",
    "print(len(created))"
   ]
  },
  {
   "cell_type": "code",
   "execution_count": null,
   "metadata": {},
   "outputs": [],
   "source": []
  },
  {
   "cell_type": "markdown",
   "metadata": {},
   "source": [
    "# Check NIH Institutional Certifications"
   ]
  },
  {
   "cell_type": "code",
   "execution_count": null,
   "metadata": {},
   "outputs": [],
   "source": [
    "biosample_sheet = pandas.read_excel(spreadsheet_name, sheet_name='Biosample', header=0, engine=engine)\n",
    "\n",
    "for i, row in biosample_sheet.iterrows():\n",
    "    if not pandas.isnull(row.accession) and row.accession.startswith('E'):\n",
    "        biosample = server.get_json(row.accession)\n",
    "        biosample_ontology = biosample['biosample_ontology']\n",
    "        parent = biosample.get(\"part_of\", {})\n",
    "        parent_ontology = parent.get(\"biosample_ontology\", {})\n",
    "        print(biosample[\"accession\"], parent[\"accession\"], parent[\"nih_institutional_certification\"], parent_ontology[\"term_name\"])\n",
    "              #biosample_ontology.get(\"nih_institutional_certification\"), biosample_ontology[\"term_name\"])\n",
    "        #if isinstance(biosample_ontology, dict):\n",
    "        #    biosample_sheet.loc[i, 'biosample_ontology'] = biosample_ontology['@id']\n",
    "        #    biosample_sheet.loc[i, 'biosample_term_name:skip'] = biosample_ontology['term_name']\n",
    "        #    for term in [(\"organism\",\"@id\"), (\"source\",\"@id\"), (\"donor\",\"@id\"), (\"lab\",\"@id\"), (\"award\", \"@id\")]:\n",
    "        #        if pandas.isnull(biosample_sheet.loc[i, term[0]]):\n",
    "        #            biosample_sheet.loc[i, term[0]] = biosample[term[0]][term[1]]\n",
    "            \n",
    "#biosample_sheet"
   ]
  },
  {
   "cell_type": "code",
   "execution_count": null,
   "metadata": {},
   "outputs": [],
   "source": []
  }
 ],
 "metadata": {
  "kernelspec": {
   "display_name": "Python 3 (ipykernel)",
   "language": "python",
   "name": "python3"
  },
  "language_info": {
   "codemirror_mode": {
    "name": "ipython",
    "version": 3
   },
   "file_extension": ".py",
   "mimetype": "text/x-python",
   "name": "python",
   "nbconvert_exporter": "python",
   "pygments_lexer": "ipython3",
   "version": "3.10.8"
  }
 },
 "nbformat": 4,
 "nbformat_minor": 1
}
