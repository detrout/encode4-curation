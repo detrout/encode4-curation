{
 "cells": [
  {
   "cell_type": "code",
   "execution_count": 1,
   "id": "virtual-liechtenstein",
   "metadata": {},
   "outputs": [],
   "source": [
    "import sys\n",
    "from pathlib import Path\n",
    "\n",
    "EC = str(Path(\"~diane/proj/encoded_client\").expanduser())\n",
    "if EC not in sys.path:\n",
    "    sys.path.append(EC)\n",
    "\n",
    "WRS = str(Path(\"~diane/proj/woldlab-rna-seq/\").expanduser())\n",
    "if WRS not in sys.path:\n",
    "    sys.path.append(WRS)\n",
    "    "
   ]
  },
  {
   "cell_type": "code",
   "execution_count": 2,
   "id": "acute-province",
   "metadata": {},
   "outputs": [],
   "source": [
    "import pandas\n",
    "from encoded_client.encoded import ENCODED\n",
    "from tqdm import tqdm\n",
    "\n",
    "from woldrnaseq.madqc import load_rsem_quantifications"
   ]
  },
  {
   "cell_type": "code",
   "execution_count": 3,
   "id": "technical-legislature",
   "metadata": {},
   "outputs": [],
   "source": [
    "server = ENCODED(\"www.encodeproject.org\")"
   ]
  },
  {
   "cell_type": "code",
   "execution_count": 4,
   "id": "transparent-stick",
   "metadata": {},
   "outputs": [],
   "source": [
    "#query_all = \"https://www.encodeproject.org/search/?type=Experiment&status=released&assay_title=total+RNA-seq&lab.title=Barbara+Wold%2C+Caltech\"\n",
    "query_mouse = \"https://www.encodeproject.org/search/?type=Experiment&control_type!=*&status=released&perturbed=false&assay_title=total+RNA-seq&lab.title=Barbara+Wold%2C+Caltech&award.rfa=ENCODE4&replicates.library.biosample.donor.organism.scientific_name=Mus+musculus\"\n",
    "\n",
    "graph = server.get_json(query_mouse)[\"@graph\"]\n",
    "    "
   ]
  },
  {
   "cell_type": "code",
   "execution_count": 5,
   "id": "statewide-beijing",
   "metadata": {},
   "outputs": [
    {
     "data": {
      "text/plain": [
       "'https://www.encodeproject.org/files/ENCFF231OXS/@@download/ENCFF231OXS.tsv'"
      ]
     },
     "execution_count": 5,
     "metadata": {},
     "output_type": "execute_result"
    }
   ],
   "source": [
    "def get_rsem_url(experiment_id):\n",
    "    e = server.get_json(experiment_id)\n",
    "    default_analysis = e[\"default_analysis\"]\n",
    "    for f in e['files']:\n",
    "        analyses = [x[\"@id\"] for x in f.get(\"analyses\", [])]\n",
    "        if f.get('output_type', None) == 'gene quantifications' and default_analysis in analyses:\n",
    "            url = 'https://www.encodeproject.org' + f['href']\n",
    "            return url\n",
    "\n",
    "get_rsem_url(graph[0][\"@id\"])"
   ]
  },
  {
   "cell_type": "code",
   "execution_count": 6,
   "id": "passive-eugene",
   "metadata": {},
   "outputs": [
    {
     "name": "stderr",
     "output_type": "stream",
     "text": [
      "100%|██████████| 79/79 [00:13<00:00,  5.81it/s]\n"
     ]
    }
   ],
   "source": [
    "rsem_urls = []\n",
    "for row in tqdm(graph):\n",
    "    url = get_rsem_url(row[\"@id\"])\n",
    "    if url is not None:\n",
    "        rsem_urls.append(url)"
   ]
  },
  {
   "cell_type": "code",
   "execution_count": 7,
   "id": "secret-purpose",
   "metadata": {},
   "outputs": [],
   "source": [
    "tpms = load_rsem_quantifications(rsem_urls, column=\"TPM\")"
   ]
  },
  {
   "cell_type": "code",
   "execution_count": 18,
   "id": "regulation-assembly",
   "metadata": {},
   "outputs": [],
   "source": [
    "spike_sum = tpms.iloc[-97:].sum()"
   ]
  },
  {
   "cell_type": "code",
   "execution_count": 19,
   "id": "married-compound",
   "metadata": {},
   "outputs": [],
   "source": [
    "total = tpms.sum()"
   ]
  },
  {
   "cell_type": "code",
   "execution_count": 20,
   "id": "isolated-ranch",
   "metadata": {},
   "outputs": [],
   "source": [
    "fraction_spikes = (spike_sum / total)"
   ]
  },
  {
   "cell_type": "code",
   "execution_count": 21,
   "id": "tracked-vehicle",
   "metadata": {},
   "outputs": [
    {
     "data": {
      "text/plain": [
       "<AxesSubplot:>"
      ]
     },
     "execution_count": 21,
     "metadata": {},
     "output_type": "execute_result"
    },
    {
     "data": {
      "image/png": "[encoded data removed]",
      "text/plain": [
       "<Figure size 432x288 with 1 Axes>"
      ]
     },
     "metadata": {
      "needs_background": "light"
     },
     "output_type": "display_data"
    }
   ],
   "source": [
    "fraction_spikes.sort_values().plot()"
   ]
  },
  {
   "cell_type": "code",
   "execution_count": null,
   "id": "distant-eight",
   "metadata": {},
   "outputs": [],
   "source": []
  }
 ],
 "metadata": {
  "kernelspec": {
   "display_name": "Python 3",
   "language": "python",
   "name": "python3"
  },
  "language_info": {
   "codemirror_mode": {
    "name": "ipython",
    "version": 3
   },
   "file_extension": ".py",
   "mimetype": "text/x-python",
   "name": "python",
   "nbconvert_exporter": "python",
   "pygments_lexer": "ipython3",
   "version": "3.9.2"
  }
 },
 "nbformat": 4,
 "nbformat_minor": 5
}
