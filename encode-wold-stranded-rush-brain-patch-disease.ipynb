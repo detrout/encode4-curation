{
 "cells": [
  {
   "cell_type": "markdown",
   "metadata": {},
   "source": [
    "Preparing to submit wold stranded samples....\n",
    "\n",
    "This got a little messy because a couple libraries needed a top up."
   ]
  },
  {
   "cell_type": "code",
   "execution_count": 1,
   "metadata": {},
   "outputs": [],
   "source": [
    "import os\n",
    "import sys\n",
    "import requests\n",
    "import pandas\n",
    "import paramiko\n",
    "import re\n",
    "import json\n",
    "from IPython import display\n",
    "from pathlib import Path\n",
    "import configparser"
   ]
  },
  {
   "cell_type": "code",
   "execution_count": 2,
   "metadata": {},
   "outputs": [],
   "source": [
    "from curation_common import *\n",
    "from encoded_client.encoded import DCCValidator"
   ]
  },
  {
   "cell_type": "code",
   "execution_count": 3,
   "metadata": {},
   "outputs": [],
   "source": [
    "from encoded_client.encoded import Document\n",
    "from encoded_client.submission import run_aws_cp\n",
    "from htsworkflow.util.api import (\n",
    "    add_auth_options,\n",
    "    make_auth_from_opts,\n",
    "    HtswApi,\n",
    ")"
   ]
  },
  {
   "cell_type": "code",
   "execution_count": 4,
   "metadata": {},
   "outputs": [
    {
     "name": "stdout",
     "output_type": "stream",
     "text": [
      "/etc/ssl/certs/ca-certificates.crt\r\n"
     ]
    }
   ],
   "source": [
    "ls /etc/ssl/certs/ca-certificates.crt"
   ]
  },
  {
   "cell_type": "code",
   "execution_count": 5,
   "metadata": {},
   "outputs": [],
   "source": [
    "config = configparser.ConfigParser()\n",
    "config.read([os.path.expanduser('~/.htsworkflow.ini'),\n",
    "             '/etc/htsworkflow.ini'\n",
    "             ])\n",
    "\n",
    "SECTION = 'sequence_archive'\n",
    "if config.has_section(SECTION):\n",
    "    apiid = config.get(SECTION, 'apiid')\n",
    "    apikey = config.get(SECTION, 'apikey')\n",
    "    apihost = config.get(SECTION, 'host')\n",
    "\n",
    "auth = {'apiid': apiid, 'apikey': apikey }\n",
    "htsw = HtswApi(apihost, auth)"
   ]
  },
  {
   "cell_type": "code",
   "execution_count": 6,
   "metadata": {},
   "outputs": [],
   "source": [
    "# live server & control file\n",
    "server = ENCODED('www.encodeproject.org')\n",
    "engine=None\n",
    "#engine='odf'\n",
    "\n",
    "# test server & datafile\n",
    "#server = ENCODED('test.encodedcc.org')\n",
    "#spreadsheet_name = os.path.expanduser('~diane/woldlab/ENCODE/C1-encode3-limb-2017-testserver.ods')\n",
    "\n",
    "server.load_netrc()\n",
    "validator = DCCValidator(server)"
   ]
  },
  {
   "cell_type": "code",
   "execution_count": 7,
   "metadata": {},
   "outputs": [],
   "source": [
    "award = 'UM1HG009443'"
   ]
  },
  {
   "cell_type": "markdown",
   "metadata": {},
   "source": [
    "# Lookup biosample ontologies"
   ]
  },
  {
   "cell_type": "markdown",
   "metadata": {},
   "source": [
    "Lookup any biosample ontologies that are already present"
   ]
  },
  {
   "cell_type": "code",
   "execution_count": 17,
   "metadata": {},
   "outputs": [],
   "source": [
    "clinical_to_disease_map = {\n",
    "    'MCI + no CI': ['DOID:0080832'],\n",
    "    'NINCDS PROB AD': ['DOID:10652'],\n",
    "    'NINCDS POSS AD': ['DOID:10652', 'HP:0100543'],\n",
    "    'MCI + CI': ['HP:0100543'],\n",
    "    'NCI': None,\n",
    "}"
   ]
  },
  {
   "cell_type": "code",
   "execution_count": 20,
   "metadata": {},
   "outputs": [],
   "source": [
    "def fix_disease_term_id(spreadhseet_name, dry_run=True):\n",
    "    print(spreadsheet_name)\n",
    "    biosample = pandas.read_excel(spreadsheet_name, sheet_name='Biosample', header=0, engine=engine)\n",
    "    count = 0\n",
    "\n",
    "    for i, row in biosample.iterrows():\n",
    "        if not pandas.isnull(row.accession) and row.accession.startswith('E'):\n",
    "            clinical_status = row[\"clinical_status:skip\"]\n",
    "            expected_disease_id = clinical_to_disease_map[clinical_status]\n",
    "            obj = server.get_json(row.accession)\n",
    "            disease_id = obj.get(\"disease_term_id\")\n",
    "            if disease_id != expected_disease_id:\n",
    "                count += 1\n",
    "                payload = {\"disease_term_id\": expected_disease_id}\n",
    "                if dry_run:\n",
    "                    print(obj[\"@id\"], payload)\n",
    "                else:\n",
    "                    print(server.patch_json(obj[\"@id\"], payload))\n",
    "    print(\"change\", count)\n",
    "    return biosample"
   ]
  },
  {
   "cell_type": "code",
   "execution_count": 24,
   "metadata": {},
   "outputs": [
    {
     "name": "stdout",
     "output_type": "stream",
     "text": [
      "/home/diane/woldlab/ENCODE/stranded-24038-24061-rush-resubmit.xlsx\n",
      "/biosamples/ENCBS644WSW/ {'disease_term_id': ['DOID:10652']}\n",
      "/biosamples/ENCBS436WHA/ {'disease_term_id': ['DOID:10652']}\n",
      "/biosamples/ENCBS481WHG/ {'disease_term_id': ['DOID:10652']}\n",
      "/biosamples/ENCBS660AUE/ {'disease_term_id': ['DOID:10652']}\n",
      "/biosamples/ENCBS422TMB/ {'disease_term_id': ['DOID:10652']}\n",
      "/biosamples/ENCBS675FWG/ {'disease_term_id': ['DOID:10652']}\n",
      "/biosamples/ENCBS431HLD/ {'disease_term_id': ['DOID:0080832']}\n",
      "/biosamples/ENCBS542OFI/ {'disease_term_id': ['DOID:10652', 'HP:0100543']}\n",
      "/biosamples/ENCBS958WOW/ {'disease_term_id': ['DOID:0080832']}\n",
      "/biosamples/ENCBS928RYN/ {'disease_term_id': ['DOID:10652']}\n",
      "/biosamples/ENCBS839OMR/ {'disease_term_id': ['DOID:10652', 'HP:0100543']}\n",
      "/biosamples/ENCBS048EXC/ {'disease_term_id': ['DOID:10652']}\n",
      "change 12\n"
     ]
    }
   ],
   "source": [
    "spreadsheet_name = Path('~/woldlab/ENCODE/stranded-24038-24061-rush-resubmit.xlsx').expanduser()\n",
    "biosample = fix_disease_term_id(spreadsheet_name, dry_run=True)"
   ]
  },
  {
   "cell_type": "code",
   "execution_count": 25,
   "metadata": {},
   "outputs": [
    {
     "name": "stdout",
     "output_type": "stream",
     "text": [
      "/home/diane/woldlab/ENCODE/stranded-24196-24219-rush-resubmit.xlsx\n",
      "{'status': 'success', '@type': ['result'], '@graph': [{'accession': 'ENCBS190LXS', 'aliases': ['barbara-wold:ENC4_cDNA673'], 'schema_version': '26', 'status': 'in progress', 'lab': '/labs/barbara-wold/', 'award': '/awards/UM1HG009443/', 'date_created': '2022-03-28T20:24:50.793786+00:00', 'submitted_by': '/users/bc5b62f7-ce28-4a1e-b6b3-81c9c5a86d7a/', 'documents': [], 'references': [], 'source': '/sources/rush-university/', 'biosample_ontology': '/biosample-types/tissue_UBERON_0006483/', 'genetic_modifications': [], 'alternate_accessions': [], 'description': 'human_brain_Rush ID_E3253149_BS96_ENC4_cDNA673', 'treatments': [], 'dbxrefs': [], 'donor': '/human-donors/ENCDO877NVF/', 'organism': '/organisms/human/', 'internal_tags': ['RushAD'], 'disease_term_id': ['DOID:0080832'], '@id': '/biosamples/ENCBS190LXS/', '@type': ['Biosample', 'Item'], 'uuid': '3fa91232-1624-432f-8fe0-17fc63e67ee5', 'sex': 'male', 'age': '90 or above', 'age_units': 'year', 'disease_term_name': ['mild cognitive impairment'], 'life_stage': 'adult', 'applied_modifications': [], 'characterizations': [], 'parent_of': [], 'age_display': '90 or above years', 'perturbed': False, 'simple_summary': 'male adult (90 or above years) with mild cognitive impairment', 'summary': 'Homo sapiens male adult (90 or above years) with mild cognitive impairment; middle frontal area 46 tissue'}]}\n",
      "{'status': 'success', '@type': ['result'], '@graph': [{'accession': 'ENCBS129NMG', 'aliases': ['barbara-wold:ENC4_cDNA675'], 'schema_version': '26', 'status': 'in progress', 'lab': '/labs/barbara-wold/', 'award': '/awards/UM1HG009443/', 'date_created': '2022-03-28T20:24:51.459371+00:00', 'submitted_by': '/users/bc5b62f7-ce28-4a1e-b6b3-81c9c5a86d7a/', 'documents': [], 'references': [], 'source': '/sources/rush-university/', 'biosample_ontology': '/biosample-types/tissue_UBERON_0006483/', 'genetic_modifications': [], 'alternate_accessions': [], 'description': 'human_brain_Rush ID_E4638217_BS98_ENC4_cDNA675', 'treatments': [], 'dbxrefs': [], 'donor': '/human-donors/ENCDO305GYI/', 'organism': '/organisms/human/', 'internal_tags': ['RushAD'], 'disease_term_id': ['DOID:0080832'], '@id': '/biosamples/ENCBS129NMG/', '@type': ['Biosample', 'Item'], 'uuid': '9dcc1b67-e362-431a-ba14-0670da3ff189', 'sex': 'female', 'age': '90 or above', 'age_units': 'year', 'disease_term_name': ['mild cognitive impairment'], 'life_stage': 'adult', 'applied_modifications': [], 'characterizations': [], 'parent_of': [], 'age_display': '90 or above years', 'perturbed': False, 'simple_summary': 'female adult (90 or above years) with mild cognitive impairment', 'summary': 'Homo sapiens female adult (90 or above years) with mild cognitive impairment; middle frontal area 46 tissue'}]}\n",
      "{'status': 'success', '@type': ['result'], '@graph': [{'accession': 'ENCBS997UQN', 'aliases': ['barbara-wold:ENC4_cDNA676'], 'schema_version': '26', 'status': 'in progress', 'lab': '/labs/barbara-wold/', 'award': '/awards/UM1HG009443/', 'date_created': '2022-03-28T20:24:51.778604+00:00', 'submitted_by': '/users/bc5b62f7-ce28-4a1e-b6b3-81c9c5a86d7a/', 'documents': [], 'references': [], 'source': '/sources/rush-university/', 'biosample_ontology': '/biosample-types/tissue_UBERON_0006483/', 'genetic_modifications': [], 'alternate_accessions': [], 'description': 'human_brain_Rush ID_E4646042_BS99_ENC4_cDNA676', 'treatments': [], 'dbxrefs': [], 'donor': '/human-donors/ENCDO746DTM/', 'organism': '/organisms/human/', 'internal_tags': ['RushAD'], 'disease_term_id': ['DOID:0080832'], '@id': '/biosamples/ENCBS997UQN/', '@type': ['Biosample', 'Item'], 'uuid': 'dc8f6768-e25a-4603-8072-3dae6615f4b3', 'sex': 'female', 'age': '90 or above', 'age_units': 'year', 'disease_term_name': ['mild cognitive impairment'], 'life_stage': 'adult', 'applied_modifications': [], 'characterizations': [], 'parent_of': [], 'age_display': '90 or above years', 'perturbed': False, 'simple_summary': 'female adult (90 or above years) with mild cognitive impairment', 'summary': 'Homo sapiens female adult (90 or above years) with mild cognitive impairment; middle frontal area 46 tissue'}]}\n",
      "{'status': 'success', '@type': ['result'], '@graph': [{'accession': 'ENCBS754RPU', 'aliases': ['barbara-wold:ENC4_cDNA677'], 'schema_version': '26', 'status': 'in progress', 'lab': '/labs/barbara-wold/', 'award': '/awards/UM1HG009443/', 'date_created': '2022-03-28T20:24:52.081682+00:00', 'submitted_by': '/users/bc5b62f7-ce28-4a1e-b6b3-81c9c5a86d7a/', 'documents': [], 'references': [], 'source': '/sources/rush-university/', 'biosample_ontology': '/biosample-types/tissue_UBERON_0006483/', 'genetic_modifications': [], 'alternate_accessions': [], 'description': 'human_brain_Rush ID_E5448057_BS100_ENC4_cDNA677', 'treatments': [], 'dbxrefs': [], 'donor': '/human-donors/ENCDO077CCP/', 'organism': '/organisms/human/', 'internal_tags': ['RushAD'], 'disease_term_id': ['HP:0100543'], '@id': '/biosamples/ENCBS754RPU/', '@type': ['Biosample', 'Item'], 'uuid': '27920e09-61e6-4cf0-852e-725fb9f2277f', 'sex': 'female', 'age': '81', 'age_units': 'year', 'disease_term_name': ['Cognitive impairment'], 'life_stage': 'adult', 'applied_modifications': [], 'characterizations': [], 'parent_of': [], 'age_display': '81 years', 'perturbed': False, 'simple_summary': 'female adult (81 years) with Cognitive impairment', 'summary': 'Homo sapiens female adult (81 years) with Cognitive impairment; middle frontal area 46 tissue'}]}\n",
      "{'status': 'success', '@type': ['result'], '@graph': [{'accession': 'ENCBS885BFB', 'aliases': ['barbara-wold:ENC4_cDNA679'], 'schema_version': '26', 'status': 'in progress', 'lab': '/labs/barbara-wold/', 'award': '/awards/UM1HG009443/', 'date_created': '2022-03-28T20:24:52.683835+00:00', 'submitted_by': '/users/bc5b62f7-ce28-4a1e-b6b3-81c9c5a86d7a/', 'documents': [], 'references': [], 'source': '/sources/rush-university/', 'biosample_ontology': '/biosample-types/tissue_UBERON_0006483/', 'genetic_modifications': [], 'alternate_accessions': [], 'description': 'human_brain_Rush ID_E1005516_BS117_ENC4_cDNA679', 'treatments': [], 'dbxrefs': [], 'donor': '/human-donors/ENCDO020BIL/', 'organism': '/organisms/human/', 'internal_tags': ['RushAD'], 'disease_term_id': ['DOID:10652'], '@id': '/biosamples/ENCBS885BFB/', '@type': ['Biosample', 'Item'], 'uuid': '01a4646c-0878-4008-972d-62fe3cb97438', 'sex': 'female', 'age': '90 or above', 'age_units': 'year', 'disease_term_name': [\"Alzheimer's disease\"], 'life_stage': 'adult', 'applied_modifications': [], 'characterizations': [], 'parent_of': [], 'age_display': '90 or above years', 'perturbed': False, 'simple_summary': \"female adult (90 or above years) with Alzheimer's disease\", 'summary': \"Homo sapiens female adult (90 or above years) with Alzheimer's disease; middle frontal area 46 tissue\"}]}\n",
      "{'status': 'success', '@type': ['result'], '@graph': [{'accession': 'ENCBS372KDQ', 'aliases': ['barbara-wold:ENC4_cDNA680'], 'schema_version': '26', 'status': 'in progress', 'lab': '/labs/barbara-wold/', 'award': '/awards/UM1HG009443/', 'date_created': '2022-03-28T20:24:52.968611+00:00', 'submitted_by': '/users/bc5b62f7-ce28-4a1e-b6b3-81c9c5a86d7a/', 'documents': [], 'references': [], 'source': '/sources/rush-university/', 'biosample_ontology': '/biosample-types/tissue_UBERON_0006483/', 'genetic_modifications': [], 'alternate_accessions': [], 'description': 'human_brain_Rush ID_E1097236_BS118_ENC4_cDNA680', 'treatments': [], 'dbxrefs': [], 'donor': '/human-donors/ENCDO080EZF/', 'organism': '/organisms/human/', 'internal_tags': ['RushAD'], 'disease_term_id': ['DOID:10652'], '@id': '/biosamples/ENCBS372KDQ/', '@type': ['Biosample', 'Item'], 'uuid': 'fbc372f6-bc9b-4ed3-b19f-6b6fe90b62b3', 'sex': 'female', 'age': '85', 'age_units': 'year', 'disease_term_name': [\"Alzheimer's disease\"], 'life_stage': 'adult', 'applied_modifications': [], 'characterizations': [], 'parent_of': [], 'age_display': '85 years', 'perturbed': False, 'simple_summary': \"female adult (85 years) with Alzheimer's disease\", 'summary': \"Homo sapiens female adult (85 years) with Alzheimer's disease; middle frontal area 46 tissue\"}]}\n",
      "{'status': 'success', '@type': ['result'], '@graph': [{'accession': 'ENCBS606ENA', 'aliases': ['barbara-wold:ENC4_cDNA684'], 'schema_version': '26', 'status': 'in progress', 'lab': '/labs/barbara-wold/', 'award': '/awards/UM1HG009443/', 'date_created': '2022-03-28T20:24:54.126908+00:00', 'submitted_by': '/users/bc5b62f7-ce28-4a1e-b6b3-81c9c5a86d7a/', 'documents': [], 'references': [], 'source': '/sources/rush-university/', 'biosample_ontology': '/biosample-types/tissue_UBERON_0006483/', 'genetic_modifications': [], 'alternate_accessions': [], 'description': 'human_brain_Rush ID_E2987202_BS122_ENC4_cDNA684', 'treatments': [], 'dbxrefs': [], 'donor': '/human-donors/ENCDO921RVK/', 'organism': '/organisms/human/', 'internal_tags': ['RushAD'], 'disease_term_id': ['DOID:10652'], '@id': '/biosamples/ENCBS606ENA/', '@type': ['Biosample', 'Item'], 'uuid': '155354a1-a6cd-458b-9db3-cd8faae2d588', 'sex': 'male', 'age': '90 or above', 'age_units': 'year', 'disease_term_name': [\"Alzheimer's disease\"], 'life_stage': 'adult', 'applied_modifications': [], 'characterizations': [], 'parent_of': [], 'age_display': '90 or above years', 'perturbed': False, 'simple_summary': \"male adult (90 or above years) with Alzheimer's disease\", 'summary': \"Homo sapiens male adult (90 or above years) with Alzheimer's disease; middle frontal area 46 tissue\"}]}\n"
     ]
    },
    {
     "name": "stdout",
     "output_type": "stream",
     "text": [
      "{'status': 'success', '@type': ['result'], '@graph': [{'accession': 'ENCBS745ELX', 'aliases': ['barbara-wold:ENC4_cDNA685'], 'schema_version': '26', 'status': 'in progress', 'lab': '/labs/barbara-wold/', 'award': '/awards/UM1HG009443/', 'date_created': '2022-03-28T20:24:54.440473+00:00', 'submitted_by': '/users/bc5b62f7-ce28-4a1e-b6b3-81c9c5a86d7a/', 'documents': [], 'references': [], 'source': '/sources/rush-university/', 'biosample_ontology': '/biosample-types/tissue_UBERON_0006483/', 'genetic_modifications': [], 'alternate_accessions': [], 'description': 'human_brain_Rush ID_E3348003_BS123_ENC4_cDNA685', 'treatments': [], 'dbxrefs': [], 'donor': '/human-donors/ENCDO730UYW/', 'organism': '/organisms/human/', 'internal_tags': ['RushAD'], 'disease_term_id': ['DOID:10652'], '@id': '/biosamples/ENCBS745ELX/', '@type': ['Biosample', 'Item'], 'uuid': '01b97ed1-4636-4022-ad43-4676aeb96db2', 'sex': 'female', 'age': '90 or above', 'age_units': 'year', 'disease_term_name': [\"Alzheimer's disease\"], 'life_stage': 'adult', 'applied_modifications': [], 'characterizations': [], 'parent_of': [], 'age_display': '90 or above years', 'perturbed': False, 'simple_summary': \"female adult (90 or above years) with Alzheimer's disease\", 'summary': \"Homo sapiens female adult (90 or above years) with Alzheimer's disease; middle frontal area 46 tissue\"}]}\n",
      "{'status': 'success', '@type': ['result'], '@graph': [{'accession': 'ENCBS787ZKP', 'aliases': ['barbara-wold:ENC4_cDNA686'], 'schema_version': '26', 'status': 'in progress', 'lab': '/labs/barbara-wold/', 'award': '/awards/UM1HG009443/', 'date_created': '2022-03-28T20:24:54.739412+00:00', 'submitted_by': '/users/bc5b62f7-ce28-4a1e-b6b3-81c9c5a86d7a/', 'documents': [], 'references': [], 'source': '/sources/rush-university/', 'biosample_ontology': '/biosample-types/tissue_UBERON_0006483/', 'genetic_modifications': [], 'alternate_accessions': [], 'description': 'human_brain_Rush ID_E5605087_BS124_ENC4_cDNA686', 'treatments': [], 'dbxrefs': [], 'donor': '/human-donors/ENCDO865EMM/', 'organism': '/organisms/human/', 'internal_tags': ['RushAD'], 'disease_term_id': ['DOID:10652'], '@id': '/biosamples/ENCBS787ZKP/', '@type': ['Biosample', 'Item'], 'uuid': '1969baf9-8eba-491d-ae9e-8cd1b8948dce', 'sex': 'female', 'age': '90 or above', 'age_units': 'year', 'disease_term_name': [\"Alzheimer's disease\"], 'life_stage': 'adult', 'applied_modifications': [], 'characterizations': [], 'parent_of': [], 'age_display': '90 or above years', 'perturbed': False, 'simple_summary': \"female adult (90 or above years) with Alzheimer's disease\", 'summary': \"Homo sapiens female adult (90 or above years) with Alzheimer's disease; middle frontal area 46 tissue\"}]}\n",
      "{'status': 'success', '@type': ['result'], '@graph': [{'accession': 'ENCBS485BXU', 'aliases': ['barbara-wold:ENC4_cDNA689'], 'schema_version': '26', 'status': 'in progress', 'lab': '/labs/barbara-wold/', 'award': '/awards/UM1HG009443/', 'date_created': '2022-03-28T20:24:55.722708+00:00', 'submitted_by': '/users/bc5b62f7-ce28-4a1e-b6b3-81c9c5a86d7a/', 'documents': [], 'references': [], 'source': '/sources/rush-university/', 'biosample_ontology': '/biosample-types/tissue_UBERON_0006483/', 'genetic_modifications': [], 'alternate_accessions': [], 'description': 'human_brain_Rush ID_E8259623_BS127_ENC4_cDNA689', 'treatments': [], 'dbxrefs': [], 'donor': '/human-donors/ENCDO430XKI/', 'organism': '/organisms/human/', 'internal_tags': ['RushAD'], 'disease_term_id': ['DOID:10652'], '@id': '/biosamples/ENCBS485BXU/', '@type': ['Biosample', 'Item'], 'uuid': 'edfebfe5-2643-4b08-a4a1-48e6720b2499', 'sex': 'female', 'age': '88', 'age_units': 'year', 'disease_term_name': [\"Alzheimer's disease\"], 'life_stage': 'adult', 'applied_modifications': [], 'characterizations': [], 'parent_of': [], 'age_display': '88 years', 'perturbed': False, 'simple_summary': \"female adult (88 years) with Alzheimer's disease\", 'summary': \"Homo sapiens female adult (88 years) with Alzheimer's disease; middle frontal area 46 tissue\"}]}\n",
      "{'status': 'success', '@type': ['result'], '@graph': [{'accession': 'ENCBS963SPU', 'aliases': ['barbara-wold:ENC4_cDNA690'], 'schema_version': '26', 'status': 'in progress', 'lab': '/labs/barbara-wold/', 'award': '/awards/UM1HG009443/', 'date_created': '2022-03-28T20:24:56.016919+00:00', 'submitted_by': '/users/bc5b62f7-ce28-4a1e-b6b3-81c9c5a86d7a/', 'documents': [], 'references': [], 'source': '/sources/rush-university/', 'biosample_ontology': '/biosample-types/tissue_UBERON_0006483/', 'genetic_modifications': [], 'alternate_accessions': [], 'description': 'human_brain_Rush ID_E8277356_BS128_ENC4_cDNA690', 'treatments': [], 'dbxrefs': [], 'donor': '/human-donors/ENCDO287LNQ/', 'organism': '/organisms/human/', 'internal_tags': ['RushAD'], 'disease_term_id': ['DOID:10652'], '@id': '/biosamples/ENCBS963SPU/', '@type': ['Biosample', 'Item'], 'uuid': '407d21af-12c0-4573-a13a-cb4831e07693', 'sex': 'male', 'age': '90 or above', 'age_units': 'year', 'disease_term_name': [\"Alzheimer's disease\"], 'life_stage': 'adult', 'applied_modifications': [], 'characterizations': [], 'parent_of': [], 'age_display': '90 or above years', 'perturbed': False, 'simple_summary': \"male adult (90 or above years) with Alzheimer's disease\", 'summary': \"Homo sapiens male adult (90 or above years) with Alzheimer's disease; middle frontal area 46 tissue\"}]}\n",
      "{'status': 'success', '@type': ['result'], '@graph': [{'accession': 'ENCBS177AWD', 'aliases': ['barbara-wold:ENC4_cDNA694'], 'schema_version': '26', 'status': 'in progress', 'lab': '/labs/barbara-wold/', 'award': '/awards/UM1HG009443/', 'date_created': '2022-03-28T20:24:57.200193+00:00', 'submitted_by': '/users/bc5b62f7-ce28-4a1e-b6b3-81c9c5a86d7a/', 'documents': [], 'references': [], 'source': '/sources/rush-university/', 'biosample_ontology': '/biosample-types/tissue_UBERON_0006483/', 'genetic_modifications': [], 'alternate_accessions': [], 'description': 'human_brain_Rush ID_E2501226_BS144_ENC4_cDNA694', 'treatments': [], 'dbxrefs': [], 'donor': '/human-donors/ENCDO907CMO/', 'organism': '/organisms/human/', 'internal_tags': ['RushAD'], 'disease_term_id': ['DOID:10652'], '@id': '/biosamples/ENCBS177AWD/', '@type': ['Biosample', 'Item'], 'uuid': '31d7bf74-ec54-4750-9b0c-740dd972bc77', 'sex': 'female', 'age': '74', 'age_units': 'year', 'disease_term_name': [\"Alzheimer's disease\"], 'life_stage': 'adult', 'applied_modifications': [], 'characterizations': [], 'parent_of': [], 'age_display': '74 years', 'perturbed': False, 'simple_summary': \"female adult (74 years) with Alzheimer's disease\", 'summary': \"Homo sapiens female adult (74 years) with Alzheimer's disease; middle frontal area 46 tissue\"}]}\n",
      "{'status': 'success', '@type': ['result'], '@graph': [{'accession': 'ENCBS305EMK', 'aliases': ['barbara-wold:ENC4_cDNA695'], 'schema_version': '26', 'status': 'in progress', 'lab': '/labs/barbara-wold/', 'award': '/awards/UM1HG009443/', 'date_created': '2022-03-28T20:24:57.490708+00:00', 'submitted_by': '/users/bc5b62f7-ce28-4a1e-b6b3-81c9c5a86d7a/', 'documents': [], 'references': [], 'source': '/sources/rush-university/', 'biosample_ontology': '/biosample-types/tissue_UBERON_0006483/', 'genetic_modifications': [], 'alternate_accessions': [], 'description': 'human_brain_Rush ID_E2962456_BS145_ENC4_cDNA695', 'treatments': [], 'dbxrefs': [], 'donor': '/human-donors/ENCDO201EUI/', 'organism': '/organisms/human/', 'internal_tags': ['RushAD'], 'disease_term_id': ['DOID:10652'], '@id': '/biosamples/ENCBS305EMK/', '@type': ['Biosample', 'Item'], 'uuid': 'd8e382af-660d-4e32-9161-2cf8f9966ddc', 'sex': 'female', 'age': '90 or above', 'age_units': 'year', 'disease_term_name': [\"Alzheimer's disease\"], 'life_stage': 'adult', 'applied_modifications': [], 'characterizations': [], 'parent_of': [], 'age_display': '90 or above years', 'perturbed': False, 'simple_summary': \"female adult (90 or above years) with Alzheimer's disease\", 'summary': \"Homo sapiens female adult (90 or above years) with Alzheimer's disease; middle frontal area 46 tissue\"}]}\n",
      "{'status': 'success', '@type': ['result'], '@graph': [{'accession': 'ENCBS308QTA', 'aliases': ['barbara-wold:ENC4_cDNA696'], 'schema_version': '26', 'status': 'in progress', 'lab': '/labs/barbara-wold/', 'award': '/awards/UM1HG009443/', 'date_created': '2022-03-28T20:24:57.762003+00:00', 'submitted_by': '/users/bc5b62f7-ce28-4a1e-b6b3-81c9c5a86d7a/', 'documents': [], 'references': [], 'source': '/sources/rush-university/', 'biosample_ontology': '/biosample-types/tissue_UBERON_0006483/', 'genetic_modifications': [], 'alternate_accessions': [], 'description': 'human_brain_Rush ID_E2987977_BS146_ENC4_cDNA696', 'treatments': [], 'dbxrefs': [], 'donor': '/human-donors/ENCDO651VQQ/', 'organism': '/organisms/human/', 'internal_tags': ['RushAD'], 'disease_term_id': ['DOID:10652'], '@id': '/biosamples/ENCBS308QTA/', '@type': ['Biosample', 'Item'], 'uuid': '55315ea1-dae4-4225-9b40-846abb27dd45', 'sex': 'female', 'age': '90 or above', 'age_units': 'year', 'disease_term_name': [\"Alzheimer's disease\"], 'life_stage': 'adult', 'applied_modifications': [], 'characterizations': [], 'parent_of': [], 'age_display': '90 or above years', 'perturbed': False, 'simple_summary': \"female adult (90 or above years) with Alzheimer's disease\", 'summary': \"Homo sapiens female adult (90 or above years) with Alzheimer's disease; middle frontal area 46 tissue\"}]}\n",
      "change 14\n"
     ]
    }
   ],
   "source": [
    "spreadsheet_name = Path('~/woldlab/ENCODE/stranded-24196-24219-rush-resubmit.xlsx').expanduser()\n",
    "biosample = fix_disease_term_id(spreadsheet_name, dry_run=True)"
   ]
  },
  {
   "cell_type": "code",
   "execution_count": null,
   "metadata": {},
   "outputs": [],
   "source": []
  },
  {
   "cell_type": "markdown",
   "metadata": {},
   "source": [
    "# Lookup clinical data"
   ]
  },
  {
   "cell_type": "code",
   "execution_count": null,
   "metadata": {},
   "outputs": [],
   "source": [
    "biosample"
   ]
  },
  {
   "cell_type": "code",
   "execution_count": null,
   "metadata": {},
   "outputs": [],
   "source": []
  }
 ],
 "metadata": {
  "kernelspec": {
   "display_name": "Python 3 (ipykernel)",
   "language": "python",
   "name": "python3"
  },
  "language_info": {
   "codemirror_mode": {
    "name": "ipython",
    "version": 3
   },
   "file_extension": ".py",
   "mimetype": "text/x-python",
   "name": "python",
   "nbconvert_exporter": "python",
   "pygments_lexer": "ipython3",
   "version": "3.9.9"
  }
 },
 "nbformat": 4,
 "nbformat_minor": 1
}
