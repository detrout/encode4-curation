{
 "cells": [
  {
   "cell_type": "markdown",
   "metadata": {},
   "source": [
    "# Introduction"
   ]
  },
  {
   "cell_type": "markdown",
   "metadata": {},
   "source": [
    "Jessica revoked the merged experiments on test and I wanted to double check they were correct."
   ]
  },
  {
   "cell_type": "code",
   "execution_count": 1,
   "metadata": {},
   "outputs": [],
   "source": [
    "import pandas\n",
    "import os\n",
    "import sys"
   ]
  },
  {
   "cell_type": "code",
   "execution_count": 2,
   "metadata": {},
   "outputs": [],
   "source": [
    "HTSW=os.path.expanduser('~/proj/htsworkflow')\n",
    "if HTSW not in sys.path:\n",
    "    sys.path.append(HTSW)\n",
    "from htsworkflow.submission import encoded"
   ]
  },
  {
   "cell_type": "code",
   "execution_count": 3,
   "metadata": {},
   "outputs": [],
   "source": [
    "test = encoded.ENCODED('test.encodedcc.org')"
   ]
  },
  {
   "cell_type": "code",
   "execution_count": 4,
   "metadata": {},
   "outputs": [],
   "source": [
    "revoked = [['/files/ENCFF710CRO/', 'released', 'revoked'],\n",
    "['/replicates/85436d7f-2d97-4da1-8e55-92a5193bea7b/', 'released', 'revoked'],\n",
    "['/experiments/ENCSR881ZYX/', 'released', 'revoked'],\n",
    "['/replicates/320f110c-db6e-4642-9d8a-b7d9164a9d91/', 'released', 'revoked'],\n",
    "['/experiments/ENCSR559CDN/', 'released', 'revoked'],\n",
    "['/files/ENCFF949JJP/', 'released', 'revoked'],\n",
    "['/replicates/c1f60632-78d5-4f01-94a1-8d3b54091296/', 'released', 'revoked'],\n",
    "['/experiments/ENCSR062KGY/', 'released', 'revoked'],\n",
    "['/files/ENCFF688OVJ/', 'released', 'revoked'],\n",
    "['/experiments/ENCSR311IKT/', 'released', 'revoked'],\n",
    "['/files/ENCFF138HWE/', 'released', 'revoked'],\n",
    "['/replicates/2ff52213-39a4-4b01-87b7-285a3afce51b/', 'released', 'revoked'],\n",
    "['/experiments/ENCSR839DYB/', 'released', 'revoked'],\n",
    "['/replicates/d7d375ec-44f8-49e9-aebe-91cf9482aa18/', 'released', 'revoked'],\n",
    "['/files/ENCFF738JJC/', 'released', 'revoked'],\n",
    "['/replicates/f607afde-79e9-42c6-934b-c8c20f3b7bd7/', 'released', 'revoked'],\n",
    "['/experiments/ENCSR652JLT/', 'released', 'revoked'],\n",
    "['/files/ENCFF255BRR/', 'released', 'revoked'],\n",
    "['/experiments/ENCSR182LFI/', 'released', 'revoked'],\n",
    "['/files/ENCFF653CRU/', 'released', 'revoked'],\n",
    "['/replicates/44f6db89-7ab7-421f-ba0c-d0debf5f20dd/', 'released', 'revoked'],\n",
    "['/files/ENCFF033UGC/', 'released', 'revoked'],\n",
    "['/replicates/d8338392-2454-41e9-b194-7cd6b7c6a914/', 'released', 'revoked'],\n",
    "['/experiments/ENCSR723FBU/', 'released', 'revoked'],\n",
    "]"
   ]
  },
  {
   "cell_type": "code",
   "execution_count": 5,
   "metadata": {},
   "outputs": [
    {
     "name": "stdout",
     "output_type": "stream",
     "text": [
      "ENCSR881ZYX C1 e11.0 mouse forelimb run 5\n",
      "ENCSR559CDN C1 e10.5 mouse forelimb run 3\n",
      "ENCSR062KGY C1 e10.5 mouse forelimb run 1\n",
      "ENCSR311IKT C1 e13.5 mouse forelimb run 8\n",
      "ENCSR839DYB C1 e13.5 mouse forelimb run 4\n",
      "ENCSR652JLT C1 e12.5 mouse forelimb run 7\n",
      "ENCSR182LFI C1 e11.5 mouse forelimb run 6\n",
      "ENCSR723FBU C1 e10.5 mouse forelimb run 2\n"
     ]
    }
   ],
   "source": [
    "for r in revoked:\n",
    "    accession = r[0]\n",
    "    if r[0].startswith('/experiments'):\n",
    "        obj = test.get_json(r[0])\n",
    "        print(obj['accession'], obj['description'])\n",
    "        "
   ]
  },
  {
   "cell_type": "code",
   "execution_count": null,
   "metadata": {},
   "outputs": [],
   "source": [
    "for r in revoked:\n",
    "    accession = r[0]\n",
    "    if r[0].startswith('/files'):\n",
    "        obj = test.get_json(r[0])\n",
    "        print(obj['accession'], obj['submitted_file_name'])\n",
    "        "
   ]
  }
 ],
 "metadata": {
  "kernelspec": {
   "display_name": "Python 3",
   "language": "python",
   "name": "python3"
  },
  "language_info": {
   "codemirror_mode": {
    "name": "ipython",
    "version": 3
   },
   "file_extension": ".py",
   "mimetype": "text/x-python",
   "name": "python",
   "nbconvert_exporter": "python",
   "pygments_lexer": "ipython3",
   "version": "3.7.6"
  }
 },
 "nbformat": 4,
 "nbformat_minor": 4
}
