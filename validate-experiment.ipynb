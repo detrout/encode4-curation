{
 "cells": [
  {
   "cell_type": "markdown",
   "id": "chief-arbitration",
   "metadata": {},
   "source": [
    "# Introduction"
   ]
  },
  {
   "cell_type": "markdown",
   "id": "precise-agriculture",
   "metadata": {},
   "source": [
    "Check the performance of a set of experiments the DCC says is ready for release"
   ]
  },
  {
   "cell_type": "code",
   "execution_count": null,
   "id": "recovered-prevention",
   "metadata": {},
   "outputs": [],
   "source": [
    "import base64\n",
    "from io import BytesIO\n",
    "from IPython.display import HTML\n",
    "from matplotlib import pyplot\n",
    "import os\n",
    "import pandas\n",
    "from pathlib import Path\n",
    "from pprint import pformat\n",
    "import re\n",
    "import sys"
   ]
  },
  {
   "cell_type": "code",
   "execution_count": null,
   "id": "chubby-kitchen",
   "metadata": {},
   "outputs": [],
   "source": [
    "%matplotlib agg"
   ]
  },
  {
   "cell_type": "code",
   "execution_count": null,
   "id": "empirical-priest",
   "metadata": {},
   "outputs": [],
   "source": [
    "EC = str(Path(\"~/proj/encoded_client\").expanduser())\n",
    "if EC not in sys.path:\n",
    "    sys.path.append(EC)"
   ]
  },
  {
   "cell_type": "code",
   "execution_count": null,
   "id": "electoral-valentine",
   "metadata": {},
   "outputs": [],
   "source": [
    "from encoded_client.encoded import ENCODED, get_object_type"
   ]
  },
  {
   "cell_type": "code",
   "execution_count": null,
   "id": "lasting-jackson",
   "metadata": {},
   "outputs": [],
   "source": [
    "server = ENCODED(\"www.encodeproject.org\")\n",
    "server.load_netrc()"
   ]
  },
  {
   "cell_type": "code",
   "execution_count": null,
   "id": "disturbed-rainbow",
   "metadata": {},
   "outputs": [],
   "source": [
    "experiments = \"\"\"ENCSR219BFN\n",
    "ENCSR890CWQ\n",
    "ENCSR207WIB\n",
    "ENCSR246HPQ\n",
    "ENCSR999LNM\n",
    "ENCSR691XPO\n",
    "ENCSR557TQB\n",
    "ENCSR561NJH\n",
    "ENCSR388VOO\n",
    "ENCSR229IZP\n",
    "ENCSR673HGX\n",
    "ENCSR057PZA\n",
    "ENCSR946CHL\n",
    "ENCSR095STQ\n",
    "ENCSR051HKT\n",
    "ENCSR324EEG\n",
    "ENCSR895JQC\n",
    "ENCSR040FYZ\n",
    "ENCSR908QBY\n",
    "ENCSR853KDR\n",
    "ENCSR404JRH\n",
    "ENCSR261CGJ\n",
    "ENCSR011NKG\n",
    "ENCSR522XUH\n",
    "ENCSR180BEF\n",
    "ENCSR396RZS\n",
    "ENCSR015CNO\n",
    "ENCSR224DDT\n",
    "ENCSR613PRC\n",
    "ENCSR246QHK\n",
    "ENCSR966PYV\n",
    "ENCSR033DKJ\n",
    "ENCSR726JZK\n",
    "ENCSR826LBN\n",
    "ENCSR105NCS\n",
    "ENCSR147MNP\n",
    "ENCSR329YON\n",
    "ENCSR708BRB\n",
    "ENCSR026MBF\n",
    "ENCSR891MZP\n",
    "ENCSR179IEB\n",
    "ENCSR240XKH\n",
    "ENCSR000PYA\n",
    "ENCSR406VBM\n",
    "ENCSR715ZEX\n",
    "ENCSR335RDP\n",
    "ENCSR928PUY\n",
    "ENCSR352TIK\n",
    "ENCSR281RXI\n",
    "ENCSR706DSF\n",
    "ENCSR965BKM\n",
    "ENCSR274IOR\n",
    "ENCSR111VTZ\n",
    "ENCSR458WYO\n",
    "ENCSR719WMN\n",
    "ENCSR792GKF\n",
    "ENCSR503EES\n",
    "ENCSR098AHH\n",
    "ENCSR856TIQ\n",
    "ENCSR731YIN\n",
    "ENCSR376WUA\n",
    "ENCSR555ZBN\n",
    "ENCSR795QPS\n",
    "ENCSR578KNO\n",
    "ENCSR623UPC\n",
    "ENCSR042LLE\n",
    "ENCSR143RJN\n",
    "ENCSR889MPU\n",
    "ENCSR959MAY\n",
    "ENCSR393ONB\n",
    "ENCSR790REF\n",
    "ENCSR741HLC\n",
    "ENCSR932KHL\n",
    "ENCSR132LRJ\n",
    "ENCSR701ZXF\n",
    "ENCSR755IPI\n",
    "ENCSR181CVM\n",
    "ENCSR247MBB\n",
    "ENCSR140RTO\n",
    "ENCSR309VHO\n",
    "ENCSR791XHA\n",
    "ENCSR720ZTB\n",
    "ENCSR256YDM\n",
    "ENCSR971VVX\n",
    "ENCSR192DXS\n",
    "ENCSR667IFH\n",
    "ENCSR471WLR\n",
    "ENCSR616HPK\n",
    "ENCSR700PWC\n",
    "ENCSR367WCE\n",
    "ENCSR559LZU\n",
    "ENCSR114LKQ\n",
    "ENCSR531DPB\n",
    "ENCSR409NYW\n",
    "ENCSR716LPB\n",
    "ENCSR910XQY\n",
    "ENCSR455MOH\n",
    "ENCSR162TAV\n",
    "ENCSR012UAU\n",
    "ENCSR239ZEK\n",
    "ENCSR830HVH\n",
    "ENCSR411CXN\n",
    "ENCSR605GUU\n",
    "ENCSR385VVX\n",
    "ENCSR315IMH\n",
    "ENCSR652HYA\n",
    "ENCSR286HKQ\n",
    "ENCSR430OXW\n",
    "ENCSR913DZP\n",
    "ENCSR891TUX\n",
    "ENCSR696VWS\n",
    "ENCSR998EKR\n",
    "ENCSR695VQF\n",
    "ENCSR507BRI\n",
    "ENCSR085RNZ\n",
    "ENCSR665FSO\n",
    "ENCSR807MST\n",
    "ENCSR092PTD\n",
    "ENCSR527NUJ\n",
    "\"\"\".split()\n",
    "#graph = {\"@graph\": [{\"@id\": \"/experiments/{}/\".format(x)} for x in experiments]}"
   ]
  },
  {
   "cell_type": "code",
   "execution_count": null,
   "id": "sustainable-nigeria",
   "metadata": {},
   "outputs": [],
   "source": [
    "#search = \"https://www.encodeproject.org/search/?type=Experiment&@id=%2Fexperiments%2FENCSR479MNN%2F&@id=%2Fexperiments%2FENCSR288RRZ%2F&@id=%2Fexperiments%2FENCSR899OKE%2F&@id=%2Fexperiments%2FENCSR464VSR%2F&@id=%2Fexperiments%2FENCSR774MGO%2F&@id=%2Fexperiments%2FENCSR129VBC%2F&@id=%2Fexperiments%2FENCSR420YFF%2F&@id=%2Fexperiments%2FENCSR942YMN%2F&@id=%2Fexperiments%2FENCSR648YUM%2F&@id=%2Fexperiments%2FENCSR903XMI%2F&@id=%2Fexperiments%2FENCSR244HHV%2F&@id=%2Fexperiments%2FENCSR168PXI%2F&@id=%2Fexperiments%2FENCSR308XAR%2F&@id=%2Fexperiments%2FENCSR484WZL%2F\"\n",
    "#search = \"https://www.encodeproject.org/search/?type=Experiment&lab.title=Barbara+Wold%2C+Caltech&lab.title=Ali+Mortazavi%2C+UCI&lab.title=Rob+Spitale%2C+UCI&status=submitted&audit.WARNING.category!=lacking+processed+data&assay_title=total+RNA-seq\"\n",
    "#search = \"https://www.encodeproject.org/search/?type=Experiment&accession=ENCSR723XFW&accession=ENCSR967IKT&accession=ENCSR511LAZ&accession=ENCSR886NLC&accession=ENCSR086MHH&accession=ENCSR129DEA&accession=ENCSR584OSM&accession=ENCSR549HQM&accession=ENCSR093SMP&accession=ENCSR299GYD\"\n",
    "#search = \"https://www.encodeproject.org/search/?type=Experiment&accession=ENCSR693KOP&accession=ENCSR061RDC&accession=ENCSR366LFQ&accession=ENCSR019ICB&accession=ENCSR036SUN&accession=ENCSR275JSL&accession=ENCSR395DKP&accession=ENCSR562BUN&accession=ENCSR198QAJ&accession=ENCSR795GYH&accession=ENCSR634JQK&accession=ENCSR052LON&accession=ENCSR949UTT&accession=ENCSR394ZSF&accession=ENCSR339NMQ&accession=ENCSR483IHO&accession=ENCSR292TYT&accession=ENCSR596KAH&accession=ENCSR290IHM&accession=ENCSR863VFU&accession=ENCSR648JOK&accession=ENCSR875MVZ&accession=ENCSR061HMO&accession=ENCSR365ARV\"\n",
    "#search = \"https://www.encodeproject.org/search/?type=Experiment&accession=ENCSR718YUW&accession=ENCSR591NFI&accession=ENCSR539OQU&accession=ENCSR233IVG&accession=ENCSR675UIU&accession=ENCSR138MMB&accession=ENCSR390MBR&accession=ENCSR579KTN&accession=ENCSR789PJB&accession=ENCSR922XPO&accession=ENCSR777KAR&accession=ENCSR277QAN&accession=ENCSR171ZNI&accession=ENCSR706NYL&accession=ENCSR944UJZ&accession=ENCSR900GIC&accession=ENCSR007SVQ&accession=ENCSR439PRN&accession=ENCSR133PLR&accession=ENCSR755FNG&accession=ENCSR216RNR&accession=ENCSR282UMY&accession=ENCSR447WLU&accession=ENCSR015SAL\"\n",
    "#search = \"https://www.encodeproject.org/search/?type=Experiment&accession=ENCSR446QMB&accession=ENCSR920OZR&accession=ENCSR397GDU&accession=ENCSR563SJY&accession=ENCSR733DBA&accession=ENCSR082XSF&accession=ENCSR914PRM&accession=ENCSR012UFU&accession=ENCSR296RWI&accession=ENCSR394HJK&accession=ENCSR377MTB&accession=ENCSR443ASQ&accession=ENCSR985WSV&accession=ENCSR323YXV&accession=ENCSR454GQC&accession=ENCSR096YLM&accession=ENCSR669GBC&accession=ENCSR001QSI&accession=ENCSR252IPQ&accession=ENCSR965OKL&accession=ENCSR650SDA&accession=ENCSR997XXK&accession=ENCSR671FBB&accession=ENCSR620YAV&accession=ENCSR562ORH&accession=ENCSR158IHB&accession=ENCSR171CLQ&accession=ENCSR013HWB&accession=ENCSR530OOO&accession=ENCSR882HXI&accession=ENCSR826FNO&accession=ENCSR209TIR&accession=ENCSR158VWD&accession=ENCSR631GOR&accession=ENCSR564CRW&accession=ENCSR080VMJ&accession=ENCSR521ZFP&accession=ENCSR378WUC&accession=ENCSR078WNY&accession=ENCSR162SPJ&accession=ENCSR025BZY&accession=ENCSR832YWU&accession=ENCSR501XXE&accession=ENCSR753BWD&accession=ENCSR452BSJ&accession=ENCSR585EUI&accession=ENCSR863EIY&accession=ENCSR951DTJ\"\n",
    "#search = \"https://www.encodeproject.org/search/?type=Experiment&accession=ENCSR090RYJ&accession=ENCSR363EVQ&accession=ENCSR800PJQ&accession=ENCSR418WMG&accession=ENCSR067GOC&accession=ENCSR307PZR&accession=ENCSR776PQP&accession=ENCSR793SPM&accession=ENCSR693CVD&accession=ENCSR102NWB&accession=ENCSR530ESE&accession=ENCSR515MED&accession=ENCSR320AJD&accession=ENCSR591ZCN&accession=ENCSR959ENR&accession=ENCSR642FZN&accession=ENCSR154PNU&accession=ENCSR339GOD&accession=ENCSR693YZA&accession=ENCSR454MWR&accession=ENCSR641XXD&accession=ENCSR497KUU&accession=ENCSR728FFT&accession=ENCSR318WUN\"\n",
    "#search = \"https://www.encodeproject.org/search/?type=Experiment&accession=ENCSR010HIU&accession=ENCSR964JRR&accession=ENCSR831GLL&accession=ENCSR241EBI&accession=ENCSR235PLU&accession=ENCSR265EHG&accession=ENCSR276QGJ&accession=ENCSR177CWW&accession=ENCSR011VQI&accession=ENCSR077EAM&accession=ENCSR995GRL&accession=ENCSR196KBV&accession=ENCSR842NDO&accession=ENCSR584CVV&accession=ENCSR745APD&accession=ENCSR388NNP&accession=ENCSR925DZW&accession=ENCSR798USR\"\n",
    "#search = \"https://www.encodeproject.org/search/?type=Experiment&accession=ENCSR317HKT&accession=ENCSR052SDT&accession=ENCSR743TJZ&accession=ENCSR475KPG&accession=ENCSR588TIV&accession=ENCSR341VFG&accession=ENCSR927KSI&accession=ENCSR896YYL&accession=ENCSR398REC\"\n",
    "#search = \"https://www.encodeproject.org/search/?type=Experiment&accession=ENCSR742SBT&accession=ENCSR000OCV&accession=ENCSR960ZZW&accession=ENCSR389GJZ&accession=ENCSR674QMU&accession=ENCSR879VZJ&accession=ENCSR588BJN&accession=ENCSR801JDZ&accession=ENCSR637GLC&accession=ENCSR249EFE&accession=ENCSR173MHB\"\n",
    "#search = \"https://www.encodeproject.org/search/?type=Experiment&accession=ENCSR176KEW&accession=ENCSR636QDK&accession=ENCSR681ARR&accession=ENCSR568UGZ&accession=ENCSR619DQO&accession=ENCSR676SRP&accession=ENCSR629HFE&accession=ENCSR870IUI&accession=ENCSR231ICM&accession=ENCSR534OAS&accession=ENCSR882RCG&accession=ENCSR197GCF&accession=ENCSR278TQR&accession=ENCSR889IAP&accession=ENCSR790BBE&accession=ENCSR854VRX&accession=ENCSR441IDG&accession=ENCSR570DQR&accession=ENCSR131FDP&accession=ENCSR727DPU&accession=ENCSR828JSJ&accession=ENCSR075ZTG&accession=ENCSR944UJZ\"\n",
    "#search = \"https://www.encodeproject.org/search/?type=Experiment&accession=ENCSR034DEZ&accession=ENCSR096UGR&accession=ENCSR714CHF&accession=ENCSR146GSS&accession=ENCSR800KLD&accession=ENCSR094RQC&accession=ENCSR945VLG&accession=ENCSR257FJF&accession=ENCSR113CCF&accession=ENCSR931ATS&accession=ENCSR729VMM&accession=ENCSR266SBI&accession=ENCSR294AKN&accession=ENCSR502PAY&accession=ENCSR267FRL&accession=ENCSR275SNI\"\n",
    "#search = \"https://www.encodeproject.org/search/?type=Experiment&accession=ENCSR944UJZ\"\n",
    "search = \"https://www.encodeproject.org/search/?type=Experiment&accession=ENCSR293FRO&accession=ENCSR698PIS&accession=ENCSR167IUG&accession=ENCSR251XVY&accession=ENCSR309GVQ&accession=ENCSR959ZHO&accession=ENCSR536HHA&accession=ENCSR769LJY&accession=ENCSR835KFT&accession=ENCSR968ZOA&accession=ENCSR377UPT&accession=ENCSR034MGF&accession=ENCSR092BBW&accession=ENCSR243UCH&accession=ENCSR788PEE&accession=ENCSR703ACF\"\n",
    "graph = server.get_json(search)"
   ]
  },
  {
   "cell_type": "code",
   "execution_count": null,
   "id": "accompanied-lindsay",
   "metadata": {},
   "outputs": [],
   "source": []
  },
  {
   "cell_type": "code",
   "execution_count": null,
   "id": "violent-sphere",
   "metadata": {},
   "outputs": [],
   "source": [
    "def format_alias(alias):\n",
    "    return \",\".join([x.split(':')[1] for x in alias])\n",
    "\n",
    "def filter_gene_type_metric(metric):\n",
    "    to_remove = [\n",
    "        \"@id\", \n",
    "        \"@type\", \n",
    "        \"aliases\", \n",
    "        \"assay_term_name\",\n",
    "        \"assay_term_id\",\n",
    "        \"attachment\", \n",
    "        \"date_created\", \n",
    "        \"quality_metric_of\", \n",
    "        \"schema_version\",\n",
    "        \"status\",\n",
    "        \"step_run\",\n",
    "        \"submitted_by\",\n",
    "        \"lab\", \n",
    "        \"award\", \n",
    "        \"uuid\"\n",
    "    ]\n",
    "    filtered_metric = metric.copy()\n",
    "    for remove in to_remove:\n",
    "        if remove in filtered_metric:\n",
    "            del filtered_metric[remove]\n",
    "        else:\n",
    "            print(\"Warning {} not found\".format(remove))\n",
    "    return filtered_metric\n",
    "\n",
    "\n",
    "def plot_gene_type_metric(gene_types):\n",
    "    stream = BytesIO()\n",
    "    f = pyplot.figure(figsize=(8,8))\n",
    "    ax = f.add_subplot(1,1,1)\n",
    "    gene_types.T.plot.bar(stacked=True, ax=ax)\n",
    "    f.savefig(stream, format='png')\n",
    "    return base64.b64encode(stream.getvalue()).decode('ascii')\n",
    "   \n",
    "def thousands_format(x):\n",
    "    return \"{:,.2f}\".format(x)\n",
    "    \n",
    "def report_experiment(experiment):    \n",
    "    star_quality = {}\n",
    "    spearman = {}\n",
    "    gene_types = {}\n",
    "    for replicate in experiment.replicates:\n",
    "        alias = format_alias(replicate[\"library\"][\"aliases\"])\n",
    "\n",
    "        for file in replicate[\"files\"]:\n",
    "            for i, metric in enumerate(file[\"quality_metrics\"]):\n",
    "                print(replicate[\"uuid\"], alias, type(file))\n",
    "                metric_for = \",\".join(file._json[\"quality_metrics\"][i][\"quality_metric_of\"])\n",
    "                if get_object_type(metric) == \"StarQualityMetric\":\n",
    "                    mapped = metric['Number of reads mapped to multiple loci'] + metric['Uniquely mapped reads number']\n",
    "                    fraction_mapped = mapped / metric['Number of input reads']                    \n",
    "                    star_quality[(alias, file[\"output_type\"])] = {\n",
    "                        'multi': metric['Number of reads mapped to multiple loci'],\n",
    "                        'uniq': metric['Uniquely mapped reads number'],\n",
    "                        'mapped': mapped,\n",
    "                        'total': metric['Number of input reads'],\n",
    "                        '%mapped': \"{:.4}\".format(fraction_mapped * 100),\n",
    "                    }\n",
    "                    #print(alias, metric)\n",
    "                elif get_object_type(metric) == \"MadQualityMetric\":\n",
    "                    spearman[metric_for] = metric\n",
    "                    spearman[metric_for].setdefault('alias', set()).add(alias)\n",
    "                elif get_object_type(metric) == \"GeneTypeQuantificationQualityMetric\":\n",
    "                    gene_types[alias] = filter_gene_type_metric(metric)\n",
    "\n",
    "    #print(pandas.DataFrame(star_quality).T)\n",
    "    #plot_gene_type_metric(pandas.DataFrame(gene_types))\n",
    "    block = [\n",
    "        '<h1><a href=\"https://www.encodeproject.org{}\">{}</a> {}</h1>'.format(experiment['@id'], experiment['accession'], experiment['description'])\n",
    "    ]\n",
    "    if len(star_quality) > 0:\n",
    "        star_quality = pandas.DataFrame(star_quality).T\n",
    "        block.append(star_quality.to_html(formatters={\n",
    "            \"multi\": thousands_format,\n",
    "            \"uniq\": thousands_format,\n",
    "            \"mapped\": thousands_format,\n",
    "            \"total\": thousands_format,\n",
    "        }))\n",
    "    if len(spearman) > 0:\n",
    "        for metric_for, s in spearman.items():\n",
    "            block.append(\"<p>Spearman: {} {}</p>\".format(','.join(s['alias']), s[\"Spearman correlation\"]))\n",
    "    if len(gene_types) > 0:\n",
    "        gene_types = pandas.DataFrame(gene_types)\n",
    "        block.append('<p><img src=\"data:image/png;base64,{}\"/></p>'.format(plot_gene_type_metric(gene_types)))\n",
    "    return block\n"
   ]
  },
  {
   "cell_type": "code",
   "execution_count": null,
   "id": "exclusive-excerpt",
   "metadata": {
    "scrolled": false
   },
   "outputs": [],
   "source": [
    "report = []\n",
    "for row in graph[\"@graph\"]:\n",
    "    experiment = server.get_experiment(row[\"@id\"])\n",
    "    report.extend(report_experiment(experiment))\n",
    "    \n",
    "HTML(\"\\n\".join(report))"
   ]
  },
  {
   "cell_type": "code",
   "execution_count": null,
   "id": "b3ee41d0",
   "metadata": {},
   "outputs": [],
   "source": [
    "%debug"
   ]
  },
  {
   "cell_type": "code",
   "execution_count": null,
   "id": "e1414591",
   "metadata": {},
   "outputs": [],
   "source": [
    "library_ids = []\n",
    "#re.search(\">(?P<library_id>[\\d]{5})<\", report[1])\n",
    "for i, row in enumerate(report):\n",
    "    match = re.search(\">(?P<library_id>[\\d]{5})<\", row)\n",
    "    if match is not None:\n",
    "        library_ids.append(match.group(\"library_id\"))\n",
    "\n",
    "print(\"{} - {}\".format(min(library_ids), max(library_ids)))"
   ]
  },
  {
   "cell_type": "code",
   "execution_count": null,
   "id": "3ec3e743",
   "metadata": {
    "scrolled": false
   },
   "outputs": [],
   "source": [
    "[(x[\"@id\"], x[\"date_created\"].split(\"T\")[0]) for x in experiment.analyses]"
   ]
  },
  {
   "cell_type": "code",
   "execution_count": null,
   "id": "40ba377c",
   "metadata": {},
   "outputs": [],
   "source": [
    "experiment._json[\"files\"][2][\"analyses\"]"
   ]
  },
  {
   "cell_type": "code",
   "execution_count": null,
   "id": "630640b7",
   "metadata": {
    "scrolled": false
   },
   "outputs": [],
   "source": [
    "[x[\"files\"] for x in experiment.analyses]"
   ]
  },
  {
   "cell_type": "code",
   "execution_count": null,
   "id": "10ad4ee5",
   "metadata": {},
   "outputs": [],
   "source": [
    "len(experiment.analyses)"
   ]
  },
  {
   "cell_type": "code",
   "execution_count": null,
   "id": "13435813",
   "metadata": {},
   "outputs": [],
   "source": [
    "obj = server.get_json(\"/experiments/ENCSR944UJZ/\")\n",
    "for f in obj[\"files\"]:\n",
    "    print(f[\"accession\"], f.get(\"output_type\"), [x[\"@id\"] for x in f.get(\"analyses\", [])])"
   ]
  },
  {
   "cell_type": "code",
   "execution_count": null,
   "id": "3f2f3b2c",
   "metadata": {},
   "outputs": [],
   "source": [
    "f = server.get_json(\"/files/ENCFF530JCI/\")\n"
   ]
  },
  {
   "cell_type": "code",
   "execution_count": null,
   "id": "1da88583",
   "metadata": {},
   "outputs": [],
   "source": [
    "sorted(f.keys())"
   ]
  },
  {
   "cell_type": "code",
   "execution_count": null,
   "id": "0f445600",
   "metadata": {},
   "outputs": [],
   "source": []
  }
 ],
 "metadata": {
  "kernelspec": {
   "display_name": "Python 3 (ipykernel)",
   "language": "python",
   "name": "python3"
  },
  "language_info": {
   "codemirror_mode": {
    "name": "ipython",
    "version": 3
   },
   "file_extension": ".py",
   "mimetype": "text/x-python",
   "name": "python",
   "nbconvert_exporter": "python",
   "pygments_lexer": "ipython3",
   "version": "3.11.1"
  }
 },
 "nbformat": 4,
 "nbformat_minor": 5
}
