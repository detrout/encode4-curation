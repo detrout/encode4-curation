{
 "cells": [
  {
   "cell_type": "markdown",
   "metadata": {},
   "source": [
    "# Introduction"
   ]
  },
  {
   "cell_type": "markdown",
   "metadata": {},
   "source": [
    "Someone discovered an odd thing about our pool split experiment and we need to make sure everything was uploaded correctly"
   ]
  },
  {
   "cell_type": "code",
   "execution_count": 4,
   "metadata": {},
   "outputs": [],
   "source": [
    "import pandas\n",
    "import os\n",
    "import sys"
   ]
  },
  {
   "cell_type": "code",
   "execution_count": 6,
   "metadata": {},
   "outputs": [],
   "source": [
    "HTSW = os.path.expanduser('~/proj/htsworkflow')\n",
    "if HTSW not in sys.path:\n",
    "    sys.path.append(HTSW)\n",
    "from htsworkflow.submission import encoded\n",
    "server = encoded.ENCODED('www.encodeproject.org')"
   ]
  },
  {
   "cell_type": "code",
   "execution_count": null,
   "metadata": {},
   "outputs": [],
   "source": []
  },
  {
   "cell_type": "code",
   "execution_count": 22,
   "metadata": {},
   "outputs": [],
   "source": [
    "text = \"\"\"13625 Illumina index__N701_N501_Paired_ends_LC 545_Hs_UMB4727_20_M_CN_Cb_Purkinje single cell_ \n",
    "13626 Illumina index__N702_N502_Paired_ends_LC 546_Hs_UMB4727_20_M_CN_Cb_Purkinje single cell_ \n",
    "13627 Illumina index__N703_N503_Paired_ends_LC 547_Hs_UMB4727_20_M_CN_Cb_Purkinje single cell_ \n",
    "13628 Illumina index__N704_N504_Paired_ends_LC 548_Hs_UMB4727_20_M_CN_Cb_Purkinje single cell_ \n",
    "13629 Illumina index__N705_N505_Paired_ends_LC 549_Hs_UMB4727_20_M_CN_Cb_Purkinje single cell_ \n",
    "13630 Illumina index__N706_N506_Paired_ends_LC 550_Hs_UMB4727_20_M_CN_Cb_Purkinje single cell_ \n",
    "13631 Illumina index__N707_N507_Paired_ends_LC 551_Hs_UMB4727_20_M_CN_Cb_Purkinje single cell_ \n",
    "13632 Illumina index__N708_N508_Paired_ends_LC 552_Hs_UMB4727_20_M_CN_Cb_Purkinje single cell_ \n",
    "13633 Illumina index__N709_N501_Paired_ends_LC 553_Hs_UMB4727_20_M_CN_Cb_Purkinje single cell_ \n",
    "13634 Illumina index__N710_N502_Paired_ends_LC 554_Hs_UMB4727_20_M_CN_Cb_Purkinje single cell_ \n",
    "13635 Illumina index__N711_N503_Paired_ends_LC 555_Hs_UMB4727_20_M_CN_Cb_Purkinje single cell_ \n",
    "13636 Illumina index__N712_N504_Paired_ends_LC 556_Hs_UMB4727_20_M_CN_Cb_Purkinje single cell_ \n",
    "13637 Illumina index__N701_N505_Paired_ends_LC 557_Hs_UMB4727_20_M_CN_Cb_Purkinje single cell_ \n",
    "13638 Illumina index__N702_N506_Paired_ends_LC 558_Hs_UMB4727_20_M_CN_Cb_Purkinje single cell_ \n",
    "13639 Illumina index__N703_N507_Paired_ends_LC 559_Hs_UMB4727_20_M_CN_Cb_Purkinje single cell_ \n",
    "13640 Illumina index__N704_N508_Paired_ends_LC 560_Hs_UMB4727_20_M_CN_Cb_Purkinje single cell_ \n",
    "13641 Illumina index__N705_N501_Paired_ends_LC 561_Hs_UMB4727_20_M_CN_Cb_Purkinje single cell_ \n",
    "13642 Illumina index__N706_N502_Paired_ends_LC 562_Hs_UMB4727_20_M_CN_Cb_Purkinje single cell_ \n",
    "13643 Illumina index__N707_N503_Paired_ends_LC 563_Hs_UMB4727_20_M_CN_Cb_Purkinje single cell_ \n",
    "13644 Illumina index__N708_N504_Paired_ends_LC 564_Hs_UMB4727_20_M_CN_Cb_Purkinje single cell_ \n",
    "13645 Illumina index__N709_N505_Paired_ends_LC 565_Hs_UMB4727_20_M_CN_Cb_Purkinje_poolsplit_ \n",
    "13646 Illumina index__N710_N506_Paired_ends_LC 566_Hs_UMB4727_20_M_CN_Cb_Purkinje_poolsplit_ \n",
    "13647 Illumina index__N711_N507_Paired_ends_LC 567_Hs_UMB4727_20_M_CN_Cb_Purkinje_poolsplit_\n",
    "13648 Illumina index__N712_N508_Paired_ends_LC 568_Hs_UMB4727_20_M_CN_Cb_Purkinje_poolsplit_ \n",
    "13649 Illumina index__N701_N501_Paired_ends_LC 569_Hs_UMB4727_20_M_CN_Cb_Purkinje_poolsplit_ \n",
    "13650 Illumina index__N702_N502_Paired_ends_LC 570_Hs_UMB4727_20_M_CN_Cb_Purkinje_poolsplit_ \n",
    "13651 Illumina index__N703_N503_Paired_ends_LC 571_Hs_UMB4727_20_M_CN_Cb_Purkinje_poolsplit_ \n",
    "13652 Illumina index__N704_N504_Paired_ends_LC 572_Hs_UMB4727_20_M_CN_Cb_Purkinje_poolsplit_ \n",
    "13653 Illumina index__N705_N505_Paired_ends_LC 573_Hs_UMB4727_20_M_CN_Cb_Purkinje_poolsplit_ \n",
    "13654 Illumina index__N706_N506_Paired_ends_LC 574_Hs_UMB4727_20_M_CN_Cb_Purkinje_poolsplit_ \n",
    "13655 Illumina index__N707_N507_Paired_ends_LC 575_Hs_UMB4727_20_M_CN_Cb_Purkinje_poolsplit_ \n",
    "13656 Illumina index__N708_N508_Paired_ends_LC 576_Hs_UMB4727_20_M_CN_Cb_Purkinje_poolsplit_ \n",
    "13657 Illumina index__N709_N501_Paired_ends_LC 577_Hs_UMB4727_20_M_CN_Cb_Purkinje_poolsplit_ \n",
    "13658 Illumina index__N710_N502_Paired_ends_LC 578_Hs_UMB4727_20_M_CN_Cb_Purkinje_poolsplit_ \n",
    "13659 Illumina index__N711_N503_Paired_ends_LC 579_Hs_UMB4727_20_M_CN_Cb_Purkinje_poolsplit_ \n",
    "13660 Illumina index__N712_N504_Paired_ends_LC 580_Hs_UMB4727_20_M_CN_Cb_Purkinje_poolsplit_ \n",
    "13661 Illumina index__N701_N505_Paired_ends_LC 581_Hs_UMB4727_20_M_CN_Cb_Purkinje_poolsplit_ \n",
    "13662 Illumina index__N702_N506_Paired_ends_LC 582_Hs_UMB4727_20_M_CN_Cb_Purkinje_poolsplit_ \n",
    "13663 Illumina index__N703_N507_Paired_ends_LC 583_Hs_UMB4727_20_M_CN_Cb_Purkinje_poolsplit_ \n",
    "13664 Illumina index__N704_N508_Paired_ends_LC 584_Hs_UMB4727_20_M_CN_Cb_Purkinje_poolsplit_ \"\"\".split('\\n')\n",
    "\n",
    "data = [(x[:5], x[6:].strip()) for x in text]"
   ]
  },
  {
   "cell_type": "code",
   "execution_count": 21,
   "metadata": {},
   "outputs": [
    {
     "name": "stdout",
     "output_type": "stream",
     "text": [
      "experiment experiment\n",
      "treatmentconcentrationseries treatmentconcentrationseries\n",
      "search search\n",
      "experiment experiment\n",
      "treatmentconcentrationseries treatmentconcentrationseries\n",
      "search search\n",
      "experiment experiment\n",
      "treatmentconcentrationseries treatmentconcentrationseries\n",
      "search search\n",
      "experiment experiment\n",
      "treatmentconcentrationseries treatmentconcentrationseries\n",
      "search search\n",
      "experiment experiment\n",
      "treatmentconcentrationseries treatmentconcentrationseries\n",
      "search search\n",
      "experiment experiment\n",
      "treatmentconcentrationseries treatmentconcentrationseries\n",
      "search search\n",
      "experiment experiment\n",
      "treatmentconcentrationseries treatmentconcentrationseries\n",
      "search search\n",
      "experiment experiment\n",
      "treatmentconcentrationseries treatmentconcentrationseries\n",
      "search search\n",
      "experiment experiment\n",
      "treatmentconcentrationseries treatmentconcentrationseries\n",
      "search search\n",
      "experiment experiment\n",
      "treatmentconcentrationseries treatmentconcentrationseries\n",
      "search search\n",
      "experiment experiment\n",
      "treatmentconcentrationseries treatmentconcentrationseries\n",
      "search search\n",
      "experiment experiment\n",
      "treatmentconcentrationseries treatmentconcentrationseries\n",
      "search search\n",
      "experiment experiment\n",
      "treatmentconcentrationseries treatmentconcentrationseries\n",
      "search search\n",
      "experiment experiment\n",
      "treatmentconcentrationseries treatmentconcentrationseries\n",
      "search search\n",
      "experiment experiment\n",
      "treatmentconcentrationseries treatmentconcentrationseries\n",
      "search search\n",
      "experiment experiment\n",
      "treatmentconcentrationseries treatmentconcentrationseries\n",
      "search search\n",
      "experiment experiment\n",
      "treatmentconcentrationseries treatmentconcentrationseries\n",
      "search search\n",
      "experiment experiment\n",
      "treatmentconcentrationseries treatmentconcentrationseries\n",
      "search search\n",
      "experiment experiment\n",
      "treatmentconcentrationseries treatmentconcentrationseries\n",
      "search search\n",
      "experiment experiment\n",
      "treatmentconcentrationseries treatmentconcentrationseries\n",
      "search search\n",
      "experiment experiment\n",
      "treatmentconcentrationseries treatmentconcentrationseries\n",
      "search search\n",
      "experiment experiment\n",
      "treatmentconcentrationseries treatmentconcentrationseries\n",
      "search search\n",
      "experiment experiment\n",
      "treatmentconcentrationseries treatmentconcentrationseries\n",
      "search search\n",
      "experiment experiment\n",
      "treatmentconcentrationseries treatmentconcentrationseries\n",
      "search search\n",
      "experiment experiment\n",
      "treatmentconcentrationseries treatmentconcentrationseries\n",
      "search search\n",
      "experiment experiment\n",
      "treatmentconcentrationseries treatmentconcentrationseries\n",
      "search search\n",
      "experiment experiment\n",
      "treatmentconcentrationseries treatmentconcentrationseries\n",
      "search search\n",
      "experiment experiment\n",
      "treatmentconcentrationseries treatmentconcentrationseries\n",
      "search search\n",
      "experiment experiment\n",
      "treatmentconcentrationseries treatmentconcentrationseries\n",
      "search search\n",
      "experiment experiment\n",
      "treatmentconcentrationseries treatmentconcentrationseries\n",
      "search search\n",
      "experiment experiment\n",
      "treatmentconcentrationseries treatmentconcentrationseries\n",
      "search search\n",
      "experiment experiment\n",
      "treatmentconcentrationseries treatmentconcentrationseries\n",
      "search search\n",
      "experiment experiment\n",
      "treatmentconcentrationseries treatmentconcentrationseries\n",
      "search search\n",
      "experiment experiment\n",
      "treatmentconcentrationseries treatmentconcentrationseries\n",
      "search search\n",
      "experiment experiment\n",
      "treatmentconcentrationseries treatmentconcentrationseries\n",
      "search search\n",
      "experiment experiment\n",
      "treatmentconcentrationseries treatmentconcentrationseries\n",
      "search search\n",
      "experiment experiment\n",
      "treatmentconcentrationseries treatmentconcentrationseries\n",
      "search search\n",
      "experiment experiment\n",
      "treatmentconcentrationseries treatmentconcentrationseries\n",
      "search search\n",
      "experiment experiment\n",
      "treatmentconcentrationseries treatmentconcentrationseries\n",
      "search search\n"
     ]
    },
    {
     "name": "stderr",
     "output_type": "stream",
     "text": [
      "Error http status: 404 for https://www.encodeproject.org/barbara-wold:\n"
     ]
    },
    {
     "name": "stdout",
     "output_type": "stream",
     "text": [
      "experiment experiment\n",
      "treatmentconcentrationseries treatmentconcentrationseries\n",
      "search search\n"
     ]
    },
    {
     "ename": "HTTPError",
     "evalue": "404 Client Error: Not Found for url: https://www.encodeproject.org/barbara-wold:?limit=all",
     "output_type": "error",
     "traceback": [
      "\u001b[0;31m---------------------------------------------------------------------------\u001b[0m",
      "\u001b[0;31mHTTPError\u001b[0m                                 Traceback (most recent call last)",
      "\u001b[0;32m<ipython-input-21-1c120a15034b>\u001b[0m in \u001b[0;36m<module>\u001b[0;34m()\u001b[0m\n\u001b[1;32m      3\u001b[0m     \u001b[0mjumpgate\u001b[0m \u001b[0;34m=\u001b[0m \u001b[0mrow\u001b[0m\u001b[0;34m[\u001b[0m\u001b[0;36m0\u001b[0m\u001b[0;34m]\u001b[0m\u001b[0;34m\u001b[0m\u001b[0;34m\u001b[0m\u001b[0m\n\u001b[1;32m      4\u001b[0m     \u001b[0malias\u001b[0m \u001b[0;34m=\u001b[0m \u001b[0;34m'barbara-wold:{}'\u001b[0m\u001b[0;34m.\u001b[0m\u001b[0mformat\u001b[0m\u001b[0;34m(\u001b[0m\u001b[0mjumpgate\u001b[0m\u001b[0;34m)\u001b[0m\u001b[0;34m\u001b[0m\u001b[0;34m\u001b[0m\u001b[0m\n\u001b[0;32m----> 5\u001b[0;31m     \u001b[0mlibrary\u001b[0m \u001b[0;34m=\u001b[0m \u001b[0mserver\u001b[0m\u001b[0;34m.\u001b[0m\u001b[0mget_json\u001b[0m\u001b[0;34m(\u001b[0m\u001b[0malias\u001b[0m\u001b[0;34m)\u001b[0m\u001b[0;34m\u001b[0m\u001b[0;34m\u001b[0m\u001b[0m\n\u001b[0m\u001b[1;32m      6\u001b[0m     \u001b[0mlibrary_id\u001b[0m \u001b[0;34m=\u001b[0m \u001b[0mlibrary\u001b[0m\u001b[0;34m[\u001b[0m\u001b[0;34m'accession'\u001b[0m\u001b[0;34m]\u001b[0m\u001b[0;34m\u001b[0m\u001b[0;34m\u001b[0m\u001b[0m\n\u001b[1;32m      7\u001b[0m     \u001b[0mgraph\u001b[0m \u001b[0;34m=\u001b[0m \u001b[0mserver\u001b[0m\u001b[0;34m.\u001b[0m\u001b[0msearch_jsonld\u001b[0m\u001b[0;34m(\u001b[0m\u001b[0msearchTerm\u001b[0m\u001b[0;34m=\u001b[0m\u001b[0mlibrary_id\u001b[0m\u001b[0;34m)\u001b[0m\u001b[0;34m\u001b[0m\u001b[0;34m\u001b[0m\u001b[0m\n",
      "\u001b[0;32m/home/diane/proj/htsworkflow/htsworkflow/submission/encoded.py\u001b[0m in \u001b[0;36mget_json\u001b[0;34m(self, obj_id, **kwargs)\u001b[0m\n\u001b[1;32m    223\u001b[0m             \u001b[0mkwargs\u001b[0m\u001b[0;34m[\u001b[0m\u001b[0;34m'limit'\u001b[0m\u001b[0;34m]\u001b[0m \u001b[0;34m=\u001b[0m \u001b[0;34m'all'\u001b[0m\u001b[0;34m\u001b[0m\u001b[0;34m\u001b[0m\u001b[0m\n\u001b[1;32m    224\u001b[0m \u001b[0;34m\u001b[0m\u001b[0m\n\u001b[0;32m--> 225\u001b[0;31m         \u001b[0mresponse\u001b[0m \u001b[0;34m=\u001b[0m \u001b[0mself\u001b[0m\u001b[0;34m.\u001b[0m\u001b[0mget_response\u001b[0m\u001b[0;34m(\u001b[0m\u001b[0mobj_id\u001b[0m\u001b[0;34m,\u001b[0m \u001b[0;34m**\u001b[0m\u001b[0mkwargs\u001b[0m\u001b[0;34m)\u001b[0m\u001b[0;34m\u001b[0m\u001b[0;34m\u001b[0m\u001b[0m\n\u001b[0m\u001b[1;32m    226\u001b[0m         \u001b[0mdata\u001b[0m \u001b[0;34m=\u001b[0m \u001b[0mresponse\u001b[0m\u001b[0;34m.\u001b[0m\u001b[0mjson\u001b[0m\u001b[0;34m(\u001b[0m\u001b[0;34m)\u001b[0m\u001b[0;34m\u001b[0m\u001b[0;34m\u001b[0m\u001b[0m\n\u001b[1;32m    227\u001b[0m         \u001b[0mresponse\u001b[0m\u001b[0;34m.\u001b[0m\u001b[0mclose\u001b[0m\u001b[0;34m(\u001b[0m\u001b[0;34m)\u001b[0m\u001b[0;34m\u001b[0m\u001b[0;34m\u001b[0m\u001b[0m\n",
      "\u001b[0;32m/home/diane/proj/htsworkflow/htsworkflow/submission/encoded.py\u001b[0m in \u001b[0;36mget_response\u001b[0;34m(self, fragment, **kwargs)\u001b[0m\n\u001b[1;32m    279\u001b[0m         \u001b[0;32mif\u001b[0m \u001b[0;32mnot\u001b[0m \u001b[0mresponse\u001b[0m\u001b[0;34m.\u001b[0m\u001b[0mstatus_code\u001b[0m \u001b[0;34m==\u001b[0m \u001b[0mrequests\u001b[0m\u001b[0;34m.\u001b[0m\u001b[0mcodes\u001b[0m\u001b[0;34m.\u001b[0m\u001b[0mok\u001b[0m\u001b[0;34m:\u001b[0m\u001b[0;34m\u001b[0m\u001b[0;34m\u001b[0m\u001b[0m\n\u001b[1;32m    280\u001b[0m             \u001b[0mLOGGER\u001b[0m\u001b[0;34m.\u001b[0m\u001b[0mwarning\u001b[0m\u001b[0;34m(\u001b[0m\u001b[0;34m\"Error http status: {} for {}\"\u001b[0m\u001b[0;34m.\u001b[0m\u001b[0mformat\u001b[0m\u001b[0;34m(\u001b[0m\u001b[0mresponse\u001b[0m\u001b[0;34m.\u001b[0m\u001b[0mstatus_code\u001b[0m\u001b[0;34m,\u001b[0m \u001b[0murl\u001b[0m\u001b[0;34m)\u001b[0m\u001b[0;34m)\u001b[0m\u001b[0;34m\u001b[0m\u001b[0;34m\u001b[0m\u001b[0m\n\u001b[0;32m--> 281\u001b[0;31m             \u001b[0mresponse\u001b[0m\u001b[0;34m.\u001b[0m\u001b[0mraise_for_status\u001b[0m\u001b[0;34m(\u001b[0m\u001b[0;34m)\u001b[0m\u001b[0;34m\u001b[0m\u001b[0;34m\u001b[0m\u001b[0m\n\u001b[0m\u001b[1;32m    282\u001b[0m \u001b[0;34m\u001b[0m\u001b[0m\n\u001b[1;32m    283\u001b[0m         \u001b[0;32mreturn\u001b[0m \u001b[0mresponse\u001b[0m\u001b[0;34m\u001b[0m\u001b[0;34m\u001b[0m\u001b[0m\n",
      "\u001b[0;32m/usr/lib/python3/dist-packages/requests/models.py\u001b[0m in \u001b[0;36mraise_for_status\u001b[0;34m(self)\u001b[0m\n\u001b[1;32m    938\u001b[0m \u001b[0;34m\u001b[0m\u001b[0m\n\u001b[1;32m    939\u001b[0m         \u001b[0;32mif\u001b[0m \u001b[0mhttp_error_msg\u001b[0m\u001b[0;34m:\u001b[0m\u001b[0;34m\u001b[0m\u001b[0;34m\u001b[0m\u001b[0m\n\u001b[0;32m--> 940\u001b[0;31m             \u001b[0;32mraise\u001b[0m \u001b[0mHTTPError\u001b[0m\u001b[0;34m(\u001b[0m\u001b[0mhttp_error_msg\u001b[0m\u001b[0;34m,\u001b[0m \u001b[0mresponse\u001b[0m\u001b[0;34m=\u001b[0m\u001b[0mself\u001b[0m\u001b[0;34m)\u001b[0m\u001b[0;34m\u001b[0m\u001b[0;34m\u001b[0m\u001b[0m\n\u001b[0m\u001b[1;32m    941\u001b[0m \u001b[0;34m\u001b[0m\u001b[0m\n\u001b[1;32m    942\u001b[0m     \u001b[0;32mdef\u001b[0m \u001b[0mclose\u001b[0m\u001b[0;34m(\u001b[0m\u001b[0mself\u001b[0m\u001b[0;34m)\u001b[0m\u001b[0;34m:\u001b[0m\u001b[0;34m\u001b[0m\u001b[0;34m\u001b[0m\u001b[0m\n",
      "\u001b[0;31mHTTPError\u001b[0m: 404 Client Error: Not Found for url: https://www.encodeproject.org/barbara-wold:?limit=all"
     ]
    }
   ],
   "source": [
    "results = {}\n",
    "for row in data:\n",
    "    jumpgate = row[0]\n",
    "    alias = 'barbara-wold:{}'.format(jumpgate)\n",
    "    library = server.get_json(alias)\n",
    "    library_id = library['accession']\n",
    "    graph = server.search_jsonld(searchTerm=library_id)\n",
    "    experiment = graph['@graph'][0]\n",
    "    experiment_id = experiment['accession']\n",
    "    description = experiment['description']\n",
    "    results.setdefault('jumpgate', []).append(jumpgate)\n",
    "    results.setdefault('experiment_id', []).append(experiment_id)\n",
    "    results.setdefault('library_id', []).append(library_id)\n",
    "    results.setdefault('description', []).append(description)\n",
    "    results.setdefault('jumpgate_description', []).append(row[1])\n"
   ]
  },
  {
   "cell_type": "code",
   "execution_count": 23,
   "metadata": {},
   "outputs": [
    {
     "data": {
      "text/html": [
       "<div>\n",
       "<style scoped>\n",
       "    .dataframe tbody tr th:only-of-type {\n",
       "        vertical-align: middle;\n",
       "    }\n",
       "\n",
       "    .dataframe tbody tr th {\n",
       "        vertical-align: top;\n",
       "    }\n",
       "\n",
       "    .dataframe thead th {\n",
       "        text-align: right;\n",
       "    }\n",
       "</style>\n",
       "<table border=\"1\" class=\"dataframe\">\n",
       "  <thead>\n",
       "    <tr style=\"text-align: right;\">\n",
       "      <th></th>\n",
       "      <th>jumpgate</th>\n",
       "      <th>experiment_id</th>\n",
       "      <th>library_id</th>\n",
       "      <th>description</th>\n",
       "      <th>jumpgate_description</th>\n",
       "    </tr>\n",
       "  </thead>\n",
       "  <tbody>\n",
       "    <tr>\n",
       "      <th>0</th>\n",
       "      <td>13625</td>\n",
       "      <td>ENCSR558LHB</td>\n",
       "      <td>ENCLB331AUZ</td>\n",
       "      <td>RNA-seq of a single Purkinje cell from a 20 ye...</td>\n",
       "      <td>Illumina index__N701_N501_Paired_ends_LC 545_H...</td>\n",
       "    </tr>\n",
       "    <tr>\n",
       "      <th>1</th>\n",
       "      <td>13626</td>\n",
       "      <td>ENCSR376KFF</td>\n",
       "      <td>ENCLB327MTR</td>\n",
       "      <td>RNA-seq of a single Purkinje cell from a 20 ye...</td>\n",
       "      <td>Illumina index__N702_N502_Paired_ends_LC 546_H...</td>\n",
       "    </tr>\n",
       "    <tr>\n",
       "      <th>2</th>\n",
       "      <td>13627</td>\n",
       "      <td>ENCSR561KFF</td>\n",
       "      <td>ENCLB228BIT</td>\n",
       "      <td>RNA-seq of a single Purkinje cell from a 20 ye...</td>\n",
       "      <td>Illumina index__N703_N503_Paired_ends_LC 547_H...</td>\n",
       "    </tr>\n",
       "    <tr>\n",
       "      <th>3</th>\n",
       "      <td>13628</td>\n",
       "      <td>ENCSR086PHI</td>\n",
       "      <td>ENCLB641KNK</td>\n",
       "      <td>RNA-seq of a single Purkinje cell from a 20 ye...</td>\n",
       "      <td>Illumina index__N704_N504_Paired_ends_LC 548_H...</td>\n",
       "    </tr>\n",
       "    <tr>\n",
       "      <th>4</th>\n",
       "      <td>13629</td>\n",
       "      <td>ENCSR921DSM</td>\n",
       "      <td>ENCLB403JBC</td>\n",
       "      <td>RNA-seq of a single Purkinje cell from a 20 ye...</td>\n",
       "      <td>Illumina index__N705_N505_Paired_ends_LC 549_H...</td>\n",
       "    </tr>\n",
       "  </tbody>\n",
       "</table>\n",
       "</div>"
      ],
      "text/plain": [
       "  jumpgate experiment_id   library_id  \\\n",
       "0    13625   ENCSR558LHB  ENCLB331AUZ   \n",
       "1    13626   ENCSR376KFF  ENCLB327MTR   \n",
       "2    13627   ENCSR561KFF  ENCLB228BIT   \n",
       "3    13628   ENCSR086PHI  ENCLB641KNK   \n",
       "4    13629   ENCSR921DSM  ENCLB403JBC   \n",
       "\n",
       "                                         description  \\\n",
       "0  RNA-seq of a single Purkinje cell from a 20 ye...   \n",
       "1  RNA-seq of a single Purkinje cell from a 20 ye...   \n",
       "2  RNA-seq of a single Purkinje cell from a 20 ye...   \n",
       "3  RNA-seq of a single Purkinje cell from a 20 ye...   \n",
       "4  RNA-seq of a single Purkinje cell from a 20 ye...   \n",
       "\n",
       "                                jumpgate_description  \n",
       "0  Illumina index__N701_N501_Paired_ends_LC 545_H...  \n",
       "1  Illumina index__N702_N502_Paired_ends_LC 546_H...  \n",
       "2  Illumina index__N703_N503_Paired_ends_LC 547_H...  \n",
       "3  Illumina index__N704_N504_Paired_ends_LC 548_H...  \n",
       "4  Illumina index__N705_N505_Paired_ends_LC 549_H...  "
      ]
     },
     "execution_count": 23,
     "metadata": {},
     "output_type": "execute_result"
    }
   ],
   "source": [
    "df = pandas.DataFrame(results)\n",
    "df.head()"
   ]
  },
  {
   "cell_type": "code",
   "execution_count": 24,
   "metadata": {},
   "outputs": [],
   "source": [
    "df.to_csv('purkinje-cross-reference.csv')"
   ]
  },
  {
   "cell_type": "code",
   "execution_count": 18,
   "metadata": {},
   "outputs": [
    {
     "data": {
      "text/plain": [
       "'ENCLB331AUZ'"
      ]
     },
     "execution_count": 18,
     "metadata": {},
     "output_type": "execute_result"
    }
   ],
   "source": [
    "library['accession']"
   ]
  },
  {
   "cell_type": "code",
   "execution_count": null,
   "metadata": {},
   "outputs": [],
   "source": []
  }
 ],
 "metadata": {
  "kernelspec": {
   "display_name": "Python 3",
   "language": "python",
   "name": "python3"
  },
  "language_info": {
   "codemirror_mode": {
    "name": "ipython",
    "version": 3
   },
   "file_extension": ".py",
   "mimetype": "text/x-python",
   "name": "python",
   "nbconvert_exporter": "python",
   "pygments_lexer": "ipython3",
   "version": "3.7.3rc1"
  }
 },
 "nbformat": 4,
 "nbformat_minor": 2
}
